{
 "cells": [
  {
   "cell_type": "code",
   "execution_count": null,
   "id": "fce004eb-1529-4579-9143-91d5828284d3",
   "metadata": {},
   "outputs": [],
   "source": [
    "import pandas as pd\n",
    "df = pd.read_csv(\"df_final_web_data_pt_1.txt\")\n",
    "df"
   ]
  },
  {
   "cell_type": "code",
   "execution_count": null,
   "id": "28fcc1fd-2b19-4285-9764-0b1148cc8748",
   "metadata": {},
   "outputs": [],
   "source": [
    "import pandas as pd\n",
    "df = pd.read_csv(\"df_final_web_data_pt_2.txt\")\n",
    "df"
   ]
  },
  {
   "cell_type": "code",
   "execution_count": null,
   "id": "71e848cb-4e67-4c8c-b749-cf3c795a95be",
   "metadata": {},
   "outputs": [],
   "source": [
    "import pandas as pd\n",
    "\n",
    "# Cargar los dos archivos CSV\n",
    "df1 = pd.read_csv(\"df_final_web_data_pt_1.txt\")\n",
    "df2 = pd.read_csv(\"df_final_web_data_pt_2.txt\")\n",
    "\n",
    "# Combinar los dos DataFrames\n",
    "combined_df = pd.concat([df1, df2], ignore_index=True)\n",
    "\n",
    "# Eliminar filas duplicadas\n",
    "combined_df = combined_df.drop_duplicates()\n",
    "\n",
    "# Eliminar filas con valores vacíos (NaN)\n",
    "combined_df = combined_df.dropna()\n",
    "\n",
    "# Guardar el DataFrame limpio\n",
    "combined_df.to_csv(\"combined_cleaned_data.csv\", index=False)\n",
    "\n",
    "# Mostrar las primeras filas del DataFrame resultante\n",
    "print(combined_df.head())"
   ]
  },
  {
   "cell_type": "code",
   "execution_count": null,
   "id": "3f42132a-94fd-4a0c-9d01-fd7ff281c2cb",
   "metadata": {},
   "outputs": [],
   "source": [
    "from IPython.display import display\n",
    "\n",
    "# Mostrar el DataFrame como una tabla\n",
    "display(combined_df)"
   ]
  },
  {
   "cell_type": "code",
   "execution_count": null,
   "id": "03b9d250-350d-4bbb-a1d4-3e89f79f1680",
   "metadata": {},
   "outputs": [],
   "source": [
    "# Identificar los client_id que no se repiten\n",
    "unique_clients = combined_df['client_id'].value_counts()\n",
    "unique_clients = unique_clients[unique_clients == 1].index\n",
    "\n",
    "# Filtrar el DataFrame para incluir solo client_id únicos\n",
    "filtered_df = combined_df[combined_df['client_id'].isin(unique_clients)]\n",
    "\n",
    "# Mostrar las primeras filas del DataFrame resultante\n",
    "print(filtered_df)\n",
    "\n",
    "# Opcional: Guardar el resultado en un archivo CSV\n",
    "filtered_df.to_csv(\"filtered_data_unique_client_ids.csv\", index=False)"
   ]
  },
  {
   "cell_type": "code",
   "execution_count": null,
   "id": "4850683e-c8b0-468e-918d-39c9464f8e5c",
   "metadata": {},
   "outputs": [],
   "source": [
    "from IPython.display import display\n",
    "\n",
    "# Mostrar el DataFrame como tabla\n",
    "display(filtered_df)"
   ]
  },
  {
   "cell_type": "code",
   "execution_count": null,
   "id": "074dd404-2dc8-4186-a6e2-3ffbf79f5612",
   "metadata": {},
   "outputs": [],
   "source": [
    "import pandas as pd\n",
    "df = pd.read_csv(\"df_final_demo (1).txt\")\n",
    "df"
   ]
  },
  {
   "cell_type": "code",
   "execution_count": null,
   "id": "3b5f1955-9db0-4ba6-b11b-02a2f45f851f",
   "metadata": {},
   "outputs": [],
   "source": [
    "import pandas as pd\n",
    "df = pd.read_csv(\"df_final_experiment_clients.txt\")\n",
    "df"
   ]
  }
 ],
 "metadata": {
  "kernelspec": {
   "display_name": "venv",
   "language": "python",
   "name": "venv"
  },
  "language_info": {
   "codemirror_mode": {
    "name": "ipython",
    "version": 3
   },
   "file_extension": ".py",
   "mimetype": "text/x-python",
   "name": "python",
   "nbconvert_exporter": "python",
   "pygments_lexer": "ipython3",
   "version": "3.12.7"
  }
 },
 "nbformat": 4,
 "nbformat_minor": 5
}
