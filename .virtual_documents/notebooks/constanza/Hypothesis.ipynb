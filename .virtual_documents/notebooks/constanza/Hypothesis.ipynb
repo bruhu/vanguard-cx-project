import numpy as np
import pandas as pd
import scipy.stats as st


df_merged = pd.read_csv("../../data/clean/merged_final_demo_final_experiment_clients_df.csv")
df_merged


df_combined = pd.read_csv("../../data/raw/combined_cleaned_data.csv")
df_combined





df_merged.groupby('variation')['client_tenure_years'].mean()


df_merged.groupby('variation')['client_tenure_years'].std(ddof=1)








# Definir promedios
mean_control = df_merged.groupby('variation')['client_tenure_years'].mean()['Control']
mean_test = df_merged.groupby('variation')['client_tenure_years'].mean()['Test']

# Definir desviaciones estándar
std_control = df_merged.groupby('variation')['client_tenure_years'].std(ddof=1)['Control']
std_test = df_merged.groupby('variation')['client_tenure_years'].std(ddof=1)['Test']

# Definir tamaños de muestra
n_control = df_merged[df_merged['variation'] == 'Control'].shape[0]
n_test = df_merged[df_merged['variation'] == 'Test'].shape[0]

# Imprimir resultados para verificar
print("Mean (Control):", mean_control)
print("Mean (Test):", mean_test)
print("Std (Control):", std_control)
print("Std (Test):", std_test)
print("N (Control):", n_control)
print("N (Test):", n_test)


diff = (mean_test - mean_control) 

sp2 = (n_test - 1) * (std_test** 2) + (n_control - 1) * (std_control** 2) / (n_test + n_control - 2 ) 

d = np.sqrt( (sp2 / n_test) + (sp2 / n_control) )

stat = diff / d

alpha = 0.05

# Con estaditico
lower_critical = st.t.ppf(0.05/2, n_test + n_control - 2)
upper_critical = st.t.ppf(1-(0.05/2), n_test + n_control - 2)

if ( stat > lower_critical and stat < upper_critical):
    print("We accept H0")
else:
    print("We reject H0")

# Con p_value#
#left_statistic_area = st.t.cdf(stat, n_test + n_control - 2)
#right_statistic_area = 1 - st.t.cdf(stat, n_test + n_control - 2)






