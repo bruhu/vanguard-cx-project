import pandas as pd


df_merged = pd.read_csv("../../data/raw/merged_final_demo_final_experiment_clients_df.csv")
df_merged
