


import pandas as pd


df_merge = pd.read_csv("../../data/raw/final_clean_client_df.csv")
df_merge


# Estadísticas descriptivas por grupo
df_merge.groupby('variation').agg({
    'balance': ['mean', 'std'],
    'tenure_years': ['mean', 'std'],
    'client_age': ['mean', 'std'],
    'num_accounts': ['mean', 'std'],
    'calls_last_6_months': ['mean', 'std'],
    'logons_last_6_months': ['mean', 'std']
})


import matplotlib.pyplot as plt
import seaborn as sns

variables = ['balance', 'tenure_years', 'client_age', 'num_accounts']
for var in variables:
    sns.histplot(data=df_merge, x=var, hue='variation', kde=True)
    plt.title(f'Distribution of {var} by Variation')
    plt.show()


from scipy.stats import f_oneway

# Comparar balance entre los grupos
anova_balance = f_oneway(
    df_merge[df_merge['variation'] == 'Control']['balance'],
    df_merge[df_merge['variation'] == 'Test']['balance'],
    df_merge[df_merge['variation'] == 'Unknown']['balance']
)
print('ANOVA for balance:', anova_balance)





pip install statsmodels


from statsmodels.stats.multicomp import pairwise_tukeyhsd


# Preparar los datos
balance_values = df['balance']  # Valores del balance
variation_groups = df['variation']  # Grupos de variación

# Realizar la prueba de Tukey
tukey_result = pairwise_tukeyhsd(endog=balance_values, groups=variation_groups, alpha=0.05)

# Mostrar los resultados
print(tukey_result)


import matplotlib.pyplot as plt

tukey_result.plot_simultaneous(comparison_name='Control', figsize=(8, 6))
plt.title("Tukey HSD for Balance by Variation")
plt.show()






