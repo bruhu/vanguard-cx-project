{
 "cells": [
  {
   "cell_type": "code",
   "execution_count": 1,
   "id": "2bdef438-9ca5-441f-a35b-619a7028ac20",
   "metadata": {},
   "outputs": [],
   "source": [
    "import pandas as pd\n",
    "import numpy as np\n",
    "import matplotlib.pyplot as plt"
   ]
  },
  {
   "cell_type": "markdown",
   "id": "b5c84dde-b0f3-4675-9568-998583b90841",
   "metadata": {},
   "source": [
    "# Read and clean data"
   ]
  },
  {
   "cell_type": "markdown",
   "id": "63054f3e-a386-4cfe-9075-95aebe5fc4a3",
   "metadata": {},
   "source": [
    "## Final Demo DF"
   ]
  },
  {
   "cell_type": "code",
   "execution_count": 2,
   "id": "08ec4a78-4f8f-4b26-8a82-46587210a12d",
   "metadata": {},
   "outputs": [
    {
     "name": "stdout",
     "output_type": "stream",
     "text": [
      "Check the shape (rows, columns\n",
      "(70609, 9)\n",
      "\n",
      "Column names:\n",
      "Index(['client_id', 'clnt_tenure_yr', 'clnt_tenure_mnth', 'clnt_age', 'gendr',\n",
      "       'num_accts', 'bal', 'calls_6_mnth', 'logons_6_mnth'],\n",
      "      dtype='object')\n",
      "\n",
      "Data types:\n",
      "client_id             int64\n",
      "clnt_tenure_yr      float64\n",
      "clnt_tenure_mnth    float64\n",
      "clnt_age            float64\n",
      "gendr                object\n",
      "num_accts           float64\n",
      "bal                 float64\n",
      "calls_6_mnth        float64\n",
      "logons_6_mnth       float64\n",
      "dtype: object\n",
      "\n",
      "Missing values:\n",
      "client_id            0\n",
      "clnt_tenure_yr      14\n",
      "clnt_tenure_mnth    14\n",
      "clnt_age            15\n",
      "gendr               14\n",
      "num_accts           14\n",
      "bal                 14\n",
      "calls_6_mnth        14\n",
      "logons_6_mnth       14\n",
      "dtype: int64\n"
     ]
    }
   ],
   "source": [
    "final_demo_df = pd.read_csv(\"../../data/raw/df_final_demo.txt\")\n",
    "\n",
    "print('Check the shape (rows, columns')\n",
    "print(final_demo_df.shape)\n",
    "\n",
    "print('\\nColumn names:')\n",
    "print(final_demo_df.columns)\n",
    "\n",
    "print('\\nData types:')\n",
    "print(final_demo_df.dtypes)\n",
    "\n",
    "print('\\nMissing values:')\n",
    "print(final_demo_df.isnull().sum())"
   ]
  },
  {
   "cell_type": "code",
   "execution_count": 10,
   "id": "b780d878-e83c-4f42-a2ac-16d8bd502578",
   "metadata": {},
   "outputs": [],
   "source": [
    "# change column names for standardization\n",
    "new_column_names_final_demo_df = {\n",
    "    'client_id': 'client_id',\n",
    "    'clnt_tenure_yr': 'client_tenure_years',\n",
    "    'clnt_tenure_mnth': 'client_tenure_months',\n",
    "    'clnt_age': 'client_age',\n",
    "    'gendr': 'gender',\n",
    "    'num_accts': 'num_accounts',\n",
    "    'bal': 'balance',\n",
    "    'calls_6_mnth': 'calls_last_6_months',\n",
    "    'logons_6_mnth': 'logons_last_6_months'\n",
    "}\n",
    "\n",
    "final_demo_df.rename(columns=new_column_names_final_demo_df, inplace=True)"
   ]
  },
  {
   "cell_type": "code",
   "execution_count": 11,
   "id": "f3de0c03-7939-40e2-bd6a-8bf86890a427",
   "metadata": {},
   "outputs": [
    {
     "data": {
      "text/html": [
       "<div>\n",
       "<style scoped>\n",
       "    .dataframe tbody tr th:only-of-type {\n",
       "        vertical-align: middle;\n",
       "    }\n",
       "\n",
       "    .dataframe tbody tr th {\n",
       "        vertical-align: top;\n",
       "    }\n",
       "\n",
       "    .dataframe thead th {\n",
       "        text-align: right;\n",
       "    }\n",
       "</style>\n",
       "<table border=\"1\" class=\"dataframe\">\n",
       "  <thead>\n",
       "    <tr style=\"text-align: right;\">\n",
       "      <th></th>\n",
       "      <th>client_id</th>\n",
       "      <th>client_tenure_years</th>\n",
       "      <th>client_tenure_months</th>\n",
       "      <th>client_age</th>\n",
       "      <th>gender</th>\n",
       "      <th>num_accounts</th>\n",
       "      <th>balance</th>\n",
       "      <th>calls_last_6_months</th>\n",
       "      <th>logons_last_6_months</th>\n",
       "    </tr>\n",
       "  </thead>\n",
       "  <tbody>\n",
       "    <tr>\n",
       "      <th>0</th>\n",
       "      <td>836976</td>\n",
       "      <td>6.0</td>\n",
       "      <td>73.0</td>\n",
       "      <td>60.5</td>\n",
       "      <td>U</td>\n",
       "      <td>2.0</td>\n",
       "      <td>45105.30</td>\n",
       "      <td>6.0</td>\n",
       "      <td>9.0</td>\n",
       "    </tr>\n",
       "    <tr>\n",
       "      <th>1</th>\n",
       "      <td>2304905</td>\n",
       "      <td>7.0</td>\n",
       "      <td>94.0</td>\n",
       "      <td>58.0</td>\n",
       "      <td>U</td>\n",
       "      <td>2.0</td>\n",
       "      <td>110860.30</td>\n",
       "      <td>6.0</td>\n",
       "      <td>9.0</td>\n",
       "    </tr>\n",
       "    <tr>\n",
       "      <th>2</th>\n",
       "      <td>1439522</td>\n",
       "      <td>5.0</td>\n",
       "      <td>64.0</td>\n",
       "      <td>32.0</td>\n",
       "      <td>U</td>\n",
       "      <td>2.0</td>\n",
       "      <td>52467.79</td>\n",
       "      <td>6.0</td>\n",
       "      <td>9.0</td>\n",
       "    </tr>\n",
       "    <tr>\n",
       "      <th>3</th>\n",
       "      <td>1562045</td>\n",
       "      <td>16.0</td>\n",
       "      <td>198.0</td>\n",
       "      <td>49.0</td>\n",
       "      <td>M</td>\n",
       "      <td>2.0</td>\n",
       "      <td>67454.65</td>\n",
       "      <td>3.0</td>\n",
       "      <td>6.0</td>\n",
       "    </tr>\n",
       "    <tr>\n",
       "      <th>4</th>\n",
       "      <td>5126305</td>\n",
       "      <td>12.0</td>\n",
       "      <td>145.0</td>\n",
       "      <td>33.0</td>\n",
       "      <td>F</td>\n",
       "      <td>2.0</td>\n",
       "      <td>103671.75</td>\n",
       "      <td>0.0</td>\n",
       "      <td>3.0</td>\n",
       "    </tr>\n",
       "  </tbody>\n",
       "</table>\n",
       "</div>"
      ],
      "text/plain": [
       "   client_id  client_tenure_years  client_tenure_months  client_age gender  \\\n",
       "0     836976                  6.0                  73.0        60.5      U   \n",
       "1    2304905                  7.0                  94.0        58.0      U   \n",
       "2    1439522                  5.0                  64.0        32.0      U   \n",
       "3    1562045                 16.0                 198.0        49.0      M   \n",
       "4    5126305                 12.0                 145.0        33.0      F   \n",
       "\n",
       "   num_accounts    balance  calls_last_6_months  logons_last_6_months  \n",
       "0           2.0   45105.30                  6.0                   9.0  \n",
       "1           2.0  110860.30                  6.0                   9.0  \n",
       "2           2.0   52467.79                  6.0                   9.0  \n",
       "3           2.0   67454.65                  3.0                   6.0  \n",
       "4           2.0  103671.75                  0.0                   3.0  "
      ]
     },
     "execution_count": 11,
     "metadata": {},
     "output_type": "execute_result"
    }
   ],
   "source": [
    "final_demo_df.head()"
   ]
  },
  {
   "cell_type": "markdown",
   "id": "5a153404-351e-40dd-b746-438a29e725a6",
   "metadata": {},
   "source": [
    "## Final Experiment Clients DF"
   ]
  },
  {
   "cell_type": "code",
   "execution_count": 5,
   "id": "ffef2f81-00b5-43c7-8399-7e7ea7b9efd5",
   "metadata": {},
   "outputs": [
    {
     "name": "stdout",
     "output_type": "stream",
     "text": [
      "Check the shape (rows, columns\n",
      "(70609, 2)\n",
      "\n",
      "Column names:\n",
      "Index(['client_id', 'Variation'], dtype='object')\n",
      "\n",
      "Data types:\n",
      "client_id     int64\n",
      "Variation    object\n",
      "dtype: object\n",
      "\n",
      "Missing values:\n",
      "client_id        0\n",
      "Variation    20109\n",
      "dtype: int64\n"
     ]
    }
   ],
   "source": [
    "final_experiment_clients_df = pd.read_csv(\"../../data/raw/df_final_experiment_clients.txt\")\n",
    "\n",
    "print('Check the shape (rows, columns')\n",
    "print(final_experiment_clients_df.shape)\n",
    "\n",
    "print('\\nColumn names:')\n",
    "print(final_experiment_clients_df.columns)\n",
    "\n",
    "print('\\nData types:')\n",
    "print(final_experiment_clients_df.dtypes)\n",
    "\n",
    "print('\\nMissing values:')\n",
    "print(final_experiment_clients_df.isnull().sum())"
   ]
  },
  {
   "cell_type": "code",
   "execution_count": 12,
   "id": "f929548a-b813-45af-bf6e-5141dc29ac97",
   "metadata": {},
   "outputs": [],
   "source": [
    "# rename column for standardization\n",
    "final_experiment_clients_df.rename(columns={'Variation':'variation'}, inplace=True)"
   ]
  },
  {
   "cell_type": "code",
   "execution_count": 13,
   "id": "8d4c5261-bf80-47be-ba8b-73eb299b41b0",
   "metadata": {},
   "outputs": [
    {
     "data": {
      "text/html": [
       "<div>\n",
       "<style scoped>\n",
       "    .dataframe tbody tr th:only-of-type {\n",
       "        vertical-align: middle;\n",
       "    }\n",
       "\n",
       "    .dataframe tbody tr th {\n",
       "        vertical-align: top;\n",
       "    }\n",
       "\n",
       "    .dataframe thead th {\n",
       "        text-align: right;\n",
       "    }\n",
       "</style>\n",
       "<table border=\"1\" class=\"dataframe\">\n",
       "  <thead>\n",
       "    <tr style=\"text-align: right;\">\n",
       "      <th></th>\n",
       "      <th>client_id</th>\n",
       "      <th>variation</th>\n",
       "    </tr>\n",
       "  </thead>\n",
       "  <tbody>\n",
       "    <tr>\n",
       "      <th>0</th>\n",
       "      <td>9988021</td>\n",
       "      <td>Test</td>\n",
       "    </tr>\n",
       "    <tr>\n",
       "      <th>1</th>\n",
       "      <td>8320017</td>\n",
       "      <td>Test</td>\n",
       "    </tr>\n",
       "    <tr>\n",
       "      <th>2</th>\n",
       "      <td>4033851</td>\n",
       "      <td>Control</td>\n",
       "    </tr>\n",
       "    <tr>\n",
       "      <th>3</th>\n",
       "      <td>1982004</td>\n",
       "      <td>Test</td>\n",
       "    </tr>\n",
       "    <tr>\n",
       "      <th>4</th>\n",
       "      <td>9294070</td>\n",
       "      <td>Control</td>\n",
       "    </tr>\n",
       "  </tbody>\n",
       "</table>\n",
       "</div>"
      ],
      "text/plain": [
       "   client_id variation\n",
       "0    9988021      Test\n",
       "1    8320017      Test\n",
       "2    4033851   Control\n",
       "3    1982004      Test\n",
       "4    9294070   Control"
      ]
     },
     "execution_count": 13,
     "metadata": {},
     "output_type": "execute_result"
    }
   ],
   "source": [
    "final_experiment_clients_df.head()"
   ]
  },
  {
   "cell_type": "code",
   "execution_count": null,
   "id": "52b5f31b-05b8-4256-8d13-7f6cfc77159b",
   "metadata": {},
   "outputs": [],
   "source": []
  }
 ],
 "metadata": {
  "kernelspec": {
   "display_name": "venv",
   "language": "python",
   "name": "venv"
  },
  "language_info": {
   "codemirror_mode": {
    "name": "ipython",
    "version": 3
   },
   "file_extension": ".py",
   "mimetype": "text/x-python",
   "name": "python",
   "nbconvert_exporter": "python",
   "pygments_lexer": "ipython3",
   "version": "3.12.7"
  }
 },
 "nbformat": 4,
 "nbformat_minor": 5
}
