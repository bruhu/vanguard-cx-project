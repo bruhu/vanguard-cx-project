{
 "cells": [
  {
   "cell_type": "code",
   "execution_count": null,
   "id": "2bdef438-9ca5-441f-a35b-619a7028ac20",
   "metadata": {},
   "outputs": [],
   "source": [
    "import pandas as pd\n",
    "import numpy as np\n",
    "import matplotlib.pyplot as plt\n",
    "import seaborn as sns\n",
    "import re"
   ]
  },
  {
   "cell_type": "markdown",
   "id": "d8064797-dc5a-4d28-9b62-1bb07662c6e6",
   "metadata": {},
   "source": [
    "# Functions"
   ]
  },
  {
   "cell_type": "code",
   "execution_count": null,
   "id": "26075285-18e1-4726-8e36-223426a2c4ef",
   "metadata": {},
   "outputs": [],
   "source": [
    "# inspect df\n",
    "def inspect_dataframe(df):\n",
    "    \"\"\"\n",
    "    Function to perform basic inspection on a DataFrame: \n",
    "    shape, column names, data types, and missing values.\n",
    "    \n",
    "    \"\"\"\n",
    "\n",
    "    print('Check the shape (rows, columns):')\n",
    "    print(df.shape)\n",
    "\n",
    "    print('\\nColumn names:')\n",
    "    print(df.columns)\n",
    "\n",
    "\n",
    "    print('\\nData types:')\n",
    "    print(df.dtypes)\n",
    "\n",
    "\n",
    "    print('\\nMissing values:')\n",
    "    print(df.isnull().sum())\n",
    "\n",
    "# clean column names\n",
    "def clean_column_names(df):\n",
    "    \"\"\"\n",
    "    Function to clean the column names of a DataFrame:\n",
    "    - Convert to lowercase\n",
    "    - Replace spaces with underscores\n",
    "    - Remove or replace special characters with underscores\n",
    "\n",
    "    \"\"\"\n",
    "\n",
    "    def clean_name(name):\n",
    "        name = name.lower()\n",
    "        name = name.replace(\" \", \"_\")\n",
    "        name = re.sub(r'[^a-z0-9_]', '_', name)\n",
    "        return name\n",
    "    \n",
    "    df.columns = [clean_name(col) for col in df.columns]    \n",
    "    return df\n",
    "\n",
    "# check unique and empty values\n",
    "def check_unique_and_empty(df):\n",
    "    result = []\n",
    "    \n",
    "    for column in df.columns:\n",
    "        unique_values = df[column].dropna().unique()\n",
    "        empty_values = df[column].isna().sum()\n",
    "        \n",
    "        result.append({\n",
    "            'Column': column,\n",
    "            'Unique value count': len(unique_values),  # Number of unique values in the column\n",
    "            'Empty value count': empty_values\n",
    "        })\n",
    "    \n",
    "    result_df = pd.DataFrame(result)\n",
    "    result_df.set_index('Column', inplace=True)\n",
    "    \n",
    "    print('Summary of Unique and Empty Values:\\n')\n",
    "    print(result_df)\n",
    "    print('\\n' + '-'*50 + '\\n')\n",
    "\n",
    "# convert floats to ints\n",
    "def floats_to_ints(df, column_name):\n",
    "    \"\"\"\n",
    "    Convert float values in the specified column to integers, leaving NaNs intact.\n",
    "   \n",
    "    \"\"\"\n",
    "    # apply floor() when needed, leave NaN values as they are\n",
    "    df[column_name] = df[column_name].apply(lambda x: np.floor(x) if pd.notna(x) else x)\n",
    "    df[column_name] = df[column_name].apply(lambda x: int(x) if pd.notna(x) else x)\n",
    "    df[column_name] = df[column_name].astype('Int64')  # Use 'Int64' for nullable integers in pandas\n",
    "    return df"
   ]
  },
  {
   "cell_type": "markdown",
   "id": "b5c84dde-b0f3-4675-9568-998583b90841",
   "metadata": {},
   "source": [
    "## Read and clean data"
   ]
  },
  {
   "cell_type": "markdown",
   "id": "63054f3e-a386-4cfe-9075-95aebe5fc4a3",
   "metadata": {},
   "source": [
    "# Final Demo DF"
   ]
  },
  {
   "cell_type": "code",
   "execution_count": null,
   "id": "08ec4a78-4f8f-4b26-8a82-46587210a12d",
   "metadata": {},
   "outputs": [],
   "source": [
    "final_demo_df = pd.read_csv('../../data/raw/df_final_demo.txt')\n",
    "final_demo_df.head()"
   ]
  },
  {
   "cell_type": "code",
   "execution_count": null,
   "id": "f3de0c03-7939-40e2-bd6a-8bf86890a427",
   "metadata": {},
   "outputs": [],
   "source": [
    "# clean column names\n",
    "clean_column_names(final_demo_df)\n",
    "\n",
    "# inspect dataframe\n",
    "inspect_dataframe(final_demo_df)"
   ]
  },
  {
   "cell_type": "code",
   "execution_count": null,
   "id": "b780d878-e83c-4f42-a2ac-16d8bd502578",
   "metadata": {},
   "outputs": [],
   "source": [
    "# change column names for standardization\n",
    "new_column_names_final_demo_df = {\n",
    "    'client_id': 'client_id',\n",
    "    'clnt_tenure_yr': 'client_tenure_years',\n",
    "    'clnt_tenure_mnth': 'client_tenure_months',\n",
    "    'clnt_age': 'client_age',\n",
    "    'gendr': 'gender',\n",
    "    'num_accts': 'num_accounts',\n",
    "    'bal': 'balance',\n",
    "    'calls_6_mnth': 'calls_last_6_months',\n",
    "    'logons_6_mnth': 'logons_last_6_months'\n",
    "}\n",
    "\n",
    "final_demo_df.rename(columns=new_column_names_final_demo_df, inplace=True)"
   ]
  },
  {
   "cell_type": "code",
   "execution_count": null,
   "id": "6139346d-2362-4f9d-971c-a013278b68be",
   "metadata": {},
   "outputs": [],
   "source": [
    "# check unique values\n",
    "check_unique_and_empty(final_demo_df)"
   ]
  },
  {
   "cell_type": "code",
   "execution_count": null,
   "id": "ecbb4c9a-d669-4cb3-ba84-7f77ed3bf9ba",
   "metadata": {},
   "outputs": [],
   "source": [
    "final_demo_df.head()"
   ]
  },
  {
   "cell_type": "code",
   "execution_count": null,
   "id": "cf341f07-b5c8-49cd-81df-6a78d95dba05",
   "metadata": {},
   "outputs": [],
   "source": [
    "# handle unique values in 'gender' column\n",
    "print(final_demo_df['gender'].unique())\n",
    "\n",
    "replacement_dict_gender = {\n",
    "    'U': 'Unspecified',\n",
    "    'M': 'Male',\n",
    "    'F': 'Female',\n",
    "    'X': 'Unspecified',\n",
    "    np.nan: 'Unspecified'\n",
    "}\n",
    "\n",
    "# Apply the function to replace the gender values\n",
    "final_demo_df['gender'] = final_demo_df['gender'].replace(replacement_dict_gender)"
   ]
  },
  {
   "cell_type": "code",
   "execution_count": null,
   "id": "bcf47e3c-f70c-4506-bd39-5a7e01713e48",
   "metadata": {},
   "outputs": [],
   "source": [
    "# convert floats to ints in several columns\n",
    "floats_to_ints(final_demo_df, 'client_tenure_years')\n",
    "floats_to_ints(final_demo_df, 'client_tenure_months')\n",
    "floats_to_ints(final_demo_df, 'num_accounts')\n",
    "floats_to_ints(final_demo_df, 'calls_last_6_months')\n",
    "floats_to_ints(final_demo_df, 'logons_last_6_months')\n",
    "floats_to_ints(final_demo_df, 'client_age')\n",
    "check_unique_and_empty(final_demo_df)"
   ]
  },
  {
   "cell_type": "code",
   "execution_count": null,
   "id": "10fc7d41-a007-47e7-affa-b21f41665114",
   "metadata": {},
   "outputs": [],
   "source": [
    "# drop empty values\n",
    "final_demo_df = final_demo_df.dropna()\n",
    "# check_unique_and_empty(final_demo_df)\n",
    "\n",
    "# initial rows: 70609, rows after dropping empty values: 70594\n",
    "\n",
    "final_demo_df.head()"
   ]
  },
  {
   "cell_type": "code",
   "execution_count": null,
   "id": "e1204f30-080c-4f3f-9b62-cd022fea12ba",
   "metadata": {},
   "outputs": [],
   "source": [
    "# generate clean csv file\n",
    "# final_demo_df.to_csv('final_demo_df_clean.csv', index=False)\n",
    "inspect_dataframe(final_demo_df)"
   ]
  },
  {
   "cell_type": "markdown",
   "id": "5a153404-351e-40dd-b746-438a29e725a6",
   "metadata": {},
   "source": [
    "# Final Experiment Clients DF"
   ]
  },
  {
   "cell_type": "code",
   "execution_count": null,
   "id": "ffef2f81-00b5-43c7-8399-7e7ea7b9efd5",
   "metadata": {},
   "outputs": [],
   "source": [
    "final_experiment_clients_df = pd.read_csv('../../data/raw/df_final_experiment_clients.txt')\n",
    "final_experiment_clients_df.head()"
   ]
  },
  {
   "cell_type": "code",
   "execution_count": null,
   "id": "8d4c5261-bf80-47be-ba8b-73eb299b41b0",
   "metadata": {},
   "outputs": [],
   "source": [
    "# clean column names\n",
    "clean_column_names(final_experiment_clients_df)\n",
    "\n",
    "# inspect df\n",
    "inspect_dataframe(final_experiment_clients_df)\n",
    "check_unique_and_empty(final_experiment_clients_df)"
   ]
  },
  {
   "cell_type": "code",
   "execution_count": null,
   "id": "52b5f31b-05b8-4256-8d13-7f6cfc77159b",
   "metadata": {},
   "outputs": [],
   "source": [
    "# check unique values\n",
    "check_unique_and_empty(final_experiment_clients_df)"
   ]
  },
  {
   "cell_type": "code",
   "execution_count": null,
   "id": "622b5a05-5709-4ccc-ae63-5b275228b8f0",
   "metadata": {},
   "outputs": [],
   "source": [
    "# replace empty values with 'unknown'\n",
    "\n",
    "final_experiment_clients_df = final_experiment_clients_df.apply(lambda col: col.apply(lambda x: 'Unknown' if pd.isna(x) or x == '' else x))\n",
    "\n",
    "check_unique_and_empty(final_experiment_clients_df)"
   ]
  },
  {
   "cell_type": "code",
   "execution_count": null,
   "id": "7d563b5a-4474-4eba-a75a-ec5ed611106c",
   "metadata": {},
   "outputs": [],
   "source": [
    "# generate clean csv file\n",
    "final_experiment_clients_df.to_csv('final_experiment_clients_df.csv', index=False)"
   ]
  },
  {
   "cell_type": "markdown",
   "id": "9555cb2f-5e0a-4bb3-afe5-b59a13e8a623",
   "metadata": {},
   "source": [
    "### Variation Count"
   ]
  },
  {
   "cell_type": "code",
   "execution_count": null,
   "id": "1e0b9806-54ec-45e0-a7ea-f49b7196dbce",
   "metadata": {},
   "outputs": [],
   "source": [
    "variation_percentages = final_experiment_clients_df['variation'].value_counts(normalize=True) * 100\n",
    "\n",
    "print(variation_percentages)"
   ]
  },
  {
   "cell_type": "code",
   "execution_count": null,
   "id": "da56a69b-3ee6-486a-b51b-9c31018847ce",
   "metadata": {},
   "outputs": [],
   "source": [
    "variation_counts = final_experiment_clients_df['variation'].value_counts()\n",
    "\n",
    "variation_percentages = variation_counts / variation_counts.sum() * 100\n",
    "\n",
    "colors = ['coral', 'lightgreen', 'lightblue']\n",
    "\n",
    "plt.figure(figsize=(8, 6))\n",
    "sns.barplot(x=variation_counts.index, y=variation_counts.values, palette=colors)\n",
    "\n",
    "plt.title('Test vs Control Variation', fontsize=16)\n",
    "plt.xlabel('Variation', fontsize=12)\n",
    "plt.ylabel('Count', fontsize=12)\n",
    "\n",
    "# annotate each bar with the percentage\n",
    "for i, p in enumerate(plt.gca().patches):\n",
    "    height = p.get_height()\n",
    "    # add annotation with the percentage on top of each bar\n",
    "    plt.text(p.get_x() + p.get_width() / 2, height + 0.1, f'{variation_percentages.iloc[i]:.1f}%', \n",
    "             ha='center', va='bottom', fontsize=12, color='black')\n",
    "\n",
    "plt.show()"
   ]
  },
  {
   "cell_type": "markdown",
   "id": "68a99cba-f444-4b95-975c-11b7afba4c70",
   "metadata": {},
   "source": [
    "## Questions:\n",
    "\n",
    "1. Primary clients using the online process\n",
    "2. Are the primary clients younger or older?\n",
    "3. Are the primary clients newer or long-standing?"
   ]
  },
  {
   "cell_type": "code",
   "execution_count": null,
   "id": "85632425-be8a-4bbd-b1f7-6c560663706c",
   "metadata": {},
   "outputs": [],
   "source": [
    "# clients using the online process (logons_last_6_months > 5)\n",
    "primary_clients = final_demo_df[final_demo_df['logons_last_6_months'] > 5]\n",
    "\n",
    "# We can compare the average age of primary clients vs. the full dataset\n",
    "avg_age_all_clients = round(final_demo_df['client_age'].mean())\n",
    "avg_age_primary_clients = round(primary_clients['client_age'].mean())\n",
    "\n",
    "\n",
    "# We can compare the average tenure in years of primary clients vs. the full dataset\n",
    "avg_tenure_all_clients = round(final_demo_df['client_tenure_years'].mean())\n",
    "avg_tenure_primary_clients = round(primary_clients['client_tenure_years'].mean())\n",
    "\n",
    "# Output the results\n",
    "print(f'Primary clients:\\n{primary_clients[['client_id', 'client_age', 'client_tenure_years', 'logons_last_6_months']]}\\n')\n",
    "print(f'Average age of all clients: {avg_age_all_clients}')\n",
    "print(f'Average age of primary clients: {avg_age_primary_clients}')\n",
    "print(f'Are primary clients younger or older? {'Younger' if avg_age_primary_clients < avg_age_all_clients else 'Older'}\\n')\n",
    "print(f'Average tenure of all clients: {avg_tenure_all_clients}')\n",
    "print(f'Average tenure of primary clients: {avg_tenure_primary_clients}')\n",
    "print(f'Are primary clients newer or long-standing? {'Newer' if avg_tenure_primary_clients < avg_tenure_all_clients else 'Long-standing'}')"
   ]
  }
 ],
 "metadata": {
  "kernelspec": {
   "display_name": "venv",
   "language": "python",
   "name": "venv"
  },
  "language_info": {
   "codemirror_mode": {
    "name": "ipython",
    "version": 3
   },
   "file_extension": ".py",
   "mimetype": "text/x-python",
   "name": "python",
   "nbconvert_exporter": "python",
   "pygments_lexer": "ipython3",
   "version": "3.12.7"
  }
 },
 "nbformat": 4,
 "nbformat_minor": 5
}
