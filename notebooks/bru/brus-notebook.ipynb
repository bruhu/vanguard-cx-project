{
 "cells": [
  {
   "cell_type": "code",
   "execution_count": 1,
   "id": "2bdef438-9ca5-441f-a35b-619a7028ac20",
   "metadata": {},
   "outputs": [],
   "source": [
    "import pandas as pd\n",
    "import numpy as np\n",
    "import matplotlib.pyplot as plt\n",
    "import re"
   ]
  },
  {
   "cell_type": "markdown",
   "id": "d8064797-dc5a-4d28-9b62-1bb07662c6e6",
   "metadata": {},
   "source": [
    "# Functions"
   ]
  },
  {
   "cell_type": "code",
   "execution_count": 2,
   "id": "26075285-18e1-4726-8e36-223426a2c4ef",
   "metadata": {},
   "outputs": [],
   "source": [
    "# inspect df\n",
    "def inspect_dataframe(df):\n",
    "    \"\"\"\n",
    "    Function to perform basic inspection on a DataFrame: \n",
    "    shape, column names, data types, and missing values.\n",
    "    \n",
    "    \"\"\"\n",
    "\n",
    "    print('Check the shape (rows, columns):')\n",
    "    print(df.shape)\n",
    "\n",
    "    print('\\nColumn names:')\n",
    "    print(df.columns)\n",
    "\n",
    "\n",
    "    print('\\nData types:')\n",
    "    print(df.dtypes)\n",
    "\n",
    "\n",
    "    print('\\nMissing values:')\n",
    "    print(df.isnull().sum())\n",
    "\n",
    "# clean column names\n",
    "def clean_column_names(df):\n",
    "    \"\"\"\n",
    "    Function to clean the column names of a DataFrame:\n",
    "    - Convert to lowercase\n",
    "    - Replace spaces with underscores\n",
    "    - Remove or replace special characters with underscores\n",
    "\n",
    "    \"\"\"\n",
    "\n",
    "    def clean_name(name):\n",
    "        name = name.lower()\n",
    "        name = name.replace(\" \", \"_\")\n",
    "        name = re.sub(r'[^a-z0-9_]', '_', name)\n",
    "        return name\n",
    "    \n",
    "    df.columns = [clean_name(col) for col in df.columns]    \n",
    "    return df\n",
    "\n",
    "# check unique and empty values\n",
    "def check_unique_and_empty(df):\n",
    "    \"\"\"\n",
    "    Function to print the unique and empty values for each column in a DataFrame.\n",
    "    \n",
    "    \"\"\"\n",
    "    result = []\n",
    "    \n",
    "    for column in df.columns:\n",
    "        unique_values = df[column].nunique()\n",
    "        empty_values = df[column].isna().sum()\n",
    "        \n",
    "\n",
    "        empty_rows = df[column][df[column].isna()].index.tolist()\n",
    "        \n",
    "        result.append({\n",
    "            'Column': column,\n",
    "            'Unique Values': unique_values,\n",
    "            'Empty Values': empty_values,\n",
    "            'Empty Row Indices': empty_rows\n",
    "        })\n",
    "    \n",
    "    result_df = pd.DataFrame(result)\n",
    "    \n",
    "    result_df.set_index('Column', inplace=True)\n",
    "    \n",
    "    print(result_df)\n",
    "\n",
    "# convert floats to ints\n",
    "def floats_to_ints(df, column_name):\n",
    "    \"\"\"\n",
    "    Convert float values in the specified column to integers, leaving NaNs intact.\n",
    "   \n",
    "    \"\"\"\n",
    "    df[column_name] = df[column_name].apply(lambda x: int(x) if pd.notna(x) else x)\n",
    "    return df"
   ]
  },
  {
   "cell_type": "markdown",
   "id": "b5c84dde-b0f3-4675-9568-998583b90841",
   "metadata": {},
   "source": [
    "# Read and clean data"
   ]
  },
  {
   "cell_type": "markdown",
   "id": "63054f3e-a386-4cfe-9075-95aebe5fc4a3",
   "metadata": {},
   "source": [
    "## Final Demo DF"
   ]
  },
  {
   "cell_type": "code",
   "execution_count": 10,
   "id": "08ec4a78-4f8f-4b26-8a82-46587210a12d",
   "metadata": {},
   "outputs": [
    {
     "data": {
      "text/html": [
       "<div>\n",
       "<style scoped>\n",
       "    .dataframe tbody tr th:only-of-type {\n",
       "        vertical-align: middle;\n",
       "    }\n",
       "\n",
       "    .dataframe tbody tr th {\n",
       "        vertical-align: top;\n",
       "    }\n",
       "\n",
       "    .dataframe thead th {\n",
       "        text-align: right;\n",
       "    }\n",
       "</style>\n",
       "<table border=\"1\" class=\"dataframe\">\n",
       "  <thead>\n",
       "    <tr style=\"text-align: right;\">\n",
       "      <th></th>\n",
       "      <th>client_id</th>\n",
       "      <th>clnt_tenure_yr</th>\n",
       "      <th>clnt_tenure_mnth</th>\n",
       "      <th>clnt_age</th>\n",
       "      <th>gendr</th>\n",
       "      <th>num_accts</th>\n",
       "      <th>bal</th>\n",
       "      <th>calls_6_mnth</th>\n",
       "      <th>logons_6_mnth</th>\n",
       "    </tr>\n",
       "  </thead>\n",
       "  <tbody>\n",
       "    <tr>\n",
       "      <th>0</th>\n",
       "      <td>836976</td>\n",
       "      <td>6.0</td>\n",
       "      <td>73.0</td>\n",
       "      <td>60.5</td>\n",
       "      <td>U</td>\n",
       "      <td>2.0</td>\n",
       "      <td>45105.30</td>\n",
       "      <td>6.0</td>\n",
       "      <td>9.0</td>\n",
       "    </tr>\n",
       "    <tr>\n",
       "      <th>1</th>\n",
       "      <td>2304905</td>\n",
       "      <td>7.0</td>\n",
       "      <td>94.0</td>\n",
       "      <td>58.0</td>\n",
       "      <td>U</td>\n",
       "      <td>2.0</td>\n",
       "      <td>110860.30</td>\n",
       "      <td>6.0</td>\n",
       "      <td>9.0</td>\n",
       "    </tr>\n",
       "    <tr>\n",
       "      <th>2</th>\n",
       "      <td>1439522</td>\n",
       "      <td>5.0</td>\n",
       "      <td>64.0</td>\n",
       "      <td>32.0</td>\n",
       "      <td>U</td>\n",
       "      <td>2.0</td>\n",
       "      <td>52467.79</td>\n",
       "      <td>6.0</td>\n",
       "      <td>9.0</td>\n",
       "    </tr>\n",
       "    <tr>\n",
       "      <th>3</th>\n",
       "      <td>1562045</td>\n",
       "      <td>16.0</td>\n",
       "      <td>198.0</td>\n",
       "      <td>49.0</td>\n",
       "      <td>M</td>\n",
       "      <td>2.0</td>\n",
       "      <td>67454.65</td>\n",
       "      <td>3.0</td>\n",
       "      <td>6.0</td>\n",
       "    </tr>\n",
       "    <tr>\n",
       "      <th>4</th>\n",
       "      <td>5126305</td>\n",
       "      <td>12.0</td>\n",
       "      <td>145.0</td>\n",
       "      <td>33.0</td>\n",
       "      <td>F</td>\n",
       "      <td>2.0</td>\n",
       "      <td>103671.75</td>\n",
       "      <td>0.0</td>\n",
       "      <td>3.0</td>\n",
       "    </tr>\n",
       "  </tbody>\n",
       "</table>\n",
       "</div>"
      ],
      "text/plain": [
       "   client_id  clnt_tenure_yr  clnt_tenure_mnth  clnt_age gendr  num_accts  \\\n",
       "0     836976             6.0              73.0      60.5     U        2.0   \n",
       "1    2304905             7.0              94.0      58.0     U        2.0   \n",
       "2    1439522             5.0              64.0      32.0     U        2.0   \n",
       "3    1562045            16.0             198.0      49.0     M        2.0   \n",
       "4    5126305            12.0             145.0      33.0     F        2.0   \n",
       "\n",
       "         bal  calls_6_mnth  logons_6_mnth  \n",
       "0   45105.30           6.0            9.0  \n",
       "1  110860.30           6.0            9.0  \n",
       "2   52467.79           6.0            9.0  \n",
       "3   67454.65           3.0            6.0  \n",
       "4  103671.75           0.0            3.0  "
      ]
     },
     "execution_count": 10,
     "metadata": {},
     "output_type": "execute_result"
    }
   ],
   "source": [
    "final_demo_df = pd.read_csv(\"../../data/raw/df_final_demo.txt\")\n",
    "final_demo_df.head()"
   ]
  },
  {
   "cell_type": "code",
   "execution_count": 4,
   "id": "f3de0c03-7939-40e2-bd6a-8bf86890a427",
   "metadata": {},
   "outputs": [
    {
     "name": "stdout",
     "output_type": "stream",
     "text": [
      "Check the shape (rows, columns):\n",
      "(70609, 9)\n",
      "\n",
      "Column names:\n",
      "Index(['client_id', 'clnt_tenure_yr', 'clnt_tenure_mnth', 'clnt_age', 'gendr',\n",
      "       'num_accts', 'bal', 'calls_6_mnth', 'logons_6_mnth'],\n",
      "      dtype='object')\n",
      "\n",
      "Data types:\n",
      "client_id             int64\n",
      "clnt_tenure_yr      float64\n",
      "clnt_tenure_mnth    float64\n",
      "clnt_age            float64\n",
      "gendr                object\n",
      "num_accts           float64\n",
      "bal                 float64\n",
      "calls_6_mnth        float64\n",
      "logons_6_mnth       float64\n",
      "dtype: object\n",
      "\n",
      "Missing values:\n",
      "client_id            0\n",
      "clnt_tenure_yr      14\n",
      "clnt_tenure_mnth    14\n",
      "clnt_age            15\n",
      "gendr               14\n",
      "num_accts           14\n",
      "bal                 14\n",
      "calls_6_mnth        14\n",
      "logons_6_mnth       14\n",
      "dtype: int64\n"
     ]
    }
   ],
   "source": [
    "# clean column names\n",
    "clean_column_names(final_demo_df)\n",
    "\n",
    "# inspect dataframe\n",
    "inspect_dataframe(final_demo_df)"
   ]
  },
  {
   "cell_type": "code",
   "execution_count": 5,
   "id": "b780d878-e83c-4f42-a2ac-16d8bd502578",
   "metadata": {},
   "outputs": [],
   "source": [
    "# change column names for standardization\n",
    "new_column_names_final_demo_df = {\n",
    "    'client_id': 'client_id',\n",
    "    'clnt_tenure_yr': 'client_tenure_years',\n",
    "    'clnt_tenure_mnth': 'client_tenure_months',\n",
    "    'clnt_age': 'client_age',\n",
    "    'gendr': 'gender',\n",
    "    'num_accts': 'num_accounts',\n",
    "    'bal': 'balance',\n",
    "    'calls_6_mnth': 'calls_last_6_months',\n",
    "    'logons_6_mnth': 'logons_last_6_months'\n",
    "}\n",
    "\n",
    "final_demo_df.rename(columns=new_column_names_final_demo_df, inplace=True)"
   ]
  },
  {
   "cell_type": "code",
   "execution_count": 6,
   "id": "6139346d-2362-4f9d-971c-a013278b68be",
   "metadata": {},
   "outputs": [
    {
     "name": "stdout",
     "output_type": "stream",
     "text": [
      "                      Unique Values  Empty Values  \\\n",
      "Column                                              \n",
      "client_id                     70609             0   \n",
      "client_tenure_years              54            14   \n",
      "client_tenure_months            482            14   \n",
      "client_age                      165            15   \n",
      "gender                            4            14   \n",
      "num_accounts                      8            14   \n",
      "balance                       70328            14   \n",
      "calls_last_6_months               8            14   \n",
      "logons_last_6_months              9            14   \n",
      "\n",
      "                                                      Empty Row Indices  \n",
      "Column                                                                   \n",
      "client_id                                                            []  \n",
      "client_tenure_years   [4164, 8316, 8677, 13444, 18066, 25961, 28432,...  \n",
      "client_tenure_months  [4164, 8316, 8677, 13444, 18066, 25961, 28432,...  \n",
      "client_age            [4164, 8316, 8677, 9583, 13444, 18066, 25961, ...  \n",
      "gender                [4164, 8316, 8677, 13444, 18066, 25961, 28432,...  \n",
      "num_accounts          [4164, 8316, 8677, 13444, 18066, 25961, 28432,...  \n",
      "balance               [4164, 8316, 8677, 13444, 18066, 25961, 28432,...  \n",
      "calls_last_6_months   [4164, 8316, 8677, 13444, 18066, 25961, 28432,...  \n",
      "logons_last_6_months  [4164, 8316, 8677, 13444, 18066, 25961, 28432,...  \n"
     ]
    }
   ],
   "source": [
    "# check unique values\n",
    "check_unique_and_empty(final_demo_df)"
   ]
  },
  {
   "cell_type": "markdown",
   "id": "5a153404-351e-40dd-b746-438a29e725a6",
   "metadata": {},
   "source": [
    "## Final Experiment Clients DF"
   ]
  },
  {
   "cell_type": "code",
   "execution_count": 7,
   "id": "ffef2f81-00b5-43c7-8399-7e7ea7b9efd5",
   "metadata": {},
   "outputs": [
    {
     "data": {
      "text/html": [
       "<div>\n",
       "<style scoped>\n",
       "    .dataframe tbody tr th:only-of-type {\n",
       "        vertical-align: middle;\n",
       "    }\n",
       "\n",
       "    .dataframe tbody tr th {\n",
       "        vertical-align: top;\n",
       "    }\n",
       "\n",
       "    .dataframe thead th {\n",
       "        text-align: right;\n",
       "    }\n",
       "</style>\n",
       "<table border=\"1\" class=\"dataframe\">\n",
       "  <thead>\n",
       "    <tr style=\"text-align: right;\">\n",
       "      <th></th>\n",
       "      <th>client_id</th>\n",
       "      <th>Variation</th>\n",
       "    </tr>\n",
       "  </thead>\n",
       "  <tbody>\n",
       "    <tr>\n",
       "      <th>0</th>\n",
       "      <td>9988021</td>\n",
       "      <td>Test</td>\n",
       "    </tr>\n",
       "    <tr>\n",
       "      <th>1</th>\n",
       "      <td>8320017</td>\n",
       "      <td>Test</td>\n",
       "    </tr>\n",
       "    <tr>\n",
       "      <th>2</th>\n",
       "      <td>4033851</td>\n",
       "      <td>Control</td>\n",
       "    </tr>\n",
       "    <tr>\n",
       "      <th>3</th>\n",
       "      <td>1982004</td>\n",
       "      <td>Test</td>\n",
       "    </tr>\n",
       "    <tr>\n",
       "      <th>4</th>\n",
       "      <td>9294070</td>\n",
       "      <td>Control</td>\n",
       "    </tr>\n",
       "  </tbody>\n",
       "</table>\n",
       "</div>"
      ],
      "text/plain": [
       "   client_id Variation\n",
       "0    9988021      Test\n",
       "1    8320017      Test\n",
       "2    4033851   Control\n",
       "3    1982004      Test\n",
       "4    9294070   Control"
      ]
     },
     "execution_count": 7,
     "metadata": {},
     "output_type": "execute_result"
    }
   ],
   "source": [
    "final_experiment_clients_df = pd.read_csv(\"../../data/raw/df_final_experiment_clients.txt\")\n",
    "final_experiment_clients_df.head()"
   ]
  },
  {
   "cell_type": "code",
   "execution_count": 8,
   "id": "8d4c5261-bf80-47be-ba8b-73eb299b41b0",
   "metadata": {},
   "outputs": [
    {
     "name": "stdout",
     "output_type": "stream",
     "text": [
      "Check the shape (rows, columns):\n",
      "(70609, 2)\n",
      "\n",
      "Column names:\n",
      "Index(['client_id', 'variation'], dtype='object')\n",
      "\n",
      "Data types:\n",
      "client_id     int64\n",
      "variation    object\n",
      "dtype: object\n",
      "\n",
      "Missing values:\n",
      "client_id        0\n",
      "variation    20109\n",
      "dtype: int64\n"
     ]
    }
   ],
   "source": [
    "# clean column names\n",
    "clean_column_names(final_experiment_clients_df)\n",
    "\n",
    "# inspect df\n",
    "inspect_dataframe(final_experiment_clients_df)"
   ]
  },
  {
   "cell_type": "code",
   "execution_count": 9,
   "id": "52b5f31b-05b8-4256-8d13-7f6cfc77159b",
   "metadata": {},
   "outputs": [
    {
     "name": "stdout",
     "output_type": "stream",
     "text": [
      "           Unique Values  Empty Values  \\\n",
      "Column                                   \n",
      "client_id          70609             0   \n",
      "variation              2         20109   \n",
      "\n",
      "                                           Empty Row Indices  \n",
      "Column                                                        \n",
      "client_id                                                 []  \n",
      "variation  [50500, 50501, 50502, 50503, 50504, 50505, 505...  \n"
     ]
    }
   ],
   "source": [
    "# check unique values\n",
    "check_unique_and_empty(final_experiment_clients_df)"
   ]
  },
  {
   "cell_type": "code",
   "execution_count": null,
   "id": "6b8b9f4b-c69e-4975-8fe7-4d91566b7c25",
   "metadata": {},
   "outputs": [],
   "source": []
  }
 ],
 "metadata": {
  "kernelspec": {
   "display_name": "venv",
   "language": "python",
   "name": "venv"
  },
  "language_info": {
   "codemirror_mode": {
    "name": "ipython",
    "version": 3
   },
   "file_extension": ".py",
   "mimetype": "text/x-python",
   "name": "python",
   "nbconvert_exporter": "python",
   "pygments_lexer": "ipython3",
   "version": "3.12.7"
  }
 },
 "nbformat": 4,
 "nbformat_minor": 5
}
