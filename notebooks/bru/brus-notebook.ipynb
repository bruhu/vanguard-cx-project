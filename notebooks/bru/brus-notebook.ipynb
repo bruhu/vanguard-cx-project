{
 "cells": [
  {
   "cell_type": "code",
   "execution_count": null,
   "id": "2bdef438-9ca5-441f-a35b-619a7028ac20",
   "metadata": {},
   "outputs": [],
   "source": [
    "import pandas as pd\n",
    "import numpy as np\n",
    "import matplotlib.pyplot as plt\n",
    "import seaborn as sns\n",
    "import re"
   ]
  },
  {
   "cell_type": "markdown",
   "id": "d8064797-dc5a-4d28-9b62-1bb07662c6e6",
   "metadata": {},
   "source": [
    "# Functions"
   ]
  },
  {
   "cell_type": "code",
   "execution_count": null,
   "id": "a2ef10cd-4664-47f1-891e-386880def7ad",
   "metadata": {},
   "outputs": [],
   "source": [
    "# import reusable functions from utils directory\n",
    "import sys\n",
    "sys.path.append('../../utils')\n",
    "import my_utils"
   ]
  },
  {
   "cell_type": "markdown",
   "id": "b5c84dde-b0f3-4675-9568-998583b90841",
   "metadata": {},
   "source": [
    "## Read and clean data"
   ]
  },
  {
   "cell_type": "markdown",
   "id": "63054f3e-a386-4cfe-9075-95aebe5fc4a3",
   "metadata": {},
   "source": [
    "# Final Demo DF"
   ]
  },
  {
   "cell_type": "code",
   "execution_count": null,
   "id": "08ec4a78-4f8f-4b26-8a82-46587210a12d",
   "metadata": {},
   "outputs": [],
   "source": [
    "final_demo_df = pd.read_csv('../../data/raw/df_final_demo.txt')\n",
    "final_demo_df.head()"
   ]
  },
  {
   "cell_type": "code",
   "execution_count": null,
   "id": "f3de0c03-7939-40e2-bd6a-8bf86890a427",
   "metadata": {},
   "outputs": [],
   "source": [
    "# clean column names\n",
    "my_utils.clean_column_names(final_demo_df)\n",
    "\n",
    "# inspect dataframe\n",
    "my_utils.inspect_dataframe(final_demo_df)"
   ]
  },
  {
   "cell_type": "code",
   "execution_count": null,
   "id": "b780d878-e83c-4f42-a2ac-16d8bd502578",
   "metadata": {},
   "outputs": [],
   "source": [
    "# change column names for standardization\n",
    "new_column_names_final_demo_df = {\n",
    "    'client_id': 'client_id',\n",
    "    'clnt_tenure_yr': 'client_tenure_years',\n",
    "    'clnt_tenure_mnth': 'client_tenure_months',\n",
    "    'clnt_age': 'client_age',\n",
    "    'gendr': 'gender',\n",
    "    'num_accts': 'num_accounts',\n",
    "    'bal': 'balance',\n",
    "    'calls_6_mnth': 'calls_last_6_months',\n",
    "    'logons_6_mnth': 'logons_last_6_months'\n",
    "}\n",
    "\n",
    "final_demo_df.rename(columns=new_column_names_final_demo_df, inplace=True)"
   ]
  },
  {
   "cell_type": "code",
   "execution_count": null,
   "id": "6139346d-2362-4f9d-971c-a013278b68be",
   "metadata": {},
   "outputs": [],
   "source": [
    "# check unique values\n",
    "my_utils.check_unique_and_empty(final_demo_df)"
   ]
  },
  {
   "cell_type": "code",
   "execution_count": null,
   "id": "ecbb4c9a-d669-4cb3-ba84-7f77ed3bf9ba",
   "metadata": {},
   "outputs": [],
   "source": [
    "final_demo_df.head()"
   ]
  },
  {
   "cell_type": "code",
   "execution_count": null,
   "id": "cf341f07-b5c8-49cd-81df-6a78d95dba05",
   "metadata": {},
   "outputs": [],
   "source": [
    "# handle unique values in 'gender' column\n",
    "print(final_demo_df['gender'].unique())\n",
    "\n",
    "replacement_dict_gender = {\n",
    "    'U': 'Unspecified',\n",
    "    'M': 'Male',\n",
    "    'F': 'Female',\n",
    "    'X': 'Unspecified',\n",
    "    np.nan: 'Unspecified'\n",
    "}\n",
    "\n",
    "# Apply the function to replace the gender values\n",
    "final_demo_df['gender'] = final_demo_df['gender'].replace(replacement_dict_gender)"
   ]
  },
  {
   "cell_type": "code",
   "execution_count": null,
   "id": "bcf47e3c-f70c-4506-bd39-5a7e01713e48",
   "metadata": {},
   "outputs": [],
   "source": [
    "# convert floats to ints in several columns\n",
    "my_utils.floats_to_ints(final_demo_df, 'client_tenure_years')\n",
    "my_utils.floats_to_ints(final_demo_df, 'client_tenure_months')\n",
    "my_utils.floats_to_ints(final_demo_df, 'num_accounts')\n",
    "my_utils.floats_to_ints(final_demo_df, 'calls_last_6_months')\n",
    "my_utils.floats_to_ints(final_demo_df, 'logons_last_6_months')\n",
    "my_utils.floats_to_ints(final_demo_df, 'client_age')\n",
    "my_utils.check_unique_and_empty(final_demo_df)"
   ]
  },
  {
   "cell_type": "code",
   "execution_count": null,
   "id": "10fc7d41-a007-47e7-affa-b21f41665114",
   "metadata": {},
   "outputs": [],
   "source": [
    "# drop empty values\n",
    "final_demo_df = final_demo_df.dropna()\n",
    "# check_unique_and_empty(final_demo_df)\n",
    "\n",
    "# initial rows: 70609, rows after dropping empty values: 70594\n",
    "\n",
    "final_demo_df.head()"
   ]
  },
  {
   "cell_type": "code",
   "execution_count": null,
   "id": "e1204f30-080c-4f3f-9b62-cd022fea12ba",
   "metadata": {},
   "outputs": [],
   "source": [
    "# generate clean csv file\n",
    "# final_demo_df.to_csv('final_demo_df_clean.csv', index=False)\n",
    "my_utils.inspect_dataframe(final_demo_df)"
   ]
  },
  {
   "cell_type": "markdown",
   "id": "5a153404-351e-40dd-b746-438a29e725a6",
   "metadata": {},
   "source": [
    "# Final Experiment Clients DF"
   ]
  },
  {
   "cell_type": "code",
   "execution_count": null,
   "id": "ffef2f81-00b5-43c7-8399-7e7ea7b9efd5",
   "metadata": {},
   "outputs": [],
   "source": [
    "final_experiment_clients_df = pd.read_csv('../../data/raw/df_final_experiment_clients.txt')\n",
    "final_experiment_clients_df.head()"
   ]
  },
  {
   "cell_type": "code",
   "execution_count": null,
   "id": "8d4c5261-bf80-47be-ba8b-73eb299b41b0",
   "metadata": {},
   "outputs": [],
   "source": [
    "# clean column names\n",
    "my_utils.clean_column_names(final_experiment_clients_df)\n",
    "\n",
    "# inspect df\n",
    "my_utils.inspect_dataframe(final_experiment_clients_df)\n",
    "my_utils.check_unique_and_empty(final_experiment_clients_df)"
   ]
  },
  {
   "cell_type": "code",
   "execution_count": null,
   "id": "52b5f31b-05b8-4256-8d13-7f6cfc77159b",
   "metadata": {},
   "outputs": [],
   "source": [
    "# check unique values\n",
    "my_utils.check_unique_and_empty(final_experiment_clients_df)"
   ]
  },
  {
   "cell_type": "code",
   "execution_count": null,
   "id": "622b5a05-5709-4ccc-ae63-5b275228b8f0",
   "metadata": {},
   "outputs": [],
   "source": [
    "# replace empty values with 'unknown'\n",
    "\n",
    "final_experiment_clients_df = final_experiment_clients_df.apply(lambda col: col.apply(lambda x: 'Unknown' if pd.isna(x) or x == '' else x))\n",
    "\n",
    "my_utils.check_unique_and_empty(final_experiment_clients_df)"
   ]
  },
  {
   "cell_type": "code",
   "execution_count": null,
   "id": "7d563b5a-4474-4eba-a75a-ec5ed611106c",
   "metadata": {},
   "outputs": [],
   "source": [
    "# generate clean csv file\n",
    "# final_experiment_clients_df.to_csv('final_experiment_clients_df.csv', index=False)"
   ]
  },
  {
   "cell_type": "markdown",
   "id": "9555cb2f-5e0a-4bb3-afe5-b59a13e8a623",
   "metadata": {},
   "source": [
    "### Variation Count"
   ]
  },
  {
   "cell_type": "code",
   "execution_count": null,
   "id": "1e0b9806-54ec-45e0-a7ea-f49b7196dbce",
   "metadata": {},
   "outputs": [],
   "source": [
    "variation_percentages = final_experiment_clients_df['variation'].value_counts(normalize=True) * 100\n",
    "\n",
    "print(variation_percentages)"
   ]
  },
  {
   "cell_type": "code",
   "execution_count": null,
   "id": "da56a69b-3ee6-486a-b51b-9c31018847ce",
   "metadata": {},
   "outputs": [],
   "source": [
    "variation_counts = final_experiment_clients_df['variation'].value_counts()\n",
    "\n",
    "variation_percentages = variation_counts / variation_counts.sum() * 100\n",
    "\n",
    "colors = ['coral', 'lightgreen', 'lightblue']\n",
    "\n",
    "plt.figure(figsize=(8, 6))\n",
    "sns.barplot(x=variation_counts.index, y=variation_counts.values, palette=colors)\n",
    "\n",
    "plt.title('Test vs Control Variation', fontsize=16)\n",
    "plt.xlabel('Variation', fontsize=12)\n",
    "plt.ylabel('Count', fontsize=12)\n",
    "\n",
    "# annotate each bar with the percentage\n",
    "for i, p in enumerate(plt.gca().patches):\n",
    "    height = p.get_height()\n",
    "    # add annotation with the percentage on top of each bar\n",
    "    plt.text(p.get_x() + p.get_width() / 2, height + 0.1, f'{variation_percentages.iloc[i]:.1f}%', \n",
    "             ha='center', va='bottom', fontsize=12, color='black')\n",
    "\n",
    "plt.show()"
   ]
  },
  {
   "cell_type": "markdown",
   "id": "68a99cba-f444-4b95-975c-11b7afba4c70",
   "metadata": {},
   "source": [
    "## Questions:\n",
    "\n",
    "1. Primary clients using the online process\n",
    "2. Are the primary clients younger or older?\n",
    "3. Are the primary clients newer or long-standing?"
   ]
  },
  {
   "cell_type": "code",
   "execution_count": null,
   "id": "85632425-be8a-4bbd-b1f7-6c560663706c",
   "metadata": {},
   "outputs": [],
   "source": [
    "# clients using the online process (logons_last_6_months > 5)\n",
    "primary_clients = final_demo_df[final_demo_df['logons_last_6_months'] > 5]\n",
    "\n",
    "# We can compare the average age of primary clients vs. the full dataset\n",
    "avg_age_all_clients = round(final_demo_df['client_age'].mean())\n",
    "avg_age_primary_clients = round(primary_clients['client_age'].mean())\n",
    "\n",
    "\n",
    "# We can compare the average tenure in years of primary clients vs. the full dataset\n",
    "avg_tenure_all_clients = round(final_demo_df['client_tenure_years'].mean())\n",
    "avg_tenure_primary_clients = round(primary_clients['client_tenure_years'].mean())\n",
    "\n",
    "# Output the results\n",
    "print(f'Primary clients:\\n{primary_clients[['client_id', 'client_age', 'client_tenure_years', 'logons_last_6_months']]}\\n')\n",
    "print(f'Average age of all clients: {avg_age_all_clients}')\n",
    "print(f'Average age of primary clients: {avg_age_primary_clients}')\n",
    "print(f'Are primary clients younger or older? {'Younger' if avg_age_primary_clients < avg_age_all_clients else 'Older'}\\n')\n",
    "print(f'Average tenure of all clients: {avg_tenure_all_clients}')\n",
    "print(f'Average tenure of primary clients: {avg_tenure_primary_clients}')\n",
    "print(f'Are primary clients newer or long-standing? {'Newer' if avg_tenure_primary_clients < avg_tenure_all_clients else 'Long-standing'}')"
   ]
  },
  {
   "cell_type": "markdown",
   "id": "10b8f15f-1cf3-4d55-8a33-048910155e97",
   "metadata": {},
   "source": [
    "## Combine DFs\n",
    "\n",
    "- By now, `final_demo_df` has **70594 rows**, and `final_experiment_clients_df` has **70609 rows**."
   ]
  },
  {
   "cell_type": "code",
   "execution_count": null,
   "id": "5371b794-6add-49ca-88d6-fe0bdab599a9",
   "metadata": {},
   "outputs": [],
   "source": [
    "# check how many client ids match\n",
    "\n",
    "client_ids_df1 = set(final_demo_df['client_id'])\n",
    "client_ids_df2 = set(final_experiment_clients_df['client_id'])\n",
    "\n",
    "# find the intersection\n",
    "matching_ids = client_ids_df1.intersection(client_ids_df2)\n",
    "num_matching_ids = len(matching_ids)\n",
    "\n",
    "print(f'Matching client ids in both dataframes: {num_matching_ids}')"
   ]
  },
  {
   "cell_type": "code",
   "execution_count": null,
   "id": "e60be046-3f69-488e-9a67-9084ba8bd94a",
   "metadata": {},
   "outputs": [],
   "source": [
    "# merge dataframes based on 'client_id', adding the 'variation' column\n",
    "merged_variations_final_demo_df = pd.merge(final_demo_df, final_experiment_clients_df[['client_id', 'variation']], on='client_id', how='left')\n",
    "\n",
    "# sort values by the original index\n",
    "merged_variations_final_demo_df = merged_variations_final_demo_df.sort_index()\n",
    "\n",
    "print(merged_variations_final_demo_df)"
   ]
  },
  {
   "cell_type": "code",
   "execution_count": null,
   "id": "c61e7db0-6714-4d3c-be87-e1410d766fd4",
   "metadata": {},
   "outputs": [],
   "source": [
    "# import to csv \n",
    "# merged_variations_final_demo_df.to_csv('../../data/clean/merged_final_demo_final_experiment_clients_df.csv', index=False)"
   ]
  },
  {
   "cell_type": "code",
   "execution_count": null,
   "id": "b77df93d-f9a8-4738-a6ce-e5acffd60176",
   "metadata": {},
   "outputs": [],
   "source": [
    "combined_cleaned_df = pd.read_csv('../../data/raw/combined_cleaned_data.csv')\n",
    "combined_cleaned_df.head()"
   ]
  },
  {
   "cell_type": "code",
   "execution_count": null,
   "id": "31d256bb-3430-4269-8de7-03c6bec5ff2f",
   "metadata": {},
   "outputs": [],
   "source": [
    "my_utils.check_unique_and_empty(combined_cleaned_df)"
   ]
  },
  {
   "cell_type": "code",
   "execution_count": null,
   "id": "c7fb23a2-7aed-4010-90aa-3456ad64a08b",
   "metadata": {},
   "outputs": [],
   "source": [
    "my_utils.inspect_dataframe(combined_cleaned_df)"
   ]
  },
  {
   "cell_type": "code",
   "execution_count": null,
   "id": "5d172168-845b-4485-a37b-9097c525de78",
   "metadata": {},
   "outputs": [],
   "source": [
    "print(combined_cleaned_df['process_step'].unique())"
   ]
  },
  {
   "cell_type": "code",
   "execution_count": null,
   "id": "8f7da989-721f-436f-ab1a-bf55598b511e",
   "metadata": {},
   "outputs": [],
   "source": [
    "# Question - do we want to change this to Step 1, Step 2, and Finished?"
   ]
  },
  {
   "cell_type": "code",
   "execution_count": null,
   "id": "d72d7627-422a-46b2-8868-94c37115521a",
   "metadata": {},
   "outputs": [],
   "source": [
    "combined_cleaned_df['date_time'] = pd.to_datetime(combined_cleaned_df['date_time'], errors='coerce')\n",
    "\n",
    "# check if any dates couldn't be converted (i.e., they are NaT)\n",
    "inconsistent_dates = combined_cleaned_df['date_time'].isna().sum()\n",
    "\n",
    "# If inconsistent_dates > 0, then there are invalid or mismatched date formats\n",
    "if inconsistent_dates > 0:\n",
    "    print(f'There are {inconsistent_dates} inconsistent or invalid date formats in the column.')\n",
    "else:\n",
    "    print('All dates in the column have the same format.')\n",
    "\n",
    "print(combined_cleaned_df[['date_time']].head())"
   ]
  },
  {
   "cell_type": "code",
   "execution_count": null,
   "id": "8b8ab907-d6ea-4cd2-92e3-dfcfea6a094d",
   "metadata": {},
   "outputs": [],
   "source": [
    "my_utils.inspect_dataframe(combined_cleaned_df)"
   ]
  },
  {
   "cell_type": "code",
   "execution_count": null,
   "id": "f62ce37c-3b93-41e6-9edb-1f48fff3cc8e",
   "metadata": {},
   "outputs": [],
   "source": [
    "## Find out KPI measurements"
   ]
  },
  {
   "cell_type": "code",
   "execution_count": null,
   "id": "9a07a3d1-ac6d-4f45-839e-dd4fa4c5053f",
   "metadata": {},
   "outputs": [],
   "source": [
    "# make a copy\n",
    "kpi_df = combined_cleaned_df.copy()"
   ]
  },
  {
   "cell_type": "code",
   "execution_count": null,
   "id": "79d23d71-4feb-4096-8f25-e93d42945304",
   "metadata": {},
   "outputs": [],
   "source": [
    "kpi_df.head()"
   ]
  },
  {
   "cell_type": "code",
   "execution_count": null,
   "id": "5bbb7e49-9688-4ec7-b24f-337289167d21",
   "metadata": {},
   "outputs": [],
   "source": [
    "# drop columns\n",
    "kpi_df = kpi_df.drop(columns=['visitor_id', 'visit_id'])"
   ]
  },
  {
   "cell_type": "code",
   "execution_count": null,
   "id": "f668506d-fb68-4d5c-9df9-fdb694e971b4",
   "metadata": {},
   "outputs": [],
   "source": [
    "# change the naming of the steps to numeric values to ensure order\n",
    "replacement_dict_steps = {\n",
    "    'start' : 0,\n",
    "    'step_1' : 1,\n",
    "    'step_2' : 2,\n",
    "    'step_3' : 3,\n",
    "    'confirm' : 4\n",
    "}\n",
    "\n",
    "kpi_df['process_step'] = kpi_df['process_step'].map(replacement_dict_steps)"
   ]
  },
  {
   "cell_type": "code",
   "execution_count": null,
   "id": "13faa940-3516-4ecb-9e11-e0121b71215e",
   "metadata": {},
   "outputs": [],
   "source": [
    "print(kpi_df)"
   ]
  },
  {
   "cell_type": "markdown",
   "id": "22ea4928-78a2-4438-916e-530f59f34880",
   "metadata": {},
   "source": [
    "# How many clients in total have finished?"
   ]
  },
  {
   "cell_type": "code",
   "execution_count": null,
   "id": "cc05cb0d-738e-44d1-b73a-c00940f65b85",
   "metadata": {},
   "outputs": [],
   "source": [
    "# filter rows where process_step is 'Finish'\n",
    "clients_finished = kpi_df[kpi_df['process_step'] == 4]\n",
    "\n",
    "# print(clients_finished)\n",
    "total_unique_clients = kpi_df['client_id'].nunique()\n",
    "# find unique client ids that finished\n",
    "unique_clients_finished = clients_finished['client_id'].nunique()\n",
    "\n",
    "print(f'Clients who finished the process: {unique_clients_finished} out ouf {total_unique_clients}.')"
   ]
  },
  {
   "cell_type": "markdown",
   "id": "76bb97cf-08aa-4bae-aa7a-72251b7fdb97",
   "metadata": {},
   "source": [
    "## How much time has been spent on each step (on average)?"
   ]
  },
  {
   "cell_type": "code",
   "execution_count": null,
   "id": "eb48ed30-6263-4fc2-ada4-5d32639e5976",
   "metadata": {},
   "outputs": [],
   "source": [
    "# sort df by client_id and date_time\n",
    "kpi_df = kpi_df.sort_values(by=['client_id', 'date_time'])\n",
    "# print(kpi_df)\n",
    "\n",
    "kpi_df.head(50)"
   ]
  },
  {
   "cell_type": "code",
   "execution_count": null,
   "id": "5f96499f-4392-42fe-aed0-ae5c4ecf3d28",
   "metadata": {},
   "outputs": [],
   "source": [
    "# calculate time difference between steps per client\n",
    "kpi_df['time_diff'] = kpi_df.groupby('client_id')['date_time'].diff()\n",
    "\n",
    "# drop first row per client (contains no information)\n",
    "kpi_df = kpi_df.dropna(subset=['time_diff'])\n",
    "display(kpi_df)"
   ]
  },
  {
   "cell_type": "code",
   "execution_count": null,
   "id": "d9b3e6f9-e7ef-4f85-87f5-5d67370db820",
   "metadata": {},
   "outputs": [],
   "source": [
    "# calculate average time spent on each step\n",
    "avg_time_per_step = kpi_df.groupby('process_step')['time_diff'].mean()\n",
    "\n",
    "# Cconvert to total seconds\n",
    "avg_time_in_seconds = avg_time_per_step.dt.total_seconds()\n",
    "\n",
    "# round up to the nearest second to remove decimals\n",
    "avg_time_in_seconds_rounded = np.ceil(avg_time_in_seconds).astype(int)\n",
    "\n",
    "# convert back to timedelta\n",
    "avg_time_per_step_rounded = pd.to_timedelta(avg_time_in_seconds_rounded, unit='s')\n",
    "\n",
    "# re-map process_step index for readability\n",
    "avg_time_per_step_rounded.index = avg_time_per_step_rounded.index.map({0: 'Start', 1: 'Step 1', 2: 'Step 2', 3: 'Step 3', 4: 'Finish'})\n",
    "\n",
    "print('Average time spent on each step:\\n')\n",
    "print(avg_time_per_step_rounded)"
   ]
  },
  {
   "cell_type": "code",
   "execution_count": null,
   "id": "43608d15-0175-4425-9ca1-9d25add78735",
   "metadata": {},
   "outputs": [],
   "source": []
  }
 ],
 "metadata": {
  "kernelspec": {
   "display_name": "venv",
   "language": "python",
   "name": "venv"
  },
  "language_info": {
   "codemirror_mode": {
    "name": "ipython",
    "version": 3
   },
   "file_extension": ".py",
   "mimetype": "text/x-python",
   "name": "python",
   "nbconvert_exporter": "python",
   "pygments_lexer": "ipython3",
   "version": "3.12.7"
  }
 },
 "nbformat": 4,
 "nbformat_minor": 5
}
