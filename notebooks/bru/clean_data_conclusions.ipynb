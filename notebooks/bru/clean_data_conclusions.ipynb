{
 "cells": [
  {
   "cell_type": "code",
   "execution_count": null,
   "id": "e41f0867-d3d4-403a-9354-01d382affd07",
   "metadata": {},
   "outputs": [],
   "source": [
    "import pandas as pd\n",
    "import numpy as np\n",
    "import matplotlib.pyplot as plt\n",
    "import seaborn as sns\n",
    "import re\n",
    "import sys"
   ]
  },
  {
   "cell_type": "code",
   "execution_count": null,
   "id": "9232e67c-cc77-46cb-afe9-16392563e2fd",
   "metadata": {},
   "outputs": [],
   "source": [
    "# import reusable functions from utils directory\n",
    "sys.path.append('../../utils')\n",
    "import functions"
   ]
  },
  {
   "cell_type": "markdown",
   "id": "f086aa71-9652-4b1e-966b-76e0428cbced",
   "metadata": {},
   "source": [
    "# **Cleaning Data Conclusions**"
   ]
  },
  {
   "cell_type": "markdown",
   "id": "8844cbbc-dd09-4ecd-86ce-9f1e0e2add5c",
   "metadata": {},
   "source": [
    "## Day 2\n",
    "- `merged_final_demo_final_experiment_clients_df`"
   ]
  },
  {
   "cell_type": "markdown",
   "id": "ab8474fe-6a12-4533-b883-767655d3016a",
   "metadata": {},
   "source": [
    "# Final Demo + Final Experiment Clients (Merged DataFrame)"
   ]
  },
  {
   "cell_type": "code",
   "execution_count": null,
   "id": "0adf257c-111c-4aec-87ef-a511c55db37f",
   "metadata": {},
   "outputs": [],
   "source": [
    "final_demo_df = pd.read_csv('../../data/clean/merged_final_demo_final_experiment_clients_df.csv')\n",
    "final_demo_df.head()"
   ]
  },
  {
   "cell_type": "code",
   "execution_count": null,
   "id": "83448d39-9a60-48e9-bae7-5f4ffda7754e",
   "metadata": {},
   "outputs": [],
   "source": [
    "# functions.inspect_dataframe(final_demo_df)"
   ]
  },
  {
   "cell_type": "code",
   "execution_count": null,
   "id": "28826f7e-5035-4cb8-91df-436548a2fce6",
   "metadata": {},
   "outputs": [],
   "source": [
    "functions.check_unique_and_empty(final_demo_df)"
   ]
  },
  {
   "cell_type": "markdown",
   "id": "214e4c36-3bdf-469b-b0e0-5cd415dc42dc",
   "metadata": {},
   "source": [
    "### Table Overview\n",
    "\n",
    "**Rows:**\n",
    "\n",
    "- `client_id (int)`: A unique identifier for each client, used to distinguish one client from another in the dataset.\n",
    "- `client_tenure_years (int)`: The number of years a client has been associated with the company. For example, a client with client_tenure_years = 6 has been with the company for 6 years.\n",
    "- `client_tenure_months (int)`: The number of months a client has been associated with the company. This value is often more granular than client_tenure_years and could be used for more detailed analysis. For instance, a tenure of 6 years and 1 month would be represented as 73 months.\n",
    "- `client_age (int)`: The age of the client in years.\n",
    "- `gender`: The gender of the client. The value can be \"Male,\" \"Female,\" or \"Unspecified,\" meaning the gender data is either recorded or missing.\n",
    "- `num_accounts (int)`: The number of accounts the client has with the company.\n",
    "- `balance (float)`: The total balance of the client's accounts with the company. This is a monetary value, and the balance can indicate how much money the client holds across their accounts.\n",
    "- `calls_last_6_months (int)`: The number of calls the client has made to the company in the past six months. This can give an idea of how actively the client has engaged with the company.\n",
    "- `logons_last_6_months (int)`: The number of times the client has logged into their account or interacted with the company online in the past six months.\n",
    "- `variation (object)`: This column likely indicates whether the client is part of a control group or a test group for an experiment. In this case, clients are either labeled as \"Test\", \"Control\", or \"Unknown\"."
   ]
  },
  {
   "cell_type": "markdown",
   "id": "d05c3c51-9f2a-4781-bcc0-8e82768d18fd",
   "metadata": {},
   "source": [
    "## Day 1 & 2 (Week 5)"
   ]
  },
  {
   "cell_type": "markdown",
   "id": "70105c37-c2c9-4d25-94c5-02a50e71f6ff",
   "metadata": {},
   "source": [
    "### **Client behavior analysis**\n",
    "\n",
    "Answer the following questions about demographics:\n",
    "\n",
    "- Who are the primary clients using this online process?\n",
    "- Are the primary clients younger or older, new or long-standing?\n",
    "- Next, carry out a client behaviour analysis to answer any additional relevant questions you think are important."
   ]
  },
  {
   "cell_type": "code",
   "execution_count": null,
   "id": "9c3bb673-d8da-4488-a202-b1f0107af8cf",
   "metadata": {},
   "outputs": [],
   "source": [
    "# Step 1: Analyze Active Clients using the online process\n",
    "\n",
    "# assuming active clients are those with more than 10 logons in the last 6 months and more than 3 accounts\n",
    "active_clients = final_demo_df[(final_demo_df['logons_last_6_months'] > 10) & (final_demo_df['accounts'] > 3)]\n",
    "\n",
    "# Step 2: Are the primary clients younger or older?\n",
    "\n",
    "average_age = final_demo_df['age'].mean()\n",
    "\n",
    "# age distribution to visualize client ages\n",
    "plt.figure(figsize=(8, 6))\n",
    "sns.histplot(final_demo_df['age'], kde=True, color=\"blue\", bins=10)\n",
    "plt.title('Client Age Distribution')\n",
    "plt.xlabel('Age')\n",
    "plt.ylabel('Frequency')\n",
    "plt.show()\n",
    "\n",
    "# Step 3: Are the primary clients newer or long-standing?\n",
    "# Calculate the average tenure (in years)\n",
    "average_tenure = final_demo_df['tenure_years'].mean()\n",
    "\n",
    "# Plot the tenure distribution to visualize how long clients have been with the service\n",
    "plt.figure(figsize=(8, 6))\n",
    "sns.histplot(final_demo_df['tenure_years'], kde=True, color='green', bins=10)\n",
    "plt.title('Client Tenure Distribution (in years)')\n",
    "plt.xlabel('Year duration')\n",
    "plt.ylabel('Frequency')\n",
    "plt.show()\n",
    "\n",
    "# Step 4: Drawing Conclusions\n",
    "\n",
    "# 1. Active clients using the online process\n",
    "print('Active clients (higher logons and accounts):')\n",
    "print(active_clients)\n",
    "\n",
    "# 2. Average age of clients\n",
    "print(f'Average client age: {average_age:.2f} years')\n",
    "\n",
    "# 3. Average client tenure (years)\n",
    "print(f'Average client tenure: {average_tenure:.2f} years')\n",
    "\n",
    "# conclusions:\n",
    "if average_age < 40:\n",
    "    print('Conclusion: The primary clients are generally younger (under 40 years old).')\n",
    "else:\n",
    "    print('Conclusion: The primary clients are generally older (above 40 years old).')\n",
    "\n",
    "if average_tenure < 3:\n",
    "    print('Conclusion: The primary clients are generally newer (under 3 years).')\n",
    "else:\n",
    "    print('Conclusion: The primary clients are generally long-standing (over 3 years).')"
   ]
  },
  {
   "cell_type": "markdown",
   "id": "24c541d3-ca70-46a3-8f25-ec30dd0e7114",
   "metadata": {},
   "source": [
    "## Day 3 (Week 5)"
   ]
  },
  {
   "cell_type": "markdown",
   "id": "7c05f8c3-8251-4746-b4ef-4834e8bac8a5",
   "metadata": {},
   "source": [
    "### **Performance Metrics**\n",
    "\n",
    "**Success Indicators**\n",
    "\n",
    "Discovering what key performance indicators (KPIs) will determine the success of the new design.\n",
    "Use at least completion rate, time spent on each step and error rates. Add any KPIs you might find relevant."
   ]
  },
  {
   "cell_type": "markdown",
   "id": "d3248a41",
   "metadata": {},
   "source": [
    "## **KPIs - Completion Rate**\n",
    "The proportion of users who reach the final `confirm` step."
   ]
  },
  {
   "cell_type": "markdown",
   "id": "6f50f966",
   "metadata": {},
   "source": [
    "**How**\n",
    "\n",
    "- Analyzing the dataset specifically focusing on calculating the completion rate, based on the steps that clients take. We initially convert the `step` names to numerical values for easier calculation. Our code filters the rows where `step` is equal to 4 (the final step or completion of the process). `clients_finished` now contains all records of clients who completed the process.\n",
    "\n",
    "- Using `.nunique()` we calculate the total numbers of distinct `client_id` values in the dataframe, getting the count of unique clients. With that, we calculate the number of unique clients who finished the process.\n",
    "\n",
    "- Grouping `clients_finished` by `client_id` we count how many times each flient has completed the process. All results are stored in a new dataframe called `completion_count_df`, where `completion_count` represents the number of times each client reached step 4.\n",
    "\n",
    "- Any `NaN` values in the `completion_count` column will be replaced by 0, indicating that these clients never completed the process.\n",
    "\n",
    "- These new columns and data will be added to the dataframe."
   ]
  },
  {
   "cell_type": "markdown",
   "id": "6780e29f",
   "metadata": {},
   "source": [
    "### **Results**\n",
    "\n",
    "The result *\"Clients who finished the process: 47,787 out of 70,594\"* provides a summary of how many clients in the dataset have successfully completed the process (reached the final step, which is step 4 in this case), compared to the total number of clients.\n",
    "\n",
    "#### **Breaking Down the Information:**\n",
    "\n",
    "- **Clients who finished the process (47,787):**\n",
    "This number represents the clients who reached the final step (step 4) in the project or process. It's a count of how many clients successfully completed the entire journey or task.\n",
    "\n",
    "- **Total unique clients (70,594):**\n",
    "This is the total number of unique clients in the dataset. The client_id column likely represents individual clients, and nunique() is used to count how many distinct clients are in the dataset, regardless of how many steps they completed.\n",
    "\n",
    "#### **What Can We Infer?**\n",
    "\n",
    "The ratio of clients who finished the process to the total number of clients can be calculated as:\n",
    "\n",
    "**Completion Rate = 47,78770,594 × 100 ≈ 67.7%**\n",
    "\n",
    "**Completion Rate = 70,59447,787​ × 100 ≈ 67.7%**\n",
    "\n",
    "So, about 67.7% of the clients who started the process completed it.\n",
    "\n",
    "- **Client Drop-off:**\n",
    "The remaining 32.3% of clients (i.e., 70,594 - 47,787 = 22,807) did not reach the final step. This could indicate a drop-off or abandonment rate, where clients started but didn’t finish.\n",
    "Understanding the reasons for this drop-off (e.g., user experience issues, complexity, lack of incentives) could help improve the process or identify areas for intervention to increase completion rates.\n",
    "\n",
    "- **Implications for Project Metrics:**\n",
    "A 67.7% completion rate can be seen as relatively good in many contexts, especially if the process is long or involves several steps. However, in some industries or projects, you may want to aim for a higher completion rate.\n",
    "If this is a metric for performance or KPIs (Key Performance Indicators), you might want to set a target (e.g., 80% completion rate) and use this data to track progress toward that goal.\n",
    "\n",
    "#### **Potential Follow-up Analysis:**\n",
    "\n",
    "- **Examine the Drop-off Points:**\n",
    "You might want to analyze where the drop-offs occur in the steps leading up to step 4. For instance, do most clients drop off at a specific step (e.g., step 3), or is the drop-off more evenly distributed?\n",
    "Investigating this can give insight into potential bottlenecks or friction points in the process.\n",
    "\n",
    "- **Segment Clients:**\n",
    "Segmenting clients by other characteristics (e.g., demographics, usage patterns, source of acquisition) could reveal if some groups are more likely to complete the process than others. This could help tailor interventions for high-value or at-risk clients.\n",
    "\n",
    "- **Multiple Completions:**\n",
    "If some clients complete the process multiple times (as might be possible in certain scenarios), this could skew the results. You could consider focusing on unique clients who completed the process at least once versus total completions.\n",
    "\n",
    "- **Client Retention:**\n",
    "If the process completion rate is tied to retention or customer loyalty (e.g., users who finish the process are more likely to stay), then this result could be a strong indicator of overall client engagement.\n",
    "\n",
    "#### **Conclusion:**\n",
    "\n",
    "The result shows that **approximately 67.7% of clients successfully completed the process, while about 32.3% did not**. This completion rate could be a useful KPI for understanding how effectively the project is engaging and retaining clients, as well as identifying areas for improvement in the process.\n"
   ]
  },
  {
   "cell_type": "markdown",
   "id": "4240d082",
   "metadata": {},
   "source": [
    "![Image Description](../../visualizations/kpi_plots/barchart_total_vs_completed_clients.png)\n"
   ]
  },
  {
   "cell_type": "markdown",
   "id": "c50038a0",
   "metadata": {},
   "source": [
    "![Image Description](../../visualizations/kpi_plots/piechart_completion_rate_clients.png)\n"
   ]
  },
  {
   "cell_type": "markdown",
   "id": "6527b4f4",
   "metadata": {},
   "source": [
    "## **KPIs - Time Spent on Each Step**\n",
    "The average duration users spend on each step."
   ]
  },
  {
   "cell_type": "markdown",
   "id": "6d7b802f",
   "metadata": {},
   "source": [
    "**How:**\n",
    "\n",
    "Our code calculates the average time spent by clients on each step of a process during each visit, using the timestamp data for each step. The key idea is to calculate the time difference between consecutive steps for each client and then group this data by `client_id` and `step` to compute average times. The final results are presented in both seconds and minutes.\n",
    "\n",
    "- We ensured that the `date_time` column is in a proper datetime format so it can be computed.\n",
    "- The dataframe is sorted by `client_id`, `visit_id`, and `step` to ensure chronological order. This is mandatory for calculating the time differences correctly.\n",
    "- We created a `time_spent` column to substract the current step's `date_time` from the next `step_time`, this gives the duration spent on the current step.\n",
    "- `shift(-1) is used to shift the `date_time` values for each group, effectively getting the timestamp of the next step in sequence.\n",
    "- For step 4, there is no \"next step\" because it's the final step in the process. The code calculates the `next_step_time` as the `maximum date_time` for each visit (`visit_id`), assuming this represents the end of the session.\n",
    "- After updating the `next_step_time` for step 4, the `time_spent` for step 4 is recalculated.\n",
    "- The data is grouped by `client_id` and `step`, and the mean time spent on each step is calculated for each client. This gives the average time spent per step for each client. The average time spent will also be calculated in minutes and seconds for further reading.\n",
    "\n",
    "\n",
    "The final dataframe, `avg_time_per_step`, contains the following columns:\n",
    "- `client_id`: The unique client identifier.\n",
    "- `step`: The step number (1, 2, 3, or 4).\n",
    "- `avg_time_spent`: The average time spent on each step (as a timedelta object).\n",
    "- `avg_time_seconds`: The average time spent in seconds.\n",
    "- `avg_time_minutes`: The average time spent in minutes.\n",
    "\n",
    "\n",
    "The function returns a dataframe `avg_time_per_step`, which contains the average time spent by each client on each step of the process. This is useful for understanding how much time clients typically spend at each stage of the process, which can help identify bottlenecks or stages that need improvement."
   ]
  },
  {
   "cell_type": "markdown",
   "id": "ce4d12ed",
   "metadata": {},
   "source": [
    "### **Results**\n",
    "\n",
    "| Step      | Average time (minutes) |\n",
    "|-----------|--------------------------|\n",
    "| Start     | 0.673287                 |\n",
    "| Step 1    | 0.813043                 |\n",
    "| Step 2    | 1.563080                 |\n",
    "| Step 3    | 2.144761                 |\n",
    "| Finish    | 0.320263                 |\n",
    "\n",
    "#### **Conclusion:**\n",
    "\n",
    "The average time analysis indicates that while Steps 2 and 3 may require additional client attention or effort, Step 4 shows an unexpected decrease in time spent. Understanding why clients spend less time on Step 4 could reveal potential areas for improvement in user experience or process completion rates. Optimizing Step 2 and Step 3, which are the longest steps, might also enhance client engagement and process efficiency.\n",
    "\n",
    "\n",
    "Notice that what is considered a step to calculate is a very subjective decision."
   ]
  },
  {
   "cell_type": "markdown",
   "id": "e07881de",
   "metadata": {},
   "source": [
    "![Image Description](../../visualizations/kpi_plots/barplot_avg_time_per_step.png)"
   ]
  },
  {
   "cell_type": "markdown",
   "id": "10eec552",
   "metadata": {},
   "source": [
    "![Image Description](../../visualizations/kpi_plots/lineplot_avg_time_per_step.png)\n"
   ]
  },
  {
   "cell_type": "markdown",
   "id": "38d6f779",
   "metadata": {},
   "source": [
    "## **KPIs - Error Rates**\n",
    "If there’s a step where users go back to a previous step, it may indicate confusion or an error. You should consider moving from a later step to an earlier one as an error."
   ]
  },
  {
   "cell_type": "markdown",
   "id": "68b23e9a",
   "metadata": {},
   "source": [
    "**How**"
   ]
  },
  {
   "cell_type": "markdown",
   "id": "0e5338bd",
   "metadata": {},
   "source": [
    "### **Results**\n",
    "\n",
    "\n",
    "#### **Breaking Down the Information:**\n",
    "\n",
    "#### **What Can We Infer?**\n",
    "\n",
    "#### **Potential Follow-up Analysis:**\n",
    "\n",
    "#### **Conclusion:**\n"
   ]
  }
 ],
 "metadata": {
  "kernelspec": {
   "display_name": ".venv",
   "language": "python",
   "name": "python3"
  },
  "language_info": {
   "codemirror_mode": {
    "name": "ipython",
    "version": 3
   },
   "file_extension": ".py",
   "mimetype": "text/x-python",
   "name": "python",
   "nbconvert_exporter": "python",
   "pygments_lexer": "ipython3",
   "version": "3.12.3"
  }
 },
 "nbformat": 4,
 "nbformat_minor": 5
}
