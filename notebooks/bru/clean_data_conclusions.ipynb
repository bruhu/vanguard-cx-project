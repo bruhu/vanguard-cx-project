{
 "cells": [
  {
   "cell_type": "markdown",
   "id": "f086aa71-9652-4b1e-966b-76e0428cbced",
   "metadata": {},
   "source": [
    "# **Cleaning Data Conclusions**"
   ]
  },
  {
   "cell_type": "markdown",
   "id": "8844cbbc-dd09-4ecd-86ce-9f1e0e2add5c",
   "metadata": {},
   "source": [
    "## Day 2\n",
    "- `merged_final_demo_final_experiment_clients_df`"
   ]
  },
  {
   "cell_type": "markdown",
   "id": "ab8474fe-6a12-4533-b883-767655d3016a",
   "metadata": {},
   "source": [
    "# Final Demo + Final Experiment Clients (Merged DataFrame)"
   ]
  },
  {
   "cell_type": "markdown",
   "id": "214e4c36-3bdf-469b-b0e0-5cd415dc42dc",
   "metadata": {},
   "source": [
    "### Table Overview\n",
    "\n",
    "**Rows:**\n",
    "\n",
    "- `client_id (int)`: A unique identifier for each client, used to distinguish one client from another in the dataset.\n",
    "- `client_tenure_years (int)`: The number of years a client has been associated with the company. For example, a client with client_tenure_years = 6 has been with the company for 6 years.\n",
    "- `client_tenure_months (int)`: The number of months a client has been associated with the company. This value is often more granular than client_tenure_years and could be used for more detailed analysis. For instance, a tenure of 6 years and 1 month would be represented as 73 months.\n",
    "- `client_age (int)`: The age of the client in years.\n",
    "- `gender`: The gender of the client. The value can be \"Male,\" \"Female,\" or \"Unspecified,\" meaning the gender data is either recorded or missing.\n",
    "- `num_accounts (int)`: The number of accounts the client has with the company.\n",
    "- `balance (float)`: The total balance of the client's accounts with the company. This is a monetary value, and the balance can indicate how much money the client holds across their accounts.\n",
    "- `calls_last_6_months (int)`: The number of calls the client has made to the company in the past six months. This can give an idea of how actively the client has engaged with the company.\n",
    "- `logons_last_6_months (int)`: The number of times the client has logged into their account or interacted with the company online in the past six months.\n",
    "- `variation (object)`: This column likely indicates whether the client is part of a control group or a test group for an experiment. In this case, clients are either labeled as \"Test\", \"Control\", or \"Unknown\"."
   ]
  },
  {
   "cell_type": "markdown",
   "id": "d05c3c51-9f2a-4781-bcc0-8e82768d18fd",
   "metadata": {},
   "source": [
    "## Day 1 & 2 (Week 5)"
   ]
  },
  {
   "cell_type": "markdown",
   "id": "70105c37-c2c9-4d25-94c5-02a50e71f6ff",
   "metadata": {},
   "source": [
    "### **Client behavior analysis**\n",
    "\n",
    "Answer the following questions about demographics:\n",
    "\n",
    "- Who are the primary clients using this online process?\n",
    "- Are the primary clients younger or older, new or long-standing?\n",
    "- Next, carry out a client behaviour analysis to answer any additional relevant questions you think are important."
   ]
  },
  {
   "cell_type": "markdown",
   "id": "b14ee6a7",
   "metadata": {},
   "source": [
    "### **Active clients (higher logons and accounts):**\n",
    "\n",
    "- Average client age: 46.18 years\n",
    "- Average client tenure: 12.05 years\n",
    "\n",
    "### **Conclusion:**\n",
    "- The primary clients are generally older (above 40 years old).\n",
    "- The primary clients are generally long-standing (over 3 years)."
   ]
  },
  {
   "cell_type": "markdown",
   "id": "f88fe7f8",
   "metadata": {},
   "source": [
    "![Image Description](../../visualizations/barplot_client_age_distribution.png)"
   ]
  },
  {
   "cell_type": "markdown",
   "id": "eb5970f7",
   "metadata": {},
   "source": [
    "![Image Description](../../visualizations/barplot_client_tenure_distribution.png)"
   ]
  },
  {
   "cell_type": "markdown",
   "id": "24c541d3-ca70-46a3-8f25-ec30dd0e7114",
   "metadata": {},
   "source": [
    "## Day 3 (Week 5)"
   ]
  },
  {
   "cell_type": "markdown",
   "id": "7c05f8c3-8251-4746-b4ef-4834e8bac8a5",
   "metadata": {},
   "source": [
    "### **Performance Metrics**\n",
    "\n",
    "**Success Indicators**\n",
    "\n",
    "Discovering what key performance indicators (KPIs) will determine the success of the new design.\n",
    "Use at least completion rate, time spent on each step and error rates. Add any KPIs you might find relevant."
   ]
  },
  {
   "cell_type": "markdown",
   "id": "d3248a41",
   "metadata": {},
   "source": [
    "## **KPIs - Completion Rate**\n",
    "The proportion of users who reach the final `confirm` step."
   ]
  },
  {
   "cell_type": "markdown",
   "id": "6f50f966",
   "metadata": {},
   "source": [
    "**How**\n",
    "\n",
    "- Analyzing the dataset specifically focusing on calculating the completion rate, based on the steps that clients take. We initially convert the `step` names to numerical values for easier calculation. Our code filters the rows where `step` is equal to 4 (the final step or completion of the process). `clients_finished` now contains all records of clients who completed the process.\n",
    "\n",
    "- Using `.nunique()` we calculate the total numbers of distinct `client_id` values in the dataframe, getting the count of unique clients. With that, we calculate the number of unique clients who finished the process.\n",
    "\n",
    "- Grouping `clients_finished` by `client_id` we count how many times each flient has completed the process. All results are stored in a new dataframe called `completion_count_df`, where `completion_count` represents the number of times each client reached step 4.\n",
    "\n",
    "- Any `NaN` values in the `completion_count` column will be replaced by 0, indicating that these clients never completed the process.\n",
    "\n",
    "- These new columns and data will be added to the dataframe."
   ]
  },
  {
   "cell_type": "markdown",
   "id": "6780e29f",
   "metadata": {},
   "source": [
    "### **Results**\n",
    "\n",
    "The result *\"Clients who finished the process: 47,787 out of 70,594\"* provides a summary of how many clients in the dataset have successfully completed the process (reached the final step, which is step 4 in this case), compared to the total number of clients.\n",
    "\n",
    "#### **Breaking Down the Information:**\n",
    "\n",
    "- **Clients who finished the process (47,787):**\n",
    "This number represents the clients who reached the final step (step 4) in the project or process. It's a count of how many clients successfully completed the entire journey or task.\n",
    "\n",
    "- **Total unique clients (70,594):**\n",
    "This is the total number of unique clients in the dataset. The client_id column likely represents individual clients, and nunique() is used to count how many distinct clients are in the dataset, regardless of how many steps they completed.\n",
    "\n",
    "#### **What Can We Infer?**\n",
    "\n",
    "The ratio of clients who finished the process to the total number of clients can be calculated as:\n",
    "\n",
    "**Completion Rate = 47,78770,594 × 100 ≈ 67.7%**\n",
    "\n",
    "**Completion Rate = 70,59447,787​ × 100 ≈ 67.7%**\n",
    "\n",
    "So, about 67.7% of the clients who started the process completed it.\n",
    "\n",
    "- **Client Drop-off:**\n",
    "The remaining 32.3% of clients (70,594 - 47,787 = 22,807) did not reach the final step. This could indicate a drop-off or abandonment rate, where clients started but didn’t finish.\n",
    "Understanding the reasons for this drop-off (e.g., user experience issues, complexity, lack of incentives) could help improve the process or identify areas for intervention to increase completion rates.\n",
    "\n",
    "- **Implications for Project Metrics:**\n",
    "A 67.7% completion rate can be seen as relatively good in many contexts, especially if the process is long or involves several steps. However, in some industries or projects, you may want to aim for a higher completion rate.\n",
    "If this is a metric for performance or KPIs (Key Performance Indicators), you might want to set a target (e.g., 80% completion rate) and use this data to track progress toward that goal.\n",
    "\n",
    "#### **Potential Follow-up Analysis:**\n",
    "\n",
    "- **Examine the Drop-off Points:**\n",
    "You might want to analyze where the drop-offs occur in the steps leading up to step 4. For instance, do most clients drop off at a specific step (e.g., step 3), or is the drop-off more evenly distributed?\n",
    "Investigating this can give insight into potential bottlenecks or friction points in the process.\n",
    "\n",
    "- **Segment Clients:**\n",
    "Segmenting clients by other characteristics (e.g., demographics, usage patterns, source of acquisition) could reveal if some groups are more likely to complete the process than others. This could help tailor interventions for high-value or at-risk clients.\n",
    "\n",
    "- **Multiple Completions:**\n",
    "If some clients complete the process multiple times (as might be possible in certain scenarios), this could skew the results. You could consider focusing on unique clients who completed the process at least once versus total completions.\n",
    "\n",
    "- **Client Retention:**\n",
    "If the process completion rate is tied to retention or customer loyalty (e.g., users who finish the process are more likely to stay), then this result could be a strong indicator of overall client engagement.\n",
    "\n",
    "#### **Conclusion:**\n",
    "\n",
    "The result shows that **approximately 67.7% of clients successfully completed the process, while about 32.3% did not**. This completion rate could be a useful KPI for understanding how effectively the project is engaging and retaining clients, as well as identifying areas for improvement in the process.\n"
   ]
  },
  {
   "cell_type": "markdown",
   "id": "4240d082",
   "metadata": {},
   "source": [
    "![Image Description](../../visualizations/kpi_plots/barchart_total_vs_completed_clients.png)\n"
   ]
  },
  {
   "cell_type": "markdown",
   "id": "c50038a0",
   "metadata": {},
   "source": [
    "![Image Description](../../visualizations/kpi_plots/piechart_completion_rate_clients.png)\n"
   ]
  },
  {
   "cell_type": "markdown",
   "id": "6527b4f4",
   "metadata": {},
   "source": [
    "## **KPIs - Time Spent on Each Step**\n",
    "The average duration users spend on each step."
   ]
  },
  {
   "cell_type": "markdown",
   "id": "6d7b802f",
   "metadata": {},
   "source": [
    "**How:**\n",
    "\n",
    "Our code calculates the average time spent by clients on each step of a process during each visit, using the timestamp data for each step. The key idea is to calculate the time difference between consecutive steps for each client and then group this data by `client_id` and `step` to compute average times. The final results are presented in both seconds and minutes.\n",
    "\n",
    "- We ensured that the `date_time` column is in a proper datetime format so it can be computed.\n",
    "- The dataframe is sorted by `client_id`, `visit_id`, and `step` to ensure chronological order. This is mandatory for calculating the time differences correctly.\n",
    "- We created a `time_spent` column to substract the current step's `date_time` from the next `step_time`, this gives the duration spent on the current step.\n",
    "- `shift(-1) is used to shift the `date_time` values for each group, effectively getting the timestamp of the next step in sequence.\n",
    "- For step 4, there is no \"next step\" because it's the final step in the process. The code calculates the `next_step_time` as the `maximum date_time` for each visit (`visit_id`), assuming this represents the end of the session.\n",
    "- After updating the `next_step_time` for step 4, the `time_spent` for step 4 is recalculated.\n",
    "- The data is grouped by `client_id` and `step`, and the mean time spent on each step is calculated for each client. This gives the average time spent per step for each client. The average time spent will also be calculated in minutes and seconds for further reading.\n",
    "\n",
    "\n",
    "The final dataframe, `avg_time_per_step`, contains the following columns:\n",
    "- `client_id`: The unique client identifier.\n",
    "- `step`: The step number (1, 2, 3, or 4).\n",
    "- `avg_time_spent`: The average time spent on each step (as a timedelta object).\n",
    "- `avg_time_seconds`: The average time spent in seconds.\n",
    "- `avg_time_minutes`: The average time spent in minutes.\n",
    "\n",
    "\n",
    "The function returns a dataframe `avg_time_per_step`, which contains the average time spent by each client on each step of the process. This is useful for understanding how much time clients typically spend at each stage of the process, which can help identify bottlenecks or stages that need improvement."
   ]
  },
  {
   "cell_type": "markdown",
   "id": "ce4d12ed",
   "metadata": {},
   "source": [
    "### **Results**\n",
    "\n",
    "| Step      | Average time (minutes) |\n",
    "|-----------|--------------------------|\n",
    "| Start     | 0.673287                 |\n",
    "| Step 1    | 0.813043                 |\n",
    "| Step 2    | 1.563080                 |\n",
    "| Step 3    | 2.144761                 |\n",
    "| Finish    | 0.320263                 |\n",
    "\n",
    "#### **Conclusion:**\n",
    "\n",
    "The average time analysis indicates that while Steps 2 and 3 may require additional client attention or effort, Step 4 shows a decrease in time spent. Understanding why clients spend less time on Step 4 could reveal potential areas for improvement in user experience or process completion rates, being the final step has an impact, but we don't know what exactly happens in that step. Optimizing Step 2 and Step 3, which are the longest steps, might also enhance client engagement and process efficiency.\n",
    "\n",
    "\n",
    "Notice that what is considered a step to calculate is a very subjective decision."
   ]
  },
  {
   "cell_type": "markdown",
   "id": "e07881de",
   "metadata": {},
   "source": [
    "![Image Description](../../visualizations/kpi_plots/barplot_avg_time_per_step.png)"
   ]
  },
  {
   "cell_type": "markdown",
   "id": "10eec552",
   "metadata": {},
   "source": [
    "![Image Description](../../visualizations/kpi_plots/lineplot_avg_time_per_step.png)\n"
   ]
  },
  {
   "cell_type": "markdown",
   "id": "38d6f779",
   "metadata": {},
   "source": [
    "## **KPIs - Error Rates**\n",
    "If there’s a step where users go back to a previous step, it may indicate confusion or an error. You should consider moving from a later step to an earlier one as an error."
   ]
  },
  {
   "cell_type": "markdown",
   "id": "68b23e9a",
   "metadata": {},
   "source": [
    "**How**\n",
    "\n",
    "calculate_error_count(df) that processes a dataframe (df) containing client visit data and calculates various error-related metrics. Specifically, it tracks instances where a client \"steps back\" in the process (e.g., when a client moves backward from a higher step number to a lower one within the same visit). The function calculates the total number of errors, error rates, and provides useful insights into how often clients make these backward steps during the process."
   ]
  },
  {
   "cell_type": "markdown",
   "id": "0e5338bd",
   "metadata": {},
   "source": [
    "### **Results**\n",
    "\n",
    "**Error rate (clients with errors): 29.95%**\n",
    "\n",
    "29.95% of clients have at least one backward step during their visit. This means that nearly 30% of the clients in our dataset encountered some form of issue, where they moved backward in the process.\n",
    "This is a relatively high error rate, suggesting that a significant portion of clients are experiencing difficulties during their journey, which may require further investigation to improve the process.\n",
    "\n",
    "**Error rate (steps with errors): 8.13%**\n",
    "\n",
    "8.13% of all steps across all visits are backward steps (errors). This shows that a small but noticeable percentage of the steps in the process are errors, meaning that clients are not always following the expected forward progression.\n",
    "While this percentage is not overwhelmingly high, it still represents a non-negligible proportion of the entire process, and further investigation could help optimize the flow.\n",
    "\n",
    "**Error rate per step: 8.13%**\n",
    "\n",
    "This is identical to the \"steps with errors\" rate because each step is either an error (backward movement) or not. Essentially, this shows that 8.13% of all individual steps across all visits are backward steps.\n",
    "This rate gives an overall picture of how often clients make errors during the entire process, not just at specific stages."
   ]
  },
  {
   "cell_type": "markdown",
   "id": "8806f3c4",
   "metadata": {},
   "source": [
    "![Image Description](../../visualizations/kpi_plots/piechart_error_clients.png)\n"
   ]
  },
  {
   "cell_type": "markdown",
   "id": "59b4eb15",
   "metadata": {},
   "source": [
    "![Image Description](../../visualizations/kpi_plots/lineplot_error_rate_per_step.png)\n"
   ]
  },
  {
   "cell_type": "markdown",
   "id": "14460d9c",
   "metadata": {},
   "source": [
    "## Day 4 (Week 5)"
   ]
  },
  {
   "cell_type": "markdown",
   "id": "19277d9f",
   "metadata": {},
   "source": [
    "Confirm if the difference in completion rate of the the new design and the old design is statistically significant.\n",
    "Given the data and KPIs you have explored discussed, one interesting hypothesis to test is related to the completion rate between the Test and Control groups. Since the new design (Test group) had a higher completion rate compared to the old design (Control group), you are required to confirm if this difference is statistically significant.\n",
    "\n"
   ]
  },
  {
   "cell_type": "markdown",
   "id": "97996736",
   "metadata": {},
   "source": [
    "### **Results**\n",
    "\n",
    "#### **Control Variation**\n",
    "\n",
    "Completion Rate: Clients who finished the process: 65.6% (15428 out ouf 23526).\n",
    "\n",
    "Total number of errors across all clients: 9576\n",
    "\n",
    "Median time spent across all steps: 0.88 minutes\n",
    "\n",
    "| Step | Average Time (Minutes) |\n",
    "|------|------------------------|\n",
    "| 0    | 0.00                   |\n",
    "| 1    | 0.40                   |\n",
    "| 2    | 1.15                   |\n",
    "| 3    | 1.70                   |\n",
    "| 4    | 0.92                   |\n",
    "\n",
    "\n",
    "#### **Test Variation**\n",
    "\n",
    "Completion Rate: Clients who finished the process: 69.3% (18682 out ouf 26961).\n",
    "\n",
    "Total number of errors across all clients: 16229\n",
    "\n",
    "Median time spent across all steps: 1.18 minutes\n",
    "\n",
    "| Step | Average Time (Minutes) |\n",
    "|------|------------------------|\n",
    "| 0    | 0.00                   |\n",
    "| 1    | 0.40                   |\n",
    "| 2    | 1.15                   |\n",
    "| 3    | 1.70                   |\n",
    "| 4    | 0.92                   |"
   ]
  },
  {
   "cell_type": "markdown",
   "id": "6194c06f",
   "metadata": {},
   "source": [
    "![Image Description](../../visualizations/kpi_plots/barplot_completion_rate_variations.png)\n"
   ]
  },
  {
   "cell_type": "markdown",
   "id": "757af5a7",
   "metadata": {},
   "source": [
    "![Image Description](../../visualizations/kpi_plots/piechart_completion_rate_variations.png)"
   ]
  },
  {
   "cell_type": "markdown",
   "id": "9e3df63f",
   "metadata": {},
   "source": [
    "![Image Description](../../visualizations/kpi_plots/barplot_error_count_per_variation.png)\n"
   ]
  },
  {
   "cell_type": "markdown",
   "id": "31208502",
   "metadata": {},
   "source": [
    "## Day 5 (Week 5)"
   ]
  },
  {
   "cell_type": "markdown",
   "id": "8c8d20a5",
   "metadata": {},
   "source": [
    "## **A/B Test**\n",
    "\n",
    " When analyzing the results of an A/B test (where you compare two versions of a product or design), you're required to ensure that the new design (Test ) improves the completion rate by at least 5% compared to the current version (Control).\n",
    " \n",
    " We performed an analysis to compare the completion rates between a Test Group and a Control Group using a Z-test for proportions."
   ]
  },
  {
   "cell_type": "markdown",
   "id": "9a3b4234",
   "metadata": {},
   "source": [
    "### 1. Data Cleaning:\n",
    "\n",
    "The code first removes duplicate rows from both test_df and control_df dataframes based on the combination of client_id and visitor_id. This ensures that each client_id and visitor_id pair appears only once in each dataframe. After removing duplicates, the code ensures that the completion_count variable is binary (i.e., either 0 or 1). This is done using the .apply() function with a lambda expression. The lambda function assigns a 1 if completion_count is greater than 0 (indicating a completion) and assigns a 0 if it is 0 or less (indicating no completion). This step ensures that the variable is clean and standardized for the analysis."
   ]
  },
  {
   "cell_type": "markdown",
   "id": "7bd867f4",
   "metadata": {},
   "source": [
    "### 2. Calculate Completions and Sample Size\n",
    "\n",
    "The code calculates the total number of completions for each group:\n",
    "- test_completions is the sum of the completion_count column in the test_df_cleaned dataframe (i.e., the total number of completions in the Test Group).\n",
    "- control_completions is the sum of the completion_count column in the control_df_cleaned dataframe (i.e., the total number of completions in the Control Group).\n",
    "\n",
    "The sample size for each group is also calculated:\n",
    "- test_size is the number of rows (data points) in the cleaned test dataframe (test_df_cleaned).\n",
    "- control_size is the number of rows in the cleaned control dataframe (control_df_cleaned)."
   ]
  },
  {
   "cell_type": "markdown",
   "id": "fcedf904",
   "metadata": {},
   "source": [
    "### 3. Calculate Completion Rates\n",
    "\n",
    "The completion rate for each group is calculated by dividing the number of completions by the total sample size for that group:\n",
    "- test_completion_rate is calculated by dividing test_completions by test_size.\n",
    "- control_completion_rate is calculated by dividing control_completions by control_size.\n",
    "\n",
    "The calculated completion rates are printed as percentages (by multiplying by 100 and rounding to two decimal places)."
   ]
  },
  {
   "cell_type": "markdown",
   "id": "2e25049c",
   "metadata": {},
   "source": [
    "### 4. Check for Valid Completion Rates\n",
    "\n",
    "The code checks if either of the completion rates is either 0 or 1 (which would indicate that every participant in the group either did or did not complete the action). This is important because a completion rate of 0 or 1 would result in a standard error of 0, which makes the Z-test invalid.\n",
    "If either group's completion rate is 0 or 1, the code prints a message indicating that the Z-test is skipped due to invalid completion rates."
   ]
  },
  {
   "cell_type": "markdown",
   "id": "31661b6f",
   "metadata": {},
   "source": [
    "### 5. Perform Z-Test for Proportions\n",
    "\n",
    "Once we know the completion rates for both the Test Group and the Control Group, we check if the difference between them is big enough to be **statistically significant** (i.e., it’s not just due to random chance).\n",
    "\n",
    "Here’s how it works:\n",
    "\n",
    "1. **Combine the two groups**: First, we calculate the overall completion rate for both groups combined (this is called the \"pooled proportion\").\n",
    "\n",
    "2. **Calculate the \"Standard Error\" (SE)**: This tells us how much the completion rates can vary. It’s like measuring the \"spread\" or \"noise\" in the data. If the groups are very similar, the SE will be small. If they’re very different, the SE will be bigger.\n",
    "\n",
    "3. **Check if the SE is valid**: If the SE can’t be calculated (which might happen with extreme data), we skip the test and show an error.\n",
    "\n",
    "4. **Calculate the Z-score**: This is the key number we use to see if the difference between the two groups is big enough to be important. The Z-score is how many times bigger the difference is compared to the SE.\n",
    "\n",
    "5. **Find the p-value**: This tells us the likelihood that the difference we see is just by chance. A smaller p-value means the difference is more likely to be real and not due to randomness. If the p-value is less than 0.05 (5%), we say the difference is **statistically significant**.\n",
    "\n",
    "\n",
    "In short, the Z-test checks if the difference between the groups is big enough to be confident that it’s not just random. If it is, we can say the difference is \"real\"."
   ]
  },
  {
   "cell_type": "markdown",
   "id": "ad40f155",
   "metadata": {},
   "source": [
    "### 6. Check Statistical Significance\n",
    "\n",
    "The code checks if the p-value is smaller than the chosen significance level (alpha = 0.05, which corresponds to a 95% confidence level). If the p-value is less than 0.05, the difference between the completion rates is considered statistically significant, and the code prints a message indicating that. Otherwise, it prints that the difference is not statistically significant.\n",
    "\n"
   ]
  },
  {
   "cell_type": "markdown",
   "id": "a4e0a696",
   "metadata": {},
   "source": [
    "![alt text](../../visualizations/abtest_score_zvalue_pvalue.png)"
   ]
  },
  {
   "cell_type": "markdown",
   "id": "624ebd17",
   "metadata": {},
   "source": [
    "![alt text](../../visualizations/abtest_completion_rates.png)"
   ]
  },
  {
   "cell_type": "markdown",
   "id": "965c72a4",
   "metadata": {},
   "source": [
    "### **Conclusions**\n",
    "\n",
    "#### Completion Rate Comparison:\n",
    "- **Test Group**: 69.77% completion rate\n",
    "- **Control Group**: 65.90% completion rate\n",
    "\n",
    "The **test group** (with the new design) has a higher completion rate than the **control group** (with the old design). This suggests the new design works better at getting people to finish.\n",
    "\n",
    "#### Statistical Significance:\n",
    "- **Z-score**: 9.82 (a really big number!)\n",
    "- **P-value**: 0.0000 (way smaller than 0.05)\n",
    "\n",
    "The **Z-score** is really high, showing a big difference between the two groups. The **p-value** is super small, which means the difference is **not by chance** – it’s real.\n",
    "\n",
    "#### What We Believe:\n",
    "- The idea that **there’s no difference** (null hypothesis) is **rejected**.\n",
    "- We accept that the **test group** does better (alternative hypothesis).\n",
    "\n",
    "#### What This Means in Practice:\n",
    "- Since the test group performed better, the new design seems like a **better option** than the old one.\n",
    "- The difference is so big that it’s **probably not random**. The result is solid.\n",
    "\n",
    "#### Confidence Interval:\n",
    "- The 95% confidence interval shows that the true difference isn’t zero, which means the test result is reliable.\n",
    "\n",
    "#### What to Do Next:\n",
    "1. **Use the new design**: The new design works better, so consider using it.\n",
    "2. **Check if it’s worth the cost**: See if the better completion rate is worth any extra costs.\n",
    "3. **Test more**: Before rolling it out to everyone, keep testing to make sure it works well everywhere.\n",
    "\n",
    "#### Final Takeaway:\n",
    "- The test shows that the new design helps people complete more actions. It’s a **real difference**, so go ahead with it, as long as the benefits outweigh any extra costs.\n",
    "\n"
   ]
  }
 ],
 "metadata": {
  "kernelspec": {
   "display_name": ".venv",
   "language": "python",
   "name": "python3"
  },
  "language_info": {
   "codemirror_mode": {
    "name": "ipython",
    "version": 3
   },
   "file_extension": ".py",
   "mimetype": "text/x-python",
   "name": "python",
   "nbconvert_exporter": "python",
   "pygments_lexer": "ipython3",
   "version": "3.12.3"
  }
 },
 "nbformat": 4,
 "nbformat_minor": 5
}
