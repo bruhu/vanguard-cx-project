{
 "cells": [
  {
   "cell_type": "code",
   "execution_count": null,
   "id": "e41f0867-d3d4-403a-9354-01d382affd07",
   "metadata": {},
   "outputs": [],
   "source": [
    "import pandas as pd\n",
    "import numpy as np\n",
    "import matplotlib.pyplot as plt\n",
    "import seaborn as sns\n",
    "import re"
   ]
  },
  {
   "cell_type": "markdown",
   "id": "f086aa71-9652-4b1e-966b-76e0428cbced",
   "metadata": {},
   "source": [
    "# **Cleaning Data Conclusions**"
   ]
  },
  {
   "cell_type": "markdown",
   "id": "8844cbbc-dd09-4ecd-86ce-9f1e0e2add5c",
   "metadata": {},
   "source": [
    "## Day 2\n",
    "- `final_demo_df`\n",
    "- `final_experiment_clients_df`"
   ]
  },
  {
   "cell_type": "markdown",
   "id": "ab8474fe-6a12-4533-b883-767655d3016a",
   "metadata": {},
   "source": [
    "# Final Demo DF"
   ]
  },
  {
   "cell_type": "code",
   "execution_count": null,
   "id": "0adf257c-111c-4aec-87ef-a511c55db37f",
   "metadata": {},
   "outputs": [],
   "source": [
    "final_demo_df = pd.read_csv(\"../../data/clean/df_final_demo_clean.csv\")\n",
    "final_demo_df.head()"
   ]
  },
  {
   "cell_type": "code",
   "execution_count": null,
   "id": "d827c436-cc2f-445c-961d-0af1e80f128f",
   "metadata": {},
   "outputs": [],
   "source": []
  }
 ],
 "metadata": {
  "kernelspec": {
   "display_name": "venv",
   "language": "python",
   "name": "venv"
  },
  "language_info": {
   "codemirror_mode": {
    "name": "ipython",
    "version": 3
   },
   "file_extension": ".py",
   "mimetype": "text/x-python",
   "name": "python",
   "nbconvert_exporter": "python",
   "pygments_lexer": "ipython3",
   "version": "3.12.7"
  }
 },
 "nbformat": 4,
 "nbformat_minor": 5
}
