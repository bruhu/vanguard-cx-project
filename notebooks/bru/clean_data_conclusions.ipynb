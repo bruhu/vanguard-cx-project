{
 "cells": [
  {
   "cell_type": "code",
   "execution_count": 1,
   "id": "e41f0867-d3d4-403a-9354-01d382affd07",
   "metadata": {},
   "outputs": [],
   "source": [
    "import pandas as pd\n",
    "import numpy as np\n",
    "import matplotlib.pyplot as plt\n",
    "import seaborn as sns\n",
    "import re"
   ]
  },
  {
   "cell_type": "markdown",
   "id": "f086aa71-9652-4b1e-966b-76e0428cbced",
   "metadata": {},
   "source": [
    "# **Cleaning Data Conclusions**"
   ]
  },
  {
   "cell_type": "markdown",
   "id": "8844cbbc-dd09-4ecd-86ce-9f1e0e2add5c",
   "metadata": {},
   "source": [
    "## Day 2\n",
    "- `final_demo_df`\n",
    "- `final_experiment_clients_df`"
   ]
  },
  {
   "cell_type": "markdown",
   "id": "ab8474fe-6a12-4533-b883-767655d3016a",
   "metadata": {},
   "source": [
    "# Final Demo DF"
   ]
  },
  {
   "cell_type": "code",
   "execution_count": 4,
   "id": "0adf257c-111c-4aec-87ef-a511c55db37f",
   "metadata": {},
   "outputs": [
    {
     "data": {
      "text/html": [
       "<div>\n",
       "<style scoped>\n",
       "    .dataframe tbody tr th:only-of-type {\n",
       "        vertical-align: middle;\n",
       "    }\n",
       "\n",
       "    .dataframe tbody tr th {\n",
       "        vertical-align: top;\n",
       "    }\n",
       "\n",
       "    .dataframe thead th {\n",
       "        text-align: right;\n",
       "    }\n",
       "</style>\n",
       "<table border=\"1\" class=\"dataframe\">\n",
       "  <thead>\n",
       "    <tr style=\"text-align: right;\">\n",
       "      <th></th>\n",
       "      <th>client_id</th>\n",
       "      <th>client_tenure_years</th>\n",
       "      <th>client_tenure_months</th>\n",
       "      <th>client_age</th>\n",
       "      <th>gender</th>\n",
       "      <th>num_accounts</th>\n",
       "      <th>balance</th>\n",
       "      <th>calls_last_6_months</th>\n",
       "      <th>logons_last_6_months</th>\n",
       "    </tr>\n",
       "  </thead>\n",
       "  <tbody>\n",
       "    <tr>\n",
       "      <th>0</th>\n",
       "      <td>836976</td>\n",
       "      <td>6</td>\n",
       "      <td>73</td>\n",
       "      <td>60</td>\n",
       "      <td>Unspecified</td>\n",
       "      <td>2</td>\n",
       "      <td>45105.30</td>\n",
       "      <td>6</td>\n",
       "      <td>9</td>\n",
       "    </tr>\n",
       "    <tr>\n",
       "      <th>1</th>\n",
       "      <td>2304905</td>\n",
       "      <td>7</td>\n",
       "      <td>94</td>\n",
       "      <td>58</td>\n",
       "      <td>Unspecified</td>\n",
       "      <td>2</td>\n",
       "      <td>110860.30</td>\n",
       "      <td>6</td>\n",
       "      <td>9</td>\n",
       "    </tr>\n",
       "    <tr>\n",
       "      <th>2</th>\n",
       "      <td>1439522</td>\n",
       "      <td>5</td>\n",
       "      <td>64</td>\n",
       "      <td>32</td>\n",
       "      <td>Unspecified</td>\n",
       "      <td>2</td>\n",
       "      <td>52467.79</td>\n",
       "      <td>6</td>\n",
       "      <td>9</td>\n",
       "    </tr>\n",
       "    <tr>\n",
       "      <th>3</th>\n",
       "      <td>1562045</td>\n",
       "      <td>16</td>\n",
       "      <td>198</td>\n",
       "      <td>49</td>\n",
       "      <td>Male</td>\n",
       "      <td>2</td>\n",
       "      <td>67454.65</td>\n",
       "      <td>3</td>\n",
       "      <td>6</td>\n",
       "    </tr>\n",
       "    <tr>\n",
       "      <th>4</th>\n",
       "      <td>5126305</td>\n",
       "      <td>12</td>\n",
       "      <td>145</td>\n",
       "      <td>33</td>\n",
       "      <td>Female</td>\n",
       "      <td>2</td>\n",
       "      <td>103671.75</td>\n",
       "      <td>0</td>\n",
       "      <td>3</td>\n",
       "    </tr>\n",
       "  </tbody>\n",
       "</table>\n",
       "</div>"
      ],
      "text/plain": [
       "   client_id  client_tenure_years  client_tenure_months  client_age  \\\n",
       "0     836976                    6                    73          60   \n",
       "1    2304905                    7                    94          58   \n",
       "2    1439522                    5                    64          32   \n",
       "3    1562045                   16                   198          49   \n",
       "4    5126305                   12                   145          33   \n",
       "\n",
       "        gender  num_accounts    balance  calls_last_6_months  \\\n",
       "0  Unspecified             2   45105.30                    6   \n",
       "1  Unspecified             2  110860.30                    6   \n",
       "2  Unspecified             2   52467.79                    6   \n",
       "3         Male             2   67454.65                    3   \n",
       "4       Female             2  103671.75                    0   \n",
       "\n",
       "   logons_last_6_months  \n",
       "0                     9  \n",
       "1                     9  \n",
       "2                     9  \n",
       "3                     6  \n",
       "4                     3  "
      ]
     },
     "execution_count": 4,
     "metadata": {},
     "output_type": "execute_result"
    }
   ],
   "source": [
    "final_demo_df = pd.read_csv('../../data/clean/final_demo_df_clean.csv')\n",
    "final_demo_df.head()"
   ]
  },
  {
   "cell_type": "markdown",
   "id": "214e4c36-3bdf-469b-b0e0-5cd415dc42dc",
   "metadata": {},
   "source": [
    "### Table Overview\n",
    "\n",
    "**Columns:**\n",
    "\n",
    "- `client_id (int)`: A unique identifier for each client, used to distinguish one client from another in the dataset.\n",
    "- `client_tenure_years (int)`: The number of years a client has been associated with the company. For example, a client with client_tenure_years = 6 has been with the company for 6 years.\n",
    "- `client_tenure_months (int)`: The number of months a client has been associated with the company. This value is often more granular than client_tenure_years and could be used for more detailed analysis. For instance, a tenure of 6 years and 1 month would be represented as 73 months.\n",
    "- `client_age (int)`: The age of the client in years.\n",
    "- `gender (object)`: The gender of the client. The value can be \"Male,\" \"Female,\" or \"Unspecified,\" meaning the gender data is either recorded or missing.\n",
    "- `num_accounts (int)`: The number of accounts the client has with the company.\n",
    "- `balance (float)`: The total balance of the client's accounts with the company. This is a monetary value, and the balance can indicate how much money the client holds across their accounts.\n",
    "- `calls_last_6_months (int)`: The number of calls the client has made to the company in the past six months. This can give an idea of how actively the client has engaged with the company.\n",
    "- `logons_last_6_months (int)`: The number of times the client has logged into their account or interacted with the company online in the past six months.\n",
    "\n",
    "**Observations:**\n",
    "- This DF has no empty values.\n",
    "- 14 rows were dropped during the cleaning process, going from 70609 to 70594 rows."
   ]
  },
  {
   "cell_type": "code",
   "execution_count": null,
   "id": "68937ab2-460c-4f5e-be60-f3e60f317a21",
   "metadata": {},
   "outputs": [],
   "source": []
  }
 ],
 "metadata": {
  "kernelspec": {
   "display_name": "venv",
   "language": "python",
   "name": "venv"
  },
  "language_info": {
   "codemirror_mode": {
    "name": "ipython",
    "version": 3
   },
   "file_extension": ".py",
   "mimetype": "text/x-python",
   "name": "python",
   "nbconvert_exporter": "python",
   "pygments_lexer": "ipython3",
   "version": "3.12.7"
  }
 },
 "nbformat": 4,
 "nbformat_minor": 5
}
