{
 "cells": [
  {
   "cell_type": "code",
   "execution_count": 1,
   "id": "e41f0867-d3d4-403a-9354-01d382affd07",
   "metadata": {},
   "outputs": [],
   "source": [
    "import pandas as pd\n",
    "import numpy as np\n",
    "import matplotlib.pyplot as plt\n",
    "import seaborn as sns\n",
    "import re"
   ]
  },
  {
   "cell_type": "code",
   "execution_count": 5,
   "id": "9232e67c-cc77-46cb-afe9-16392563e2fd",
   "metadata": {},
   "outputs": [],
   "source": [
    "import sys\n",
    "sys.path.append('./')"
   ]
  },
  {
   "cell_type": "code",
   "execution_count": 6,
   "id": "82fcaf8b-c0ca-4e55-91db-37cbe1348f87",
   "metadata": {},
   "outputs": [],
   "source": [
    "import my_utils"
   ]
  },
  {
   "cell_type": "markdown",
   "id": "f086aa71-9652-4b1e-966b-76e0428cbced",
   "metadata": {},
   "source": [
    "# **Cleaning Data Conclusions**"
   ]
  },
  {
   "cell_type": "markdown",
   "id": "8844cbbc-dd09-4ecd-86ce-9f1e0e2add5c",
   "metadata": {},
   "source": [
    "## Day 2\n",
    "- `merged_final_demo_final_experiment_clients_df`"
   ]
  },
  {
   "cell_type": "markdown",
   "id": "ab8474fe-6a12-4533-b883-767655d3016a",
   "metadata": {},
   "source": [
    "# Final Demo + Final Experiment Clients (Merged DataFrame)"
   ]
  },
  {
   "cell_type": "code",
   "execution_count": null,
   "id": "0adf257c-111c-4aec-87ef-a511c55db37f",
   "metadata": {},
   "outputs": [],
   "source": [
    "final_demo_df = pd.read_csv('../../data/clean/merged_final_demo_final_experiment_clients_df.csv')\n",
    "final_demo_df.head()"
   ]
  },
  {
   "cell_type": "markdown",
   "id": "214e4c36-3bdf-469b-b0e0-5cd415dc42dc",
   "metadata": {},
   "source": [
    "### Table Overview\n",
    "\n",
    "**Rows:**\n",
    "\n",
    "- `client_id (int)`: A unique identifier for each client, used to distinguish one client from another in the dataset.\n",
    "- `client_tenure_years (int)`: The number of years a client has been associated with the company. For example, a client with client_tenure_years = 6 has been with the company for 6 years.\n",
    "- `client_tenure_months (int)`: The number of months a client has been associated with the company. This value is often more granular than client_tenure_years and could be used for more detailed analysis. For instance, a tenure of 6 years and 1 month would be represented as 73 months.\n",
    "- `client_age (int)`: The age of the client in years.\n",
    "- `gender`: The gender of the client. The value can be \"Male,\" \"Female,\" or \"Unspecified,\" meaning the gender data is either recorded or missing.\n",
    "- `num_accounts (int)`: The number of accounts the client has with the company.\n",
    "- `balance (float)`: The total balance of the client's accounts with the company. This is a monetary value, and the balance can indicate how much money the client holds across their accounts.\n",
    "- `calls_last_6_months (int)`: The number of calls the client has made to the company in the past six months. This can give an idea of how actively the client has engaged with the company.\n",
    "- `logons_last_6_months (int)`: The number of times the client has logged into their account or interacted with the company online in the past six months.\n",
    "- `variation (object)`: This column likely indicates whether the client is part of a control group or a test group for an experiment. In this case, clients are either labeled as \"Test\", \"Control\", or \"Unknown\"."
   ]
  }
 ],
 "metadata": {
  "kernelspec": {
   "display_name": "venv",
   "language": "python",
   "name": "venv"
  },
  "language_info": {
   "codemirror_mode": {
    "name": "ipython",
    "version": 3
   },
   "file_extension": ".py",
   "mimetype": "text/x-python",
   "name": "python",
   "nbconvert_exporter": "python",
   "pygments_lexer": "ipython3",
   "version": "3.12.7"
  }
 },
 "nbformat": 4,
 "nbformat_minor": 5
}
