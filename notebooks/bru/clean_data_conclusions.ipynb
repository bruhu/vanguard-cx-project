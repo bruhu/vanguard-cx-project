{
 "cells": [
  {
   "cell_type": "markdown",
   "id": "f086aa71-9652-4b1e-966b-76e0428cbced",
   "metadata": {},
   "source": [
    "# **Cleaning Data Conclusions**"
   ]
  },
  {
   "cell_type": "markdown",
   "id": "214e4c36-3bdf-469b-b0e0-5cd415dc42dc",
   "metadata": {},
   "source": [
    "### Metadata\n",
    "\n",
    "After cleaning the three raw datasets and merging them, we have the following data to begin with.\n",
    "\n",
    "\n",
    "**Rows:**\n",
    "\n",
    "- `client_id (int)`: Every client’s unique ID.\n",
    "- `visitor_id`: A unique ID for each client-device combination.\n",
    "- `visit_id`: A unique ID for each web visit/session.\n",
    "- `step`: Marks each step in the digital process.\n",
    "- `date_time`: Timestamp of each web activity.\n",
    "- `tenure_years (int)`: Represents how long the client has been with Vanguard, measured in years.\n",
    "- `tenure_months (int)`: Further breaks down the client’s tenure with Vanguard in months.\n",
    "- `age (int)`: Indicates the age of the client.\n",
    "- `gender`: Specifies the client’s gender (four unique values: 'Female', 'Male', 'Other' and 'Unspecified').\n",
    "- `accounts (int)`: Denotes the number of accounts the client holds with Vanguard.\n",
    "- `balance (float)`: Gives the total balance spread across all accounts for a particular client.\n",
    "- `calls_last_6_months (int)`: Records the number of times the client reached out over a call in the past six months.\n",
    "- `logons_last_6_months (int)`: Reflects the frequency with which the client logged onto Vanguard’s platform over the last six months.\n",
    "- `variation (object)`: Indicates if a client was part of the experiment (three unique values: 'Test', 'Contro' and 'Unknown')."
   ]
  },
  {
   "cell_type": "markdown",
   "id": "d05c3c51-9f2a-4781-bcc0-8e82768d18fd",
   "metadata": {},
   "source": [
    "## Day 1 & 2 (Week 5)"
   ]
  },
  {
   "cell_type": "markdown",
   "id": "70105c37-c2c9-4d25-94c5-02a50e71f6ff",
   "metadata": {},
   "source": [
    "# **Client behavior analysis**\n",
    "\n",
    "Answer the following questions about demographics:\n",
    "\n",
    "- Who are the primary clients using this online process?\n",
    "- Are the primary clients younger or older, new or long-standing?\n",
    "- Next, carry out a client behaviour analysis to answer any additional relevant questions you think are important."
   ]
  },
  {
   "cell_type": "markdown",
   "id": "b14ee6a7",
   "metadata": {},
   "source": [
    "### **Active clients (higher logons and accounts):**\n",
    "\n",
    "- Average client age: 46.18 years\n",
    "- Average client tenure: 12.05 years\n",
    "\n",
    "### **Conclusion:**\n",
    "- The primary clients are *generally older* (above 40 years old).\n",
    "- The primary clients are *generally long-standing* (over 3 years)."
   ]
  },
  {
   "cell_type": "markdown",
   "id": "f88fe7f8",
   "metadata": {},
   "source": [
    "![Image Description](../../visualizations/barplot_client_age_distribution.png)"
   ]
  },
  {
   "cell_type": "markdown",
   "id": "eb5970f7",
   "metadata": {},
   "source": [
    "![Image Description](../../visualizations/barplot_client_tenure_distribution.png)"
   ]
  },
  {
   "cell_type": "markdown",
   "id": "24c541d3-ca70-46a3-8f25-ec30dd0e7114",
   "metadata": {},
   "source": [
    "## Day 3 (Week 5)"
   ]
  },
  {
   "cell_type": "markdown",
   "id": "7c05f8c3-8251-4746-b4ef-4834e8bac8a5",
   "metadata": {},
   "source": [
    "### **Performance Metrics**\n",
    "\n",
    "**Success Indicators**\n",
    "\n",
    "Discovering what key performance indicators (KPIs) will determine the success of the new design.\n",
    "We calculated the completion rate, time spent on each step and error rates."
   ]
  },
  {
   "cell_type": "markdown",
   "id": "d3248a41",
   "metadata": {},
   "source": [
    "## **KPIs - Completion Rate**\n",
    "The proportion of users who reach the final `confirm` step."
   ]
  },
  {
   "cell_type": "markdown",
   "id": "6f50f966",
   "metadata": {},
   "source": [
    "**How**  \n",
    "\n",
    "1. Analyze the dataset to calculate the completion rate by focusing on the steps clients take.  \n",
    "   - Convert `step` names to numerical values for easier calculation.  \n",
    "   - Filter rows where `step = 4` to identify clients who completed the process (`clients_finished`).  \n",
    "\n",
    "2. Calculate the number of unique clients:  \n",
    "   - Use `.nunique()` to count distinct `client_id` values in the dataframe.  \n",
    "   - Determine how many unique clients finished the process.  \n",
    "\n",
    "3. Group `clients_finished` by `client_id` to count how many times each client completed the process.  \n",
    "   - Store the results in a new dataframe, `completion_count_df`, where `completion_count` tracks completions per client.  \n",
    "\n",
    "4. Replace any `NaN` values in `completion_count` with 0 to indicate clients who never completed the process.  \n",
    "\n",
    "5. Add the new columns and data back into the original dataframe.  "
   ]
  },
  {
   "cell_type": "markdown",
   "id": "6780e29f",
   "metadata": {},
   "source": [
    "### **Results**  \n",
    "\n",
    "**Summary:**  \n",
    "Out of 70,594 total clients, **47,787** successfully completed the process (reached step 4), resulting in a completion rate of approximately **67.7%**.  \n",
    "\n",
    "#### **Key Insights:**  \n",
    "\n",
    "- Clients Who Finished (47,787):  \n",
    "  These clients reached the final step (step 4), successfully completing the process.  \n",
    "\n",
    "- Total Unique Clients (70,594):  \n",
    "  This is the total number of distinct clients in the dataset, calculated using `nunique()` on `client_id`.  \n",
    "\n",
    "- Completion Rate: Completion Rate = (47,787 / 70,594) × 100 ≈ 67.7%  \n",
    "\n",
    "- Client Drop-off (32.3%): A total of 22,807 clients (70,594 - 47,787) did not finish the process. This represents a drop-off or abandonment rate.  \n",
    "\n",
    "\n",
    "#### **Implications:**  \n",
    "\n",
    "- Process Effectiveness: A completion rate of 67.7% may indicate good engagement, but there is room for improvement depending on project goals.  \n",
    "\n",
    "- Potential Goals: If 80% or higher is the target, interventions may be needed to reduce drop-offs and improve completion rates.  \n",
    "\n",
    "\n",
    "#### **Follow-up Suggestions:**  \n",
    "\n",
    "1. Analyze Drop-off Points: Identify where most clients drop off (e.g., step 2 or step 3). This can help locate friction points.  \n",
    "\n",
    "2. Segment Clients: Study client characteristics (e.g., demographics, behavior) to see if certain groups are more likely to drop off or complete the process.  \n",
    "\n",
    "3. Repeat Completions: Investigate whether some clients completed the process multiple times and consider focusing on unique client completions.  \n",
    "\n",
    "4. Retention Link: Explore whether completing the process correlates with retention or customer loyalty to gauge its impact on long-term success.  \n",
    "\n",
    "\n",
    "#### **Conclusion:**  \n",
    "With a **67.7% completion rate**, the process appears moderately successful but highlights opportunities to reduce the **32.3% drop-off rate**. This data provides a strong foundation for refining the process and setting achievable performance targets."
   ]
  },
  {
   "cell_type": "markdown",
   "id": "4240d082",
   "metadata": {},
   "source": [
    "![Image Description](../../visualizations/kpi_plots/barchart_total_vs_completed_clients.png)\n"
   ]
  },
  {
   "cell_type": "markdown",
   "id": "c50038a0",
   "metadata": {},
   "source": [
    "![Image Description](../../visualizations/kpi_plots/piechart_completion_rate_clients.png)\n"
   ]
  },
  {
   "cell_type": "markdown",
   "id": "6527b4f4",
   "metadata": {},
   "source": [
    "## **KPIs - Time Spent on Each Step**\n",
    "The average duration users spend on each step."
   ]
  },
  {
   "cell_type": "markdown",
   "id": "6d7b802f",
   "metadata": {},
   "source": [
    "### **How:**  \n",
    "\n",
    "To calculate the average time clients spend on each step of a process, the code uses timestamp data and computes time differences between consecutive steps. \n",
    "The results are grouped by `client_id` and `step` and presented in seconds and minutes.  \n",
    "\n",
    "#### **Steps:**  \n",
    "\n",
    "1. Prepare the Data:  \n",
    "   - Ensure the `date_time` column is in the correct datetime format for calculations.  \n",
    "   - Sort the dataframe by `client_id`, `visit_id`, and `step` to maintain chronological order.  \n",
    "\n",
    "2. Calculate Time Spent Per Step:  \n",
    "   - Create a `time_spent` column by subtracting the current step’s `date_time` from the next step’s timestamp (`shift(-1)`).  \n",
    "   - Handle step 4 (final step):  \n",
    "     - Set `next_step_time` to the maximum `date_time` within each `visit_id`, assuming this marks the session's end.  \n",
    "     - Recalculate `time_spent` for step 4 based on this value.  \n",
    "\n",
    "3. Compute Averages:  \n",
    "   - Group the data by `client_id` and `step`.  \n",
    "   - Calculate the mean time spent on each step for each client.  \n",
    "\n",
    "4. Generate Final Dataframe:  \n",
    "   - Create a new dataframe, `avg_time_per_step`, with the following columns:  \n",
    "     - `client_id`: Unique client identifier.  \n",
    "     - `step`: Step number (0, 1, 2, 3, or 4).  \n",
    "     - `avg_time_spent`: Average time spent as a timedelta object.  \n",
    "     - `avg_time_seconds`: Average time in seconds.  \n",
    "     - `avg_time_minutes`: Average time in minutes.  \n",
    "\n",
    "#### **Output:**  \n",
    "The function returns the `avg_time_per_step` dataframe, which shows the average time spent by each client at each step. This helps identify bottlenecks or areas needing improvement by revealing how long clients typically spend on each stage."
   ]
  },
  {
   "cell_type": "markdown",
   "id": "ce4d12ed",
   "metadata": {},
   "source": [
    "### **Results**\n",
    "\n",
    "| Step      | Average time (minutes) |\n",
    "|-----------|--------------------------|\n",
    "| Start     | 0.673287                 |\n",
    "| Step 1    | 0.813043                 |\n",
    "| Step 2    | 1.563080                 |\n",
    "| Step 3    | 2.144761                 |\n",
    "| Finish    | 0.320263                 |\n",
    "\n",
    "### **Conclusion:**  \n",
    "\n",
    "The average time analysis shows that Steps 2 and 3 require more client attention or effort, while Step 4 takes less time. This decrease at Step 4, the final step, could indicate areas for improvement in user experience or process completion, but further investigation is needed to understand what happens at this stage.  \n",
    "\n",
    "Optimizing Steps 2 and 3, which take the longest, may improve client engagement and overall process efficiency.  \n",
    "\n",
    "It’s important to note that defining what constitutes a \"step\" is subjective and can influence the analysis."
   ]
  },
  {
   "cell_type": "markdown",
   "id": "e07881de",
   "metadata": {},
   "source": [
    "![Image Description](../../visualizations/kpi_plots/barplot_avg_time_per_step.png)"
   ]
  },
  {
   "cell_type": "markdown",
   "id": "10eec552",
   "metadata": {},
   "source": [
    "![Image Description](../../visualizations/kpi_plots/lineplot_avg_time_per_step.png)\n"
   ]
  },
  {
   "cell_type": "markdown",
   "id": "38d6f779",
   "metadata": {},
   "source": [
    "## **KPIs - Error Rates**\n",
    "If there’s a step where users go back to a previous step, it may indicate confusion or an error. You should consider moving from a later step to an earlier one as an error."
   ]
  },
  {
   "cell_type": "markdown",
   "id": "68b23e9a",
   "metadata": {},
   "source": [
    "**How**\n",
    "\n",
    "The function `calculate_error_count(df)` processes a dataframe containing client visit data and calculates various error-related metrics. Specifically, it tracks instances where a client \"steps back\" in the process (e.g., when a client moves backward from a higher step number to a lower one within the same visit). The function calculates the total number of errors, error rates, and provides useful insights into how often clients make these backward steps during the process."
   ]
  },
  {
   "cell_type": "markdown",
   "id": "0e5338bd",
   "metadata": {},
   "source": [
    "### **Results**\n",
    "\n",
    "- Error rate (clients with errors): 29.95% of clients have at least one backward step during their visit. This means that nearly 30% of the clients in our dataset encountered some form of issue, where they moved backward in the process. This is a relatively high error rate, suggesting that a significant portion of clients are experiencing difficulties during their journey, which may require further investigation to improve the process.\n",
    "\n",
    "- Error rate (steps with errors): 8.13% of all steps across all visits are backward steps (errors). This shows that a small but noticeable percentage of the steps in the process are errors, meaning that clients are not always following the expected forward progression.\n",
    "While this percentage is not overwhelmingly high, it still represents a non-negligible proportion of the entire process, and further investigation could help optimize the flow.\n",
    "\n",
    "- Error rate per step: This is identical to the \"steps with errors\" rate because each step is either an error (backward movement) or not. Essentially, this shows that 8.13% of all individual steps across all visits are backward steps.\n",
    "This rate gives an overall picture of how often clients make errors during the entire process, not just at specific stages."
   ]
  },
  {
   "cell_type": "markdown",
   "id": "8806f3c4",
   "metadata": {},
   "source": [
    "![Image Description](../../visualizations/kpi_plots/piechart_error_clients.png)\n"
   ]
  },
  {
   "cell_type": "markdown",
   "id": "59b4eb15",
   "metadata": {},
   "source": [
    "![Image Description](../../visualizations/kpi_plots/lineplot_error_rate_per_step.png)\n"
   ]
  },
  {
   "cell_type": "markdown",
   "id": "14460d9c",
   "metadata": {},
   "source": [
    "## Day 4 (Week 5)"
   ]
  },
  {
   "cell_type": "markdown",
   "id": "19277d9f",
   "metadata": {},
   "source": [
    "Confirm if the difference in completion rate of the the new design and the old design is statistically significant.\n",
    "Given the data and KPIs you have explored discussed, one interesting hypothesis to test is related to the completion rate between the Test and Control groups. Since the new design (Test group) had a higher completion rate compared to the old design (Control group), you are required to confirm if this difference is statistically significant.\n",
    "\n"
   ]
  },
  {
   "cell_type": "markdown",
   "id": "97996736",
   "metadata": {},
   "source": [
    "### **Results**\n",
    "\n",
    "#### **Control Variation**\n",
    "\n",
    "Completion Rate: Clients who finished the process: 65.6% (15428 out ouf 23526).\n",
    "\n",
    "Total number of errors across all clients: 9576\n",
    "\n",
    "Median time spent across all steps: 0.88 minutes\n",
    "\n",
    "| Step | Average Time (Minutes) |\n",
    "|------|------------------------|\n",
    "| 0    | 0.00                   |\n",
    "| 1    | 0.40                   |\n",
    "| 2    | 1.15                   |\n",
    "| 3    | 1.70                   |\n",
    "| 4    | 0.92                   |\n",
    "\n",
    "\n",
    "#### **Test Variation**\n",
    "\n",
    "Completion Rate: Clients who finished the process: 69.3% (18682 out ouf 26961).\n",
    "\n",
    "Total number of errors across all clients: 16229\n",
    "\n",
    "Median time spent across all steps: 1.18 minutes\n",
    "\n",
    "| Step | Average Time (Minutes) |\n",
    "|------|------------------------|\n",
    "| 0    | 0.00                   |\n",
    "| 1    | 0.40                   |\n",
    "| 2    | 1.15                   |\n",
    "| 3    | 1.70                   |\n",
    "| 4    | 0.92                   |"
   ]
  },
  {
   "cell_type": "markdown",
   "id": "6194c06f",
   "metadata": {},
   "source": [
    "![Image Description](../../visualizations/kpi_plots/barplot_completion_rate_variations.png)\n"
   ]
  },
  {
   "cell_type": "markdown",
   "id": "757af5a7",
   "metadata": {},
   "source": [
    "![Image Description](../../visualizations/kpi_plots/piechart_completion_rate_variations.png)"
   ]
  },
  {
   "cell_type": "markdown",
   "id": "9e3df63f",
   "metadata": {},
   "source": [
    "![Image Description](../../visualizations/kpi_plots/barplot_error_count_per_variation.png)\n"
   ]
  },
  {
   "cell_type": "markdown",
   "id": "804497ba",
   "metadata": {},
   "source": [
    "## Completion Rate with a Cost-Effectiveness Threshold\n",
    "\n",
    "### Hypotheses:\n",
    "\n",
    "- **Null Hypothesis (H0)**: The completion rate for the new design (Test group) is **equal to or better than** the completion rate for the old design (Control group), with a 5% improvement.\n",
    "  \n",
    "- **Alternative Hypothesis (Ha)**: The completion rate for the new design (Test group) is **worse than** the completion rate for the old design (Control group), even with the 5% improvement.\n",
    "\n",
    "### Z-Statistic Formula:\n",
    "\n",
    "The **Z-statistic** is used to measure how much the difference between the Test group and the Control group is, adjusted for a 5% improvement. It helps us determine if the difference is big enough to be real and not just random.\n",
    "\n",
    "$$\n",
    "Z = \\frac{(p_1 - p_2 - 0.05)}{\\sqrt{p \\cdot (1 - p) \\left( \\frac{1}{n_1} + \\frac{1}{n_2} \\right)}}\n",
    "$$\n"
   ]
  },
  {
   "cell_type": "markdown",
   "id": "9bf812b2",
   "metadata": {},
   "source": [
    "## Hypothesis Test Results\n",
    "\n",
    "- **Completion Rates**:\n",
    "   - The completion rate for the Control group (old design) is 0.6558, which means about 65.58% of clients completed the process.\n",
    "   - The completion rate for the Test group (new design) is 0.6929, which means about 69.29% of clients completed the process.\n",
    "\n",
    "- **Z-statistic**:\n",
    "   - The Z-statistic of -3.0786 tells us how much the difference between the Test and Control groups stands out from what we would expect if both designs were the same.\n",
    "   - A negative value means **the Test group has a lower completion rate**, which is what we are testing in this case. The more extreme (negative or positive) the value, the stronger the evidence against the null hypothesis.\n",
    "\n",
    "- **P-value**:\n",
    "   - The P-value of 0.0010 is very small (less than 0.05), meaning there is strong evidence to reject the null hypothesis.\n",
    "   - This suggests that **the difference between the Test and Control group is statistically significant**, and the Test group has a significantly lower completion rate than the Control group after adjusting for the 5% improvement.\n",
    "\n",
    "#### Conclusion\n",
    "- The new design (Test group) has a lower completion rate than the old design (Control group), and this result is statistically significant. \n",
    "- The P-value of 0.0010 tells us this difference is unlikely to have happened by chance.\n"
   ]
  },
  {
   "cell_type": "markdown",
   "metadata": {},
   "source": [
    "![alt text](../../visualizations/kpi_plots/completion_rate_hypotheses_distribution.png)"
   ]
  },
  {
   "cell_type": "markdown",
   "id": "f2826163",
   "metadata": {},
   "source": [
    "## Day 4 (Week 5)"
   ]
  },
  {
   "cell_type": "markdown",
   "id": "b38ae5f6",
   "metadata": {},
   "source": [
    "## **Design Efectiveness Analysis**"
   ]
  },
  {
   "cell_type": "markdown",
   "id": "e8da3b0d",
   "metadata": {},
   "source": [
    "### Key Questions:\n",
    "- Was the experiment well-structured?  \n",
    "- Were appropriate methods used to test the hypothesis?\n",
    "- Were customers randomly assigned to the control (old design) and test (new design) groups to ensure fairness? (Client Allocation)\n",
    "- Were there any factors that could have influenced the allocation or results unfairly? (Bias check)\n"
   ]
  },
  {
   "cell_type": "markdown",
   "id": "2cc1bbc0",
   "metadata": {},
   "source": [
    "# ANOVA Results\n",
    "\n",
    "We performed an ANOVA to compare the balance values across three groups: *Control*, *Test*, and *Unknown*.\n",
    "\n",
    "#### What Are \"Balance Values\"?\n",
    "\n",
    "Balance values represent the amount of something (like money or points) that people in different groups (Control, Test, Unknown) have. We compare these amounts to see if one group has significantly more or less than the others.\n",
    "\n",
    "### Results\n",
    "- **F-statistic**: 24.348  \n",
    "- **p-value**: 2.67e-11  \n",
    "\n",
    "#### Interpretation\n",
    "- The **F-statistic** measures how much the group means differ relative to the variability within the groups. A higher value indicates larger differences between groups.\n",
    "- The very small **p-value** (< 0.05) suggests that there is a statistically significant difference in \"balance\" between at least two groups.\n",
    "\n",
    "\n",
    "ANOVA shows that differences exist, but it doesn't tell us which groups differ. To find out, the next step is to perform a  **Tukey’s HSD test** to compare all pairs of groups."
   ]
  },
  {
   "cell_type": "markdown",
   "id": "de8e8e9d",
   "metadata": {},
   "source": [
    "# Descriptive Statistics by Group"
   ]
  },
  {
   "cell_type": "markdown",
   "id": "8815af1e",
   "metadata": {},
   "source": [
    "![alt text](../../visualizations/experiment_evaluation/account_balance_by_variation.png)"
   ]
  },
  {
   "cell_type": "markdown",
   "id": "5f50b2f5",
   "metadata": {},
   "source": [
    "![alt text](../../visualizations/experiment_evaluation/year_tenure_by_variation.png)"
   ]
  },
  {
   "cell_type": "markdown",
   "id": "c008f00d",
   "metadata": {},
   "source": [
    "![alt text](../../visualizations/experiment_evaluation/customer_age_by_variation.png)"
   ]
  },
  {
   "cell_type": "markdown",
   "id": "4b7abd55",
   "metadata": {},
   "source": [
    "![alt text](../../visualizations/experiment_evaluation/account_balance_by_variation.png)"
   ]
  },
  {
   "cell_type": "markdown",
   "id": "95b0d607",
   "metadata": {},
   "source": [
    "# Tukey HSD Test Results\n",
    "\n",
    "The Tukey HSD test was performed to compare the balance values between the three groups: **Control**, **Test**, and **Unknown**. This will identify the specific pairs with significant differences and provide p-values for each, and to pinpoint the exact group comparisons driving the significant ANOVA result.\n",
    "\n",
    "Here's a summary of the findings:\n",
    "\n",
    "#### Results\n",
    "| Group 1   | Group 2   | Mean Difference | p-value | 95% Confidence Interval       | Significant? |\n",
    "|-----------|-----------|-----------------|---------|-------------------------------|--------------|\n",
    "| Control   | Test      | 3432.54         | 0.0118  | [618.30, 6246.77]             | Yes          |\n",
    "| Control   | Unknown   | -5195.64        | 0.0002  | [-8246.02, -2145.27]          | Yes          |\n",
    "| Test      | Unknown   | -8628.18        | 0.0000  | [-11526.76, -5729.60]         | Yes          |\n",
    "\n",
    "\n",
    "### Interpretation\n",
    "1. Control vs. Test:  \n",
    "   - The mean difference is **3432.54**, with a p-value of **0.0118**.  \n",
    "   - The confidence interval does not include 0, and the result is statistically significant.  \n",
    "   - This means there is a significant difference in balance between the **Control** and **Test** groups.\n",
    "\n",
    "2. Control vs. Unknown:  \n",
    "   - The mean difference is **-5195.64**, with a p-value of **0.0002**.  \n",
    "   - The confidence interval does not include 0, and the result is statistically significant.  \n",
    "   - This shows a significant difference in balance between the **Control** and **Unknown** groups.\n",
    "\n",
    "3. Test vs. Unknown:  \n",
    "   - The mean difference is **-8628.18**, with a p-value of **0.0000**.  \n",
    "   - The confidence interval does not include 0, and the result is statistically significant.  \n",
    "   - This indicates a significant difference in balance between the **Test** and **Unknown** groups.\n"
   ]
  },
  {
   "cell_type": "markdown",
   "id": "de6df619",
   "metadata": {},
   "source": [
    "![alt text](../../visualizations/experiment_evaluation/tukey_HSD_balance_by_variation.png)"
   ]
  },
  {
   "cell_type": "markdown",
   "id": "e14e3c02",
   "metadata": {},
   "source": [
    "### **Conclusion 1:**\n",
    "\n",
    "All pairwise comparisons show statistically significant differences in balance between the groups:\n",
    "- Control vs. Test\n",
    "- Control vs. Unknown\n",
    "- Test vs. Unknown\n",
    "\n",
    "This confirms that balance values vary significantly between all groups."
   ]
  },
  {
   "cell_type": "markdown",
   "id": "11295732",
   "metadata": {},
   "source": [
    "### **Conclusion 2:**\n",
    "\n",
    "- Significant Differences Between Groups:\n",
    "   - ANOVA results show statistically significant differences in average balances among groups (p-value ≈ 2.67e-11).\n",
    "   - Tukey's post-hoc test identifies the specific group comparisons with significant differences:\n",
    "     - **Control vs Test**: The Test group has significantly higher average balances compared to the Control group (meandiff ≈ 3432.54).\n",
    "     - **Control vs Unknown**: The Unknown group has significantly lower average balances compared to the Control group (meandiff ≈ -5195.64).\n",
    "     - **Test vs Unknown**: The Unknown group has significantly lower average balances compared to the Test group (meandiff ≈ -8628.18).\n",
    "\n",
    "- Visualization Insights:\n",
    "   - Tukey's plot shows that the Test group has the highest average balance, the Control group is in the middle, and the Unknown group has the lowest average.\n",
    "   - Error bars do not overlap significantly, supporting the statistical findings.\n",
    "\n",
    "#### Interpretation:\n",
    "- The analysis indicates that the groups are not balanced in terms of their average initial balances. This imbalance, particularly the significantly lower average for the Unknown group, may affect the fairness of the experiment.\n",
    "- Differences in initial balances might influence participant behavior, potentially impacting the experimental outcomes.\n",
    "\n",
    "#### Implications for the Experiment:\n",
    "- Experimental Design:\n",
    "   - The disparity in initial balances could bias results and should be accounted for in future analyses.\n",
    "   - Controlling or adjusting for these differences (e.g., through statistical techniques like ANCOVA) is recommended to ensure a clearer understanding of the experimental effects.\n",
    "\n",
    "- Follow-up Suggestions:\n",
    "   - Investigate if other variables (e.g., customer tenure or number of accounts) also show similar imbalances.\n",
    "   - Consider redesigning the experiment to ensure more homogeneous group assignments or apply statistical adjustments for existing disparities.\n",
    "\n",
    "#### Summary:\n",
    "\n",
    "While the results highlight significant differences between groups, the initial imbalances in average balances must be considered to accurately interpret the experimental findings. Adjustments or redesign may be necessary to ensure robust conclusions.\n"
   ]
  },
  {
   "cell_type": "markdown",
   "id": "31208502",
   "metadata": {},
   "source": [
    "## Day 5 (Week 5)"
   ]
  },
  {
   "cell_type": "markdown",
   "id": "8c8d20a5",
   "metadata": {},
   "source": [
    "## **A/B Test**\n",
    "\n",
    " When analyzing the results of an A/B test (where you compare two versions of a product or design), you're required to ensure that the new design (Test ) improves the completion rate by at least 5% compared to the current version (Control).\n",
    " \n",
    " We performed an analysis to compare the completion rates between a Test Group and a Control Group using a Z-test for proportions."
   ]
  },
  {
   "cell_type": "markdown",
   "id": "9a3b4234",
   "metadata": {},
   "source": [
    "### 1. Data Cleaning:  \n",
    "\n",
    "The code removes duplicate rows from `test_df` and `control_df` based on `client_id` and `visitor_id`, ensuring each pair appears only once. Next, it standardizes the `completion_count` variable to binary (0 or 1) using a lambda function: values greater than 0 are set to 1 (indicating completion), and 0 or less remains 0 (no completion). This ensures clean, consistent data for analysis."
   ]
  },
  {
   "cell_type": "markdown",
   "id": "7bd867f4",
   "metadata": {},
   "source": [
    "### 2. Calculate Completions and Sample Size  \n",
    "\n",
    "The code calculates:  \n",
    "\n",
    "- **Completions:**  \n",
    "  - `test_completions`: Total completions in the Test Group (sum of `completion_count` in `test_df_cleaned`).  \n",
    "  - `control_completions`: Total completions in the Control Group (sum of `completion_count` in `control_df_cleaned`).  \n",
    "\n",
    "- **Sample Size:**  \n",
    "  - `test_size`: Number of rows in `test_df_cleaned`.  \n",
    "  - `control_size`: Number of rows in `control_df_cleaned`.  "
   ]
  },
  {
   "cell_type": "markdown",
   "id": "fcedf904",
   "metadata": {},
   "source": [
    "### 3. Calculate Completion Rates  \n",
    "\n",
    "The code calculates the completion rate for each group as:  \n",
    "\n",
    "- **Test Completion Rate:** `test_completion_rate = test_completions / test_size`.  \n",
    "- **Control Completion Rate:** `control_completion_rate = control_completions / control_size`.  \n",
    "\n",
    "Both rates are printed as percentages, rounded to two decimal places."
   ]
  },
  {
   "cell_type": "markdown",
   "id": "2e25049c",
   "metadata": {},
   "source": [
    "### 4. Check for Valid Completion Rates  \n",
    "\n",
    "The code checks if either completion rate is 0 or 1, as this would indicate that all participants either completed or did not complete the action. A rate of 0 or 1 results in a standard error of 0, making the Z-test invalid. If this occurs, the code prints a message and skips the Z-test due to invalid completion rates."
   ]
  },
  {
   "cell_type": "markdown",
   "id": "31661b6f",
   "metadata": {},
   "source": [
    "### 5. Perform Z-Test for Proportions  \n",
    "\n",
    "The Z-test checks if the difference in completion rates between the Test and Control Groups is **statistically significant** (i.e., not just due to random chance).  \n",
    "\n",
    "Here’s the process:  \n",
    "\n",
    "1. **Combine the Groups:**  \n",
    "   Calculate the overall completion rate for both groups combined (the \"pooled proportion\").  \n",
    "\n",
    "2. **Calculate Standard Error (SE):**  \n",
    "   The SE measures how much completion rates can vary. A small SE indicates similar groups, while a larger SE suggests more difference.  \n",
    "\n",
    "3. **Validate SE:**  \n",
    "   If the SE can’t be calculated (due to extreme data), the test is skipped and an error is shown.  \n",
    "\n",
    "4. **Calculate Z-Score:**  \n",
    "   The Z-score compares the difference between the two groups to the SE, showing how significant the difference is.  \n",
    "\n",
    "5. **Find P-Value:**  \n",
    "   The p-value shows the likelihood that the observed difference is due to chance. If the p-value is below 0.05, the difference is considered **statistically significant**.  \n",
    "\n",
    "In summary, the Z-test determines if the difference between the groups is large enough to be considered meaningful and not random."
   ]
  },
  {
   "cell_type": "markdown",
   "id": "ad40f155",
   "metadata": {},
   "source": [
    "### 6. Check Statistical Significance  \n",
    "\n",
    "The code compares the p-value to the significance level (alpha = 0.05, or 95% confidence). If the p-value is less than 0.05, the difference between the completion rates is considered statistically significant, and the code prints a message confirming this. If the p-value is greater than 0.05, the difference is not statistically significant, and the code prints a message indicating this."
   ]
  },
  {
   "cell_type": "markdown",
   "id": "a4e0a696",
   "metadata": {},
   "source": [
    "![alt text](../../visualizations/abtest_score_zvalue_pvalue.png)"
   ]
  },
  {
   "cell_type": "markdown",
   "id": "624ebd17",
   "metadata": {},
   "source": [
    "![alt text](../../visualizations/abtest_completion_rates.png)"
   ]
  },
  {
   "cell_type": "markdown",
   "id": "965c72a4",
   "metadata": {},
   "source": [
    "### **Conclusions**\n",
    "\n",
    "#### Completion Rate Comparison:  \n",
    "- **Test Group:** 69.77% completion rate  \n",
    "- **Control Group:** 65.90% completion rate  \n",
    "\n",
    "The **test group** (new design) outperformed the **control group** (old design), suggesting the new design encourages more completions.\n",
    "\n",
    "#### Statistical Significance:  \n",
    "- **Z-score:** 9.82  \n",
    "- **P-value:** 0.0000  \n",
    "\n",
    "The **Z-score** is high, and the **p-value** is very low, indicating the difference is **statistically significant** and not due to chance.\n",
    "\n",
    "#### Hypothesis Testing:  \n",
    "- The **null hypothesis** (no difference) is **rejected**.  \n",
    "- The **alternative hypothesis** (test group performs better) is **accepted**.\n",
    "\n",
    "#### Practical Implications:  \n",
    "- The new design appears to be **more effective** and is likely the better option.  \n",
    "- The large difference suggests the result is **reliable** and not random.\n",
    "\n",
    "#### Confidence Interval:  \n",
    "The 95% confidence interval shows the true difference is unlikely to be zero, confirming the result’s reliability.\n",
    "\n",
    "#### Next Steps:  \n",
    "1. **Implement the new design**: Given the positive results, consider adopting it.  \n",
    "2. **Evaluate costs**: Assess whether the improved completion rate justifies any additional costs.  \n",
    "3. **Continue testing**: Perform further tests to ensure consistent results across different users or situations.\n",
    "\n",
    "#### Final Takeaway:  \n",
    "The new design leads to more completions and the result is statistically significant. If the benefits outweigh the costs, proceed with implementing it."
   ]
  },
  {
   "cell_type": "markdown",
   "id": "9b4cec05",
   "metadata": {},
   "source": [
    "## Day 5 (Week 5)"
   ]
  },
  {
   "cell_type": "markdown",
   "id": "14b6b6b2",
   "metadata": {},
   "source": [
    "## **Hypotheses**\n",
    "\n",
    "- *H0* - Null Hypothesis: The average tenure of clients in the Test group equals the average in the Control group.\n",
    "- *H1* - Alternative Hypothesis: The average tenure of clients in the Test group is not equal to the average in the Control group.\n",
    "\n",
    "\n",
    "$$H0: mean_test = mean_control$$\n",
    "$$H1: mean_test ≠ mean_control$$\n",
    "\n",
    "\n",
    "#### Data Summary\n",
    "\n",
    "| Group       | Mean (Years) | Std Dev (Years) | Sample Size |\n",
    "|-------------|--------------|-----------------|-------------|\n",
    "| Control     | 12.088       | 6.878           | 23,526      |\n",
    "| Test        | 11.983       | 6.845           | 26,961      |\n",
    "\n",
    "\n",
    "#### Conclusion\n",
    "\n",
    "- *H0* - Null Hypothesis is sustained: The average client tenure is similar for both groups.\n",
    "- *H1* - Alternative Hypothesis is not sustained: No significant difference in average tenure between the groups.\n"
   ]
  },
  {
   "cell_type": "markdown",
   "id": "8bfe23f9",
   "metadata": {},
   "source": []
  }
 ],
 "metadata": {
  "kernelspec": {
   "display_name": ".venv",
   "language": "python",
   "name": "python3"
  },
  "language_info": {
   "codemirror_mode": {
    "name": "ipython",
    "version": 3
   },
   "file_extension": ".py",
   "mimetype": "text/x-python",
   "name": "python",
   "nbconvert_exporter": "python",
   "pygments_lexer": "ipython3",
   "version": "3.12.3"
  }
 },
 "nbformat": 4,
 "nbformat_minor": 5
}
