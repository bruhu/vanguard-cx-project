{
 "cells": [
  {
   "cell_type": "code",
<<<<<<< HEAD
   "execution_count": null,
=======
   "execution_count": 2,
>>>>>>> bru
   "id": "e41f0867-d3d4-403a-9354-01d382affd07",
   "metadata": {},
   "outputs": [],
   "source": [
    "import pandas as pd\n",
    "import numpy as np\n",
    "import matplotlib.pyplot as plt\n",
    "import seaborn as sns\n",
    "import re\n",
    "import sys"
   ]
  },
  {
   "cell_type": "code",
<<<<<<< HEAD
   "execution_count": null,
=======
   "execution_count": 3,
>>>>>>> bru
   "id": "9232e67c-cc77-46cb-afe9-16392563e2fd",
   "metadata": {},
   "outputs": [],
   "source": [
    "# import reusable functions from utils directory\n",
    "sys.path.append('../../utils')\n",
    "import functions"
   ]
  },
  {
   "cell_type": "markdown",
   "id": "f086aa71-9652-4b1e-966b-76e0428cbced",
   "metadata": {},
   "source": [
    "# **Cleaning Data Conclusions**"
   ]
  },
  {
   "cell_type": "markdown",
   "id": "8844cbbc-dd09-4ecd-86ce-9f1e0e2add5c",
   "metadata": {},
   "source": [
    "## Day 2\n",
    "- `merged_final_demo_final_experiment_clients_df`"
   ]
  },
  {
   "cell_type": "markdown",
   "id": "ab8474fe-6a12-4533-b883-767655d3016a",
   "metadata": {},
   "source": [
    "# Final Demo + Final Experiment Clients (Merged DataFrame)"
   ]
  },
  {
   "cell_type": "code",
<<<<<<< HEAD
   "execution_count": null,
   "id": "0adf257c-111c-4aec-87ef-a511c55db37f",
   "metadata": {},
   "outputs": [],
=======
   "execution_count": 4,
   "id": "0adf257c-111c-4aec-87ef-a511c55db37f",
   "metadata": {},
   "outputs": [
    {
     "data": {
      "text/html": [
       "<div>\n",
       "<style scoped>\n",
       "    .dataframe tbody tr th:only-of-type {\n",
       "        vertical-align: middle;\n",
       "    }\n",
       "\n",
       "    .dataframe tbody tr th {\n",
       "        vertical-align: top;\n",
       "    }\n",
       "\n",
       "    .dataframe thead th {\n",
       "        text-align: right;\n",
       "    }\n",
       "</style>\n",
       "<table border=\"1\" class=\"dataframe\">\n",
       "  <thead>\n",
       "    <tr style=\"text-align: right;\">\n",
       "      <th></th>\n",
       "      <th>client_id</th>\n",
       "      <th>client_tenure_years</th>\n",
       "      <th>client_tenure_months</th>\n",
       "      <th>client_age</th>\n",
       "      <th>gender</th>\n",
       "      <th>num_accounts</th>\n",
       "      <th>balance</th>\n",
       "      <th>calls_last_6_months</th>\n",
       "      <th>logons_last_6_months</th>\n",
       "      <th>variation</th>\n",
       "    </tr>\n",
       "  </thead>\n",
       "  <tbody>\n",
       "    <tr>\n",
       "      <th>0</th>\n",
       "      <td>836976</td>\n",
       "      <td>6</td>\n",
       "      <td>73</td>\n",
       "      <td>60</td>\n",
       "      <td>Unspecified</td>\n",
       "      <td>2</td>\n",
       "      <td>45105.30</td>\n",
       "      <td>6</td>\n",
       "      <td>9</td>\n",
       "      <td>Test</td>\n",
       "    </tr>\n",
       "    <tr>\n",
       "      <th>1</th>\n",
       "      <td>2304905</td>\n",
       "      <td>7</td>\n",
       "      <td>94</td>\n",
       "      <td>58</td>\n",
       "      <td>Unspecified</td>\n",
       "      <td>2</td>\n",
       "      <td>110860.30</td>\n",
       "      <td>6</td>\n",
       "      <td>9</td>\n",
       "      <td>Control</td>\n",
       "    </tr>\n",
       "    <tr>\n",
       "      <th>2</th>\n",
       "      <td>1439522</td>\n",
       "      <td>5</td>\n",
       "      <td>64</td>\n",
       "      <td>32</td>\n",
       "      <td>Unspecified</td>\n",
       "      <td>2</td>\n",
       "      <td>52467.79</td>\n",
       "      <td>6</td>\n",
       "      <td>9</td>\n",
       "      <td>Test</td>\n",
       "    </tr>\n",
       "    <tr>\n",
       "      <th>3</th>\n",
       "      <td>1562045</td>\n",
       "      <td>16</td>\n",
       "      <td>198</td>\n",
       "      <td>49</td>\n",
       "      <td>Male</td>\n",
       "      <td>2</td>\n",
       "      <td>67454.65</td>\n",
       "      <td>3</td>\n",
       "      <td>6</td>\n",
       "      <td>Test</td>\n",
       "    </tr>\n",
       "    <tr>\n",
       "      <th>4</th>\n",
       "      <td>5126305</td>\n",
       "      <td>12</td>\n",
       "      <td>145</td>\n",
       "      <td>33</td>\n",
       "      <td>Female</td>\n",
       "      <td>2</td>\n",
       "      <td>103671.75</td>\n",
       "      <td>0</td>\n",
       "      <td>3</td>\n",
       "      <td>Control</td>\n",
       "    </tr>\n",
       "  </tbody>\n",
       "</table>\n",
       "</div>"
      ],
      "text/plain": [
       "   client_id  client_tenure_years  client_tenure_months  client_age  \\\n",
       "0     836976                    6                    73          60   \n",
       "1    2304905                    7                    94          58   \n",
       "2    1439522                    5                    64          32   \n",
       "3    1562045                   16                   198          49   \n",
       "4    5126305                   12                   145          33   \n",
       "\n",
       "        gender  num_accounts    balance  calls_last_6_months  \\\n",
       "0  Unspecified             2   45105.30                    6   \n",
       "1  Unspecified             2  110860.30                    6   \n",
       "2  Unspecified             2   52467.79                    6   \n",
       "3         Male             2   67454.65                    3   \n",
       "4       Female             2  103671.75                    0   \n",
       "\n",
       "   logons_last_6_months variation  \n",
       "0                     9      Test  \n",
       "1                     9   Control  \n",
       "2                     9      Test  \n",
       "3                     6      Test  \n",
       "4                     3   Control  "
      ]
     },
     "execution_count": 4,
     "metadata": {},
     "output_type": "execute_result"
    }
   ],
>>>>>>> bru
   "source": [
    "final_demo_df = pd.read_csv('../../data/clean/merged_final_demo_final_experiment_clients_df.csv')\n",
    "final_demo_df.head()"
   ]
  },
  {
   "cell_type": "code",
<<<<<<< HEAD
   "execution_count": null,
=======
   "execution_count": 5,
>>>>>>> bru
   "id": "83448d39-9a60-48e9-bae7-5f4ffda7754e",
   "metadata": {},
   "outputs": [],
   "source": [
    "# functions.inspect_dataframe(final_demo_df)"
   ]
  },
  {
   "cell_type": "code",
<<<<<<< HEAD
   "execution_count": null,
=======
   "execution_count": 6,
>>>>>>> bru
   "id": "28826f7e-5035-4cb8-91df-436548a2fce6",
   "metadata": {},
   "outputs": [],
   "source": [
    "functions.check_unique_and_empty(final_demo_df)"
   ]
  },
  {
   "cell_type": "markdown",
   "id": "214e4c36-3bdf-469b-b0e0-5cd415dc42dc",
   "metadata": {},
   "source": [
    "### Table Overview\n",
    "\n",
    "**Rows:**\n",
    "\n",
    "- `client_id (int)`: A unique identifier for each client, used to distinguish one client from another in the dataset.\n",
    "- `client_tenure_years (int)`: The number of years a client has been associated with the company. For example, a client with client_tenure_years = 6 has been with the company for 6 years.\n",
    "- `client_tenure_months (int)`: The number of months a client has been associated with the company. This value is often more granular than client_tenure_years and could be used for more detailed analysis. For instance, a tenure of 6 years and 1 month would be represented as 73 months.\n",
    "- `client_age (int)`: The age of the client in years.\n",
    "- `gender`: The gender of the client. The value can be \"Male,\" \"Female,\" or \"Unspecified,\" meaning the gender data is either recorded or missing.\n",
    "- `num_accounts (int)`: The number of accounts the client has with the company.\n",
    "- `balance (float)`: The total balance of the client's accounts with the company. This is a monetary value, and the balance can indicate how much money the client holds across their accounts.\n",
    "- `calls_last_6_months (int)`: The number of calls the client has made to the company in the past six months. This can give an idea of how actively the client has engaged with the company.\n",
    "- `logons_last_6_months (int)`: The number of times the client has logged into their account or interacted with the company online in the past six months.\n",
    "- `variation (object)`: This column likely indicates whether the client is part of a control group or a test group for an experiment. In this case, clients are either labeled as \"Test\", \"Control\", or \"Unknown\"."
   ]
  },
  {
   "cell_type": "markdown",
   "id": "d05c3c51-9f2a-4781-bcc0-8e82768d18fd",
   "metadata": {},
   "source": [
    "## Day 1 & 2 (Week 5)"
   ]
  },
  {
   "cell_type": "code",
   "execution_count": null,
   "id": "3543d3fe",
   "metadata": {},
   "outputs": [],
   "source": []
  },
  {
   "cell_type": "markdown",
   "id": "70105c37-c2c9-4d25-94c5-02a50e71f6ff",
   "metadata": {},
   "source": [
    "### **Client behavior analysis**\n",
    "\n",
    "Answer the following questions about demographics:\n",
    "\n",
    "- Who are the primary clients using this online process?\n",
    "- Are the primary clients younger or older, new or long-standing?\n",
    "- Next, carry out a client behaviour analysis to answer any additional relevant questions you think are important."
   ]
  },
  {
   "cell_type": "code",
<<<<<<< HEAD
   "execution_count": null,
=======
   "execution_count": 7,
>>>>>>> bru
   "id": "9c3bb673-d8da-4488-a202-b1f0107af8cf",
   "metadata": {},
   "outputs": [],
   "source": [
    "# Step 1: Analyze Active Clients using the online process\n",
    "\n",
    "# assuming active clients are those with more than 10 logons in the last 6 months and more than 3 accounts\n",
    "active_clients = final_demo_df[(final_demo_df['logons_last_6_months'] > 10) & (final_demo_df['num_accounts'] > 3)]\n",
    "\n",
    "# Step 2: Are the primary clients younger or older?\n",
    "\n",
    "average_age = final_demo_df['client_age'].mean()\n",
    "\n",
    "# age distribution to visualize client ages\n",
    "plt.figure(figsize=(8, 6))\n",
    "sns.histplot(final_demo_df['client_age'], kde=True, color=\"blue\", bins=10)\n",
    "plt.title('Client Age Distribution')\n",
    "plt.xlabel('Age')\n",
    "plt.ylabel('Frequency')\n",
    "plt.show()\n",
    "\n",
    "# Step 3: Are the primary clients newer or long-standing?\n",
    "# Calculate the average tenure (in years)\n",
    "average_tenure = final_demo_df['client_tenure_years'].mean()\n",
    "\n",
    "# Plot the tenure distribution to visualize how long clients have been with the service\n",
    "plt.figure(figsize=(8, 6))\n",
    "sns.histplot(final_demo_df['client_tenure_years'], kde=True, color='green', bins=10)\n",
    "plt.title('Client Tenure Distribution (in years)')\n",
    "plt.xlabel('Year duration')\n",
    "plt.ylabel('Frequency')\n",
    "plt.show()\n",
    "\n",
    "# Step 4: Drawing Conclusions\n",
    "\n",
    "# 1. Active clients using the online process\n",
    "print('Active clients (higher logons and accounts):')\n",
    "print(active_clients)\n",
    "\n",
    "# 2. Average age of clients\n",
    "print(f'Average client age: {average_age:.2f} years')\n",
    "\n",
    "# 3. Average client tenure (years)\n",
    "print(f'Average client tenure: {average_tenure:.2f} years')\n",
    "\n",
    "# conclusions:\n",
    "if average_age < 40:\n",
    "    print('Conclusion: The primary clients are generally younger (under 40 years old).')\n",
    "else:\n",
    "    print('Conclusion: The primary clients are generally older (above 40 years old).')\n",
    "\n",
    "if average_tenure < 3:\n",
    "    print('Conclusion: The primary clients are generally newer (under 3 years).')\n",
    "else:\n",
    "    print('Conclusion: The primary clients are generally long-standing (over 3 years).')"
   ]
  },
  {
   "cell_type": "markdown",
   "id": "24c541d3-ca70-46a3-8f25-ec30dd0e7114",
   "metadata": {},
   "source": [
    "## Day 3 (Week 5)"
   ]
  },
  {
   "cell_type": "markdown",
   "id": "7c05f8c3-8251-4746-b4ef-4834e8bac8a5",
   "metadata": {},
   "source": [
    "### **Performance Metrics**\n",
    "\n",
    "**Success Indicators**\n",
    "\n",
    "You have now been asked to discover what key performance indicators (KPIs) will determine the success of the new design? Use at least completion rate, time spent on each step and error rates. Add any KPIs you might find relevant.\n",
    "\n",
    "- **Completion Rate:** The proportion of users who reach the final ‘confirm’ step.\n",
    "- **Time Spent on Each Step:** The average duration users spend on each step.\n",
    "- **Error Rates:** If there’s a step where users go back to a previous step, it may indicate confusion or an error. You should consider moving from a later step to an earlier one as an error."
   ]
<<<<<<< HEAD
  },
  {
   "cell_type": "code",
   "execution_count": null,
   "id": "1cac320a-2b44-4558-bb72-196304a64d30",
   "metadata": {},
   "outputs": [],
   "source": [
    "df = pd.read_csv('../../data/clean/final_demo_df_clean.csv')\n",
    "df"
   ]
  },
  {
   "cell_type": "code",
   "execution_count": null,
   "id": "437e9a0a-c071-49ba-be03-f8ba0d7705dd",
   "metadata": {},
   "outputs": [],
   "source": []
=======
>>>>>>> bru
  }
 ],
 "metadata": {
  "kernelspec": {
   "display_name": ".venv",
   "language": "python",
   "name": "python3"
  },
  "language_info": {
   "codemirror_mode": {
    "name": "ipython",
    "version": 3
   },
   "file_extension": ".py",
   "mimetype": "text/x-python",
   "name": "python",
   "nbconvert_exporter": "python",
   "pygments_lexer": "ipython3",
   "version": "3.12.3"
  }
 },
 "nbformat": 4,
 "nbformat_minor": 5
}
