{
 "cells": [
  {
   "cell_type": "code",
   "execution_count": null,
   "id": "e41f0867-d3d4-403a-9354-01d382affd07",
   "metadata": {},
   "outputs": [],
   "source": [
    "import pandas as pd\n",
    "import numpy as np\n",
    "import matplotlib.pyplot as plt\n",
    "import seaborn as sns\n",
    "import re\n",
    "import sys"
   ]
  },
  {
   "cell_type": "code",
   "execution_count": null,
   "id": "9232e67c-cc77-46cb-afe9-16392563e2fd",
   "metadata": {},
   "outputs": [],
   "source": [
    "# import reusable functions from utils directory\n",
    "sys.path.append('../../utils')\n",
    "import my_utils"
   ]
  },
  {
   "cell_type": "markdown",
   "id": "f086aa71-9652-4b1e-966b-76e0428cbced",
   "metadata": {},
   "source": [
    "# **Cleaning Data Conclusions**"
   ]
  },
  {
   "cell_type": "markdown",
   "id": "8844cbbc-dd09-4ecd-86ce-9f1e0e2add5c",
   "metadata": {},
   "source": [
    "## Day 2\n",
    "- `merged_final_demo_final_experiment_clients_df`"
   ]
  },
  {
   "cell_type": "markdown",
   "id": "ab8474fe-6a12-4533-b883-767655d3016a",
   "metadata": {},
   "source": [
    "# Final Demo + Final Experiment Clients (Merged DataFrame)"
   ]
  },
  {
   "cell_type": "code",
   "execution_count": null,
   "id": "0adf257c-111c-4aec-87ef-a511c55db37f",
   "metadata": {},
   "outputs": [],
   "source": [
    "final_demo_df = pd.read_csv('../../data/clean/merged_final_demo_final_experiment_clients_df.csv')\n",
    "final_demo_df.head()"
   ]
  },
  {
   "cell_type": "code",
   "execution_count": null,
   "id": "83448d39-9a60-48e9-bae7-5f4ffda7754e",
   "metadata": {},
   "outputs": [],
   "source": [
    "my_utils.inspect_dataframe(final_demo_df)"
   ]
  },
  {
   "cell_type": "code",
   "execution_count": null,
   "id": "28826f7e-5035-4cb8-91df-436548a2fce6",
   "metadata": {},
   "outputs": [],
   "source": [
    "my_utils.check_unique_and_empty(final_demo_df)"
   ]
  },
  {
   "cell_type": "markdown",
   "id": "214e4c36-3bdf-469b-b0e0-5cd415dc42dc",
   "metadata": {},
   "source": [
    "### Table Overview\n",
    "\n",
    "**Rows:**\n",
    "\n",
    "- `client_id (int)`: A unique identifier for each client, used to distinguish one client from another in the dataset.\n",
    "- `client_tenure_years (int)`: The number of years a client has been associated with the company. For example, a client with client_tenure_years = 6 has been with the company for 6 years.\n",
    "- `client_tenure_months (int)`: The number of months a client has been associated with the company. This value is often more granular than client_tenure_years and could be used for more detailed analysis. For instance, a tenure of 6 years and 1 month would be represented as 73 months.\n",
    "- `client_age (int)`: The age of the client in years.\n",
    "- `gender`: The gender of the client. The value can be \"Male,\" \"Female,\" or \"Unspecified,\" meaning the gender data is either recorded or missing.\n",
    "- `num_accounts (int)`: The number of accounts the client has with the company.\n",
    "- `balance (float)`: The total balance of the client's accounts with the company. This is a monetary value, and the balance can indicate how much money the client holds across their accounts.\n",
    "- `calls_last_6_months (int)`: The number of calls the client has made to the company in the past six months. This can give an idea of how actively the client has engaged with the company.\n",
    "- `logons_last_6_months (int)`: The number of times the client has logged into their account or interacted with the company online in the past six months.\n",
    "- `variation (object)`: This column likely indicates whether the client is part of a control group or a test group for an experiment. In this case, clients are either labeled as \"Test\", \"Control\", or \"Unknown\"."
   ]
  },
  {
   "cell_type": "markdown",
   "id": "d05c3c51-9f2a-4781-bcc0-8e82768d18fd",
   "metadata": {},
   "source": [
    "## Day 1 & 2 (Week 5)"
   ]
  },
  {
   "cell_type": "markdown",
   "id": "70105c37-c2c9-4d25-94c5-02a50e71f6ff",
   "metadata": {},
   "source": [
    "### **Client behavior analysis**\n",
    "\n",
    "Answer the following questions about demographics:\n",
    "\n",
    "- Who are the primary clients using this online process?\n",
    "- Are the primary clients younger or older, new or long-standing?\n",
    "- Next, carry out a client behaviour analysis to answer any additional relevant questions you think are important."
   ]
  },
  {
   "cell_type": "code",
   "execution_count": null,
   "id": "9c3bb673-d8da-4488-a202-b1f0107af8cf",
   "metadata": {},
   "outputs": [],
   "source": [
    "# Step 1: Analyze Active Clients using the online process\n",
    "\n",
    "# assuming active clients are those with more than 10 logons in the last 6 months and more than 3 accounts\n",
    "active_clients = final_demo_df[(final_demo_df['logons_last_6_months'] > 10) & (final_demo_df['num_accounts'] > 3)]\n",
    "\n",
    "# Step 2: Are the primary clients younger or older?\n",
    "\n",
    "average_age = final_demo_df['client_age'].mean()\n",
    "\n",
    "# age distribution to visualize client ages\n",
    "plt.figure(figsize=(8, 6))\n",
    "sns.histplot(final_demo_df['client_age'], kde=True, color=\"blue\", bins=10)\n",
    "plt.title('Client Age Distribution')\n",
    "plt.xlabel('Age')\n",
    "plt.ylabel('Frequency')\n",
    "plt.show()\n",
    "\n",
    "# Step 3: Are the primary clients newer or long-standing?\n",
    "# Calculate the average tenure (in years)\n",
    "average_tenure = final_demo_df['client_tenure_years'].mean()\n",
    "\n",
    "# Plot the tenure distribution to visualize how long clients have been with the service\n",
    "plt.figure(figsize=(8, 6))\n",
    "sns.histplot(final_demo_df['client_tenure_years'], kde=True, color='green', bins=10)\n",
    "plt.title('Client Tenure Distribution (in years)')\n",
    "plt.xlabel('Year duration')\n",
    "plt.ylabel('Frequency')\n",
    "plt.show()\n",
    "\n",
    "# Step 4: Drawing Conclusions\n",
    "\n",
    "# 1. Active clients using the online process\n",
    "print('Active clients (higher logons and accounts):')\n",
    "print(active_clients)\n",
    "\n",
    "# 2. Average age of clients\n",
    "print(f'Average client age: {average_age:.2f} years')\n",
    "\n",
    "# 3. Average client tenure (years)\n",
    "print(f'Average client tenure: {average_tenure:.2f} years')\n",
    "\n",
    "# conclusions:\n",
    "if average_age < 40:\n",
    "    print('Conclusion: The primary clients are generally younger (under 40 years old).')\n",
    "else:\n",
    "    print('Conclusion: The primary clients are generally older (above 40 years old).')\n",
    "\n",
    "if average_tenure < 3:\n",
    "    print('Conclusion: The primary clients are generally newer (under 3 years).')\n",
    "else:\n",
    "    print('Conclusion: The primary clients are generally long-standing (over 3 years).')"
   ]
  },
  {
   "cell_type": "markdown",
   "id": "24c541d3-ca70-46a3-8f25-ec30dd0e7114",
   "metadata": {},
   "source": [
    "## Day 3 (Week 5)"
   ]
  },
  {
   "cell_type": "markdown",
   "id": "7c05f8c3-8251-4746-b4ef-4834e8bac8a5",
   "metadata": {},
   "source": [
    "### **Performance Metrics**\n",
    "\n",
    "**Success Indicators**\n",
    "\n",
    "You have now been asked to discover what key performance indicators (KPIs) will determine the success of the new design? Use at least completion rate, time spent on each step and error rates. Add any KPIs you might find relevant.\n",
    "\n",
    "- **Completion Rate:** The proportion of users who reach the final ‘confirm’ step.\n",
    "- **Time Spent on Each Step:** The average duration users spend on each step.\n",
    "- **Error Rates:** If there’s a step where users go back to a previous step, it may indicate confusion or an error. You should consider moving from a later step to an earlier one as an error."
   ]
  },
  {
   "cell_type": "code",
   "execution_count": null,
   "id": "1cac320a-2b44-4558-bb72-196304a64d30",
   "metadata": {},
   "outputs": [],
   "source": []
  }
 ],
 "metadata": {
  "kernelspec": {
   "display_name": "venv",
   "language": "python",
   "name": "venv"
  },
  "language_info": {
   "codemirror_mode": {
    "name": "ipython",
    "version": 3
   },
   "file_extension": ".py",
   "mimetype": "text/x-python",
   "name": "python",
   "nbconvert_exporter": "python",
   "pygments_lexer": "ipython3",
   "version": "3.12.7"
  }
 },
 "nbformat": 4,
 "nbformat_minor": 5
}
