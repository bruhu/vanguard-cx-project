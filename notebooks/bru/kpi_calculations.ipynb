{
 "cells": [
  {
   "cell_type": "markdown",
   "id": "0cb0735c-ea70-496e-99be-0eb48c4f74a0",
   "metadata": {},
   "source": [
    "### Performance Metrics\n",
    "\n",
    "## Success Indicators\n",
    "\n",
    "You have now been asked to discover what key performance indicators (KPIs) will determine the success of the new design? Use at least completion rate, time spent on each step and error rates. Add any KPIs you might find relevant.\n",
    "\n",
    "- **Completion Rate:** The proportion of users who reach the final ‘confirm’ step.\n",
    "- **Time Spent on Each Step:** The average duration users spend on each step.\n",
    "- **Error Rates:** If there’s a step where users go back to a previous step, it may indicate confusion or an error. You should consider moving from a later step to an earlier one as an error.\n",
    "\n",
    "## Redesign Outcome\n",
    "\n",
    "Based on the chosen KPIs, how does the new design’s performance compare to the old one?"
   ]
  },
  {
   "cell_type": "code",
   "execution_count": 1,
   "id": "5a7b946f-9808-485b-b949-f490ca2654b9",
   "metadata": {},
   "outputs": [],
   "source": [
    "import pandas as pd\n",
    "import numpy as np\n",
    "import matplotlib.pyplot as plt\n",
    "import seaborn as sns\n",
    "import re"
   ]
  },
  {
   "cell_type": "code",
   "execution_count": 2,
   "id": "dd6204a9-1829-41ec-bf5a-a719c453abcb",
   "metadata": {},
   "outputs": [],
   "source": [
    "# import reusable functions from utils directory\n",
    "import sys\n",
    "sys.path.append('../../utils')\n",
    "import functions"
   ]
  },
  {
   "cell_type": "code",
   "execution_count": 3,
   "id": "943db4eb-535b-4ae5-b948-1ee2da6e0b34",
   "metadata": {},
   "outputs": [
    {
     "data": {
      "text/html": [
       "<div>\n",
       "<style scoped>\n",
       "    .dataframe tbody tr th:only-of-type {\n",
       "        vertical-align: middle;\n",
       "    }\n",
       "\n",
       "    .dataframe tbody tr th {\n",
       "        vertical-align: top;\n",
       "    }\n",
       "\n",
       "    .dataframe thead th {\n",
       "        text-align: right;\n",
       "    }\n",
       "</style>\n",
       "<table border=\"1\" class=\"dataframe\">\n",
       "  <thead>\n",
       "    <tr style=\"text-align: right;\">\n",
       "      <th></th>\n",
       "      <th>client_id</th>\n",
       "      <th>visitor_id</th>\n",
       "      <th>visit_id</th>\n",
       "      <th>process_step</th>\n",
       "      <th>date_time</th>\n",
       "    </tr>\n",
       "  </thead>\n",
       "  <tbody>\n",
       "    <tr>\n",
       "      <th>0</th>\n",
       "      <td>9988021</td>\n",
       "      <td>580560515_7732621733</td>\n",
       "      <td>781255054_21935453173_531117</td>\n",
       "      <td>step_3</td>\n",
       "      <td>2017-04-17 15:27:07</td>\n",
       "    </tr>\n",
       "    <tr>\n",
       "      <th>1</th>\n",
       "      <td>9988021</td>\n",
       "      <td>580560515_7732621733</td>\n",
       "      <td>781255054_21935453173_531117</td>\n",
       "      <td>step_2</td>\n",
       "      <td>2017-04-17 15:26:51</td>\n",
       "    </tr>\n",
       "    <tr>\n",
       "      <th>2</th>\n",
       "      <td>9988021</td>\n",
       "      <td>580560515_7732621733</td>\n",
       "      <td>781255054_21935453173_531117</td>\n",
       "      <td>step_3</td>\n",
       "      <td>2017-04-17 15:19:22</td>\n",
       "    </tr>\n",
       "    <tr>\n",
       "      <th>3</th>\n",
       "      <td>9988021</td>\n",
       "      <td>580560515_7732621733</td>\n",
       "      <td>781255054_21935453173_531117</td>\n",
       "      <td>step_2</td>\n",
       "      <td>2017-04-17 15:19:13</td>\n",
       "    </tr>\n",
       "    <tr>\n",
       "      <th>4</th>\n",
       "      <td>9988021</td>\n",
       "      <td>580560515_7732621733</td>\n",
       "      <td>781255054_21935453173_531117</td>\n",
       "      <td>step_3</td>\n",
       "      <td>2017-04-17 15:18:04</td>\n",
       "    </tr>\n",
       "  </tbody>\n",
       "</table>\n",
       "</div>"
      ],
      "text/plain": [
       "   client_id            visitor_id                      visit_id process_step  \\\n",
       "0    9988021  580560515_7732621733  781255054_21935453173_531117       step_3   \n",
       "1    9988021  580560515_7732621733  781255054_21935453173_531117       step_2   \n",
       "2    9988021  580560515_7732621733  781255054_21935453173_531117       step_3   \n",
       "3    9988021  580560515_7732621733  781255054_21935453173_531117       step_2   \n",
       "4    9988021  580560515_7732621733  781255054_21935453173_531117       step_3   \n",
       "\n",
       "             date_time  \n",
       "0  2017-04-17 15:27:07  \n",
       "1  2017-04-17 15:26:51  \n",
       "2  2017-04-17 15:19:22  \n",
       "3  2017-04-17 15:19:13  \n",
       "4  2017-04-17 15:18:04  "
      ]
     },
     "execution_count": 3,
     "metadata": {},
     "output_type": "execute_result"
    }
   ],
   "source": [
    "combined_cleaned_df = pd.read_csv('../../data/raw/combined_cleaned_data.csv')\n",
    "combined_cleaned_df.head()"
   ]
  },
  {
   "cell_type": "code",
   "execution_count": 4,
   "id": "b8d22d3e-b94d-4972-a107-eb056ba89ffd",
   "metadata": {},
   "outputs": [
    {
     "name": "stdout",
     "output_type": "stream",
     "text": [
      "['step_3' 'step_2' 'step_1' 'start' 'confirm']\n"
     ]
    }
   ],
   "source": [
    "print(combined_cleaned_df['process_step'].unique())"
   ]
  },
  {
   "cell_type": "code",
   "execution_count": 5,
   "id": "904ffb23-e226-4a0a-8c48-492339dc7c57",
   "metadata": {},
   "outputs": [
    {
     "name": "stdout",
     "output_type": "stream",
     "text": [
      "All dates in the column have the same format.\n",
      "            date_time\n",
      "0 2017-04-17 15:27:07\n",
      "1 2017-04-17 15:26:51\n",
      "2 2017-04-17 15:19:22\n",
      "3 2017-04-17 15:19:13\n",
      "4 2017-04-17 15:18:04\n"
     ]
    }
   ],
   "source": [
    "combined_cleaned_df['date_time'] = pd.to_datetime(combined_cleaned_df['date_time'], errors='coerce')\n",
    "\n",
    "# check if any dates couldn't be converted (i.e., they are NaT)\n",
    "inconsistent_dates = combined_cleaned_df['date_time'].isna().sum()\n",
    "\n",
    "# If inconsistent_dates > 0, then there are invalid or mismatched date formats\n",
    "if inconsistent_dates > 0:\n",
    "    print(f'There are {inconsistent_dates} inconsistent or invalid date formats in the column.')\n",
    "else:\n",
    "    print('All dates in the column have the same format.')\n",
    "\n",
    "print(combined_cleaned_df[['date_time']].head())"
   ]
  },
  {
   "cell_type": "code",
   "execution_count": 6,
   "id": "c46391a3-953e-4cbe-b444-27aa5570e2e7",
   "metadata": {},
   "outputs": [
    {
     "name": "stdout",
     "output_type": "stream",
     "text": [
      "Check the shape (rows, columns):\n",
      "(744641, 5)\n",
      "\n",
      "Column names:\n",
      "Index(['client_id', 'visitor_id', 'visit_id', 'process_step', 'date_time'], dtype='object')\n",
      "\n",
      "Data types:\n",
      "client_id                int64\n",
      "visitor_id              object\n",
      "visit_id                object\n",
      "process_step            object\n",
      "date_time       datetime64[ns]\n",
      "dtype: object\n",
      "\n",
      "Missing values:\n",
      "client_id       0\n",
      "visitor_id      0\n",
      "visit_id        0\n",
      "process_step    0\n",
      "date_time       0\n",
      "dtype: int64\n"
     ]
    }
   ],
   "source": [
    "functions.inspect_dataframe(combined_cleaned_df)"
   ]
  },
  {
   "cell_type": "code",
   "execution_count": 7,
   "id": "5a50673d-d2d3-415b-95dd-a531af3b0a3b",
   "metadata": {},
   "outputs": [],
   "source": [
    "# make a copy\n",
    "kpi_df = combined_cleaned_df.copy()\n",
    "\n",
    "# drop columns\n",
    "kpi_df = kpi_df.drop(columns=['visitor_id', 'visit_id'])"
   ]
  },
  {
   "cell_type": "code",
   "execution_count": 8,
   "id": "7cac01f7-8876-4cc6-ad92-ac5a73f07600",
   "metadata": {},
   "outputs": [],
   "source": [
    "# change the naming of the steps to numeric values to ensure order\n",
    "replacement_dict_steps = {\n",
    "    'start' : 0,\n",
    "    'step_1' : 1,\n",
    "    'step_2' : 2,\n",
    "    'step_3' : 3,\n",
    "    'confirm' : 4\n",
    "}\n",
    "\n",
    "kpi_df['process_step'] = kpi_df['process_step'].map(replacement_dict_steps)"
   ]
  },
  {
   "cell_type": "code",
   "execution_count": null,
   "id": "8e6fb45b-7b2c-49f5-99a0-1a7ffa8bc501",
   "metadata": {},
   "outputs": [],
   "source": []
  },
  {
   "cell_type": "markdown",
   "id": "f83d4904-8fb7-487c-88d3-03fa977d4ad1",
   "metadata": {},
   "source": [
    "# **Completion Rate**"
   ]
  },
  {
   "cell_type": "code",
   "execution_count": 9,
   "id": "a7ee3fb5-b74e-4fe9-9ec1-19aaa5f92857",
   "metadata": {},
   "outputs": [
    {
     "name": "stdout",
     "output_type": "stream",
     "text": [
      "Clients who finished the process: 81145 out ouf 120157.\n"
     ]
    }
   ],
   "source": [
    "# filter rows where process_step is 'Finish'\n",
    "clients_finished = kpi_df[kpi_df['process_step'] == 4]\n",
    "\n",
    "# print(clients_finished)\n",
    "total_unique_clients = kpi_df['client_id'].nunique()\n",
    "# find unique client ids that finished\n",
    "unique_clients_finished = clients_finished['client_id'].nunique()\n",
    "\n",
    "print(f'Clients who finished the process: {unique_clients_finished} out ouf {total_unique_clients}.')"
   ]
  },
  {
   "cell_type": "markdown",
   "id": "333c073d-27b3-4edd-8ac4-d9a37cfa0c05",
   "metadata": {},
   "source": [
    "**To-do's**:\n",
    "- [ ] calculate percentage\n",
    "- [ ] visual representation?"
   ]
  },
  {
   "cell_type": "code",
   "execution_count": null,
   "id": "fcb40b4a-8c93-414a-bf3b-bc5e0418b77e",
   "metadata": {},
   "outputs": [],
   "source": []
  },
  {
   "cell_type": "markdown",
   "id": "f0445e92-3c0f-421a-be51-b469e60bf35a",
   "metadata": {},
   "source": [
    "# **Time spent on each step**"
   ]
  },
  {
   "cell_type": "code",
   "execution_count": 10,
   "id": "6534042a-a94a-42a7-8a5c-3a36955b0fde",
   "metadata": {},
   "outputs": [
    {
     "data": {
      "text/html": [
       "<div>\n",
       "<style scoped>\n",
       "    .dataframe tbody tr th:only-of-type {\n",
       "        vertical-align: middle;\n",
       "    }\n",
       "\n",
       "    .dataframe tbody tr th {\n",
       "        vertical-align: top;\n",
       "    }\n",
       "\n",
       "    .dataframe thead th {\n",
       "        text-align: right;\n",
       "    }\n",
       "</style>\n",
       "<table border=\"1\" class=\"dataframe\">\n",
       "  <thead>\n",
       "    <tr style=\"text-align: right;\">\n",
       "      <th></th>\n",
       "      <th>client_id</th>\n",
       "      <th>process_step</th>\n",
       "      <th>date_time</th>\n",
       "      <th>time_diff</th>\n",
       "    </tr>\n",
       "  </thead>\n",
       "  <tbody>\n",
       "    <tr>\n",
       "      <th>283822</th>\n",
       "      <td>169</td>\n",
       "      <td>1</td>\n",
       "      <td>2017-04-12 20:19:45</td>\n",
       "      <td>0 days 00:00:09</td>\n",
       "    </tr>\n",
       "    <tr>\n",
       "      <th>283821</th>\n",
       "      <td>169</td>\n",
       "      <td>2</td>\n",
       "      <td>2017-04-12 20:20:31</td>\n",
       "      <td>0 days 00:00:46</td>\n",
       "    </tr>\n",
       "    <tr>\n",
       "      <th>283820</th>\n",
       "      <td>169</td>\n",
       "      <td>3</td>\n",
       "      <td>2017-04-12 20:22:05</td>\n",
       "      <td>0 days 00:01:34</td>\n",
       "    </tr>\n",
       "    <tr>\n",
       "      <th>283819</th>\n",
       "      <td>169</td>\n",
       "      <td>4</td>\n",
       "      <td>2017-04-12 20:23:09</td>\n",
       "      <td>0 days 00:01:04</td>\n",
       "    </tr>\n",
       "    <tr>\n",
       "      <th>620397</th>\n",
       "      <td>336</td>\n",
       "      <td>0</td>\n",
       "      <td>2017-06-01 07:42:43</td>\n",
       "      <td>0 days 00:15:48</td>\n",
       "    </tr>\n",
       "    <tr>\n",
       "      <th>...</th>\n",
       "      <td>...</td>\n",
       "      <td>...</td>\n",
       "      <td>...</td>\n",
       "      <td>...</td>\n",
       "    </tr>\n",
       "    <tr>\n",
       "      <th>640076</th>\n",
       "      <td>9999875</td>\n",
       "      <td>1</td>\n",
       "      <td>2017-06-01 22:40:08</td>\n",
       "      <td>0 days 00:00:07</td>\n",
       "    </tr>\n",
       "    <tr>\n",
       "      <th>640075</th>\n",
       "      <td>9999875</td>\n",
       "      <td>1</td>\n",
       "      <td>2017-06-01 22:41:28</td>\n",
       "      <td>0 days 00:01:20</td>\n",
       "    </tr>\n",
       "    <tr>\n",
       "      <th>640074</th>\n",
       "      <td>9999875</td>\n",
       "      <td>2</td>\n",
       "      <td>2017-06-01 22:41:47</td>\n",
       "      <td>0 days 00:00:19</td>\n",
       "    </tr>\n",
       "    <tr>\n",
       "      <th>640073</th>\n",
       "      <td>9999875</td>\n",
       "      <td>3</td>\n",
       "      <td>2017-06-01 22:44:58</td>\n",
       "      <td>0 days 00:03:11</td>\n",
       "    </tr>\n",
       "    <tr>\n",
       "      <th>640072</th>\n",
       "      <td>9999875</td>\n",
       "      <td>4</td>\n",
       "      <td>2017-06-01 22:48:39</td>\n",
       "      <td>0 days 00:03:41</td>\n",
       "    </tr>\n",
       "  </tbody>\n",
       "</table>\n",
       "<p>624484 rows × 4 columns</p>\n",
       "</div>"
      ],
      "text/plain": [
       "        client_id  process_step           date_time       time_diff\n",
       "283822        169             1 2017-04-12 20:19:45 0 days 00:00:09\n",
       "283821        169             2 2017-04-12 20:20:31 0 days 00:00:46\n",
       "283820        169             3 2017-04-12 20:22:05 0 days 00:01:34\n",
       "283819        169             4 2017-04-12 20:23:09 0 days 00:01:04\n",
       "620397        336             0 2017-06-01 07:42:43 0 days 00:15:48\n",
       "...           ...           ...                 ...             ...\n",
       "640076    9999875             1 2017-06-01 22:40:08 0 days 00:00:07\n",
       "640075    9999875             1 2017-06-01 22:41:28 0 days 00:01:20\n",
       "640074    9999875             2 2017-06-01 22:41:47 0 days 00:00:19\n",
       "640073    9999875             3 2017-06-01 22:44:58 0 days 00:03:11\n",
       "640072    9999875             4 2017-06-01 22:48:39 0 days 00:03:41\n",
       "\n",
       "[624484 rows x 4 columns]"
      ]
     },
     "metadata": {},
     "output_type": "display_data"
    }
   ],
   "source": [
    "# sort df by client_id and date_time\n",
    "kpi_df = kpi_df.sort_values(by=['client_id', 'date_time'])\n",
    "\n",
    "# calculate time difference between steps per client\n",
    "kpi_df['time_diff'] = kpi_df.groupby('client_id')['date_time'].diff()\n",
    "\n",
    "# drop first row per client (contains no information)\n",
    "kpi_df = kpi_df.dropna(subset=['time_diff'])\n",
    "display(kpi_df)"
   ]
  },
  {
   "cell_type": "code",
   "execution_count": 11,
   "id": "106df5f1-4f17-44ab-80fd-aec45fac0f95",
   "metadata": {},
   "outputs": [
    {
     "name": "stdout",
     "output_type": "stream",
     "text": [
      "Average time spent on each step:\n",
      "\n",
      "process_step\n",
      "Start    2 days 21:02:52\n",
      "Step 1   0 days 00:23:31\n",
      "Step 2   0 days 00:01:05\n",
      "Step 3   0 days 00:09:49\n",
      "Finish   0 days 17:49:27\n",
      "Name: time_diff, dtype: timedelta64[ns]\n"
     ]
    }
   ],
   "source": [
    "# calculate average time spent on each step\n",
    "avg_time_per_step = kpi_df.groupby('process_step')['time_diff'].mean()\n",
    "\n",
    "# convert to total seconds\n",
    "avg_time_in_seconds = avg_time_per_step.dt.total_seconds()\n",
    "\n",
    "# round up to the nearest second to remove decimals\n",
    "avg_time_in_seconds_rounded = np.ceil(avg_time_in_seconds).astype(int)\n",
    "\n",
    "# convert back to timedelta\n",
    "avg_time_per_step_rounded = pd.to_timedelta(avg_time_in_seconds_rounded, unit='s')\n",
    "\n",
    "# re-map process_step index for readability\n",
    "avg_time_per_step_rounded.index = avg_time_per_step_rounded.index.map({0: 'Start', 1: 'Step 1', 2: 'Step 2', 3: 'Step 3', 4: 'Finish'})\n",
    "\n",
    "print('Average time spent on each step:\\n')\n",
    "print(avg_time_per_step_rounded)"
   ]
  },
  {
   "cell_type": "markdown",
   "id": "fc628fd2-ab21-475b-aba3-d1649e4fef18",
   "metadata": {},
   "source": [
    "**To-do's**:\n",
    "- [ ] calculate percentage\n",
    "- [ ] visual representation?\n",
    "- [ ] Convert to seconds?"
   ]
  },
  {
   "cell_type": "code",
   "execution_count": null,
   "id": "8558ea66-e1cd-4ed7-8741-c6c33f39093c",
   "metadata": {},
   "outputs": [],
   "source": []
  },
  {
   "cell_type": "markdown",
   "id": "716f1198-4369-4f69-a799-405b1949aced",
   "metadata": {},
   "source": [
    "# **Error Rates**\n",
    "_(Constanza's code)_"
   ]
  },
  {
   "cell_type": "code",
   "execution_count": null,
   "id": "123bea70-4319-41f7-b16b-d9d0a2f0d955",
   "metadata": {},
   "outputs": [],
   "source": []
  },
  {
   "cell_type": "code",
   "execution_count": null,
   "id": "395748b1-0c24-4ae4-8254-a6bbdd57e747",
   "metadata": {},
   "outputs": [],
   "source": []
  },
  {
   "cell_type": "markdown",
   "id": "370564ca-ade9-405c-87f2-a7340575fc4e",
   "metadata": {},
   "source": [
    "# **Redesign Outcome**\n",
    "Based on the chosen KPIs, how does the new design’s performance compare to the old one?"
   ]
  },
  {
   "cell_type": "code",
   "execution_count": null,
   "id": "76cbf522-9670-48de-a413-572640616ebd",
   "metadata": {},
   "outputs": [],
   "source": []
  }
 ],
 "metadata": {
  "kernelspec": {
   "display_name": "venv",
   "language": "python",
   "name": "venv"
  },
  "language_info": {
   "codemirror_mode": {
    "name": "ipython",
    "version": 3
   },
   "file_extension": ".py",
   "mimetype": "text/x-python",
   "name": "python",
   "nbconvert_exporter": "python",
   "pygments_lexer": "ipython3",
   "version": "3.12.7"
  }
 },
 "nbformat": 4,
 "nbformat_minor": 5
}
