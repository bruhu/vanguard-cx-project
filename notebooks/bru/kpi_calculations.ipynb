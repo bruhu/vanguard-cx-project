{
 "cells": [
  {
   "cell_type": "markdown",
   "id": "0cb0735c-ea70-496e-99be-0eb48c4f74a0",
   "metadata": {},
   "source": [
    "### Performance Metrics\n",
    "\n",
    "## Success Indicators\n",
    "\n",
    "You have now been asked to discover what key performance indicators (KPIs) will determine the success of the new design? Use at least completion rate, time spent on each step and error rates. Add any KPIs you might find relevant.\n",
    "\n",
    "- **Completion Rate:** The proportion of users who reach the final ‘confirm’ step.\n",
    "- **Time Spent on Each Step:** The average duration users spend on each step.\n",
    "- **Error Rates:** If there’s a step where users go back to a previous step, it may indicate confusion or an error. You should consider moving from a later step to an earlier one as an error.\n",
    "\n",
    "## Redesign Outcome\n",
    "\n",
    "Based on the chosen KPIs, how does the new design’s performance compare to the old one?"
   ]
  },
  {
   "cell_type": "code",
   "execution_count": 1,
   "id": "5a7b946f-9808-485b-b949-f490ca2654b9",
   "metadata": {},
   "outputs": [],
   "source": [
    "import pandas as pd\n",
    "import numpy as np\n",
    "import matplotlib.pyplot as plt\n",
    "import seaborn as sns\n",
    "import re"
   ]
  },
  {
   "cell_type": "code",
   "execution_count": 2,
   "id": "dd6204a9-1829-41ec-bf5a-a719c453abcb",
   "metadata": {},
   "outputs": [],
   "source": [
    "# import reusable functions from utils directory\n",
    "import sys\n",
    "sys.path.append('../../utils')\n",
    "import functions"
   ]
  },
  {
   "cell_type": "code",
   "execution_count": 3,
   "id": "d03573a1",
   "metadata": {},
   "outputs": [],
   "source": [
    "df = pd.read_csv('../../data/clean/final_clean_client_df.csv')"
   ]
  },
  {
   "cell_type": "code",
   "execution_count": 4,
   "id": "904ffb23-e226-4a0a-8c48-492339dc7c57",
   "metadata": {},
   "outputs": [
    {
     "name": "stdout",
     "output_type": "stream",
     "text": [
      "All dates in the column have the same format.\n"
     ]
    }
   ],
   "source": [
    "df['date_time'] = pd.to_datetime(df['date_time'], errors='coerce')\n",
    "\n",
    "# check if any dates couldn't be converted (i.e., they are NaT)\n",
    "inconsistent_dates = df['date_time'].isna().sum()\n",
    "\n",
    "# if inconsistent_dates > 0, then there are invalid or mismatched date formats\n",
    "if inconsistent_dates > 0:\n",
    "    print(f'There are {inconsistent_dates} inconsistent or invalid date formats in the column.')\n",
    "else:\n",
    "    print('All dates in the column have the same format.')"
   ]
  },
  {
   "cell_type": "code",
   "execution_count": 5,
   "id": "5a50673d-d2d3-415b-95dd-a531af3b0a3b",
   "metadata": {},
   "outputs": [],
   "source": [
    "kpi_df = df.copy()\n",
    "kpi_df = kpi_df.drop(columns=['Unnamed: 0'])"
   ]
  },
  {
   "cell_type": "code",
   "execution_count": 6,
   "id": "8e6fb45b-7b2c-49f5-99a0-1a7ffa8bc501",
   "metadata": {},
   "outputs": [
    {
     "data": {
      "text/html": [
       "<div>\n",
       "<style scoped>\n",
       "    .dataframe tbody tr th:only-of-type {\n",
       "        vertical-align: middle;\n",
       "    }\n",
       "\n",
       "    .dataframe tbody tr th {\n",
       "        vertical-align: top;\n",
       "    }\n",
       "\n",
       "    .dataframe thead th {\n",
       "        text-align: right;\n",
       "    }\n",
       "</style>\n",
       "<table border=\"1\" class=\"dataframe\">\n",
       "  <thead>\n",
       "    <tr style=\"text-align: right;\">\n",
       "      <th></th>\n",
       "      <th>client_id</th>\n",
       "      <th>visitor_id</th>\n",
       "      <th>visit_id</th>\n",
       "      <th>step</th>\n",
       "      <th>date_time</th>\n",
       "      <th>tenure_years</th>\n",
       "      <th>tenure_months</th>\n",
       "      <th>age</th>\n",
       "      <th>gender</th>\n",
       "      <th>accounts</th>\n",
       "      <th>balance</th>\n",
       "      <th>calls_last_6_months</th>\n",
       "      <th>logons_last_6_months</th>\n",
       "      <th>stepped_back</th>\n",
       "      <th>error_count</th>\n",
       "      <th>variation</th>\n",
       "    </tr>\n",
       "  </thead>\n",
       "  <tbody>\n",
       "    <tr>\n",
       "      <th>0</th>\n",
       "      <td>169</td>\n",
       "      <td>201385055_71273495308</td>\n",
       "      <td>749567106_99161211863_557568</td>\n",
       "      <td>4</td>\n",
       "      <td>2017-04-12 20:23:09</td>\n",
       "      <td>21</td>\n",
       "      <td>262</td>\n",
       "      <td>47</td>\n",
       "      <td>Male</td>\n",
       "      <td>2</td>\n",
       "      <td>501570.72</td>\n",
       "      <td>4</td>\n",
       "      <td>4</td>\n",
       "      <td>False</td>\n",
       "      <td>4</td>\n",
       "      <td>Unknown</td>\n",
       "    </tr>\n",
       "    <tr>\n",
       "      <th>1</th>\n",
       "      <td>169</td>\n",
       "      <td>201385055_71273495308</td>\n",
       "      <td>749567106_99161211863_557568</td>\n",
       "      <td>3</td>\n",
       "      <td>2017-04-12 20:22:05</td>\n",
       "      <td>21</td>\n",
       "      <td>262</td>\n",
       "      <td>47</td>\n",
       "      <td>Male</td>\n",
       "      <td>2</td>\n",
       "      <td>501570.72</td>\n",
       "      <td>4</td>\n",
       "      <td>4</td>\n",
       "      <td>True</td>\n",
       "      <td>4</td>\n",
       "      <td>Unknown</td>\n",
       "    </tr>\n",
       "    <tr>\n",
       "      <th>2</th>\n",
       "      <td>169</td>\n",
       "      <td>201385055_71273495308</td>\n",
       "      <td>749567106_99161211863_557568</td>\n",
       "      <td>2</td>\n",
       "      <td>2017-04-12 20:20:31</td>\n",
       "      <td>21</td>\n",
       "      <td>262</td>\n",
       "      <td>47</td>\n",
       "      <td>Male</td>\n",
       "      <td>2</td>\n",
       "      <td>501570.72</td>\n",
       "      <td>4</td>\n",
       "      <td>4</td>\n",
       "      <td>True</td>\n",
       "      <td>4</td>\n",
       "      <td>Unknown</td>\n",
       "    </tr>\n",
       "    <tr>\n",
       "      <th>3</th>\n",
       "      <td>169</td>\n",
       "      <td>201385055_71273495308</td>\n",
       "      <td>749567106_99161211863_557568</td>\n",
       "      <td>1</td>\n",
       "      <td>2017-04-12 20:19:45</td>\n",
       "      <td>21</td>\n",
       "      <td>262</td>\n",
       "      <td>47</td>\n",
       "      <td>Male</td>\n",
       "      <td>2</td>\n",
       "      <td>501570.72</td>\n",
       "      <td>4</td>\n",
       "      <td>4</td>\n",
       "      <td>True</td>\n",
       "      <td>4</td>\n",
       "      <td>Unknown</td>\n",
       "    </tr>\n",
       "    <tr>\n",
       "      <th>4</th>\n",
       "      <td>169</td>\n",
       "      <td>201385055_71273495308</td>\n",
       "      <td>749567106_99161211863_557568</td>\n",
       "      <td>0</td>\n",
       "      <td>2017-04-12 20:19:36</td>\n",
       "      <td>21</td>\n",
       "      <td>262</td>\n",
       "      <td>47</td>\n",
       "      <td>Male</td>\n",
       "      <td>2</td>\n",
       "      <td>501570.72</td>\n",
       "      <td>4</td>\n",
       "      <td>4</td>\n",
       "      <td>True</td>\n",
       "      <td>4</td>\n",
       "      <td>Unknown</td>\n",
       "    </tr>\n",
       "    <tr>\n",
       "      <th>...</th>\n",
       "      <td>...</td>\n",
       "      <td>...</td>\n",
       "      <td>...</td>\n",
       "      <td>...</td>\n",
       "      <td>...</td>\n",
       "      <td>...</td>\n",
       "      <td>...</td>\n",
       "      <td>...</td>\n",
       "      <td>...</td>\n",
       "      <td>...</td>\n",
       "      <td>...</td>\n",
       "      <td>...</td>\n",
       "      <td>...</td>\n",
       "      <td>...</td>\n",
       "      <td>...</td>\n",
       "      <td>...</td>\n",
       "    </tr>\n",
       "    <tr>\n",
       "      <th>443767</th>\n",
       "      <td>9999839</td>\n",
       "      <td>948322592_28990736246</td>\n",
       "      <td>715530422_68620416793_515645</td>\n",
       "      <td>3</td>\n",
       "      <td>2017-03-29 12:12:28</td>\n",
       "      <td>13</td>\n",
       "      <td>160</td>\n",
       "      <td>28</td>\n",
       "      <td>Female</td>\n",
       "      <td>2</td>\n",
       "      <td>67425.35</td>\n",
       "      <td>3</td>\n",
       "      <td>3</td>\n",
       "      <td>True</td>\n",
       "      <td>4</td>\n",
       "      <td>Unknown</td>\n",
       "    </tr>\n",
       "    <tr>\n",
       "      <th>443768</th>\n",
       "      <td>9999839</td>\n",
       "      <td>948322592_28990736246</td>\n",
       "      <td>715530422_68620416793_515645</td>\n",
       "      <td>2</td>\n",
       "      <td>2017-03-29 12:11:50</td>\n",
       "      <td>13</td>\n",
       "      <td>160</td>\n",
       "      <td>28</td>\n",
       "      <td>Female</td>\n",
       "      <td>2</td>\n",
       "      <td>67425.35</td>\n",
       "      <td>3</td>\n",
       "      <td>3</td>\n",
       "      <td>True</td>\n",
       "      <td>4</td>\n",
       "      <td>Unknown</td>\n",
       "    </tr>\n",
       "    <tr>\n",
       "      <th>443769</th>\n",
       "      <td>9999839</td>\n",
       "      <td>948322592_28990736246</td>\n",
       "      <td>715530422_68620416793_515645</td>\n",
       "      <td>1</td>\n",
       "      <td>2017-03-29 12:11:35</td>\n",
       "      <td>13</td>\n",
       "      <td>160</td>\n",
       "      <td>28</td>\n",
       "      <td>Female</td>\n",
       "      <td>2</td>\n",
       "      <td>67425.35</td>\n",
       "      <td>3</td>\n",
       "      <td>3</td>\n",
       "      <td>True</td>\n",
       "      <td>4</td>\n",
       "      <td>Unknown</td>\n",
       "    </tr>\n",
       "    <tr>\n",
       "      <th>443770</th>\n",
       "      <td>9999839</td>\n",
       "      <td>948322592_28990736246</td>\n",
       "      <td>715530422_68620416793_515645</td>\n",
       "      <td>0</td>\n",
       "      <td>2017-03-29 12:11:32</td>\n",
       "      <td>13</td>\n",
       "      <td>160</td>\n",
       "      <td>28</td>\n",
       "      <td>Female</td>\n",
       "      <td>2</td>\n",
       "      <td>67425.35</td>\n",
       "      <td>3</td>\n",
       "      <td>3</td>\n",
       "      <td>True</td>\n",
       "      <td>4</td>\n",
       "      <td>Unknown</td>\n",
       "    </tr>\n",
       "    <tr>\n",
       "      <th>443771</th>\n",
       "      <td>9999839</td>\n",
       "      <td>948322592_28990736246</td>\n",
       "      <td>715530422_68620416793_515645</td>\n",
       "      <td>0</td>\n",
       "      <td>2017-03-29 12:08:55</td>\n",
       "      <td>13</td>\n",
       "      <td>160</td>\n",
       "      <td>28</td>\n",
       "      <td>Female</td>\n",
       "      <td>2</td>\n",
       "      <td>67425.35</td>\n",
       "      <td>3</td>\n",
       "      <td>3</td>\n",
       "      <td>False</td>\n",
       "      <td>4</td>\n",
       "      <td>Unknown</td>\n",
       "    </tr>\n",
       "  </tbody>\n",
       "</table>\n",
       "<p>443772 rows × 16 columns</p>\n",
       "</div>"
      ],
      "text/plain": [
       "        client_id             visitor_id                      visit_id  step  \\\n",
       "0             169  201385055_71273495308  749567106_99161211863_557568     4   \n",
       "1             169  201385055_71273495308  749567106_99161211863_557568     3   \n",
       "2             169  201385055_71273495308  749567106_99161211863_557568     2   \n",
       "3             169  201385055_71273495308  749567106_99161211863_557568     1   \n",
       "4             169  201385055_71273495308  749567106_99161211863_557568     0   \n",
       "...           ...                    ...                           ...   ...   \n",
       "443767    9999839  948322592_28990736246  715530422_68620416793_515645     3   \n",
       "443768    9999839  948322592_28990736246  715530422_68620416793_515645     2   \n",
       "443769    9999839  948322592_28990736246  715530422_68620416793_515645     1   \n",
       "443770    9999839  948322592_28990736246  715530422_68620416793_515645     0   \n",
       "443771    9999839  948322592_28990736246  715530422_68620416793_515645     0   \n",
       "\n",
       "                 date_time  tenure_years  tenure_months  age  gender  \\\n",
       "0      2017-04-12 20:23:09            21            262   47    Male   \n",
       "1      2017-04-12 20:22:05            21            262   47    Male   \n",
       "2      2017-04-12 20:20:31            21            262   47    Male   \n",
       "3      2017-04-12 20:19:45            21            262   47    Male   \n",
       "4      2017-04-12 20:19:36            21            262   47    Male   \n",
       "...                    ...           ...            ...  ...     ...   \n",
       "443767 2017-03-29 12:12:28            13            160   28  Female   \n",
       "443768 2017-03-29 12:11:50            13            160   28  Female   \n",
       "443769 2017-03-29 12:11:35            13            160   28  Female   \n",
       "443770 2017-03-29 12:11:32            13            160   28  Female   \n",
       "443771 2017-03-29 12:08:55            13            160   28  Female   \n",
       "\n",
       "        accounts    balance  calls_last_6_months  logons_last_6_months  \\\n",
       "0              2  501570.72                    4                     4   \n",
       "1              2  501570.72                    4                     4   \n",
       "2              2  501570.72                    4                     4   \n",
       "3              2  501570.72                    4                     4   \n",
       "4              2  501570.72                    4                     4   \n",
       "...          ...        ...                  ...                   ...   \n",
       "443767         2   67425.35                    3                     3   \n",
       "443768         2   67425.35                    3                     3   \n",
       "443769         2   67425.35                    3                     3   \n",
       "443770         2   67425.35                    3                     3   \n",
       "443771         2   67425.35                    3                     3   \n",
       "\n",
       "        stepped_back  error_count variation  \n",
       "0              False            4   Unknown  \n",
       "1               True            4   Unknown  \n",
       "2               True            4   Unknown  \n",
       "3               True            4   Unknown  \n",
       "4               True            4   Unknown  \n",
       "...              ...          ...       ...  \n",
       "443767          True            4   Unknown  \n",
       "443768          True            4   Unknown  \n",
       "443769          True            4   Unknown  \n",
       "443770          True            4   Unknown  \n",
       "443771         False            4   Unknown  \n",
       "\n",
       "[443772 rows x 16 columns]"
      ]
     },
     "execution_count": 6,
     "metadata": {},
     "output_type": "execute_result"
    }
   ],
   "source": [
    "kpi_df"
   ]
  },
  {
   "cell_type": "markdown",
   "id": "f83d4904-8fb7-487c-88d3-03fa977d4ad1",
   "metadata": {},
   "source": [
    "# **Completion Rate**"
   ]
  },
  {
   "cell_type": "code",
   "execution_count": 7,
   "id": "a7ee3fb5-b74e-4fe9-9ec1-19aaa5f92857",
   "metadata": {},
   "outputs": [
    {
     "name": "stdout",
     "output_type": "stream",
     "text": [
      "Clients who finished the process: 47787 out of 70594.\n",
      "Completion count (grouped by client_id):\n",
      "   client_id  completion_count\n",
      "0        169                 1\n",
      "1        555                 1\n",
      "2        647                 1\n",
      "3        722                 1\n",
      "4       1195                 1\n",
      "Final DataFrame with completion count:\n",
      "   client_id  completion_count\n",
      "0        169                 1\n",
      "1        169                 1\n",
      "2        169                 1\n",
      "3        169                 1\n",
      "4        169                 1\n"
     ]
    }
   ],
   "source": [
    "def find_completion_rate(df):    \n",
    "    clients_finished = df[df['step'] == 4]\n",
    "    total_unique_clients = df['client_id'].nunique()\n",
    "    unique_clients_finished = clients_finished['client_id'].nunique()\n",
    "    print(f'Clients who finished the process: {unique_clients_finished} out of {total_unique_clients}.')\n",
    "    \n",
    "    completion_count = clients_finished.groupby('client_id').size().reset_index(name='completion_count')\n",
    "    print(\"Completion count (grouped by client_id):\")\n",
    "    print(completion_count.head())\n",
    "    \n",
    "    df = df.merge(completion_count[['client_id', 'completion_count']], on='client_id', how='left') # add completion_count column\n",
    "\n",
    "    df['completion_count'] = df['completion_count'].fillna(0).astype(int) # replace NaN with 0 for clients who never finished\n",
    "    \n",
    "    print(\"Final DataFrame with completion count:\")\n",
    "    print(df[['client_id', 'completion_count']].head())\n",
    "    \n",
    "    return df\n",
    "\n",
    "kpi_df = find_completion_rate(kpi_df)"
   ]
  },
  {
   "cell_type": "code",
   "execution_count": 8,
   "id": "f5ca16b3",
   "metadata": {},
   "outputs": [
    {
     "name": "stdout",
     "output_type": "stream",
     "text": [
      "\n",
      "Times that different clients completed the process:\n",
      "\n",
      "[ 1  0  3  2  6  5  4  7 10  8  9 12 19 11 17 14 16 15 13 20]\n"
     ]
    }
   ],
   "source": [
    "print('\\nTimes that different clients completed the process:\\n')\n",
    "print(kpi_df['completion_count'].unique())"
   ]
  },
  {
   "cell_type": "code",
   "execution_count": 9,
   "id": "fcb40b4a-8c93-414a-bf3b-bc5e0418b77e",
   "metadata": {},
   "outputs": [
    {
     "data": {
      "image/png": "[encoded data removed]",
      "text/plain": [
       "<Figure size 800x800 with 1 Axes>"
      ]
     },
     "metadata": {},
     "output_type": "display_data"
    },
    {
     "data": {
      "image/png": "[encoded data removed]",
      "text/plain": [
       "<Figure size 800x800 with 1 Axes>"
      ]
     },
     "metadata": {},
     "output_type": "display_data"
    }
   ],
   "source": [
    "clients_finished = kpi_df[kpi_df['step'] == 4]['client_id'].nunique()\n",
    "total_clients = kpi_df['client_id'].nunique()\n",
    "clients_not_finished = total_clients - clients_finished\n",
    "\n",
    "completion_rate = (clients_finished / total_clients) * 100\n",
    "\n",
    "# pie chart\n",
    "plt.figure(figsize=(8, 8))\n",
    "plt.pie(\n",
    "    [clients_finished, clients_not_finished],\n",
    "    labels=['Finished', 'Not Finished'],\n",
    "    autopct='%1.1f%%',\n",
    "    colors=['lightgreen', 'salmon'],\n",
    "    startangle=140\n",
    ")\n",
    "plt.title('Completion Rate')\n",
    "plt.show()\n",
    "\n",
    "# bar chart\n",
    "plt.figure(figsize=(8, 8))\n",
    "bars = plt.bar(['Total Clients', 'Completed Clients'], [total_clients, clients_finished], color=['lightgreen', 'salmon'])\n",
    "\n",
    "# add percentage annotation on top\n",
    "plt.text(1, clients_finished + 1, f'{completion_rate:.1f}%', ha='center', va='bottom', fontsize=12, color='black')\n",
    "\n",
    "plt.title('Total Clients vs Completed Clients')\n",
    "plt.ylabel('Number of Clients')\n",
    "plt.grid(axis='y', linestyle='--', alpha=0.7)\n",
    "plt.tight_layout()\n",
    "plt.show()"
   ]
  },
  {
   "cell_type": "code",
   "execution_count": 10,
   "id": "c77b7774",
   "metadata": {},
   "outputs": [
    {
     "data": {
      "text/html": [
       "<div>\n",
       "<style scoped>\n",
       "    .dataframe tbody tr th:only-of-type {\n",
       "        vertical-align: middle;\n",
       "    }\n",
       "\n",
       "    .dataframe tbody tr th {\n",
       "        vertical-align: top;\n",
       "    }\n",
       "\n",
       "    .dataframe thead th {\n",
       "        text-align: right;\n",
       "    }\n",
       "</style>\n",
       "<table border=\"1\" class=\"dataframe\">\n",
       "  <thead>\n",
       "    <tr style=\"text-align: right;\">\n",
       "      <th></th>\n",
       "      <th>client_id</th>\n",
       "      <th>visitor_id</th>\n",
       "      <th>visit_id</th>\n",
       "      <th>step</th>\n",
       "      <th>date_time</th>\n",
       "      <th>tenure_years</th>\n",
       "      <th>tenure_months</th>\n",
       "      <th>age</th>\n",
       "      <th>gender</th>\n",
       "      <th>accounts</th>\n",
       "      <th>balance</th>\n",
       "      <th>calls_last_6_months</th>\n",
       "      <th>logons_last_6_months</th>\n",
       "      <th>stepped_back</th>\n",
       "      <th>error_count</th>\n",
       "      <th>variation</th>\n",
       "      <th>completion_count</th>\n",
       "    </tr>\n",
       "  </thead>\n",
       "  <tbody>\n",
       "    <tr>\n",
       "      <th>0</th>\n",
       "      <td>169</td>\n",
       "      <td>201385055_71273495308</td>\n",
       "      <td>749567106_99161211863_557568</td>\n",
       "      <td>4</td>\n",
       "      <td>2017-04-12 20:23:09</td>\n",
       "      <td>21</td>\n",
       "      <td>262</td>\n",
       "      <td>47</td>\n",
       "      <td>Male</td>\n",
       "      <td>2</td>\n",
       "      <td>501570.72</td>\n",
       "      <td>4</td>\n",
       "      <td>4</td>\n",
       "      <td>False</td>\n",
       "      <td>4</td>\n",
       "      <td>Unknown</td>\n",
       "      <td>1</td>\n",
       "    </tr>\n",
       "    <tr>\n",
       "      <th>1</th>\n",
       "      <td>169</td>\n",
       "      <td>201385055_71273495308</td>\n",
       "      <td>749567106_99161211863_557568</td>\n",
       "      <td>3</td>\n",
       "      <td>2017-04-12 20:22:05</td>\n",
       "      <td>21</td>\n",
       "      <td>262</td>\n",
       "      <td>47</td>\n",
       "      <td>Male</td>\n",
       "      <td>2</td>\n",
       "      <td>501570.72</td>\n",
       "      <td>4</td>\n",
       "      <td>4</td>\n",
       "      <td>True</td>\n",
       "      <td>4</td>\n",
       "      <td>Unknown</td>\n",
       "      <td>1</td>\n",
       "    </tr>\n",
       "    <tr>\n",
       "      <th>2</th>\n",
       "      <td>169</td>\n",
       "      <td>201385055_71273495308</td>\n",
       "      <td>749567106_99161211863_557568</td>\n",
       "      <td>2</td>\n",
       "      <td>2017-04-12 20:20:31</td>\n",
       "      <td>21</td>\n",
       "      <td>262</td>\n",
       "      <td>47</td>\n",
       "      <td>Male</td>\n",
       "      <td>2</td>\n",
       "      <td>501570.72</td>\n",
       "      <td>4</td>\n",
       "      <td>4</td>\n",
       "      <td>True</td>\n",
       "      <td>4</td>\n",
       "      <td>Unknown</td>\n",
       "      <td>1</td>\n",
       "    </tr>\n",
       "    <tr>\n",
       "      <th>3</th>\n",
       "      <td>169</td>\n",
       "      <td>201385055_71273495308</td>\n",
       "      <td>749567106_99161211863_557568</td>\n",
       "      <td>1</td>\n",
       "      <td>2017-04-12 20:19:45</td>\n",
       "      <td>21</td>\n",
       "      <td>262</td>\n",
       "      <td>47</td>\n",
       "      <td>Male</td>\n",
       "      <td>2</td>\n",
       "      <td>501570.72</td>\n",
       "      <td>4</td>\n",
       "      <td>4</td>\n",
       "      <td>True</td>\n",
       "      <td>4</td>\n",
       "      <td>Unknown</td>\n",
       "      <td>1</td>\n",
       "    </tr>\n",
       "    <tr>\n",
       "      <th>4</th>\n",
       "      <td>169</td>\n",
       "      <td>201385055_71273495308</td>\n",
       "      <td>749567106_99161211863_557568</td>\n",
       "      <td>0</td>\n",
       "      <td>2017-04-12 20:19:36</td>\n",
       "      <td>21</td>\n",
       "      <td>262</td>\n",
       "      <td>47</td>\n",
       "      <td>Male</td>\n",
       "      <td>2</td>\n",
       "      <td>501570.72</td>\n",
       "      <td>4</td>\n",
       "      <td>4</td>\n",
       "      <td>True</td>\n",
       "      <td>4</td>\n",
       "      <td>Unknown</td>\n",
       "      <td>1</td>\n",
       "    </tr>\n",
       "    <tr>\n",
       "      <th>...</th>\n",
       "      <td>...</td>\n",
       "      <td>...</td>\n",
       "      <td>...</td>\n",
       "      <td>...</td>\n",
       "      <td>...</td>\n",
       "      <td>...</td>\n",
       "      <td>...</td>\n",
       "      <td>...</td>\n",
       "      <td>...</td>\n",
       "      <td>...</td>\n",
       "      <td>...</td>\n",
       "      <td>...</td>\n",
       "      <td>...</td>\n",
       "      <td>...</td>\n",
       "      <td>...</td>\n",
       "      <td>...</td>\n",
       "      <td>...</td>\n",
       "    </tr>\n",
       "    <tr>\n",
       "      <th>443767</th>\n",
       "      <td>9999839</td>\n",
       "      <td>948322592_28990736246</td>\n",
       "      <td>715530422_68620416793_515645</td>\n",
       "      <td>3</td>\n",
       "      <td>2017-03-29 12:12:28</td>\n",
       "      <td>13</td>\n",
       "      <td>160</td>\n",
       "      <td>28</td>\n",
       "      <td>Female</td>\n",
       "      <td>2</td>\n",
       "      <td>67425.35</td>\n",
       "      <td>3</td>\n",
       "      <td>3</td>\n",
       "      <td>True</td>\n",
       "      <td>4</td>\n",
       "      <td>Unknown</td>\n",
       "      <td>1</td>\n",
       "    </tr>\n",
       "    <tr>\n",
       "      <th>443768</th>\n",
       "      <td>9999839</td>\n",
       "      <td>948322592_28990736246</td>\n",
       "      <td>715530422_68620416793_515645</td>\n",
       "      <td>2</td>\n",
       "      <td>2017-03-29 12:11:50</td>\n",
       "      <td>13</td>\n",
       "      <td>160</td>\n",
       "      <td>28</td>\n",
       "      <td>Female</td>\n",
       "      <td>2</td>\n",
       "      <td>67425.35</td>\n",
       "      <td>3</td>\n",
       "      <td>3</td>\n",
       "      <td>True</td>\n",
       "      <td>4</td>\n",
       "      <td>Unknown</td>\n",
       "      <td>1</td>\n",
       "    </tr>\n",
       "    <tr>\n",
       "      <th>443769</th>\n",
       "      <td>9999839</td>\n",
       "      <td>948322592_28990736246</td>\n",
       "      <td>715530422_68620416793_515645</td>\n",
       "      <td>1</td>\n",
       "      <td>2017-03-29 12:11:35</td>\n",
       "      <td>13</td>\n",
       "      <td>160</td>\n",
       "      <td>28</td>\n",
       "      <td>Female</td>\n",
       "      <td>2</td>\n",
       "      <td>67425.35</td>\n",
       "      <td>3</td>\n",
       "      <td>3</td>\n",
       "      <td>True</td>\n",
       "      <td>4</td>\n",
       "      <td>Unknown</td>\n",
       "      <td>1</td>\n",
       "    </tr>\n",
       "    <tr>\n",
       "      <th>443770</th>\n",
       "      <td>9999839</td>\n",
       "      <td>948322592_28990736246</td>\n",
       "      <td>715530422_68620416793_515645</td>\n",
       "      <td>0</td>\n",
       "      <td>2017-03-29 12:11:32</td>\n",
       "      <td>13</td>\n",
       "      <td>160</td>\n",
       "      <td>28</td>\n",
       "      <td>Female</td>\n",
       "      <td>2</td>\n",
       "      <td>67425.35</td>\n",
       "      <td>3</td>\n",
       "      <td>3</td>\n",
       "      <td>True</td>\n",
       "      <td>4</td>\n",
       "      <td>Unknown</td>\n",
       "      <td>1</td>\n",
       "    </tr>\n",
       "    <tr>\n",
       "      <th>443771</th>\n",
       "      <td>9999839</td>\n",
       "      <td>948322592_28990736246</td>\n",
       "      <td>715530422_68620416793_515645</td>\n",
       "      <td>0</td>\n",
       "      <td>2017-03-29 12:08:55</td>\n",
       "      <td>13</td>\n",
       "      <td>160</td>\n",
       "      <td>28</td>\n",
       "      <td>Female</td>\n",
       "      <td>2</td>\n",
       "      <td>67425.35</td>\n",
       "      <td>3</td>\n",
       "      <td>3</td>\n",
       "      <td>False</td>\n",
       "      <td>4</td>\n",
       "      <td>Unknown</td>\n",
       "      <td>1</td>\n",
       "    </tr>\n",
       "  </tbody>\n",
       "</table>\n",
       "<p>443772 rows × 17 columns</p>\n",
       "</div>"
      ],
      "text/plain": [
       "        client_id             visitor_id                      visit_id  step  \\\n",
       "0             169  201385055_71273495308  749567106_99161211863_557568     4   \n",
       "1             169  201385055_71273495308  749567106_99161211863_557568     3   \n",
       "2             169  201385055_71273495308  749567106_99161211863_557568     2   \n",
       "3             169  201385055_71273495308  749567106_99161211863_557568     1   \n",
       "4             169  201385055_71273495308  749567106_99161211863_557568     0   \n",
       "...           ...                    ...                           ...   ...   \n",
       "443767    9999839  948322592_28990736246  715530422_68620416793_515645     3   \n",
       "443768    9999839  948322592_28990736246  715530422_68620416793_515645     2   \n",
       "443769    9999839  948322592_28990736246  715530422_68620416793_515645     1   \n",
       "443770    9999839  948322592_28990736246  715530422_68620416793_515645     0   \n",
       "443771    9999839  948322592_28990736246  715530422_68620416793_515645     0   \n",
       "\n",
       "                 date_time  tenure_years  tenure_months  age  gender  \\\n",
       "0      2017-04-12 20:23:09            21            262   47    Male   \n",
       "1      2017-04-12 20:22:05            21            262   47    Male   \n",
       "2      2017-04-12 20:20:31            21            262   47    Male   \n",
       "3      2017-04-12 20:19:45            21            262   47    Male   \n",
       "4      2017-04-12 20:19:36            21            262   47    Male   \n",
       "...                    ...           ...            ...  ...     ...   \n",
       "443767 2017-03-29 12:12:28            13            160   28  Female   \n",
       "443768 2017-03-29 12:11:50            13            160   28  Female   \n",
       "443769 2017-03-29 12:11:35            13            160   28  Female   \n",
       "443770 2017-03-29 12:11:32            13            160   28  Female   \n",
       "443771 2017-03-29 12:08:55            13            160   28  Female   \n",
       "\n",
       "        accounts    balance  calls_last_6_months  logons_last_6_months  \\\n",
       "0              2  501570.72                    4                     4   \n",
       "1              2  501570.72                    4                     4   \n",
       "2              2  501570.72                    4                     4   \n",
       "3              2  501570.72                    4                     4   \n",
       "4              2  501570.72                    4                     4   \n",
       "...          ...        ...                  ...                   ...   \n",
       "443767         2   67425.35                    3                     3   \n",
       "443768         2   67425.35                    3                     3   \n",
       "443769         2   67425.35                    3                     3   \n",
       "443770         2   67425.35                    3                     3   \n",
       "443771         2   67425.35                    3                     3   \n",
       "\n",
       "        stepped_back  error_count variation  completion_count  \n",
       "0              False            4   Unknown                 1  \n",
       "1               True            4   Unknown                 1  \n",
       "2               True            4   Unknown                 1  \n",
       "3               True            4   Unknown                 1  \n",
       "4               True            4   Unknown                 1  \n",
       "...              ...          ...       ...               ...  \n",
       "443767          True            4   Unknown                 1  \n",
       "443768          True            4   Unknown                 1  \n",
       "443769          True            4   Unknown                 1  \n",
       "443770          True            4   Unknown                 1  \n",
       "443771         False            4   Unknown                 1  \n",
       "\n",
       "[443772 rows x 17 columns]"
      ]
     },
     "execution_count": 10,
     "metadata": {},
     "output_type": "execute_result"
    }
   ],
   "source": [
    "kpi_df"
   ]
  },
  {
   "cell_type": "markdown",
   "id": "f0445e92-3c0f-421a-be51-b469e60bf35a",
   "metadata": {},
   "source": [
    "# **Time spent on each step**"
   ]
  },
  {
   "cell_type": "markdown",
   "id": "6db94983",
   "metadata": {},
   "source": [
    "New approach: calculate the time difference between consecutive steps for each client during each visit (this time taking `'visit_id'`):\n",
    "\n",
    "- Sort the Data: Sort by `'client_id'`, `'visit_id'`, and `'step'` to ensure that steps are ordered for each client within each session.\n",
    "- Calculate Time Spent on Each Step: For each `'client_id'` and `'visit_id'`, calculate the difference between the timestamp of the current step and the next step for that client.\n",
    "- Group by `'client_id'` and `'step'`: Calculate the average time spent on each step."
   ]
  },
  {
   "cell_type": "code",
   "execution_count": 11,
   "id": "16c00319",
   "metadata": {},
   "outputs": [
    {
     "name": "stdout",
     "output_type": "stream",
     "text": [
      "   client_id  step  avg_time_spent  avg_time_seconds  avg_time_minutes\n",
      "0        169     0 0 days 00:00:09                 9              0.15\n",
      "1        169     1 0 days 00:00:46                46              0.77\n",
      "2        169     2 0 days 00:01:34                94              1.57\n",
      "3        169     3 0 days 00:01:04                64              1.07\n",
      "4        169     4 0 days 00:00:00                 0              0.00\n"
     ]
    }
   ],
   "source": [
    "def calculate_average_time_per_step(df):\n",
    "    df['date_time'] = pd.to_datetime(df['date_time'])\n",
    "    \n",
    "    df = df.sort_values(by=['client_id', 'visit_id', 'step'])\n",
    "    \n",
    "    df['next_step_time'] = df.groupby(['client_id', 'visit_id'])['date_time'].shift(-1) # calculate by shifting the 'date_time' column within each client and visit\n",
    "    df['time_spent'] = df['next_step_time'] - df['date_time']\n",
    "    \n",
    "    step_4_rows = df[df['step'] == 4].copy()    \n",
    "    step_4_rows['next_step_time'] = step_4_rows.groupby('visit_id')['date_time'].transform('max') # calculate 'next_step_time' as the max 'date_time' in each visit (end of the session)\n",
    "    \n",
    "    df.loc[df['step'] == 4, 'next_step_time'] = step_4_rows['next_step_time']\n",
    "    df['time_spent'] = df['next_step_time'] - df['date_time'] # recalculate for step 4 after updating column\n",
    "    df = df.dropna(subset=['time_spent']) # drop empty rows\n",
    "    \n",
    "    avg_time_per_step = df.groupby(['client_id', 'step'])['time_spent'].mean().reset_index(name='avg_time_spent') # group by and calculate\n",
    "    \n",
    "    # convert 'avg_time_spent' to total seconds and round up to the nearest integer using np.ceil()\n",
    "    avg_time_per_step['avg_time_seconds'] = np.ceil(avg_time_per_step['avg_time_spent'].dt.total_seconds()).astype(int)\n",
    "    avg_time_per_step['avg_time_minutes'] = avg_time_per_step['avg_time_seconds'] / 60\n",
    "\n",
    "    avg_time_per_step['avg_time_minutes'] = avg_time_per_step['avg_time_minutes'].round(2) # round decimal in minutes\n",
    "    \n",
    "    return avg_time_per_step\n",
    "\n",
    "\n",
    "time_per_step_df = calculate_average_time_per_step(kpi_df)\n",
    "\n",
    "print(time_per_step_df.head())"
   ]
  },
  {
   "cell_type": "code",
   "execution_count": 32,
   "id": "4e7c7d68",
   "metadata": {},
   "outputs": [
    {
     "data": {
      "text/html": [
       "<div>\n",
       "<style scoped>\n",
       "    .dataframe tbody tr th:only-of-type {\n",
       "        vertical-align: middle;\n",
       "    }\n",
       "\n",
       "    .dataframe tbody tr th {\n",
       "        vertical-align: top;\n",
       "    }\n",
       "\n",
       "    .dataframe thead th {\n",
       "        text-align: right;\n",
       "    }\n",
       "</style>\n",
       "<table border=\"1\" class=\"dataframe\">\n",
       "  <thead>\n",
       "    <tr style=\"text-align: right;\">\n",
       "      <th></th>\n",
       "      <th>client_id</th>\n",
       "      <th>step</th>\n",
       "      <th>avg_time_spent</th>\n",
       "      <th>avg_time_seconds</th>\n",
       "      <th>avg_time_minutes</th>\n",
       "      <th>step_name</th>\n",
       "    </tr>\n",
       "  </thead>\n",
       "  <tbody>\n",
       "    <tr>\n",
       "      <th>0</th>\n",
       "      <td>169</td>\n",
       "      <td>0</td>\n",
       "      <td>0 days 00:00:09</td>\n",
       "      <td>9</td>\n",
       "      <td>0.15</td>\n",
       "      <td>Start</td>\n",
       "    </tr>\n",
       "    <tr>\n",
       "      <th>1</th>\n",
       "      <td>169</td>\n",
       "      <td>1</td>\n",
       "      <td>0 days 00:00:46</td>\n",
       "      <td>46</td>\n",
       "      <td>0.77</td>\n",
       "      <td>Step 1</td>\n",
       "    </tr>\n",
       "    <tr>\n",
       "      <th>2</th>\n",
       "      <td>169</td>\n",
       "      <td>2</td>\n",
       "      <td>0 days 00:01:34</td>\n",
       "      <td>94</td>\n",
       "      <td>1.57</td>\n",
       "      <td>Step 2</td>\n",
       "    </tr>\n",
       "    <tr>\n",
       "      <th>3</th>\n",
       "      <td>169</td>\n",
       "      <td>3</td>\n",
       "      <td>0 days 00:01:04</td>\n",
       "      <td>64</td>\n",
       "      <td>1.07</td>\n",
       "      <td>Step 3</td>\n",
       "    </tr>\n",
       "    <tr>\n",
       "      <th>4</th>\n",
       "      <td>169</td>\n",
       "      <td>4</td>\n",
       "      <td>0 days 00:00:00</td>\n",
       "      <td>0</td>\n",
       "      <td>0.00</td>\n",
       "      <td>Finish</td>\n",
       "    </tr>\n",
       "    <tr>\n",
       "      <th>...</th>\n",
       "      <td>...</td>\n",
       "      <td>...</td>\n",
       "      <td>...</td>\n",
       "      <td>...</td>\n",
       "      <td>...</td>\n",
       "      <td>...</td>\n",
       "    </tr>\n",
       "    <tr>\n",
       "      <th>272937</th>\n",
       "      <td>9999839</td>\n",
       "      <td>0</td>\n",
       "      <td>0 days 00:00:01.500000</td>\n",
       "      <td>2</td>\n",
       "      <td>0.03</td>\n",
       "      <td>Start</td>\n",
       "    </tr>\n",
       "    <tr>\n",
       "      <th>272938</th>\n",
       "      <td>9999839</td>\n",
       "      <td>1</td>\n",
       "      <td>0 days 00:00:15</td>\n",
       "      <td>15</td>\n",
       "      <td>0.25</td>\n",
       "      <td>Step 1</td>\n",
       "    </tr>\n",
       "    <tr>\n",
       "      <th>272939</th>\n",
       "      <td>9999839</td>\n",
       "      <td>2</td>\n",
       "      <td>0 days 00:00:38</td>\n",
       "      <td>38</td>\n",
       "      <td>0.63</td>\n",
       "      <td>Step 2</td>\n",
       "    </tr>\n",
       "    <tr>\n",
       "      <th>272940</th>\n",
       "      <td>9999839</td>\n",
       "      <td>3</td>\n",
       "      <td>0 days 00:00:35</td>\n",
       "      <td>35</td>\n",
       "      <td>0.58</td>\n",
       "      <td>Step 3</td>\n",
       "    </tr>\n",
       "    <tr>\n",
       "      <th>272941</th>\n",
       "      <td>9999839</td>\n",
       "      <td>4</td>\n",
       "      <td>0 days 00:00:00</td>\n",
       "      <td>0</td>\n",
       "      <td>0.00</td>\n",
       "      <td>Finish</td>\n",
       "    </tr>\n",
       "  </tbody>\n",
       "</table>\n",
       "<p>272942 rows × 6 columns</p>\n",
       "</div>"
      ],
      "text/plain": [
       "        client_id  step         avg_time_spent  avg_time_seconds  \\\n",
       "0             169     0        0 days 00:00:09                 9   \n",
       "1             169     1        0 days 00:00:46                46   \n",
       "2             169     2        0 days 00:01:34                94   \n",
       "3             169     3        0 days 00:01:04                64   \n",
       "4             169     4        0 days 00:00:00                 0   \n",
       "...           ...   ...                    ...               ...   \n",
       "272937    9999839     0 0 days 00:00:01.500000                 2   \n",
       "272938    9999839     1        0 days 00:00:15                15   \n",
       "272939    9999839     2        0 days 00:00:38                38   \n",
       "272940    9999839     3        0 days 00:00:35                35   \n",
       "272941    9999839     4        0 days 00:00:00                 0   \n",
       "\n",
       "        avg_time_minutes step_name  \n",
       "0                   0.15     Start  \n",
       "1                   0.77    Step 1  \n",
       "2                   1.57    Step 2  \n",
       "3                   1.07    Step 3  \n",
       "4                   0.00    Finish  \n",
       "...                  ...       ...  \n",
       "272937              0.03     Start  \n",
       "272938              0.25    Step 1  \n",
       "272939              0.63    Step 2  \n",
       "272940              0.58    Step 3  \n",
       "272941              0.00    Finish  \n",
       "\n",
       "[272942 rows x 6 columns]"
      ]
     },
     "execution_count": 32,
     "metadata": {},
     "output_type": "execute_result"
    }
   ],
   "source": [
    "step_name_mapping = {0: 'Start', 1: 'Step 1', 2: 'Step 2', 3: 'Step 3', 4: 'Finish'}\n",
    "time_per_step_df['step_name'] = time_per_step_df['step'].map(step_name_mapping)\n",
    "\n",
    "time_per_step_df"
   ]
  },
  {
   "cell_type": "code",
   "execution_count": null,
   "id": "539c4cc5",
   "metadata": {},
   "outputs": [
    {
     "name": "stderr",
     "output_type": "stream",
     "text": [
      "/tmp/ipykernel_123598/1864979814.py:7: FutureWarning: \n",
      "\n",
      "Passing `palette` without assigning `hue` is deprecated and will be removed in v0.14.0. Assign the `x` variable to `hue` and set `legend=False` for the same effect.\n",
      "\n",
      "  sns.barplot(x='step_name', y='avg_time_minutes', data=time_per_step_df, palette='viridis')\n"
     ]
    },
    {
     "data": {
      "image/png": "[encoded data removed]",
      "text/plain": [
       "<Figure size 1000x600 with 1 Axes>"
      ]
     },
     "metadata": {},
     "output_type": "display_data"
    }
   ],
   "source": [
    "# Bar plot for average time spent per step (without hue)\n",
    "plt.figure(figsize=(10, 6))\n",
    "sns.barplot(x='step_name', y='avg_time_minutes', data=time_per_step_df, palette='viridis')\n",
    "\n",
    "plt.title('Average Time Spent per Step', fontsize=16)\n",
    "plt.xlabel('Step', fontsize=12)\n",
    "plt.ylabel('Time (minutes)', fontsize=12)\n",
    "plt.xticks(rotation=45)\n",
    "plt.tight_layout()\n",
    "plt.show()"
   ]
  },
  {
   "cell_type": "code",
   "execution_count": null,
   "id": "dbf258b3",
   "metadata": {},
   "outputs": [
    {
     "data": {
      "image/png": "[encoded data removed]",
      "text/plain": [
       "<Figure size 1000x600 with 1 Axes>"
      ]
     },
     "metadata": {},
     "output_type": "display_data"
    }
   ],
   "source": [
    "# Line plot for time spent across steps (can be useful to see trends)\n",
    "plt.figure(figsize=(10, 6))\n",
    "sns.lineplot(x='step_name', y='avg_time_minutes', data=time_per_step_df, marker='o', color='blue')\n",
    "plt.title('Average Time Spent per Step', fontsize=16)\n",
    "plt.xlabel('Step', fontsize=12)\n",
    "plt.ylabel('Time (minutes)', fontsize=12)\n",
    "plt.xticks(rotation=45)\n",
    "plt.tight_layout()\n",
    "plt.show()"
   ]
  },
  {
   "cell_type": "code",
   "execution_count": 34,
   "id": "d977920a",
   "metadata": {},
   "outputs": [
    {
     "data": {
      "image/png": "[encoded data removed]",
      "text/plain": [
       "<Figure size 1000x600 with 1 Axes>"
      ]
     },
     "metadata": {},
     "output_type": "display_data"
    }
   ],
   "source": [
    "# Box plot to show distribution of time spent per step\n",
    "plt.figure(figsize=(10, 6))\n",
    "sns.boxplot(x='step_name', y='avg_time_minutes', data=time_per_step_df)\n",
    "plt.title('Distribution of Time Spent per Step', fontsize=16)\n",
    "plt.xlabel('Step', fontsize=12)\n",
    "plt.ylabel('Time (minutes)', fontsize=12)\n",
    "plt.xticks(rotation=45)\n",
    "plt.tight_layout()\n",
    "plt.show()"
   ]
  },
  {
   "cell_type": "markdown",
   "id": "716f1198-4369-4f69-a799-405b1949aced",
   "metadata": {},
   "source": [
    "# **Error Rates**\n",
    "_(Constanza's code)_"
   ]
  },
  {
   "cell_type": "code",
   "execution_count": null,
   "id": "123bea70-4319-41f7-b16b-d9d0a2f0d955",
   "metadata": {},
   "outputs": [],
   "source": [
    "# df = pd.read_csv('../../data/clean/combined_cleaned_data.csv')"
   ]
  },
  {
   "cell_type": "code",
   "execution_count": null,
   "id": "cdde0287-7550-44f1-986b-9b54607c0d6c",
   "metadata": {},
   "outputs": [],
   "source": [
    "# sort df by client_id and date_time\n",
    "# df = df.sort_values(by=['client_id', 'date_time'])"
   ]
  },
  {
   "cell_type": "code",
   "execution_count": null,
   "id": "2826957d-453c-4a36-82b5-026770f230e3",
   "metadata": {},
   "outputs": [
    {
     "name": "stdout",
     "output_type": "stream",
     "text": [
      "Number of clients with at least one error: 42424\n",
      "Errors per client:\n",
      "client_id\n",
      "722        2\n",
      "805        2\n",
      "832        1\n",
      "1028       2\n",
      "1197       1\n",
      "          ..\n",
      "9998460    1\n",
      "9998980    1\n",
      "9999150    1\n",
      "9999729    2\n",
      "9999768    3\n",
      "Length: 42424, dtype: int64\n",
      "Total number of errors across all clients: 74980\n"
     ]
    }
   ],
   "source": [
    "# # Detect backward steps (errors) for all clients\n",
    "# df['backward_step'] = df.groupby('client_id')['step'].diff() < 0\n",
    "\n",
    "# # Count the number of unique clients who experienced at least one error\n",
    "# clients_with_errors = df[df['backward_step']]['client_id'].nunique()\n",
    "\n",
    "# # Count the total number of errors for each client\n",
    "# errors_per_client = df[df['backward_step']].groupby('client_id').size()\n",
    "\n",
    "# # Total number of errors across all clients\n",
    "# total_errors = df['backward_step'].sum()\n",
    "\n",
    "# # Output results\n",
    "# print(f'Number of clients with at least one error: {clients_with_errors}')\n",
    "# print('Errors per client:')\n",
    "# print(errors_per_client)\n",
    "# print(f'Total number of errors across all clients: {total_errors}')"
   ]
  },
  {
   "cell_type": "code",
   "execution_count": null,
   "id": "3191aa25-42b4-469e-b643-a03bad18d60a",
   "metadata": {},
   "outputs": [],
   "source": []
  },
  {
   "cell_type": "code",
   "execution_count": null,
   "id": "b3089ecb-298a-40b7-b7c4-989169c7bdbf",
   "metadata": {},
   "outputs": [],
   "source": [
    "# # add column 'error_count'\n",
    "# df['error_count'] = df['client_id'].map(errors_per_client).fillna(0).astype(int)"
   ]
  },
  {
   "cell_type": "markdown",
   "id": "48abe400",
   "metadata": {},
   "source": [
    "## Error count (Taking `visit_id` into account)"
   ]
  },
  {
   "cell_type": "code",
   "execution_count": null,
   "id": "71567667",
   "metadata": {},
   "outputs": [],
   "source": []
  },
  {
   "cell_type": "markdown",
   "id": "370564ca-ade9-405c-87f2-a7340575fc4e",
   "metadata": {},
   "source": [
    "# **Redesign Outcome**\n",
    "Based on the chosen KPIs, how does the new design’s performance compare to the old one?"
   ]
  },
  {
   "cell_type": "markdown",
   "id": "63240691-8863-4d87-a26a-399aaf59f14a",
   "metadata": {},
   "source": [
    "For the project requirements and instructions for today’s tasks in full, please refer to the project brief. However, in order to keep on track you may refer to the daily goals outlined below:\n",
    "\n",
    "By the end of day, we recommend you have:\n",
    "\n",
    "Reviewed KPI and Metrics material.\n",
    "Discovered what key performance indicators (KPIs) will determine the success of the new design\n",
    "Use at least completion rate, time spent on each step and error rates. Add any KPIs you might find relevant.\n",
    "Evaluated how the new design’s performance compare to the old one, given the chosen KPIs (completion rate, time spent on each step and error rates)."
   ]
  },
  {
   "cell_type": "markdown",
   "id": "637b6dc3-04dd-4cce-bd2f-4cf401c9125e",
   "metadata": {},
   "source": [
    "Steps:\n",
    "- [x] import `merged_final_demo_final_experiment_clients_df`\n",
    "- [x] merge with `kpi_df`\n",
    "- [x] add column of errors per client\n",
    "- [x] clean data if needed"
   ]
  },
  {
   "cell_type": "code",
   "execution_count": 23,
   "id": "76cbf522-9670-48de-a413-572640616ebd",
   "metadata": {},
   "outputs": [],
   "source": [
    "merged_final_demo_final_experiment_clients_df = pd.read_csv('../../data/clean/merged_final_demo_final_experiment_clients_df.csv')"
   ]
  },
  {
   "cell_type": "code",
   "execution_count": 24,
   "id": "2571cf25-5d1a-4ddd-b76f-b02a96b9d317",
   "metadata": {},
   "outputs": [],
   "source": [
    "merged_df = pd.merge(kpi_df, merged_final_demo_final_experiment_clients_df, on='client_id', how='outer')"
   ]
  },
  {
   "cell_type": "code",
   "execution_count": 25,
   "id": "8ee05fd6-98b2-41b0-a1c9-384ef827feef",
   "metadata": {},
   "outputs": [],
   "source": [
    "# match datatypes in dfs before merging on `date_time` column to prevent errors\n",
    "merged_df['date_time'] = pd.to_datetime(merged_df['date_time'], errors='coerce')\n",
    "df['date_time'] = pd.to_datetime(df['date_time'], errors='coerce')"
   ]
  },
  {
   "cell_type": "code",
   "execution_count": 26,
   "id": "296acb21-eeb1-4033-bf40-0fd4ea9cee85",
   "metadata": {},
   "outputs": [],
   "source": [
    "# select columns to merge\n",
    "df_selected = df[['client_id', 'date_time', 'backward_step', 'error_count']]\n",
    "merged_kpi_df = pd.merge(merged_df, df_selected, on=['client_id', 'date_time'], how='left')"
   ]
  },
  {
   "cell_type": "code",
   "execution_count": 27,
   "id": "798fb414-98f2-4b8f-8d19-e0ded4d37224",
   "metadata": {},
   "outputs": [],
   "source": [
    "# merged_kpi_df: 5682251 rows, 15 columns - before matching date_time\n",
    "# merged_kpi_df: 631469 rows × 15 columns - after matching date and time"
   ]
  },
  {
   "cell_type": "code",
   "execution_count": 28,
   "id": "704f500d-4039-407d-9c4e-214db7f769f6",
   "metadata": {},
   "outputs": [],
   "source": [
    "merged_kpi_df.rename(columns={'backward_step': 'stepped_back'}, inplace=True)"
   ]
  },
  {
   "cell_type": "code",
   "execution_count": 29,
   "id": "ce8815c5-3ceb-45e6-a897-c9264787cf57",
   "metadata": {},
   "outputs": [
    {
     "ename": "KeyError",
     "evalue": "\"['client_tenure_months' 'num_accounts' 'calls_last_6_months'\\n 'logons_last_6_months' 'balance'] not found in axis\"",
     "output_type": "error",
     "traceback": [
      "\u001b[0;31m---------------------------------------------------------------------------\u001b[0m",
      "\u001b[0;31mKeyError\u001b[0m                                  Traceback (most recent call last)",
      "\u001b[0;32m/tmp/ipykernel_123598/750238738.py\u001b[0m in \u001b[0;36m?\u001b[0;34m()\u001b[0m\n\u001b[0;32m----> 1\u001b[0;31m \u001b[0mmerged_kpi_df\u001b[0m\u001b[0;34m.\u001b[0m\u001b[0mdrop\u001b[0m\u001b[0;34m(\u001b[0m\u001b[0mcolumns\u001b[0m\u001b[0;34m=\u001b[0m\u001b[0;34m[\u001b[0m\u001b[0;34m'client_tenure_months'\u001b[0m\u001b[0;34m,\u001b[0m \u001b[0;34m'num_accounts'\u001b[0m\u001b[0;34m,\u001b[0m \u001b[0;34m'calls_last_6_months'\u001b[0m\u001b[0;34m,\u001b[0m \u001b[0;34m'logons_last_6_months'\u001b[0m\u001b[0;34m,\u001b[0m \u001b[0;34m'balance'\u001b[0m\u001b[0;34m]\u001b[0m\u001b[0;34m,\u001b[0m \u001b[0minplace\u001b[0m\u001b[0;34m=\u001b[0m\u001b[0;32mTrue\u001b[0m\u001b[0;34m)\u001b[0m\u001b[0;34m\u001b[0m\u001b[0;34m\u001b[0m\u001b[0m\n\u001b[0m",
      "\u001b[0;32m~/Code/ironhack/week-5/vanguard-cx-project/.venv/lib/python3.12/site-packages/pandas/core/frame.py\u001b[0m in \u001b[0;36m?\u001b[0;34m(self, labels, axis, index, columns, level, inplace, errors)\u001b[0m\n\u001b[1;32m   5577\u001b[0m                 \u001b[0mweight\u001b[0m  \u001b[0;36m250.0\u001b[0m   \u001b[0;36m150.0\u001b[0m\u001b[0;34m\u001b[0m\u001b[0;34m\u001b[0m\u001b[0m\n\u001b[1;32m   5578\u001b[0m         \u001b[0mfalcon\u001b[0m  \u001b[0mspeed\u001b[0m   \u001b[0;36m320.0\u001b[0m   \u001b[0;36m250.0\u001b[0m\u001b[0;34m\u001b[0m\u001b[0;34m\u001b[0m\u001b[0m\n\u001b[1;32m   5579\u001b[0m                 \u001b[0mweight\u001b[0m  \u001b[0;36m1.0\u001b[0m     \u001b[0;36m0.8\u001b[0m\u001b[0;34m\u001b[0m\u001b[0;34m\u001b[0m\u001b[0m\n\u001b[1;32m   5580\u001b[0m         \"\"\"\n\u001b[0;32m-> 5581\u001b[0;31m         return super().drop(\n\u001b[0m\u001b[1;32m   5582\u001b[0m             \u001b[0mlabels\u001b[0m\u001b[0;34m=\u001b[0m\u001b[0mlabels\u001b[0m\u001b[0;34m,\u001b[0m\u001b[0;34m\u001b[0m\u001b[0;34m\u001b[0m\u001b[0m\n\u001b[1;32m   5583\u001b[0m             \u001b[0maxis\u001b[0m\u001b[0;34m=\u001b[0m\u001b[0maxis\u001b[0m\u001b[0;34m,\u001b[0m\u001b[0;34m\u001b[0m\u001b[0;34m\u001b[0m\u001b[0m\n\u001b[1;32m   5584\u001b[0m             \u001b[0mindex\u001b[0m\u001b[0;34m=\u001b[0m\u001b[0mindex\u001b[0m\u001b[0;34m,\u001b[0m\u001b[0;34m\u001b[0m\u001b[0;34m\u001b[0m\u001b[0m\n",
      "\u001b[0;32m~/Code/ironhack/week-5/vanguard-cx-project/.venv/lib/python3.12/site-packages/pandas/core/generic.py\u001b[0m in \u001b[0;36m?\u001b[0;34m(self, labels, axis, index, columns, level, inplace, errors)\u001b[0m\n\u001b[1;32m   4784\u001b[0m         \u001b[0mobj\u001b[0m \u001b[0;34m=\u001b[0m \u001b[0mself\u001b[0m\u001b[0;34m\u001b[0m\u001b[0;34m\u001b[0m\u001b[0m\n\u001b[1;32m   4785\u001b[0m \u001b[0;34m\u001b[0m\u001b[0m\n\u001b[1;32m   4786\u001b[0m         \u001b[0;32mfor\u001b[0m \u001b[0maxis\u001b[0m\u001b[0;34m,\u001b[0m \u001b[0mlabels\u001b[0m \u001b[0;32min\u001b[0m \u001b[0maxes\u001b[0m\u001b[0;34m.\u001b[0m\u001b[0mitems\u001b[0m\u001b[0;34m(\u001b[0m\u001b[0;34m)\u001b[0m\u001b[0;34m:\u001b[0m\u001b[0;34m\u001b[0m\u001b[0;34m\u001b[0m\u001b[0m\n\u001b[1;32m   4787\u001b[0m             \u001b[0;32mif\u001b[0m \u001b[0mlabels\u001b[0m \u001b[0;32mis\u001b[0m \u001b[0;32mnot\u001b[0m \u001b[0;32mNone\u001b[0m\u001b[0;34m:\u001b[0m\u001b[0;34m\u001b[0m\u001b[0;34m\u001b[0m\u001b[0m\n\u001b[0;32m-> 4788\u001b[0;31m                 \u001b[0mobj\u001b[0m \u001b[0;34m=\u001b[0m \u001b[0mobj\u001b[0m\u001b[0;34m.\u001b[0m\u001b[0m_drop_axis\u001b[0m\u001b[0;34m(\u001b[0m\u001b[0mlabels\u001b[0m\u001b[0;34m,\u001b[0m \u001b[0maxis\u001b[0m\u001b[0;34m,\u001b[0m \u001b[0mlevel\u001b[0m\u001b[0;34m=\u001b[0m\u001b[0mlevel\u001b[0m\u001b[0;34m,\u001b[0m \u001b[0merrors\u001b[0m\u001b[0;34m=\u001b[0m\u001b[0merrors\u001b[0m\u001b[0;34m)\u001b[0m\u001b[0;34m\u001b[0m\u001b[0;34m\u001b[0m\u001b[0m\n\u001b[0m\u001b[1;32m   4789\u001b[0m \u001b[0;34m\u001b[0m\u001b[0m\n\u001b[1;32m   4790\u001b[0m         \u001b[0;32mif\u001b[0m \u001b[0minplace\u001b[0m\u001b[0;34m:\u001b[0m\u001b[0;34m\u001b[0m\u001b[0;34m\u001b[0m\u001b[0m\n\u001b[1;32m   4791\u001b[0m             \u001b[0mself\u001b[0m\u001b[0;34m.\u001b[0m\u001b[0m_update_inplace\u001b[0m\u001b[0;34m(\u001b[0m\u001b[0mobj\u001b[0m\u001b[0;34m)\u001b[0m\u001b[0;34m\u001b[0m\u001b[0;34m\u001b[0m\u001b[0m\n",
      "\u001b[0;32m~/Code/ironhack/week-5/vanguard-cx-project/.venv/lib/python3.12/site-packages/pandas/core/generic.py\u001b[0m in \u001b[0;36m?\u001b[0;34m(self, labels, axis, level, errors, only_slice)\u001b[0m\n\u001b[1;32m   4855\u001b[0m                 \u001b[0mmask\u001b[0m \u001b[0;34m=\u001b[0m \u001b[0;34m~\u001b[0m\u001b[0maxis\u001b[0m\u001b[0;34m.\u001b[0m\u001b[0misin\u001b[0m\u001b[0;34m(\u001b[0m\u001b[0mlabels\u001b[0m\u001b[0;34m)\u001b[0m\u001b[0;34m\u001b[0m\u001b[0;34m\u001b[0m\u001b[0m\n\u001b[1;32m   4856\u001b[0m                 \u001b[0;31m# Check if label doesn't exist along axis\u001b[0m\u001b[0;34m\u001b[0m\u001b[0;34m\u001b[0m\u001b[0m\n\u001b[1;32m   4857\u001b[0m                 \u001b[0mlabels_missing\u001b[0m \u001b[0;34m=\u001b[0m \u001b[0;34m(\u001b[0m\u001b[0maxis\u001b[0m\u001b[0;34m.\u001b[0m\u001b[0mget_indexer_for\u001b[0m\u001b[0;34m(\u001b[0m\u001b[0mlabels\u001b[0m\u001b[0;34m)\u001b[0m \u001b[0;34m==\u001b[0m \u001b[0;34m-\u001b[0m\u001b[0;36m1\u001b[0m\u001b[0;34m)\u001b[0m\u001b[0;34m.\u001b[0m\u001b[0many\u001b[0m\u001b[0;34m(\u001b[0m\u001b[0;34m)\u001b[0m\u001b[0;34m\u001b[0m\u001b[0;34m\u001b[0m\u001b[0m\n\u001b[1;32m   4858\u001b[0m                 \u001b[0;32mif\u001b[0m \u001b[0merrors\u001b[0m \u001b[0;34m==\u001b[0m \u001b[0;34m\"raise\"\u001b[0m \u001b[0;32mand\u001b[0m \u001b[0mlabels_missing\u001b[0m\u001b[0;34m:\u001b[0m\u001b[0;34m\u001b[0m\u001b[0;34m\u001b[0m\u001b[0m\n\u001b[0;32m-> 4859\u001b[0;31m                     \u001b[0;32mraise\u001b[0m \u001b[0mKeyError\u001b[0m\u001b[0;34m(\u001b[0m\u001b[0;34mf\"\u001b[0m\u001b[0;34m{\u001b[0m\u001b[0mlabels\u001b[0m\u001b[0;34m}\u001b[0m\u001b[0;34m not found in axis\u001b[0m\u001b[0;34m\"\u001b[0m\u001b[0;34m)\u001b[0m\u001b[0;34m\u001b[0m\u001b[0;34m\u001b[0m\u001b[0m\n\u001b[0m\u001b[1;32m   4860\u001b[0m \u001b[0;34m\u001b[0m\u001b[0m\n\u001b[1;32m   4861\u001b[0m             \u001b[0;32mif\u001b[0m \u001b[0misinstance\u001b[0m\u001b[0;34m(\u001b[0m\u001b[0mmask\u001b[0m\u001b[0;34m.\u001b[0m\u001b[0mdtype\u001b[0m\u001b[0;34m,\u001b[0m \u001b[0mExtensionDtype\u001b[0m\u001b[0;34m)\u001b[0m\u001b[0;34m:\u001b[0m\u001b[0;34m\u001b[0m\u001b[0;34m\u001b[0m\u001b[0m\n\u001b[1;32m   4862\u001b[0m                 \u001b[0;31m# GH#45860\u001b[0m\u001b[0;34m\u001b[0m\u001b[0;34m\u001b[0m\u001b[0m\n",
      "\u001b[0;31mKeyError\u001b[0m: \"['client_tenure_months' 'num_accounts' 'calls_last_6_months'\\n 'logons_last_6_months' 'balance'] not found in axis\""
     ]
    }
   ],
   "source": [
    "merged_kpi_df.drop(columns=['client_tenure_months', 'num_accounts', 'calls_last_6_months', 'logons_last_6_months', 'balance'], inplace=True)"
   ]
  },
  {
   "cell_type": "code",
   "execution_count": null,
   "id": "32452d76-39e7-45e5-a789-c56c2dfc262a",
   "metadata": {},
   "outputs": [],
   "source": [
    "functions.floats_to_ints(merged_kpi_df, 'step')\n",
    "functions.floats_to_ints(merged_kpi_df, 'client_tenure_years')\n",
    "functions.floats_to_ints(merged_kpi_df, 'client_age')\n",
    "functions.floats_to_ints(merged_kpi_df, 'error_count')"
   ]
  },
  {
   "cell_type": "code",
   "execution_count": null,
   "id": "bbc7f1f0-344b-43b9-b68f-d237c97e19b7",
   "metadata": {},
   "outputs": [],
   "source": [
    "# convert NaN values in 'variation' to 'Unknown'\n",
    "merged_kpi_df['variation'] = merged_kpi_df['variation'].fillna('Unknown')"
   ]
  },
  {
   "cell_type": "code",
   "execution_count": null,
   "id": "8d8daa4d-5a1e-48d8-ad29-3253e228af78",
   "metadata": {},
   "outputs": [],
   "source": [
    "functions.handle_unique_gender_values(merged_kpi_df)"
   ]
  },
  {
   "cell_type": "markdown",
   "id": "d472b47d-6841-4130-9781-5bec0a60b4c8",
   "metadata": {},
   "source": [
    "### Evaluate how the new design’s performance compare to the old one, given the chosen KPIs (completion rate, time spent on each step and error rates).\n",
    "\n"
   ]
  },
  {
   "cell_type": "code",
   "execution_count": null,
   "id": "8915b4a0-a698-4014-992a-7e2d754176fe",
   "metadata": {},
   "outputs": [],
   "source": [
    "# split in dfs, for Variation Control and Variation Test\n",
    "df_test_kpi = merged_kpi_df[merged_kpi_df['variation'] == 'Test']\n",
    "df_control_kpi = merged_kpi_df[merged_kpi_df['variation'] == 'Control']\n",
    "df_unknown_kpi = merged_kpi_df[merged_kpi_df['variation'] == 'Unknown']"
   ]
  },
  {
   "cell_type": "code",
   "execution_count": null,
   "id": "17f20dad-5b08-4d09-9a52-1f135c1a2a70",
   "metadata": {},
   "outputs": [],
   "source": [
    "# drop empty rows\n",
    "df_test_kpi = df_test_kpi.dropna()\n",
    "df_control_kpi = df_control_kpi.dropna()\n",
    "df_unknown_kpi = df_unknown_kpi.dropna()"
   ]
  },
  {
   "cell_type": "markdown",
   "id": "03d86abe-d5b7-4305-9326-396877ed4f06",
   "metadata": {},
   "source": [
    "## Completion Rates"
   ]
  },
  {
   "cell_type": "code",
   "execution_count": null,
   "id": "03afec82-18b3-48c7-8586-78c1abe45e28",
   "metadata": {},
   "outputs": [],
   "source": [
    "print('\\nCompletion rate for Control:')\n",
    "functions.find_completion_rate(df_control_kpi)"
   ]
  },
  {
   "cell_type": "code",
   "execution_count": null,
   "id": "795b51e3-daa5-4c30-aad4-e05ba13e6b14",
   "metadata": {},
   "outputs": [],
   "source": [
    "print('\\nCompletion rate for Test:')\n",
    "functions.find_completion_rate(df_test_kpi)"
   ]
  },
  {
   "cell_type": "markdown",
   "id": "03c3535b-599b-4895-bf82-bffb56d500b3",
   "metadata": {},
   "source": [
    "## Time spent on each step"
   ]
  },
  {
   "cell_type": "code",
   "execution_count": null,
   "id": "17f4d595-3ed5-4df1-a379-5f76a6167269",
   "metadata": {},
   "outputs": [],
   "source": [
    "functions.calculate_time_per_step(df_test_kpi)"
   ]
  },
  {
   "cell_type": "code",
   "execution_count": null,
   "id": "0e25db30-2a57-4113-8b2d-4bd6d9bdc9df",
   "metadata": {},
   "outputs": [],
   "source": [
    "functions.calculate_time_per_step(df_control_kpi)"
   ]
  },
  {
   "cell_type": "markdown",
   "id": "f9c3894d-5966-4c3c-abe9-f57038d90419",
   "metadata": {},
   "source": [
    "## Error Rate"
   ]
  },
  {
   "cell_type": "code",
   "execution_count": null,
   "id": "76eb7a85-21fe-4083-b43c-54caccf44306",
   "metadata": {},
   "outputs": [],
   "source": [
    "functions.find_error_rate(df_test_kpi)"
   ]
  },
  {
   "cell_type": "code",
   "execution_count": null,
   "id": "5d914c14-ed2a-4cc9-99bb-8debe4bdfae0",
   "metadata": {},
   "outputs": [],
   "source": [
    "functions.find_error_rate(df_control_kpi)"
   ]
  },
  {
   "cell_type": "code",
   "execution_count": null,
   "id": "e9ab53ec-3913-4b47-8363-4b085e3222a5",
   "metadata": {},
   "outputs": [],
   "source": [
    "functions.find_error_rate(df_unknown_kpi)"
   ]
  },
  {
   "cell_type": "markdown",
   "id": "a41821b1-3c3c-47c2-8435-69820bb96018",
   "metadata": {},
   "source": [
    "# Storing values"
   ]
  },
  {
   "cell_type": "code",
   "execution_count": null,
   "id": "7deff483-2cc5-4650-a571-1b29ffd76f6f",
   "metadata": {},
   "outputs": [],
   "source": [
    "# store the results for test df\n",
    "test_unique_finished, test_total_clients, test_completion_rate = functions.find_completion_rate(df_test_kpi)\n",
    "test_avg_time_per_step = functions.calculate_time_per_step(df_test_kpi)\n",
    "test_clients_with_errors, test_errors_per_client, test_total_errors = functions.find_error_rate(df_test_kpi)\n",
    "\n",
    "# store the results for control df\n",
    "control_unique_finished, control_total_clients, control_completion_rate = functions.find_completion_rate(df_control_kpi)\n",
    "control_avg_time_per_step = functions.calculate_time_per_step(df_control_kpi)\n",
    "control_clients_with_errors, control_errors_per_client, control_total_errors = functions.find_error_rate(df_control_kpi)\n",
    "\n",
    "# store the results for unknown df\n",
    "unknown_finished, unknown_total_clients, unknown_completion_rate = functions.find_completion_rate(df_unknown_kpi)\n",
    "unknown_avg_time_per_step = functions.calculate_time_per_step(df_unknown_kpi)\n",
    "unknown_clients_with_errors, unknown_errors_per_client, unknown_total_errors = functions.find_error_rate(df_unknown_kpi)"
   ]
  },
  {
   "cell_type": "markdown",
   "id": "7d419982-5573-4213-8f18-bfb14e4f3986",
   "metadata": {},
   "source": [
    "## **Testing Plots**"
   ]
  },
  {
   "cell_type": "code",
   "execution_count": null,
   "id": "6ff445bf-1ed2-44a7-84aa-d39a423b0feb",
   "metadata": {},
   "outputs": [],
   "source": [
    "def plot_completion_rate(test_completion_rate, control_completion_rate):\n",
    "    completion_rate_data = {\n",
    "        'Version': ['Test', 'Control'],\n",
    "        'Completion Rate': [test_completion_rate, control_completion_rate]\n",
    "    }\n",
    "    completion_rate_df = pd.DataFrame(completion_rate_data)\n",
    "    \n",
    "    plt.figure(figsize=(8, 6))\n",
    "    ax = sns.barplot(x='Version', y='Completion Rate', data=completion_rate_df)\n",
    "    \n",
    "    ax.patches[0].set_facecolor('lightblue')\n",
    "    ax.patches[1].set_facecolor('salmon') \n",
    "    \n",
    "    plt.title('Completion Rate (Test vs Control)', fontsize=16)\n",
    "    plt.ylabel('Completion Rate (%)')\n",
    "    plt.show()"
   ]
  },
  {
   "cell_type": "code",
   "execution_count": null,
   "id": "6601e53a-b8d3-4923-a5c8-568a7212bbec",
   "metadata": {},
   "outputs": [],
   "source": [
    "def plot_avg_time_per_step(test_avg_time_per_step, control_avg_time_per_step):\n",
    "    test_avg_time_seconds = test_avg_time_per_step.dt.total_seconds().round() # convert to seconds\n",
    "    control_avg_time_seconds = control_avg_time_per_step.dt.total_seconds().round()\n",
    "\n",
    "    time_data = {\n",
    "        'Process Step': test_avg_time_per_step.index,\n",
    "        'Test': test_avg_time_seconds.values,\n",
    "        'Control': control_avg_time_seconds.values\n",
    "    }\n",
    "    time_df = pd.DataFrame(time_data)\n",
    "    \n",
    "    time_df.set_index('Process Step').plot(kind='bar', figsize=(10, 6), width=0.8, color=['lightblue', 'salmon'])\n",
    "    plt.title('Average Time per Step (Test vs Control)', fontsize=16)\n",
    "    plt.ylabel('Average Time (in seconds)')\n",
    "    plt.xlabel('Step within the process')\n",
    "    plt.xticks(rotation=45)\n",
    "    plt.tight_layout()\n",
    "    plt.show()"
   ]
  },
  {
   "cell_type": "code",
   "execution_count": null,
   "id": "a261ab27-bd61-4faf-82fd-2492312c9afa",
   "metadata": {},
   "outputs": [],
   "source": [
    "def plot_error_rate(test_clients_with_errors, control_clients_with_errors, test_total_errors, control_total_errors):\n",
    "    clients_error_data = {\n",
    "        'Version': ['Test', 'Control'],\n",
    "        'Clients': [test_clients_with_errors, control_clients_with_errors]\n",
    "    }\n",
    "    clients_error_df = pd.DataFrame(clients_error_data)\n",
    "    \n",
    "    plt.figure(figsize=(8, 6))\n",
    "    ax = sns.barplot(x='Version', y='Clients', data=clients_error_df)\n",
    "    \n",
    "    ax.patches[0].set_facecolor('cadetblue')\n",
    "    ax.patches[1].set_facecolor('lightcoral')\n",
    "    \n",
    "    plt.title('Client Error Count (Test vs Control)', fontsize=16)\n",
    "    plt.show()\n",
    "\n",
    "    total_errors_data = {\n",
    "        'Version': ['Test', 'Control'],\n",
    "        'Total Errors': [test_total_errors, control_total_errors]\n",
    "    }\n",
    "    total_errors_df = pd.DataFrame(total_errors_data)\n",
    "    \n",
    "    plt.figure(figsize=(8, 6))\n",
    "    ax = sns.barplot(x='Version', y='Total Errors', data=total_errors_df)\n",
    "    \n",
    "    ax.patches[0].set_facecolor('cadetblue')\n",
    "    ax.patches[1].set_facecolor('lightcoral')\n",
    "    \n",
    "    plt.title('Total Error Count (Test vs Control)', fontsize=16)\n",
    "    plt.show()"
   ]
  },
  {
   "cell_type": "code",
   "execution_count": null,
   "id": "88c35436-8aa6-465c-a577-ec52ec862e62",
   "metadata": {},
   "outputs": [],
   "source": [
    "plot_completion_rate(test_completion_rate, control_completion_rate)"
   ]
  },
  {
   "cell_type": "code",
   "execution_count": null,
   "id": "7423e5b0-12ee-4121-a986-734428232a8a",
   "metadata": {},
   "outputs": [],
   "source": [
    "plot_avg_time_per_step(test_avg_time_per_step, control_avg_time_per_step)"
   ]
  },
  {
   "cell_type": "code",
   "execution_count": null,
   "id": "de80856b-9e51-4cbc-bad6-60af84ee3fe4",
   "metadata": {},
   "outputs": [],
   "source": [
    "plot_error_rate(test_clients_with_errors, control_clients_with_errors, test_total_errors, control_total_errors)"
   ]
  },
  {
   "cell_type": "markdown",
   "id": "a1915ed6-5882-4675-87db-76733d1e72a1",
   "metadata": {},
   "source": [
    "## **More Plots!**"
   ]
  },
  {
   "cell_type": "code",
   "execution_count": null,
   "id": "f0e339d1-dd3c-4b60-a556-8e0a90d73d23",
   "metadata": {},
   "outputs": [],
   "source": [
    "# **Completion Rate Comparison - Pie Chart**\n",
    "\n",
    "def plot_completion_rate_pie(test_completion_rate, control_completion_rate, unknown_completion_rate):\n",
    "    completion_rate_data = {\n",
    "        'Version': ['Test', 'Control', 'Unknown'],\n",
    "        'Completion Rate': [test_completion_rate, control_completion_rate, unknown_completion_rate]\n",
    "    }\n",
    "    completion_rate_df = pd.DataFrame(completion_rate_data)\n",
    "    \n",
    "    # Pie chart\n",
    "    plt.figure(figsize=(8, 8))\n",
    "    plt.pie(completion_rate_df['Completion Rate'], labels=completion_rate_df['Version'], autopct='%1.1f%%', startangle=90, colors=['lightblue', 'salmon', 'lightgray'])\n",
    "    plt.title('Completion Rate (Test vs Control)')\n",
    "    plt.show()"
   ]
  },
  {
   "cell_type": "code",
   "execution_count": null,
   "id": "e3cb36b1-f3fe-462e-a3b8-be36aa916a5c",
   "metadata": {},
   "outputs": [],
   "source": [
    "# **Average Time per Step - Boxplot**\n",
    "\n",
    "def plot_avg_time_per_step_boxplot(test_avg_time_per_step, control_avg_time_per_step):\n",
    "    test_avg_time_seconds = test_avg_time_per_step.dt.total_seconds().round()  # Use .dt.total_seconds() for Series\n",
    "    control_avg_time_seconds = control_avg_time_per_step.dt.total_seconds().round()  # Use .dt.total_seconds() for Series\n",
    "    \n",
    "    time_df = pd.DataFrame({\n",
    "        'Process Step': ['Start', 'Step 1', 'Step 2', 'Step 3', 'Finish'],\n",
    "        'Test': test_avg_time_seconds,\n",
    "        'Control': control_avg_time_seconds\n",
    "    })\n",
    "\n",
    "    time_df = time_df.melt(id_vars='Process Step', value_vars=['Test', 'Control'], var_name='Version', value_name='Time (in seconds)')\n",
    "\n",
    "    plt.figure(figsize=(10, 6))\n",
    "    sns.boxplot(x='Process Step', y='Time (in seconds)', hue='Version', data=time_df)\n",
    "    plt.title('Average Time per Step (Test vs Control)')\n",
    "    plt.xticks(rotation=45)\n",
    "    plt.tight_layout()\n",
    "    plt.show()"
   ]
  },
  {
   "cell_type": "code",
   "execution_count": null,
   "id": "0132d7bd-3c91-4251-b9da-75459e83b690",
   "metadata": {},
   "outputs": [],
   "source": [
    "# **Error Rate - Heatmap of Errors per Client**\n",
    "\n",
    "def plot_error_heatmap(test_errors_per_client, control_errors_per_client):\n",
    "    error_data = {\n",
    "        'Test': test_errors_per_client,\n",
    "        'Control': control_errors_per_client\n",
    "    }\n",
    "    error_df = pd.DataFrame(error_data).T  # transpose to get rows as groups\n",
    "    \n",
    "    plt.figure(figsize=(8, 6))\n",
    "    # Use 'f' for floating-point numbers, or use '.2f' for two decimal places\n",
    "    sns.heatmap(error_df, annot=True, cmap='coolwarm', fmt='.2f', linewidths=0.5, cbar=True)\n",
    "    plt.title('Error Count Heatmap (Test vs Control)')\n",
    "    plt.show()"
   ]
  },
  {
   "cell_type": "code",
   "execution_count": null,
   "id": "7a11e272-a048-417e-b5d8-38fedb1b3cb8",
   "metadata": {},
   "outputs": [],
   "source": [
    "plot_completion_rate_pie(test_completion_rate, control_completion_rate, unknown_completion_rate)"
   ]
  },
  {
   "cell_type": "code",
   "execution_count": null,
   "id": "586e74ec-61a2-424d-bd65-9ce6f5adfe2e",
   "metadata": {},
   "outputs": [],
   "source": [
    "plot_avg_time_per_step_boxplot(test_avg_time_per_step, control_avg_time_per_step)"
   ]
  },
  {
   "cell_type": "code",
   "execution_count": null,
   "id": "d458269a-3993-4ab6-8d38-58904d92fc10",
   "metadata": {},
   "outputs": [],
   "source": [
    "plot_error_heatmap(test_errors_per_client, control_errors_per_client)"
   ]
  },
  {
   "cell_type": "code",
   "execution_count": null,
   "id": "eae8b82b-514d-48c0-811e-d1d36782ec8c",
   "metadata": {},
   "outputs": [],
   "source": []
  }
 ],
 "metadata": {
  "kernelspec": {
   "display_name": ".venv",
   "language": "python",
   "name": "python3"
  },
  "language_info": {
   "codemirror_mode": {
    "name": "ipython",
    "version": 3
   },
   "file_extension": ".py",
   "mimetype": "text/x-python",
   "name": "python",
   "nbconvert_exporter": "python",
   "pygments_lexer": "ipython3",
   "version": "3.12.3"
  }
 },
 "nbformat": 4,
 "nbformat_minor": 5
}
