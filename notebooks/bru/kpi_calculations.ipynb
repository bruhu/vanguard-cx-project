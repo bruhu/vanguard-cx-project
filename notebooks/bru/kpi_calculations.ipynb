{
 "cells": [
  {
   "cell_type": "markdown",
   "id": "0cb0735c-ea70-496e-99be-0eb48c4f74a0",
   "metadata": {},
   "source": [
    "### Performance Metrics\n",
    "\n",
    "## Success Indicators\n",
    "\n",
    "You have now been asked to discover what key performance indicators (KPIs) will determine the success of the new design? Use at least completion rate, time spent on each step and error rates. Add any KPIs you might find relevant.\n",
    "\n",
    "- **Completion Rate:** The proportion of users who reach the final ‘confirm’ step.\n",
    "- **Time Spent on Each Step:** The average duration users spend on each step.\n",
    "- **Error Rates:** If there’s a step where users go back to a previous step, it may indicate confusion or an error. You should consider moving from a later step to an earlier one as an error.\n",
    "\n",
    "## Redesign Outcome\n",
    "\n",
    "Based on the chosen KPIs, how does the new design’s performance compare to the old one?"
   ]
  },
  {
   "cell_type": "code",
   "execution_count": null,
   "id": "5a7b946f-9808-485b-b949-f490ca2654b9",
   "metadata": {},
   "outputs": [],
   "source": [
    "import pandas as pd\n",
    "import numpy as np\n",
    "import matplotlib.pyplot as plt\n",
    "import seaborn as sns\n",
    "import re"
   ]
  },
  {
   "cell_type": "code",
   "execution_count": null,
   "id": "dd6204a9-1829-41ec-bf5a-a719c453abcb",
   "metadata": {},
   "outputs": [],
   "source": [
    "# import reusable functions from utils directory\n",
    "import sys\n",
    "sys.path.append('../../utils')\n",
    "import functions"
   ]
  },
  {
   "cell_type": "code",
   "execution_count": null,
   "id": "943db4eb-535b-4ae5-b948-1ee2da6e0b34",
   "metadata": {},
   "outputs": [],
   "source": [
    "combined_cleaned_df = pd.read_csv('../../data/clean/combined_cleaned_data.csv')\n",
    "# combined_cleaned_df.head()"
   ]
  },
  {
   "cell_type": "code",
   "execution_count": null,
   "id": "904ffb23-e226-4a0a-8c48-492339dc7c57",
   "metadata": {},
   "outputs": [],
   "source": [
    "combined_cleaned_df['date_time'] = pd.to_datetime(combined_cleaned_df['date_time'], errors='coerce')\n",
    "\n",
    "# check if any dates couldn't be converted (i.e., they are NaT)\n",
    "inconsistent_dates = combined_cleaned_df['date_time'].isna().sum()\n",
    "\n",
    "# if inconsistent_dates > 0, then there are invalid or mismatched date formats\n",
    "if inconsistent_dates > 0:\n",
    "    print(f'There are {inconsistent_dates} inconsistent or invalid date formats in the column.')\n",
    "else:\n",
    "    print('All dates in the column have the same format.')"
   ]
  },
  {
   "cell_type": "code",
   "execution_count": null,
   "id": "5a50673d-d2d3-415b-95dd-a531af3b0a3b",
   "metadata": {},
   "outputs": [],
   "source": [
    "kpi_df = combined_cleaned_df.copy()\n",
    "# kpi_df = kpi_df.drop(columns=['visitor_id', 'visit_id'])"
   ]
  },
  {
   "cell_type": "code",
   "execution_count": null,
   "id": "7cac01f7-8876-4cc6-ad92-ac5a73f07600",
   "metadata": {},
   "outputs": [],
   "source": [
    "# change the naming of the steps to numeric values to ensure order\n",
    "replacement_dict_steps = {\n",
    "    'start' : 0,\n",
    "    'step_1' : 1,\n",
    "    'step_2' : 2,\n",
    "    'step_3' : 3,\n",
    "    'confirm' : 4\n",
    "}\n",
    "\n",
    "kpi_df['process_step'] = kpi_df['process_step'].map(replacement_dict_steps)"
   ]
  },
  {
   "cell_type": "code",
   "execution_count": null,
   "id": "8e6fb45b-7b2c-49f5-99a0-1a7ffa8bc501",
   "metadata": {},
   "outputs": [],
   "source": [
    "kpi_df"
   ]
  },
  {
   "cell_type": "markdown",
   "id": "f83d4904-8fb7-487c-88d3-03fa977d4ad1",
   "metadata": {},
   "source": [
    "# **Completion Rate**"
   ]
  },
  {
   "cell_type": "code",
   "execution_count": null,
   "id": "a7ee3fb5-b74e-4fe9-9ec1-19aaa5f92857",
   "metadata": {},
   "outputs": [],
   "source": [
    "def find_completion_rate(df):    \n",
    "    clients_finished = kpi_df[kpi_df['process_step'] == 4] # filter rows where process_step is 'Finish'\n",
    "    total_unique_clients = kpi_df['client_id'].nunique()\n",
    "    unique_clients_finished = clients_finished['client_id'].nunique() # find unique client ids that finished\n",
    "    print(f'Clients who finished the process: {unique_clients_finished} out ouf {total_unique_clients}.')\n",
    "\n",
    "find_completion_rate(kpi_df)"
   ]
  },
  {
   "cell_type": "code",
   "execution_count": null,
   "id": "fcb40b4a-8c93-414a-bf3b-bc5e0418b77e",
   "metadata": {},
   "outputs": [],
   "source": [
    "clients_finished = kpi_df[kpi_df['process_step'] == 4]['client_id'].nunique()\n",
    "total_clients = kpi_df['client_id'].nunique()\n",
    "clients_not_finished = total_clients - clients_finished\n",
    "\n",
    "completion_rate = (clients_finished / total_clients) * 100\n",
    "\n",
    "# pie chart\n",
    "plt.figure(figsize=(8, 8))\n",
    "plt.pie(\n",
    "    [clients_finished, clients_not_finished],\n",
    "    labels=['Finished', 'Not Finished'],\n",
    "    autopct='%1.1f%%',\n",
    "    colors=['lightgreen', 'salmon'],\n",
    "    startangle=140\n",
    ")\n",
    "plt.title('Completion Rate')\n",
    "plt.show()\n",
    "\n",
    "# bar chart\n",
    "plt.figure(figsize=(8, 8))\n",
    "bars = plt.bar(['Total Clients', 'Completed Clients'], [total_clients, clients_finished], color=['lightgreen', 'salmon'])\n",
    "\n",
    "# add percentage annotation on top\n",
    "plt.text(1, clients_finished + 1, f'{completion_rate:.1f}%', ha='center', va='bottom', fontsize=12, color='black')\n",
    "\n",
    "plt.title('Total Clients vs Completed Clients')\n",
    "plt.ylabel('Number of Clients')\n",
    "plt.grid(axis='y', linestyle='--', alpha=0.7)\n",
    "plt.tight_layout()\n",
    "plt.show()"
   ]
  },
  {
   "cell_type": "markdown",
   "id": "f0445e92-3c0f-421a-be51-b469e60bf35a",
   "metadata": {},
   "source": [
    "# **Time spent on each step**"
   ]
  },
  {
   "cell_type": "code",
   "execution_count": null,
   "id": "6534042a-a94a-42a7-8a5c-3a36955b0fde",
   "metadata": {},
   "outputs": [],
   "source": [
    "# sort df by client_id and date_time\n",
    "kpi_df = kpi_df.sort_values(by=['client_id', 'date_time'])\n",
    "\n",
    "# calculate time difference between steps per client\n",
    "kpi_df['time_diff'] = kpi_df.groupby('client_id')['date_time'].diff()\n",
    "\n",
    "# drop first row per client (contains no information)\n",
    "kpi_df = kpi_df.dropna(subset=['time_diff'])"
   ]
  },
  {
   "cell_type": "code",
   "execution_count": null,
   "id": "106df5f1-4f17-44ab-80fd-aec45fac0f95",
   "metadata": {},
   "outputs": [],
   "source": [
    "# calculate average time spent on each step\n",
    "avg_time_per_step = kpi_df.groupby('process_step')['time_diff'].mean()\n",
    "\n",
    "# convert to total seconds\n",
    "avg_time_in_seconds = avg_time_per_step.dt.total_seconds()\n",
    "\n",
    "# round up to the nearest second to remove decimals\n",
    "avg_time_in_seconds_rounded = np.ceil(avg_time_in_seconds).astype(int)\n",
    "\n",
    "# convert back to timedelta\n",
    "avg_time_per_step_rounded = pd.to_timedelta(avg_time_in_seconds_rounded, unit='s')\n",
    "\n",
    "# re-map process_step index for readability\n",
    "# avg_time_per_step_rounded.index = avg_time_per_step_rounded.index.map({0: 'Start', 1: 'Step 1', 2: 'Step 2', 3: 'Step 3', 4: 'Finish'})\n",
    "\n",
    "print('Average time spent on each step:\\n')\n",
    "print(avg_time_per_step_rounded)"
   ]
  },
  {
   "cell_type": "code",
   "execution_count": null,
   "id": "8558ea66-e1cd-4ed7-8741-c6c33f39093c",
   "metadata": {},
   "outputs": [],
   "source": [
    "avg_time_in_seconds_rounded.index = avg_time_in_seconds_rounded.index.map({0: 'Start', 1: 'Step 1', 2: 'Step 2', 3: 'Step 3', 4: 'Finish'})\n",
    "\n",
    "# horizontal bar chart\n",
    "plt.figure(figsize=(10, 6))\n",
    "avg_time_in_seconds_rounded.sort_values(ascending=True).plot(kind='barh', color='cornflowerblue')\n",
    "plt.title('Average Time Spent on Each Step')\n",
    "plt.xlabel('Time (in seconds)')\n",
    "plt.ylabel('Process')\n",
    "plt.grid(axis='x', linestyle='--', alpha=0.7)\n",
    "plt.tight_layout()\n",
    "plt.show()"
   ]
  },
  {
   "cell_type": "code",
   "execution_count": null,
   "id": "98c1b2e9",
   "metadata": {},
   "outputs": [],
   "source": [
    "# Map the indices to step names\n",
    "avg_time_in_seconds_rounded.index = avg_time_in_seconds_rounded.index.map({0: 'Start', 1: 'Step 1', 2: 'Step 2', 3: 'Step 3', 4: 'Finish'})\n",
    "\n",
    "# Horizontal bar chart with logarithmic scale\n",
    "plt.figure(figsize=(10, 6))\n",
    "avg_time_in_seconds_rounded.sort_values(ascending=True).plot(kind='barh', color='cornflowerblue')\n",
    "\n",
    "# Set logarithmic scale for the x-axis to handle large differences\n",
    "plt.xscale('log')\n",
    "\n",
    "# Add annotations (data labels) on the bars for detailed values\n",
    "for i, v in enumerate(avg_time_in_seconds_rounded.sort_values(ascending=True)):\n",
    "    plt.text(v + 0.1, i, f'{v:.2f}', va='center', ha='left', fontsize=10, color='black')\n",
    "\n",
    "# Title and labels\n",
    "plt.title('Average Time Spent on Each Step')\n",
    "plt.xlabel('Time (in seconds, Log Scale)')\n",
    "plt.ylabel('Process')\n",
    "plt.grid(axis='x', linestyle='--', alpha=0.7)\n",
    "plt.tight_layout()\n",
    "plt.show()"
   ]
  },
  {
   "cell_type": "markdown",
   "id": "716f1198-4369-4f69-a799-405b1949aced",
   "metadata": {},
   "source": [
    "# **Error Rates**\n",
    "_(Constanza's code)_"
   ]
  },
  {
   "cell_type": "code",
   "execution_count": null,
   "id": "123bea70-4319-41f7-b16b-d9d0a2f0d955",
   "metadata": {},
   "outputs": [],
   "source": [
    "df = pd.read_csv('../../data/clean/combined_cleaned_data.csv')"
   ]
  },
  {
   "cell_type": "code",
   "execution_count": null,
   "id": "395748b1-0c24-4ae4-8254-a6bbdd57e747",
   "metadata": {},
   "outputs": [],
   "source": [
    "# drop columns\n",
    "df = df.drop(columns=['visitor_id', 'visit_id'])\n",
    "\n",
    "# change steps to numeric values to ensure order\n",
    "replacement_dict_steps = {\n",
    "    'start' : 0,\n",
    "    'step_1' : 1,\n",
    "    'step_2' : 2,\n",
    "    'step_3' : 3,\n",
    "    'confirm' : 4\n",
    "}\n",
    "\n",
    "df['process_step'] = df['process_step'].map(replacement_dict_steps)"
   ]
  },
  {
   "cell_type": "code",
   "execution_count": null,
   "id": "cdde0287-7550-44f1-986b-9b54607c0d6c",
   "metadata": {},
   "outputs": [],
   "source": [
    "# sort df by client_id and date_time\n",
    "df = df.sort_values(by=['client_id', 'date_time'])"
   ]
  },
  {
   "cell_type": "code",
   "execution_count": null,
   "id": "2826957d-453c-4a36-82b5-026770f230e3",
   "metadata": {},
   "outputs": [],
   "source": [
    "# Detect backward steps (errors) for all clients\n",
    "df['backward_step'] = df.groupby('client_id')['process_step'].diff() < 0\n",
    "\n",
    "# Count the number of unique clients who experienced at least one error\n",
    "clients_with_errors = df[df['backward_step']]['client_id'].nunique()\n",
    "\n",
    "# Count the total number of errors for each client\n",
    "errors_per_client = df[df['backward_step']].groupby('client_id').size()\n",
    "\n",
    "# Total number of errors across all clients\n",
    "total_errors = df['backward_step'].sum()\n",
    "\n",
    "# Output results\n",
    "print(f'Number of clients with at least one error: {clients_with_errors}')\n",
    "print('Errors per client:')\n",
    "print(errors_per_client)\n",
    "print(f'Total number of errors across all clients: {total_errors}')"
   ]
  },
  {
   "cell_type": "code",
   "execution_count": null,
   "id": "3191aa25-42b4-469e-b643-a03bad18d60a",
   "metadata": {},
   "outputs": [],
   "source": []
  },
  {
   "cell_type": "code",
   "execution_count": null,
   "id": "b3089ecb-298a-40b7-b7c4-989169c7bdbf",
   "metadata": {},
   "outputs": [],
   "source": [
    "# add column 'error_count'\n",
    "df['error_count'] = df['client_id'].map(errors_per_client).fillna(0).astype(int)"
   ]
  },
  {
   "cell_type": "code",
   "execution_count": null,
   "id": "f0fe2f2d-4f4f-4792-9adb-857c7314c1c5",
   "metadata": {},
   "outputs": [],
   "source": [
    "# # Crear un DataFrame con los resultados\n",
    "# results_df = errors_per_client.reset_index()\n",
    "# results_df.columns = ['client_id', 'number_of_errors']\n",
    "\n",
    "# # Guardar el DataFrame en un archivo CSV\n",
    "# results_df.to_csv('errors_per_client.csv', index=False)\n",
    "\n",
    "# # Mensaje de confirmación\n",
    "# print('El archivo 'errors_per_client.csv' se ha guardado correctamente.')"
   ]
  },
  {
   "cell_type": "code",
   "execution_count": null,
   "id": "6e946197-d8d4-44e6-88c0-a007c0c95442",
   "metadata": {},
   "outputs": [],
   "source": [
    "# # Bar Chart for Errors per Client\n",
    "# plt.figure(figsize=(10, 6))\n",
    "# errors_per_client.sort_values(ascending=False).plot(kind='bar', color='skyblue')\n",
    "# plt.title('Total Errors Per Client')\n",
    "# plt.xlabel('Client ID')\n",
    "# plt.ylabel('Number of Errors')\n",
    "# plt.xticks(rotation=45)\n",
    "# plt.grid(axis='y')\n",
    "# plt.tight_layout()\n",
    "# plt.show()\n",
    "\n",
    "# # Pie Chart for Proportion of Clients with Errors\n",
    "# clients_without_errors = df['client_id'].nunique() - clients_with_errors\n",
    "# plt.figure(figsize=(8, 8))\n",
    "# plt.pie(\n",
    "#     [clients_with_errors, clients_without_errors],\n",
    "#     labels=['With Errors', 'Without Errors'],\n",
    "#     autopct='%1.1f%%',\n",
    "#     colors=['salmon', 'lightgreen'],\n",
    "#     startangle=140\n",
    "# )\n",
    "# plt.title('Proportion of Clients with Errors')\n",
    "# plt.show()"
   ]
  },
  {
   "cell_type": "markdown",
   "id": "370564ca-ade9-405c-87f2-a7340575fc4e",
   "metadata": {},
   "source": [
    "# **Redesign Outcome**\n",
    "Based on the chosen KPIs, how does the new design’s performance compare to the old one?"
   ]
  },
  {
   "cell_type": "markdown",
   "id": "63240691-8863-4d87-a26a-399aaf59f14a",
   "metadata": {},
   "source": [
    "For the project requirements and instructions for today’s tasks in full, please refer to the project brief. However, in order to keep on track you may refer to the daily goals outlined below:\n",
    "\n",
    "By the end of day, we recommend you have:\n",
    "\n",
    "Reviewed KPI and Metrics material.\n",
    "Discovered what key performance indicators (KPIs) will determine the success of the new design\n",
    "Use at least completion rate, time spent on each step and error rates. Add any KPIs you might find relevant.\n",
    "Evaluated how the new design’s performance compare to the old one, given the chosen KPIs (completion rate, time spent on each step and error rates)."
   ]
  },
  {
   "cell_type": "markdown",
   "id": "637b6dc3-04dd-4cce-bd2f-4cf401c9125e",
   "metadata": {},
   "source": [
    "Steps:\n",
    "- [x] import `merged_final_demo_final_experiment_clients_df`\n",
    "- [x] merge with `kpi_df`\n",
    "- [x] add column of errors per client\n",
    "- [x] clean data if needed"
   ]
  },
  {
   "cell_type": "code",
   "execution_count": null,
   "id": "76cbf522-9670-48de-a413-572640616ebd",
   "metadata": {},
   "outputs": [],
   "source": [
    "merged_final_demo_final_experiment_clients_df = pd.read_csv('../../data/clean/merged_final_demo_final_experiment_clients_df.csv')"
   ]
  },
  {
   "cell_type": "code",
   "execution_count": null,
   "id": "2571cf25-5d1a-4ddd-b76f-b02a96b9d317",
   "metadata": {},
   "outputs": [],
   "source": [
    "merged_df = pd.merge(kpi_df, merged_final_demo_final_experiment_clients_df, on='client_id', how='outer')"
   ]
  },
  {
   "cell_type": "code",
   "execution_count": null,
   "id": "8ee05fd6-98b2-41b0-a1c9-384ef827feef",
   "metadata": {},
   "outputs": [],
   "source": [
    "# match datatypes in dfs before merging on `date_time` column to prevent errors\n",
    "merged_df['date_time'] = pd.to_datetime(merged_df['date_time'], errors='coerce')\n",
    "df['date_time'] = pd.to_datetime(df['date_time'], errors='coerce')"
   ]
  },
  {
   "cell_type": "code",
   "execution_count": null,
   "id": "296acb21-eeb1-4033-bf40-0fd4ea9cee85",
   "metadata": {},
   "outputs": [],
   "source": [
    "# select columns to merge\n",
    "df_selected = df[['client_id', 'date_time', 'backward_step', 'error_count']]\n",
    "merged_kpi_df = pd.merge(merged_df, df_selected, on=['client_id', 'date_time'], how='left')"
   ]
  },
  {
   "cell_type": "code",
   "execution_count": null,
   "id": "798fb414-98f2-4b8f-8d19-e0ded4d37224",
   "metadata": {},
   "outputs": [],
   "source": [
    "# merged_kpi_df: 5682251 rows, 15 columns - before matching date_time\n",
    "# merged_kpi_df: 631469 rows × 15 columns - after matching date and time"
   ]
  },
  {
   "cell_type": "code",
   "execution_count": null,
   "id": "704f500d-4039-407d-9c4e-214db7f769f6",
   "metadata": {},
   "outputs": [],
   "source": [
    "merged_kpi_df.rename(columns={'backward_step': 'stepped_back'}, inplace=True)"
   ]
  },
  {
   "cell_type": "code",
   "execution_count": null,
   "id": "ce8815c5-3ceb-45e6-a897-c9264787cf57",
   "metadata": {},
   "outputs": [],
   "source": [
    "merged_kpi_df.drop(columns=['client_tenure_months', 'num_accounts', 'calls_last_6_months', 'logons_last_6_months', 'balance'], inplace=True)"
   ]
  },
  {
   "cell_type": "code",
   "execution_count": null,
   "id": "32452d76-39e7-45e5-a789-c56c2dfc262a",
   "metadata": {},
   "outputs": [],
   "source": [
    "functions.floats_to_ints(merged_kpi_df, 'process_step')\n",
    "functions.floats_to_ints(merged_kpi_df, 'client_tenure_years')\n",
    "functions.floats_to_ints(merged_kpi_df, 'client_age')\n",
    "functions.floats_to_ints(merged_kpi_df, 'error_count')"
   ]
  },
  {
   "cell_type": "code",
   "execution_count": null,
   "id": "bbc7f1f0-344b-43b9-b68f-d237c97e19b7",
   "metadata": {},
   "outputs": [],
   "source": [
    "# convert NaN values in 'variation' to 'Unknown'\n",
    "merged_kpi_df['variation'] = merged_kpi_df['variation'].fillna('Unknown')"
   ]
  },
  {
   "cell_type": "code",
   "execution_count": null,
   "id": "8d8daa4d-5a1e-48d8-ad29-3253e228af78",
   "metadata": {},
   "outputs": [],
   "source": [
    "functions.handle_unique_gender_values(merged_kpi_df)"
   ]
  },
  {
   "cell_type": "markdown",
   "id": "d472b47d-6841-4130-9781-5bec0a60b4c8",
   "metadata": {},
   "source": [
    "### Evaluate how the new design’s performance compare to the old one, given the chosen KPIs (completion rate, time spent on each step and error rates).\n",
    "\n"
   ]
  },
  {
   "cell_type": "code",
   "execution_count": null,
   "id": "8915b4a0-a698-4014-992a-7e2d754176fe",
   "metadata": {},
   "outputs": [],
   "source": [
    "# split in dfs, for Variation Control and Variation Test\n",
    "df_test_kpi = merged_kpi_df[merged_kpi_df['variation'] == 'Test']\n",
    "df_control_kpi = merged_kpi_df[merged_kpi_df['variation'] == 'Control']\n",
    "df_unknown_kpi = merged_kpi_df[merged_kpi_df['variation'] == 'Unknown']"
   ]
  },
  {
   "cell_type": "code",
   "execution_count": null,
   "id": "17f20dad-5b08-4d09-9a52-1f135c1a2a70",
   "metadata": {},
   "outputs": [],
   "source": [
    "# drop empty rows\n",
    "df_test_kpi = df_test_kpi.dropna()\n",
    "df_control_kpi = df_control_kpi.dropna()\n",
    "df_unknown_kpi = df_unknown_kpi.dropna()"
   ]
  },
  {
   "cell_type": "markdown",
   "id": "03d86abe-d5b7-4305-9326-396877ed4f06",
   "metadata": {},
   "source": [
    "## Completion Rates"
   ]
  },
  {
   "cell_type": "code",
   "execution_count": null,
   "id": "03afec82-18b3-48c7-8586-78c1abe45e28",
   "metadata": {},
   "outputs": [],
   "source": [
    "print('\\nCompletion rate for Control:')\n",
    "functions.find_completion_rate(df_control_kpi)"
   ]
  },
  {
   "cell_type": "code",
   "execution_count": null,
   "id": "795b51e3-daa5-4c30-aad4-e05ba13e6b14",
   "metadata": {},
   "outputs": [],
   "source": [
    "print('\\nCompletion rate for Test:')\n",
    "functions.find_completion_rate(df_test_kpi)"
   ]
  },
  {
   "cell_type": "markdown",
   "id": "03c3535b-599b-4895-bf82-bffb56d500b3",
   "metadata": {},
   "source": [
    "## Time spent on each step"
   ]
  },
  {
   "cell_type": "code",
   "execution_count": null,
   "id": "17f4d595-3ed5-4df1-a379-5f76a6167269",
   "metadata": {},
   "outputs": [],
   "source": [
    "functions.calculate_time_per_step(df_test_kpi)"
   ]
  },
  {
   "cell_type": "code",
   "execution_count": null,
   "id": "0e25db30-2a57-4113-8b2d-4bd6d9bdc9df",
   "metadata": {},
   "outputs": [],
   "source": [
    "functions.calculate_time_per_step(df_control_kpi)"
   ]
  },
  {
   "cell_type": "markdown",
   "id": "f9c3894d-5966-4c3c-abe9-f57038d90419",
   "metadata": {},
   "source": [
    "## Error Rate"
   ]
  },
  {
   "cell_type": "code",
   "execution_count": null,
   "id": "76eb7a85-21fe-4083-b43c-54caccf44306",
   "metadata": {},
   "outputs": [],
   "source": [
    "functions.find_error_rate(df_test_kpi)"
   ]
  },
  {
   "cell_type": "code",
   "execution_count": null,
   "id": "5d914c14-ed2a-4cc9-99bb-8debe4bdfae0",
   "metadata": {},
   "outputs": [],
   "source": [
    "functions.find_error_rate(df_control_kpi)"
   ]
  },
  {
   "cell_type": "code",
   "execution_count": null,
   "id": "e9ab53ec-3913-4b47-8363-4b085e3222a5",
   "metadata": {},
   "outputs": [],
   "source": [
    "functions.find_error_rate(df_unknown_kpi)"
   ]
  },
  {
   "cell_type": "markdown",
   "id": "a41821b1-3c3c-47c2-8435-69820bb96018",
   "metadata": {},
   "source": [
    "# Storing values"
   ]
  },
  {
   "cell_type": "code",
   "execution_count": null,
   "id": "7deff483-2cc5-4650-a571-1b29ffd76f6f",
   "metadata": {},
   "outputs": [],
   "source": [
    "# store the results for test df\n",
    "test_unique_finished, test_total_clients, test_completion_rate = functions.find_completion_rate(df_test_kpi)\n",
    "test_avg_time_per_step = functions.calculate_time_per_step(df_test_kpi)\n",
    "test_clients_with_errors, test_errors_per_client, test_total_errors = functions.find_error_rate(df_test_kpi)\n",
    "\n",
    "# store the results for control df\n",
    "control_unique_finished, control_total_clients, control_completion_rate = functions.find_completion_rate(df_control_kpi)\n",
    "control_avg_time_per_step = functions.calculate_time_per_step(df_control_kpi)\n",
    "control_clients_with_errors, control_errors_per_client, control_total_errors = functions.find_error_rate(df_control_kpi)\n",
    "\n",
    "# store the results for unknown df\n",
    "unknown_finished, unknown_total_clients, unknown_completion_rate = functions.find_completion_rate(df_unknown_kpi)\n",
    "unknown_avg_time_per_step = functions.calculate_time_per_step(df_unknown_kpi)\n",
    "unknown_clients_with_errors, unknown_errors_per_client, unknown_total_errors = functions.find_error_rate(df_unknown_kpi)"
   ]
  },
  {
   "cell_type": "markdown",
   "id": "7d419982-5573-4213-8f18-bfb14e4f3986",
   "metadata": {},
   "source": [
    "## **Testing Plots**"
   ]
  },
  {
   "cell_type": "code",
   "execution_count": null,
   "id": "6ff445bf-1ed2-44a7-84aa-d39a423b0feb",
   "metadata": {},
   "outputs": [],
   "source": [
    "def plot_completion_rate(test_completion_rate, control_completion_rate):\n",
    "    completion_rate_data = {\n",
    "        'Version': ['Test', 'Control'],\n",
    "        'Completion Rate': [test_completion_rate, control_completion_rate]\n",
    "    }\n",
    "    completion_rate_df = pd.DataFrame(completion_rate_data)\n",
    "    \n",
    "    plt.figure(figsize=(8, 6))\n",
    "    ax = sns.barplot(x='Version', y='Completion Rate', data=completion_rate_df)\n",
    "    \n",
    "    ax.patches[0].set_facecolor('lightblue')\n",
    "    ax.patches[1].set_facecolor('salmon') \n",
    "    \n",
    "    plt.title('Completion Rate (Test vs Control)', fontsize=16)\n",
    "    plt.ylabel('Completion Rate (%)')\n",
    "    plt.show()"
   ]
  },
  {
   "cell_type": "code",
   "execution_count": null,
   "id": "6601e53a-b8d3-4923-a5c8-568a7212bbec",
   "metadata": {},
   "outputs": [],
   "source": [
    "def plot_avg_time_per_step(test_avg_time_per_step, control_avg_time_per_step):\n",
    "    test_avg_time_seconds = test_avg_time_per_step.dt.total_seconds().round() # convert to seconds\n",
    "    control_avg_time_seconds = control_avg_time_per_step.dt.total_seconds().round()\n",
    "\n",
    "    time_data = {\n",
    "        'Process Step': test_avg_time_per_step.index,\n",
    "        'Test': test_avg_time_seconds.values,\n",
    "        'Control': control_avg_time_seconds.values\n",
    "    }\n",
    "    time_df = pd.DataFrame(time_data)\n",
    "    \n",
    "    time_df.set_index('Process Step').plot(kind='bar', figsize=(10, 6), width=0.8, color=['lightblue', 'salmon'])\n",
    "    plt.title('Average Time per Step (Test vs Control)', fontsize=16)\n",
    "    plt.ylabel('Average Time (in seconds)')\n",
    "    plt.xlabel('Step within the process')\n",
    "    plt.xticks(rotation=45)\n",
    "    plt.tight_layout()\n",
    "    plt.show()"
   ]
  },
  {
   "cell_type": "code",
   "execution_count": null,
   "id": "a261ab27-bd61-4faf-82fd-2492312c9afa",
   "metadata": {},
   "outputs": [],
   "source": [
    "def plot_error_rate(test_clients_with_errors, control_clients_with_errors, test_total_errors, control_total_errors):\n",
    "    clients_error_data = {\n",
    "        'Version': ['Test', 'Control'],\n",
    "        'Clients': [test_clients_with_errors, control_clients_with_errors]\n",
    "    }\n",
    "    clients_error_df = pd.DataFrame(clients_error_data)\n",
    "    \n",
    "    plt.figure(figsize=(8, 6))\n",
    "    ax = sns.barplot(x='Version', y='Clients', data=clients_error_df)\n",
    "    \n",
    "    ax.patches[0].set_facecolor('cadetblue')\n",
    "    ax.patches[1].set_facecolor('lightcoral')\n",
    "    \n",
    "    plt.title('Client Error Count (Test vs Control)', fontsize=16)\n",
    "    plt.show()\n",
    "\n",
    "    total_errors_data = {\n",
    "        'Version': ['Test', 'Control'],\n",
    "        'Total Errors': [test_total_errors, control_total_errors]\n",
    "    }\n",
    "    total_errors_df = pd.DataFrame(total_errors_data)\n",
    "    \n",
    "    plt.figure(figsize=(8, 6))\n",
    "    ax = sns.barplot(x='Version', y='Total Errors', data=total_errors_df)\n",
    "    \n",
    "    ax.patches[0].set_facecolor('cadetblue')\n",
    "    ax.patches[1].set_facecolor('lightcoral')\n",
    "    \n",
    "    plt.title('Total Error Count (Test vs Control)', fontsize=16)\n",
    "    plt.show()"
   ]
  },
  {
   "cell_type": "code",
   "execution_count": null,
   "id": "88c35436-8aa6-465c-a577-ec52ec862e62",
   "metadata": {},
   "outputs": [],
   "source": [
    "plot_completion_rate(test_completion_rate, control_completion_rate)"
   ]
  },
  {
   "cell_type": "code",
   "execution_count": null,
   "id": "7423e5b0-12ee-4121-a986-734428232a8a",
   "metadata": {},
   "outputs": [],
   "source": [
    "plot_avg_time_per_step(test_avg_time_per_step, control_avg_time_per_step)"
   ]
  },
  {
   "cell_type": "code",
   "execution_count": null,
   "id": "de80856b-9e51-4cbc-bad6-60af84ee3fe4",
   "metadata": {},
   "outputs": [],
   "source": [
    "plot_error_rate(test_clients_with_errors, control_clients_with_errors, test_total_errors, control_total_errors)"
   ]
  },
  {
   "cell_type": "markdown",
   "id": "a1915ed6-5882-4675-87db-76733d1e72a1",
   "metadata": {},
   "source": [
    "## **More Plots!**"
   ]
  },
  {
   "cell_type": "code",
   "execution_count": null,
   "id": "f0e339d1-dd3c-4b60-a556-8e0a90d73d23",
   "metadata": {},
   "outputs": [],
   "source": [
    "# **Completion Rate Comparison - Pie Chart**\n",
    "\n",
    "def plot_completion_rate_pie(test_completion_rate, control_completion_rate, unknown_completion_rate):\n",
    "    completion_rate_data = {\n",
    "        'Version': ['Test', 'Control', 'Unknown'],\n",
    "        'Completion Rate': [test_completion_rate, control_completion_rate, unknown_completion_rate]\n",
    "    }\n",
    "    completion_rate_df = pd.DataFrame(completion_rate_data)\n",
    "    \n",
    "    # Pie chart\n",
    "    plt.figure(figsize=(8, 8))\n",
    "    plt.pie(completion_rate_df['Completion Rate'], labels=completion_rate_df['Version'], autopct='%1.1f%%', startangle=90, colors=['lightblue', 'salmon', 'lightgray'])\n",
    "    plt.title('Completion Rate (Test vs Control)')\n",
    "    plt.show()"
   ]
  },
  {
   "cell_type": "code",
   "execution_count": null,
   "id": "e3cb36b1-f3fe-462e-a3b8-be36aa916a5c",
   "metadata": {},
   "outputs": [],
   "source": [
    "# **Average Time per Step - Boxplot**\n",
    "\n",
    "def plot_avg_time_per_step_boxplot(test_avg_time_per_step, control_avg_time_per_step):\n",
    "    test_avg_time_seconds = test_avg_time_per_step.dt.total_seconds().round()  # Use .dt.total_seconds() for Series\n",
    "    control_avg_time_seconds = control_avg_time_per_step.dt.total_seconds().round()  # Use .dt.total_seconds() for Series\n",
    "    \n",
    "    time_df = pd.DataFrame({\n",
    "        'Process Step': ['Start', 'Step 1', 'Step 2', 'Step 3', 'Finish'],\n",
    "        'Test': test_avg_time_seconds,\n",
    "        'Control': control_avg_time_seconds\n",
    "    })\n",
    "\n",
    "    time_df = time_df.melt(id_vars='Process Step', value_vars=['Test', 'Control'], var_name='Version', value_name='Time (in seconds)')\n",
    "\n",
    "    plt.figure(figsize=(10, 6))\n",
    "    sns.boxplot(x='Process Step', y='Time (in seconds)', hue='Version', data=time_df)\n",
    "    plt.title('Average Time per Step (Test vs Control)')\n",
    "    plt.xticks(rotation=45)\n",
    "    plt.tight_layout()\n",
    "    plt.show()"
   ]
  },
  {
   "cell_type": "code",
   "execution_count": null,
   "id": "0132d7bd-3c91-4251-b9da-75459e83b690",
   "metadata": {},
   "outputs": [],
   "source": [
    "# **Error Rate - Heatmap of Errors per Client**\n",
    "\n",
    "def plot_error_heatmap(test_errors_per_client, control_errors_per_client):\n",
    "    error_data = {\n",
    "        'Test': test_errors_per_client,\n",
    "        'Control': control_errors_per_client\n",
    "    }\n",
    "    error_df = pd.DataFrame(error_data).T  # transpose to get rows as groups\n",
    "    \n",
    "    plt.figure(figsize=(8, 6))\n",
    "    # Use 'f' for floating-point numbers, or use '.2f' for two decimal places\n",
    "    sns.heatmap(error_df, annot=True, cmap='coolwarm', fmt='.2f', linewidths=0.5, cbar=True)\n",
    "    plt.title('Error Count Heatmap (Test vs Control)')\n",
    "    plt.show()"
   ]
  },
  {
   "cell_type": "code",
   "execution_count": null,
   "id": "7a11e272-a048-417e-b5d8-38fedb1b3cb8",
   "metadata": {},
   "outputs": [],
   "source": [
    "plot_completion_rate_pie(test_completion_rate, control_completion_rate, unknown_completion_rate)"
   ]
  },
  {
   "cell_type": "code",
   "execution_count": null,
   "id": "586e74ec-61a2-424d-bd65-9ce6f5adfe2e",
   "metadata": {},
   "outputs": [],
   "source": [
    "plot_avg_time_per_step_boxplot(test_avg_time_per_step, control_avg_time_per_step)"
   ]
  },
  {
   "cell_type": "code",
   "execution_count": null,
   "id": "d458269a-3993-4ab6-8d38-58904d92fc10",
   "metadata": {},
   "outputs": [],
   "source": [
    "plot_error_heatmap(test_errors_per_client, control_errors_per_client)"
   ]
  },
  {
   "cell_type": "code",
   "execution_count": null,
   "id": "eae8b82b-514d-48c0-811e-d1d36782ec8c",
   "metadata": {},
   "outputs": [],
   "source": []
  }
 ],
 "metadata": {
  "kernelspec": {
   "display_name": ".venv",
   "language": "python",
   "name": "python3"
  },
  "language_info": {
   "codemirror_mode": {
    "name": "ipython",
    "version": 3
   },
   "file_extension": ".py",
   "mimetype": "text/x-python",
   "name": "python",
   "nbconvert_exporter": "python",
   "pygments_lexer": "ipython3",
   "version": "3.12.3"
  }
 },
 "nbformat": 4,
 "nbformat_minor": 5
}
