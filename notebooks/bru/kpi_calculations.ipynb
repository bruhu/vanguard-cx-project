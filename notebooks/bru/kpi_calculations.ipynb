{
 "cells": [
  {
   "cell_type": "markdown",
   "id": "0cb0735c-ea70-496e-99be-0eb48c4f74a0",
   "metadata": {},
   "source": [
    "### Performance Metrics\n",
    "\n",
    "## Success Indicators\n",
    "\n",
    "You have now been asked to discover what key performance indicators (KPIs) will determine the success of the new design? Use at least completion rate, time spent on each step and error rates. Add any KPIs you might find relevant.\n",
    "\n",
    "- **Completion Rate:** The proportion of users who reach the final ‘confirm’ step.\n",
    "- **Time Spent on Each Step:** The average duration users spend on each step.\n",
    "- **Error Rates:** If there’s a step where users go back to a previous step, it may indicate confusion or an error. You should consider moving from a later step to an earlier one as an error.\n",
    "\n",
    "## Redesign Outcome\n",
    "\n",
    "Based on the chosen KPIs, how does the new design’s performance compare to the old one?"
   ]
  },
  {
   "cell_type": "code",
<<<<<<< HEAD
   "execution_count": null,
=======
   "execution_count": 52,
>>>>>>> bru
   "id": "5a7b946f-9808-485b-b949-f490ca2654b9",
   "metadata": {},
   "outputs": [],
   "source": [
    "import pandas as pd\n",
    "import numpy as np\n",
    "import matplotlib.pyplot as plt\n",
    "import seaborn as sns\n",
    "import re"
   ]
  },
  {
   "cell_type": "code",
<<<<<<< HEAD
   "execution_count": null,
=======
   "execution_count": 53,
>>>>>>> bru
   "id": "dd6204a9-1829-41ec-bf5a-a719c453abcb",
   "metadata": {},
   "outputs": [],
   "source": [
    "# import reusable functions from utils directory\n",
    "import sys\n",
    "sys.path.append('../../utils')\n",
    "import functions"
   ]
  },
  {
   "cell_type": "code",
<<<<<<< HEAD
   "execution_count": null,
   "id": "943db4eb-535b-4ae5-b948-1ee2da6e0b34",
   "metadata": {},
   "outputs": [],
=======
   "execution_count": 54,
   "id": "943db4eb-535b-4ae5-b948-1ee2da6e0b34",
   "metadata": {},
   "outputs": [],
   "source": [
    "combined_cleaned_df = pd.read_csv('../../data/clean/combined_cleaned_data.csv')\n",
    "# combined_cleaned_df.head()"
   ]
  },
  {
   "cell_type": "code",
   "execution_count": 55,
   "id": "904ffb23-e226-4a0a-8c48-492339dc7c57",
   "metadata": {},
   "outputs": [
    {
     "name": "stdout",
     "output_type": "stream",
     "text": [
      "All dates in the column have the same format.\n"
     ]
    }
   ],
   "source": [
    "combined_cleaned_df['date_time'] = pd.to_datetime(combined_cleaned_df['date_time'], errors='coerce')\n",
    "\n",
    "# check if any dates couldn't be converted (i.e., they are NaT)\n",
    "inconsistent_dates = combined_cleaned_df['date_time'].isna().sum()\n",
    "\n",
    "# if inconsistent_dates > 0, then there are invalid or mismatched date formats\n",
    "if inconsistent_dates > 0:\n",
    "    print(f'There are {inconsistent_dates} inconsistent or invalid date formats in the column.')\n",
    "else:\n",
    "    print('All dates in the column have the same format.')"
   ]
  },
  {
   "cell_type": "code",
   "execution_count": 104,
   "id": "5a50673d-d2d3-415b-95dd-a531af3b0a3b",
   "metadata": {},
   "outputs": [],
   "source": [
    "kpi_df = combined_cleaned_df.copy()\n",
    "# kpi_df = kpi_df.drop(columns=['visitor_id', 'visit_id'])"
   ]
  },
  {
   "cell_type": "code",
   "execution_count": 105,
   "id": "7cac01f7-8876-4cc6-ad92-ac5a73f07600",
   "metadata": {},
   "outputs": [],
   "source": [
    "# change the naming of the steps to numeric values to ensure order\n",
    "replacement_dict_steps = {\n",
    "    'start' : 0,\n",
    "    'step_1' : 1,\n",
    "    'step_2' : 2,\n",
    "    'step_3' : 3,\n",
    "    'confirm' : 4\n",
    "}\n",
    "\n",
    "kpi_df['process_step'] = kpi_df['process_step'].map(replacement_dict_steps)"
   ]
  },
  {
   "cell_type": "code",
   "execution_count": 106,
   "id": "8e6fb45b-7b2c-49f5-99a0-1a7ffa8bc501",
   "metadata": {},
   "outputs": [
    {
     "data": {
      "text/html": [
       "<div>\n",
       "<style scoped>\n",
       "    .dataframe tbody tr th:only-of-type {\n",
       "        vertical-align: middle;\n",
       "    }\n",
       "\n",
       "    .dataframe tbody tr th {\n",
       "        vertical-align: top;\n",
       "    }\n",
       "\n",
       "    .dataframe thead th {\n",
       "        text-align: right;\n",
       "    }\n",
       "</style>\n",
       "<table border=\"1\" class=\"dataframe\">\n",
       "  <thead>\n",
       "    <tr style=\"text-align: right;\">\n",
       "      <th></th>\n",
       "      <th>client_id</th>\n",
       "      <th>visitor_id</th>\n",
       "      <th>visit_id</th>\n",
       "      <th>process_step</th>\n",
       "      <th>date_time</th>\n",
       "    </tr>\n",
       "  </thead>\n",
       "  <tbody>\n",
       "    <tr>\n",
       "      <th>0</th>\n",
       "      <td>9988021</td>\n",
       "      <td>580560515_7732621733</td>\n",
       "      <td>781255054_21935453173_531117</td>\n",
       "      <td>3</td>\n",
       "      <td>2017-04-17 15:27:07</td>\n",
       "    </tr>\n",
       "    <tr>\n",
       "      <th>1</th>\n",
       "      <td>9988021</td>\n",
       "      <td>580560515_7732621733</td>\n",
       "      <td>781255054_21935453173_531117</td>\n",
       "      <td>2</td>\n",
       "      <td>2017-04-17 15:26:51</td>\n",
       "    </tr>\n",
       "    <tr>\n",
       "      <th>2</th>\n",
       "      <td>9988021</td>\n",
       "      <td>580560515_7732621733</td>\n",
       "      <td>781255054_21935453173_531117</td>\n",
       "      <td>3</td>\n",
       "      <td>2017-04-17 15:19:22</td>\n",
       "    </tr>\n",
       "    <tr>\n",
       "      <th>3</th>\n",
       "      <td>9988021</td>\n",
       "      <td>580560515_7732621733</td>\n",
       "      <td>781255054_21935453173_531117</td>\n",
       "      <td>2</td>\n",
       "      <td>2017-04-17 15:19:13</td>\n",
       "    </tr>\n",
       "    <tr>\n",
       "      <th>4</th>\n",
       "      <td>9988021</td>\n",
       "      <td>580560515_7732621733</td>\n",
       "      <td>781255054_21935453173_531117</td>\n",
       "      <td>3</td>\n",
       "      <td>2017-04-17 15:18:04</td>\n",
       "    </tr>\n",
       "    <tr>\n",
       "      <th>...</th>\n",
       "      <td>...</td>\n",
       "      <td>...</td>\n",
       "      <td>...</td>\n",
       "      <td>...</td>\n",
       "      <td>...</td>\n",
       "    </tr>\n",
       "    <tr>\n",
       "      <th>744636</th>\n",
       "      <td>9668240</td>\n",
       "      <td>388766751_9038881013</td>\n",
       "      <td>922267647_3096648104_968866</td>\n",
       "      <td>0</td>\n",
       "      <td>2017-05-24 18:46:10</td>\n",
       "    </tr>\n",
       "    <tr>\n",
       "      <th>744637</th>\n",
       "      <td>9668240</td>\n",
       "      <td>388766751_9038881013</td>\n",
       "      <td>922267647_3096648104_968866</td>\n",
       "      <td>0</td>\n",
       "      <td>2017-05-24 18:45:29</td>\n",
       "    </tr>\n",
       "    <tr>\n",
       "      <th>744638</th>\n",
       "      <td>9668240</td>\n",
       "      <td>388766751_9038881013</td>\n",
       "      <td>922267647_3096648104_968866</td>\n",
       "      <td>1</td>\n",
       "      <td>2017-05-24 18:44:51</td>\n",
       "    </tr>\n",
       "    <tr>\n",
       "      <th>744639</th>\n",
       "      <td>9668240</td>\n",
       "      <td>388766751_9038881013</td>\n",
       "      <td>922267647_3096648104_968866</td>\n",
       "      <td>0</td>\n",
       "      <td>2017-05-24 18:44:34</td>\n",
       "    </tr>\n",
       "    <tr>\n",
       "      <th>744640</th>\n",
       "      <td>674799</td>\n",
       "      <td>947159805_81558194550</td>\n",
       "      <td>86152093_47511127657_716022</td>\n",
       "      <td>0</td>\n",
       "      <td>2017-06-03 12:17:09</td>\n",
       "    </tr>\n",
       "  </tbody>\n",
       "</table>\n",
       "<p>744641 rows × 5 columns</p>\n",
       "</div>"
      ],
      "text/plain": [
       "        client_id             visitor_id                      visit_id  \\\n",
       "0         9988021   580560515_7732621733  781255054_21935453173_531117   \n",
       "1         9988021   580560515_7732621733  781255054_21935453173_531117   \n",
       "2         9988021   580560515_7732621733  781255054_21935453173_531117   \n",
       "3         9988021   580560515_7732621733  781255054_21935453173_531117   \n",
       "4         9988021   580560515_7732621733  781255054_21935453173_531117   \n",
       "...           ...                    ...                           ...   \n",
       "744636    9668240   388766751_9038881013   922267647_3096648104_968866   \n",
       "744637    9668240   388766751_9038881013   922267647_3096648104_968866   \n",
       "744638    9668240   388766751_9038881013   922267647_3096648104_968866   \n",
       "744639    9668240   388766751_9038881013   922267647_3096648104_968866   \n",
       "744640     674799  947159805_81558194550   86152093_47511127657_716022   \n",
       "\n",
       "        process_step           date_time  \n",
       "0                  3 2017-04-17 15:27:07  \n",
       "1                  2 2017-04-17 15:26:51  \n",
       "2                  3 2017-04-17 15:19:22  \n",
       "3                  2 2017-04-17 15:19:13  \n",
       "4                  3 2017-04-17 15:18:04  \n",
       "...              ...                 ...  \n",
       "744636             0 2017-05-24 18:46:10  \n",
       "744637             0 2017-05-24 18:45:29  \n",
       "744638             1 2017-05-24 18:44:51  \n",
       "744639             0 2017-05-24 18:44:34  \n",
       "744640             0 2017-06-03 12:17:09  \n",
       "\n",
       "[744641 rows x 5 columns]"
      ]
     },
     "execution_count": 106,
     "metadata": {},
     "output_type": "execute_result"
    }
   ],
>>>>>>> bru
   "source": [
    "kpi_df"
   ]
  },
  {
<<<<<<< HEAD
   "cell_type": "code",
   "execution_count": null,
   "id": "b8d22d3e-b94d-4972-a107-eb056ba89ffd",
   "metadata": {},
   "outputs": [],
   "source": [
    "# print(combined_cleaned_df['process_step'].unique())"
   ]
  },
  {
   "cell_type": "code",
   "execution_count": null,
   "id": "904ffb23-e226-4a0a-8c48-492339dc7c57",
   "metadata": {},
   "outputs": [],
   "source": [
    "combined_cleaned_df['date_time'] = pd.to_datetime(combined_cleaned_df['date_time'], errors='coerce')\n",
    "\n",
    "# check if any dates couldn't be converted (i.e., they are NaT)\n",
    "inconsistent_dates = combined_cleaned_df['date_time'].isna().sum()\n",
    "\n",
    "# if inconsistent_dates > 0, then there are invalid or mismatched date formats\n",
    "if inconsistent_dates > 0:\n",
    "    print(f'There are {inconsistent_dates} inconsistent or invalid date formats in the column.')\n",
    "else:\n",
    "    print('All dates in the column have the same format.')"
   ]
  },
  {
   "cell_type": "code",
   "execution_count": null,
   "id": "5a50673d-d2d3-415b-95dd-a531af3b0a3b",
   "metadata": {},
   "outputs": [],
   "source": [
    "# make a copy\n",
    "kpi_df = combined_cleaned_df.copy()\n",
    "# drop columns\n",
    "kpi_df = kpi_df.drop(columns=['visitor_id', 'visit_id'])"
   ]
  },
  {
   "cell_type": "code",
   "execution_count": null,
   "id": "7cac01f7-8876-4cc6-ad92-ac5a73f07600",
   "metadata": {},
   "outputs": [],
   "source": [
    "# change the naming of the steps to numeric values to ensure order\n",
    "replacement_dict_steps = {\n",
    "    'start' : 0,\n",
    "    'step_1' : 1,\n",
    "    'step_2' : 2,\n",
    "    'step_3' : 3,\n",
    "    'confirm' : 4\n",
    "}\n",
    "\n",
    "kpi_df['process_step'] = kpi_df['process_step'].map(replacement_dict_steps)"
   ]
  },
  {
   "cell_type": "code",
   "execution_count": null,
   "id": "8e6fb45b-7b2c-49f5-99a0-1a7ffa8bc501",
   "metadata": {},
   "outputs": [],
   "source": []
  },
  {
=======
>>>>>>> bru
   "cell_type": "markdown",
   "id": "f83d4904-8fb7-487c-88d3-03fa977d4ad1",
   "metadata": {},
   "source": [
    "# **Completion Rate**"
   ]
  },
  {
   "cell_type": "code",
<<<<<<< HEAD
   "execution_count": null,
=======
   "execution_count": 58,
>>>>>>> bru
   "id": "a7ee3fb5-b74e-4fe9-9ec1-19aaa5f92857",
   "metadata": {},
   "outputs": [],
   "source": [
    "def find_completion_rate(df):    \n",
    "    clients_finished = kpi_df[kpi_df['process_step'] == 4] # filter rows where process_step is 'Finish'\n",
    "    total_unique_clients = kpi_df['client_id'].nunique()\n",
    "    unique_clients_finished = clients_finished['client_id'].nunique() # find unique client ids that finished\n",
    "    print(f'Clients who finished the process: {unique_clients_finished} out ouf {total_unique_clients}.')\n",
    "\n",
    "find_completion_rate(kpi_df)"
   ]
  },
  {
   "cell_type": "code",
<<<<<<< HEAD
   "execution_count": null,
   "id": "fcb40b4a-8c93-414a-bf3b-bc5e0418b77e",
   "metadata": {},
   "outputs": [],
=======
   "execution_count": 59,
   "id": "fcb40b4a-8c93-414a-bf3b-bc5e0418b77e",
   "metadata": {},
   "outputs": [
    {
     "data": {
      "image/png": "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",
      "text/plain": [
       "<Figure size 800x800 with 1 Axes>"
      ]
     },
     "metadata": {},
     "output_type": "display_data"
    },
    {
     "data": {
      "image/png": "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",
      "text/plain": [
       "<Figure size 800x800 with 1 Axes>"
      ]
     },
     "metadata": {},
     "output_type": "display_data"
    }
   ],
>>>>>>> bru
   "source": [
    "clients_finished = kpi_df[kpi_df['process_step'] == 4]['client_id'].nunique()\n",
    "total_clients = kpi_df['client_id'].nunique()\n",
    "clients_not_finished = total_clients - clients_finished\n",
    "\n",
    "completion_rate = (clients_finished / total_clients) * 100\n",
    "\n",
    "# pie chart\n",
    "plt.figure(figsize=(8, 8))\n",
    "plt.pie(\n",
    "    [clients_finished, clients_not_finished],\n",
    "    labels=['Finished', 'Not Finished'],\n",
    "    autopct='%1.1f%%',\n",
    "    colors=['lightgreen', 'salmon'],\n",
    "    startangle=140\n",
    ")\n",
    "plt.title('Completion Rate')\n",
    "plt.show()\n",
    "\n",
    "# bar chart\n",
    "plt.figure(figsize=(8, 8))\n",
    "bars = plt.bar(['Total Clients', 'Completed Clients'], [total_clients, clients_finished], color=['lightgreen', 'salmon'])\n",
    "\n",
    "# add percentage annotation on top\n",
    "plt.text(1, clients_finished + 1, f'{completion_rate:.1f}%', ha='center', va='bottom', fontsize=12, color='black')\n",
    "\n",
    "plt.title('Total Clients vs Completed Clients')\n",
    "plt.ylabel('Number of Clients')\n",
    "plt.grid(axis='y', linestyle='--', alpha=0.7)\n",
    "plt.tight_layout()\n",
    "plt.show()"
   ]
  },
  {
   "cell_type": "markdown",
   "id": "f0445e92-3c0f-421a-be51-b469e60bf35a",
   "metadata": {},
   "source": [
    "# **Time spent on each step**"
   ]
  },
  {
   "cell_type": "code",
<<<<<<< HEAD
   "execution_count": null,
=======
   "execution_count": 60,
>>>>>>> bru
   "id": "6534042a-a94a-42a7-8a5c-3a36955b0fde",
   "metadata": {},
   "outputs": [],
   "source": [
    "# sort df by client_id and date_time\n",
    "kpi_df = kpi_df.sort_values(by=['client_id', 'date_time'])\n",
    "\n",
    "# calculate time difference between steps per client\n",
    "kpi_df['time_diff'] = kpi_df.groupby('client_id')['date_time'].diff()\n",
    "\n",
    "# drop first row per client (contains no information)\n",
    "kpi_df = kpi_df.dropna(subset=['time_diff'])"
   ]
  },
  {
   "cell_type": "code",
   "execution_count": null,
   "id": "106df5f1-4f17-44ab-80fd-aec45fac0f95",
   "metadata": {},
   "outputs": [],
   "source": [
    "# calculate average time spent on each step\n",
    "avg_time_per_step = kpi_df.groupby('process_step')['time_diff'].mean()\n",
    "\n",
    "# convert to total seconds\n",
    "avg_time_in_seconds = avg_time_per_step.dt.total_seconds()\n",
    "\n",
    "# round up to the nearest second to remove decimals\n",
    "avg_time_in_seconds_rounded = np.ceil(avg_time_in_seconds).astype(int)\n",
    "\n",
    "# convert back to timedelta\n",
    "avg_time_per_step_rounded = pd.to_timedelta(avg_time_in_seconds_rounded, unit='s')\n",
    "\n",
    "# re-map process_step index for readability\n",
    "# avg_time_per_step_rounded.index = avg_time_per_step_rounded.index.map({0: 'Start', 1: 'Step 1', 2: 'Step 2', 3: 'Step 3', 4: 'Finish'})\n",
    "\n",
    "print('Average time spent on each step:\\n')\n",
    "print(avg_time_per_step_rounded)"
   ]
  },
  {
   "cell_type": "code",
<<<<<<< HEAD
   "execution_count": null,
=======
   "execution_count": 62,
>>>>>>> bru
   "id": "8558ea66-e1cd-4ed7-8741-c6c33f39093c",
   "metadata": {},
   "outputs": [],
   "source": [
    "avg_time_in_seconds_rounded.index = avg_time_in_seconds_rounded.index.map({0: 'Start', 1: 'Step 1', 2: 'Step 2', 3: 'Step 3', 4: 'Finish'})\n",
    "\n",
    "# horizontal bar chart\n",
    "plt.figure(figsize=(10, 6))\n",
    "avg_time_in_seconds_rounded.sort_values(ascending=True).plot(kind='barh', color='cornflowerblue')\n",
    "plt.title('Average Time Spent on Each Step')\n",
    "plt.xlabel('Time (in seconds)')\n",
    "plt.ylabel('Process')\n",
    "plt.grid(axis='x', linestyle='--', alpha=0.7)\n",
    "plt.tight_layout()\n",
    "plt.show()"
   ]
  },
  {
   "cell_type": "code",
   "execution_count": 63,
   "id": "98c1b2e9",
   "metadata": {},
   "outputs": [
    {
     "data": {
      "image/png": "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",
      "text/plain": [
       "<Figure size 1000x600 with 1 Axes>"
      ]
     },
     "metadata": {},
     "output_type": "display_data"
    }
   ],
   "source": [
    "# Map the indices to step names\n",
    "avg_time_in_seconds_rounded.index = avg_time_in_seconds_rounded.index.map({0: 'Start', 1: 'Step 1', 2: 'Step 2', 3: 'Step 3', 4: 'Finish'})\n",
    "\n",
    "# Horizontal bar chart with logarithmic scale\n",
    "plt.figure(figsize=(10, 6))\n",
    "avg_time_in_seconds_rounded.sort_values(ascending=True).plot(kind='barh', color='cornflowerblue')\n",
    "\n",
    "# Set logarithmic scale for the x-axis to handle large differences\n",
    "plt.xscale('log')\n",
    "\n",
    "# Add annotations (data labels) on the bars for detailed values\n",
    "for i, v in enumerate(avg_time_in_seconds_rounded.sort_values(ascending=True)):\n",
    "    plt.text(v + 0.1, i, f'{v:.2f}', va='center', ha='left', fontsize=10, color='black')\n",
    "\n",
    "# Title and labels\n",
    "plt.title('Average Time Spent on Each Step')\n",
    "plt.xlabel('Time (in seconds, Log Scale)')\n",
    "plt.ylabel('Process')\n",
    "plt.grid(axis='x', linestyle='--', alpha=0.7)\n",
    "plt.tight_layout()\n",
    "plt.show()"
   ]
  },
  {
   "cell_type": "markdown",
   "id": "716f1198-4369-4f69-a799-405b1949aced",
   "metadata": {},
   "source": [
    "# **Error Rates**\n",
    "_(Constanza's code)_"
   ]
  },
  {
   "cell_type": "code",
<<<<<<< HEAD
   "execution_count": null,
=======
   "execution_count": 64,
>>>>>>> bru
   "id": "123bea70-4319-41f7-b16b-d9d0a2f0d955",
   "metadata": {},
   "outputs": [],
   "source": [
    "df = pd.read_csv('../../data/clean/combined_cleaned_data.csv')"
   ]
  },
  {
   "cell_type": "code",
<<<<<<< HEAD
   "execution_count": null,
=======
   "execution_count": 65,
>>>>>>> bru
   "id": "395748b1-0c24-4ae4-8254-a6bbdd57e747",
   "metadata": {},
   "outputs": [],
   "source": [
    "# drop columns\n",
    "df = df.drop(columns=['visitor_id', 'visit_id'])\n",
    "\n",
    "# change steps to numeric values to ensure order\n",
    "replacement_dict_steps = {\n",
    "    'start' : 0,\n",
    "    'step_1' : 1,\n",
    "    'step_2' : 2,\n",
    "    'step_3' : 3,\n",
    "    'confirm' : 4\n",
    "}\n",
    "\n",
    "df['process_step'] = df['process_step'].map(replacement_dict_steps)"
   ]
  },
  {
   "cell_type": "code",
<<<<<<< HEAD
   "execution_count": null,
=======
   "execution_count": 66,
>>>>>>> bru
   "id": "cdde0287-7550-44f1-986b-9b54607c0d6c",
   "metadata": {},
   "outputs": [],
   "source": [
    "# sort df by client_id and date_time\n",
    "df = df.sort_values(by=['client_id', 'date_time'])"
   ]
  },
  {
   "cell_type": "code",
<<<<<<< HEAD
   "execution_count": null,
=======
   "execution_count": 67,
>>>>>>> bru
   "id": "2826957d-453c-4a36-82b5-026770f230e3",
   "metadata": {},
   "outputs": [],
   "source": [
    "# Detect backward steps (errors) for all clients\n",
    "df['backward_step'] = df.groupby('client_id')['process_step'].diff() < 0\n",
    "\n",
    "# Count the number of unique clients who experienced at least one error\n",
    "clients_with_errors = df[df['backward_step']]['client_id'].nunique()\n",
    "\n",
    "# Count the total number of errors for each client\n",
    "errors_per_client = df[df['backward_step']].groupby('client_id').size()\n",
    "\n",
    "# Total number of errors across all clients\n",
    "total_errors = df['backward_step'].sum()\n",
    "\n",
    "# Output results\n",
    "print(f'Number of clients with at least one error: {clients_with_errors}')\n",
    "print('Errors per client:')\n",
    "print(errors_per_client)\n",
    "print(f'Total number of errors across all clients: {total_errors}')"
   ]
  },
  {
   "cell_type": "code",
   "execution_count": null,
   "id": "3191aa25-42b4-469e-b643-a03bad18d60a",
   "metadata": {},
   "outputs": [],
   "source": []
  },
  {
   "cell_type": "code",
<<<<<<< HEAD
   "execution_count": null,
=======
   "execution_count": 107,
>>>>>>> bru
   "id": "b3089ecb-298a-40b7-b7c4-989169c7bdbf",
   "metadata": {},
   "outputs": [],
   "source": [
    "# add column 'error_count'\n",
    "df['error_count'] = df['client_id'].map(errors_per_client).fillna(0).astype(int)"
   ]
  },
  {
   "cell_type": "code",
<<<<<<< HEAD
   "execution_count": null,
=======
   "execution_count": 69,
>>>>>>> bru
   "id": "f0fe2f2d-4f4f-4792-9adb-857c7314c1c5",
   "metadata": {},
   "outputs": [],
   "source": [
    "# # Crear un DataFrame con los resultados\n",
    "# results_df = errors_per_client.reset_index()\n",
    "# results_df.columns = ['client_id', 'number_of_errors']\n",
    "\n",
    "# # Guardar el DataFrame en un archivo CSV\n",
    "# results_df.to_csv('errors_per_client.csv', index=False)\n",
    "\n",
    "# # Mensaje de confirmación\n",
    "# print('El archivo 'errors_per_client.csv' se ha guardado correctamente.')"
   ]
  },
  {
   "cell_type": "code",
<<<<<<< HEAD
   "execution_count": null,
=======
   "execution_count": 70,
>>>>>>> bru
   "id": "6e946197-d8d4-44e6-88c0-a007c0c95442",
   "metadata": {},
   "outputs": [],
   "source": [
    "# # Bar Chart for Errors per Client\n",
    "# plt.figure(figsize=(10, 6))\n",
    "# errors_per_client.sort_values(ascending=False).plot(kind='bar', color='skyblue')\n",
    "# plt.title('Total Errors Per Client')\n",
    "# plt.xlabel('Client ID')\n",
    "# plt.ylabel('Number of Errors')\n",
    "# plt.xticks(rotation=45)\n",
    "# plt.grid(axis='y')\n",
    "# plt.tight_layout()\n",
    "# plt.show()\n",
    "\n",
    "# # Pie Chart for Proportion of Clients with Errors\n",
    "# clients_without_errors = df['client_id'].nunique() - clients_with_errors\n",
    "# plt.figure(figsize=(8, 8))\n",
    "# plt.pie(\n",
    "#     [clients_with_errors, clients_without_errors],\n",
    "#     labels=['With Errors', 'Without Errors'],\n",
    "#     autopct='%1.1f%%',\n",
    "#     colors=['salmon', 'lightgreen'],\n",
    "#     startangle=140\n",
    "# )\n",
    "# plt.title('Proportion of Clients with Errors')\n",
    "# plt.show()"
   ]
  },
  {
   "cell_type": "markdown",
   "id": "370564ca-ade9-405c-87f2-a7340575fc4e",
   "metadata": {},
   "source": [
    "# **Redesign Outcome**\n",
    "Based on the chosen KPIs, how does the new design’s performance compare to the old one?"
   ]
  },
  {
   "cell_type": "markdown",
   "id": "63240691-8863-4d87-a26a-399aaf59f14a",
   "metadata": {},
   "source": [
    "For the project requirements and instructions for today’s tasks in full, please refer to the project brief. However, in order to keep on track you may refer to the daily goals outlined below:\n",
    "\n",
    "By the end of day, we recommend you have:\n",
    "\n",
    "Reviewed KPI and Metrics material.\n",
    "Discovered what key performance indicators (KPIs) will determine the success of the new design\n",
    "Use at least completion rate, time spent on each step and error rates. Add any KPIs you might find relevant.\n",
    "Evaluated how the new design’s performance compare to the old one, given the chosen KPIs (completion rate, time spent on each step and error rates)."
   ]
  },
  {
   "cell_type": "markdown",
   "id": "637b6dc3-04dd-4cce-bd2f-4cf401c9125e",
   "metadata": {},
   "source": [
    "Steps:\n",
    "- [x] import `merged_final_demo_final_experiment_clients_df`\n",
    "- [x] merge with `kpi_df`\n",
    "- [x] add column of errors per client\n",
    "- [x] clean data if needed"
   ]
  },
  {
   "cell_type": "code",
<<<<<<< HEAD
   "execution_count": null,
=======
   "execution_count": 71,
>>>>>>> bru
   "id": "76cbf522-9670-48de-a413-572640616ebd",
   "metadata": {},
   "outputs": [],
   "source": [
    "merged_final_demo_final_experiment_clients_df = pd.read_csv('../../data/clean/merged_final_demo_final_experiment_clients_df.csv')"
   ]
  },
  {
   "cell_type": "code",
<<<<<<< HEAD
   "execution_count": null,
=======
   "execution_count": 72,
>>>>>>> bru
   "id": "2571cf25-5d1a-4ddd-b76f-b02a96b9d317",
   "metadata": {},
   "outputs": [],
   "source": [
    "merged_df = pd.merge(kpi_df, merged_final_demo_final_experiment_clients_df, on='client_id', how='outer')"
   ]
  },
  {
   "cell_type": "code",
<<<<<<< HEAD
   "execution_count": null,
=======
   "execution_count": 73,
>>>>>>> bru
   "id": "8ee05fd6-98b2-41b0-a1c9-384ef827feef",
   "metadata": {},
   "outputs": [],
   "source": [
    "# match datatypes in dfs before merging on `date_time` column to prevent errors\n",
    "merged_df['date_time'] = pd.to_datetime(merged_df['date_time'], errors='coerce')\n",
    "df['date_time'] = pd.to_datetime(df['date_time'], errors='coerce')"
   ]
  },
  {
   "cell_type": "code",
<<<<<<< HEAD
   "execution_count": null,
=======
   "execution_count": 74,
>>>>>>> bru
   "id": "296acb21-eeb1-4033-bf40-0fd4ea9cee85",
   "metadata": {},
   "outputs": [],
   "source": [
    "# select columns to merge\n",
    "df_selected = df[['client_id', 'date_time', 'backward_step', 'error_count']]\n",
    "merged_kpi_df = pd.merge(merged_df, df_selected, on=['client_id', 'date_time'], how='left')"
   ]
  },
  {
   "cell_type": "code",
<<<<<<< HEAD
   "execution_count": null,
=======
   "execution_count": 75,
>>>>>>> bru
   "id": "798fb414-98f2-4b8f-8d19-e0ded4d37224",
   "metadata": {},
   "outputs": [],
   "source": [
    "# merged_kpi_df: 5682251 rows, 15 columns - before matching date_time\n",
    "# merged_kpi_df: 631469 rows × 15 columns - after matching date and time"
   ]
  },
  {
   "cell_type": "code",
<<<<<<< HEAD
   "execution_count": null,
=======
   "execution_count": 76,
>>>>>>> bru
   "id": "704f500d-4039-407d-9c4e-214db7f769f6",
   "metadata": {},
   "outputs": [],
   "source": [
    "merged_kpi_df.rename(columns={'backward_step': 'stepped_back'}, inplace=True)"
   ]
  },
  {
   "cell_type": "code",
<<<<<<< HEAD
   "execution_count": null,
=======
   "execution_count": 77,
>>>>>>> bru
   "id": "ce8815c5-3ceb-45e6-a897-c9264787cf57",
   "metadata": {},
   "outputs": [],
   "source": [
    "merged_kpi_df.drop(columns=['client_tenure_months', 'num_accounts', 'calls_last_6_months', 'logons_last_6_months', 'balance'], inplace=True)"
   ]
  },
  {
   "cell_type": "code",
<<<<<<< HEAD
   "execution_count": null,
   "id": "32452d76-39e7-45e5-a789-c56c2dfc262a",
   "metadata": {},
   "outputs": [],
=======
   "execution_count": 78,
   "id": "32452d76-39e7-45e5-a789-c56c2dfc262a",
   "metadata": {},
   "outputs": [
    {
     "data": {
      "text/html": [
       "<div>\n",
       "<style scoped>\n",
       "    .dataframe tbody tr th:only-of-type {\n",
       "        vertical-align: middle;\n",
       "    }\n",
       "\n",
       "    .dataframe tbody tr th {\n",
       "        vertical-align: top;\n",
       "    }\n",
       "\n",
       "    .dataframe thead th {\n",
       "        text-align: right;\n",
       "    }\n",
       "</style>\n",
       "<table border=\"1\" class=\"dataframe\">\n",
       "  <thead>\n",
       "    <tr style=\"text-align: right;\">\n",
       "      <th></th>\n",
       "      <th>client_id</th>\n",
       "      <th>process_step</th>\n",
       "      <th>date_time</th>\n",
       "      <th>time_diff</th>\n",
       "      <th>client_tenure_years</th>\n",
       "      <th>client_age</th>\n",
       "      <th>gender</th>\n",
       "      <th>variation</th>\n",
       "      <th>stepped_back</th>\n",
       "      <th>error_count</th>\n",
       "    </tr>\n",
       "  </thead>\n",
       "  <tbody>\n",
       "    <tr>\n",
       "      <th>0</th>\n",
       "      <td>169</td>\n",
       "      <td>1</td>\n",
       "      <td>2017-04-12 20:19:45</td>\n",
       "      <td>0 days 00:00:09</td>\n",
       "      <td>21</td>\n",
       "      <td>47</td>\n",
       "      <td>Male</td>\n",
       "      <td>Unknown</td>\n",
       "      <td>False</td>\n",
       "      <td>0</td>\n",
       "    </tr>\n",
       "    <tr>\n",
       "      <th>1</th>\n",
       "      <td>169</td>\n",
       "      <td>2</td>\n",
       "      <td>2017-04-12 20:20:31</td>\n",
       "      <td>0 days 00:00:46</td>\n",
       "      <td>21</td>\n",
       "      <td>47</td>\n",
       "      <td>Male</td>\n",
       "      <td>Unknown</td>\n",
       "      <td>False</td>\n",
       "      <td>0</td>\n",
       "    </tr>\n",
       "    <tr>\n",
       "      <th>2</th>\n",
       "      <td>169</td>\n",
       "      <td>3</td>\n",
       "      <td>2017-04-12 20:22:05</td>\n",
       "      <td>0 days 00:01:34</td>\n",
       "      <td>21</td>\n",
       "      <td>47</td>\n",
       "      <td>Male</td>\n",
       "      <td>Unknown</td>\n",
       "      <td>False</td>\n",
       "      <td>0</td>\n",
       "    </tr>\n",
       "    <tr>\n",
       "      <th>3</th>\n",
       "      <td>169</td>\n",
       "      <td>4</td>\n",
       "      <td>2017-04-12 20:23:09</td>\n",
       "      <td>0 days 00:01:04</td>\n",
       "      <td>21</td>\n",
       "      <td>47</td>\n",
       "      <td>Male</td>\n",
       "      <td>Unknown</td>\n",
       "      <td>False</td>\n",
       "      <td>0</td>\n",
       "    </tr>\n",
       "    <tr>\n",
       "      <th>4</th>\n",
       "      <td>336</td>\n",
       "      <td>0</td>\n",
       "      <td>2017-06-01 07:42:43</td>\n",
       "      <td>0 days 00:15:48</td>\n",
       "      <td>&lt;NA&gt;</td>\n",
       "      <td>&lt;NA&gt;</td>\n",
       "      <td>NaN</td>\n",
       "      <td>NaN</td>\n",
       "      <td>False</td>\n",
       "      <td>0</td>\n",
       "    </tr>\n",
       "    <tr>\n",
       "      <th>...</th>\n",
       "      <td>...</td>\n",
       "      <td>...</td>\n",
       "      <td>...</td>\n",
       "      <td>...</td>\n",
       "      <td>...</td>\n",
       "      <td>...</td>\n",
       "      <td>...</td>\n",
       "      <td>...</td>\n",
       "      <td>...</td>\n",
       "      <td>...</td>\n",
       "    </tr>\n",
       "    <tr>\n",
       "      <th>631464</th>\n",
       "      <td>9999875</td>\n",
       "      <td>1</td>\n",
       "      <td>2017-06-01 22:40:08</td>\n",
       "      <td>0 days 00:00:07</td>\n",
       "      <td>&lt;NA&gt;</td>\n",
       "      <td>&lt;NA&gt;</td>\n",
       "      <td>NaN</td>\n",
       "      <td>NaN</td>\n",
       "      <td>False</td>\n",
       "      <td>0</td>\n",
       "    </tr>\n",
       "    <tr>\n",
       "      <th>631465</th>\n",
       "      <td>9999875</td>\n",
       "      <td>1</td>\n",
       "      <td>2017-06-01 22:41:28</td>\n",
       "      <td>0 days 00:01:20</td>\n",
       "      <td>&lt;NA&gt;</td>\n",
       "      <td>&lt;NA&gt;</td>\n",
       "      <td>NaN</td>\n",
       "      <td>NaN</td>\n",
       "      <td>False</td>\n",
       "      <td>0</td>\n",
       "    </tr>\n",
       "    <tr>\n",
       "      <th>631466</th>\n",
       "      <td>9999875</td>\n",
       "      <td>2</td>\n",
       "      <td>2017-06-01 22:41:47</td>\n",
       "      <td>0 days 00:00:19</td>\n",
       "      <td>&lt;NA&gt;</td>\n",
       "      <td>&lt;NA&gt;</td>\n",
       "      <td>NaN</td>\n",
       "      <td>NaN</td>\n",
       "      <td>False</td>\n",
       "      <td>0</td>\n",
       "    </tr>\n",
       "    <tr>\n",
       "      <th>631467</th>\n",
       "      <td>9999875</td>\n",
       "      <td>3</td>\n",
       "      <td>2017-06-01 22:44:58</td>\n",
       "      <td>0 days 00:03:11</td>\n",
       "      <td>&lt;NA&gt;</td>\n",
       "      <td>&lt;NA&gt;</td>\n",
       "      <td>NaN</td>\n",
       "      <td>NaN</td>\n",
       "      <td>False</td>\n",
       "      <td>0</td>\n",
       "    </tr>\n",
       "    <tr>\n",
       "      <th>631468</th>\n",
       "      <td>9999875</td>\n",
       "      <td>4</td>\n",
       "      <td>2017-06-01 22:48:39</td>\n",
       "      <td>0 days 00:03:41</td>\n",
       "      <td>&lt;NA&gt;</td>\n",
       "      <td>&lt;NA&gt;</td>\n",
       "      <td>NaN</td>\n",
       "      <td>NaN</td>\n",
       "      <td>False</td>\n",
       "      <td>0</td>\n",
       "    </tr>\n",
       "  </tbody>\n",
       "</table>\n",
       "<p>631469 rows × 10 columns</p>\n",
       "</div>"
      ],
      "text/plain": [
       "        client_id  process_step           date_time       time_diff  \\\n",
       "0             169             1 2017-04-12 20:19:45 0 days 00:00:09   \n",
       "1             169             2 2017-04-12 20:20:31 0 days 00:00:46   \n",
       "2             169             3 2017-04-12 20:22:05 0 days 00:01:34   \n",
       "3             169             4 2017-04-12 20:23:09 0 days 00:01:04   \n",
       "4             336             0 2017-06-01 07:42:43 0 days 00:15:48   \n",
       "...           ...           ...                 ...             ...   \n",
       "631464    9999875             1 2017-06-01 22:40:08 0 days 00:00:07   \n",
       "631465    9999875             1 2017-06-01 22:41:28 0 days 00:01:20   \n",
       "631466    9999875             2 2017-06-01 22:41:47 0 days 00:00:19   \n",
       "631467    9999875             3 2017-06-01 22:44:58 0 days 00:03:11   \n",
       "631468    9999875             4 2017-06-01 22:48:39 0 days 00:03:41   \n",
       "\n",
       "        client_tenure_years  client_age gender variation stepped_back  \\\n",
       "0                        21          47   Male   Unknown        False   \n",
       "1                        21          47   Male   Unknown        False   \n",
       "2                        21          47   Male   Unknown        False   \n",
       "3                        21          47   Male   Unknown        False   \n",
       "4                      <NA>        <NA>    NaN       NaN        False   \n",
       "...                     ...         ...    ...       ...          ...   \n",
       "631464                 <NA>        <NA>    NaN       NaN        False   \n",
       "631465                 <NA>        <NA>    NaN       NaN        False   \n",
       "631466                 <NA>        <NA>    NaN       NaN        False   \n",
       "631467                 <NA>        <NA>    NaN       NaN        False   \n",
       "631468                 <NA>        <NA>    NaN       NaN        False   \n",
       "\n",
       "        error_count  \n",
       "0                 0  \n",
       "1                 0  \n",
       "2                 0  \n",
       "3                 0  \n",
       "4                 0  \n",
       "...             ...  \n",
       "631464            0  \n",
       "631465            0  \n",
       "631466            0  \n",
       "631467            0  \n",
       "631468            0  \n",
       "\n",
       "[631469 rows x 10 columns]"
      ]
     },
     "execution_count": 78,
     "metadata": {},
     "output_type": "execute_result"
    }
   ],
>>>>>>> bru
   "source": [
    "functions.floats_to_ints(merged_kpi_df, 'process_step')\n",
    "functions.floats_to_ints(merged_kpi_df, 'client_tenure_years')\n",
    "functions.floats_to_ints(merged_kpi_df, 'client_age')\n",
    "functions.floats_to_ints(merged_kpi_df, 'error_count')"
   ]
  },
  {
   "cell_type": "code",
<<<<<<< HEAD
   "execution_count": null,
=======
   "execution_count": 79,
>>>>>>> bru
   "id": "bbc7f1f0-344b-43b9-b68f-d237c97e19b7",
   "metadata": {},
   "outputs": [],
   "source": [
    "# convert NaN values in 'variation' to 'Unknown'\n",
    "merged_kpi_df['variation'] = merged_kpi_df['variation'].fillna('Unknown')"
   ]
  },
  {
   "cell_type": "code",
<<<<<<< HEAD
   "execution_count": null,
   "id": "8d8daa4d-5a1e-48d8-ad29-3253e228af78",
   "metadata": {},
   "outputs": [],
=======
   "execution_count": 80,
   "id": "8d8daa4d-5a1e-48d8-ad29-3253e228af78",
   "metadata": {},
   "outputs": [
    {
     "name": "stdout",
     "output_type": "stream",
     "text": [
      "['Male' nan 'Unspecified' 'Female']\n"
     ]
    },
    {
     "data": {
      "text/html": [
       "<div>\n",
       "<style scoped>\n",
       "    .dataframe tbody tr th:only-of-type {\n",
       "        vertical-align: middle;\n",
       "    }\n",
       "\n",
       "    .dataframe tbody tr th {\n",
       "        vertical-align: top;\n",
       "    }\n",
       "\n",
       "    .dataframe thead th {\n",
       "        text-align: right;\n",
       "    }\n",
       "</style>\n",
       "<table border=\"1\" class=\"dataframe\">\n",
       "  <thead>\n",
       "    <tr style=\"text-align: right;\">\n",
       "      <th></th>\n",
       "      <th>client_id</th>\n",
       "      <th>process_step</th>\n",
       "      <th>date_time</th>\n",
       "      <th>time_diff</th>\n",
       "      <th>client_tenure_years</th>\n",
       "      <th>client_age</th>\n",
       "      <th>gender</th>\n",
       "      <th>variation</th>\n",
       "      <th>stepped_back</th>\n",
       "      <th>error_count</th>\n",
       "    </tr>\n",
       "  </thead>\n",
       "  <tbody>\n",
       "    <tr>\n",
       "      <th>0</th>\n",
       "      <td>169</td>\n",
       "      <td>1</td>\n",
       "      <td>2017-04-12 20:19:45</td>\n",
       "      <td>0 days 00:00:09</td>\n",
       "      <td>21</td>\n",
       "      <td>47</td>\n",
       "      <td>Male</td>\n",
       "      <td>Unknown</td>\n",
       "      <td>False</td>\n",
       "      <td>0</td>\n",
       "    </tr>\n",
       "    <tr>\n",
       "      <th>1</th>\n",
       "      <td>169</td>\n",
       "      <td>2</td>\n",
       "      <td>2017-04-12 20:20:31</td>\n",
       "      <td>0 days 00:00:46</td>\n",
       "      <td>21</td>\n",
       "      <td>47</td>\n",
       "      <td>Male</td>\n",
       "      <td>Unknown</td>\n",
       "      <td>False</td>\n",
       "      <td>0</td>\n",
       "    </tr>\n",
       "    <tr>\n",
       "      <th>2</th>\n",
       "      <td>169</td>\n",
       "      <td>3</td>\n",
       "      <td>2017-04-12 20:22:05</td>\n",
       "      <td>0 days 00:01:34</td>\n",
       "      <td>21</td>\n",
       "      <td>47</td>\n",
       "      <td>Male</td>\n",
       "      <td>Unknown</td>\n",
       "      <td>False</td>\n",
       "      <td>0</td>\n",
       "    </tr>\n",
       "    <tr>\n",
       "      <th>3</th>\n",
       "      <td>169</td>\n",
       "      <td>4</td>\n",
       "      <td>2017-04-12 20:23:09</td>\n",
       "      <td>0 days 00:01:04</td>\n",
       "      <td>21</td>\n",
       "      <td>47</td>\n",
       "      <td>Male</td>\n",
       "      <td>Unknown</td>\n",
       "      <td>False</td>\n",
       "      <td>0</td>\n",
       "    </tr>\n",
       "    <tr>\n",
       "      <th>4</th>\n",
       "      <td>336</td>\n",
       "      <td>0</td>\n",
       "      <td>2017-06-01 07:42:43</td>\n",
       "      <td>0 days 00:15:48</td>\n",
       "      <td>&lt;NA&gt;</td>\n",
       "      <td>&lt;NA&gt;</td>\n",
       "      <td>Unspecified</td>\n",
       "      <td>Unknown</td>\n",
       "      <td>False</td>\n",
       "      <td>0</td>\n",
       "    </tr>\n",
       "    <tr>\n",
       "      <th>...</th>\n",
       "      <td>...</td>\n",
       "      <td>...</td>\n",
       "      <td>...</td>\n",
       "      <td>...</td>\n",
       "      <td>...</td>\n",
       "      <td>...</td>\n",
       "      <td>...</td>\n",
       "      <td>...</td>\n",
       "      <td>...</td>\n",
       "      <td>...</td>\n",
       "    </tr>\n",
       "    <tr>\n",
       "      <th>631464</th>\n",
       "      <td>9999875</td>\n",
       "      <td>1</td>\n",
       "      <td>2017-06-01 22:40:08</td>\n",
       "      <td>0 days 00:00:07</td>\n",
       "      <td>&lt;NA&gt;</td>\n",
       "      <td>&lt;NA&gt;</td>\n",
       "      <td>Unspecified</td>\n",
       "      <td>Unknown</td>\n",
       "      <td>False</td>\n",
       "      <td>0</td>\n",
       "    </tr>\n",
       "    <tr>\n",
       "      <th>631465</th>\n",
       "      <td>9999875</td>\n",
       "      <td>1</td>\n",
       "      <td>2017-06-01 22:41:28</td>\n",
       "      <td>0 days 00:01:20</td>\n",
       "      <td>&lt;NA&gt;</td>\n",
       "      <td>&lt;NA&gt;</td>\n",
       "      <td>Unspecified</td>\n",
       "      <td>Unknown</td>\n",
       "      <td>False</td>\n",
       "      <td>0</td>\n",
       "    </tr>\n",
       "    <tr>\n",
       "      <th>631466</th>\n",
       "      <td>9999875</td>\n",
       "      <td>2</td>\n",
       "      <td>2017-06-01 22:41:47</td>\n",
       "      <td>0 days 00:00:19</td>\n",
       "      <td>&lt;NA&gt;</td>\n",
       "      <td>&lt;NA&gt;</td>\n",
       "      <td>Unspecified</td>\n",
       "      <td>Unknown</td>\n",
       "      <td>False</td>\n",
       "      <td>0</td>\n",
       "    </tr>\n",
       "    <tr>\n",
       "      <th>631467</th>\n",
       "      <td>9999875</td>\n",
       "      <td>3</td>\n",
       "      <td>2017-06-01 22:44:58</td>\n",
       "      <td>0 days 00:03:11</td>\n",
       "      <td>&lt;NA&gt;</td>\n",
       "      <td>&lt;NA&gt;</td>\n",
       "      <td>Unspecified</td>\n",
       "      <td>Unknown</td>\n",
       "      <td>False</td>\n",
       "      <td>0</td>\n",
       "    </tr>\n",
       "    <tr>\n",
       "      <th>631468</th>\n",
       "      <td>9999875</td>\n",
       "      <td>4</td>\n",
       "      <td>2017-06-01 22:48:39</td>\n",
       "      <td>0 days 00:03:41</td>\n",
       "      <td>&lt;NA&gt;</td>\n",
       "      <td>&lt;NA&gt;</td>\n",
       "      <td>Unspecified</td>\n",
       "      <td>Unknown</td>\n",
       "      <td>False</td>\n",
       "      <td>0</td>\n",
       "    </tr>\n",
       "  </tbody>\n",
       "</table>\n",
       "<p>631469 rows × 10 columns</p>\n",
       "</div>"
      ],
      "text/plain": [
       "        client_id  process_step           date_time       time_diff  \\\n",
       "0             169             1 2017-04-12 20:19:45 0 days 00:00:09   \n",
       "1             169             2 2017-04-12 20:20:31 0 days 00:00:46   \n",
       "2             169             3 2017-04-12 20:22:05 0 days 00:01:34   \n",
       "3             169             4 2017-04-12 20:23:09 0 days 00:01:04   \n",
       "4             336             0 2017-06-01 07:42:43 0 days 00:15:48   \n",
       "...           ...           ...                 ...             ...   \n",
       "631464    9999875             1 2017-06-01 22:40:08 0 days 00:00:07   \n",
       "631465    9999875             1 2017-06-01 22:41:28 0 days 00:01:20   \n",
       "631466    9999875             2 2017-06-01 22:41:47 0 days 00:00:19   \n",
       "631467    9999875             3 2017-06-01 22:44:58 0 days 00:03:11   \n",
       "631468    9999875             4 2017-06-01 22:48:39 0 days 00:03:41   \n",
       "\n",
       "        client_tenure_years  client_age       gender variation stepped_back  \\\n",
       "0                        21          47         Male   Unknown        False   \n",
       "1                        21          47         Male   Unknown        False   \n",
       "2                        21          47         Male   Unknown        False   \n",
       "3                        21          47         Male   Unknown        False   \n",
       "4                      <NA>        <NA>  Unspecified   Unknown        False   \n",
       "...                     ...         ...          ...       ...          ...   \n",
       "631464                 <NA>        <NA>  Unspecified   Unknown        False   \n",
       "631465                 <NA>        <NA>  Unspecified   Unknown        False   \n",
       "631466                 <NA>        <NA>  Unspecified   Unknown        False   \n",
       "631467                 <NA>        <NA>  Unspecified   Unknown        False   \n",
       "631468                 <NA>        <NA>  Unspecified   Unknown        False   \n",
       "\n",
       "        error_count  \n",
       "0                 0  \n",
       "1                 0  \n",
       "2                 0  \n",
       "3                 0  \n",
       "4                 0  \n",
       "...             ...  \n",
       "631464            0  \n",
       "631465            0  \n",
       "631466            0  \n",
       "631467            0  \n",
       "631468            0  \n",
       "\n",
       "[631469 rows x 10 columns]"
      ]
     },
     "execution_count": 80,
     "metadata": {},
     "output_type": "execute_result"
    }
   ],
>>>>>>> bru
   "source": [
    "functions.handle_unique_gender_values(merged_kpi_df)"
   ]
  },
  {
   "cell_type": "markdown",
   "id": "d472b47d-6841-4130-9781-5bec0a60b4c8",
   "metadata": {},
   "source": [
    "### Evaluate how the new design’s performance compare to the old one, given the chosen KPIs (completion rate, time spent on each step and error rates).\n",
    "\n"
   ]
  },
  {
   "cell_type": "code",
<<<<<<< HEAD
   "execution_count": null,
=======
   "execution_count": 81,
>>>>>>> bru
   "id": "8915b4a0-a698-4014-992a-7e2d754176fe",
   "metadata": {},
   "outputs": [],
   "source": [
    "# split in dfs, for Variation Control and Variation Test\n",
    "df_test_kpi = merged_kpi_df[merged_kpi_df['variation'] == 'Test']\n",
    "df_control_kpi = merged_kpi_df[merged_kpi_df['variation'] == 'Control']\n",
    "df_unknown_kpi = merged_kpi_df[merged_kpi_df['variation'] == 'Unknown']"
   ]
  },
  {
   "cell_type": "code",
<<<<<<< HEAD
   "execution_count": null,
=======
   "execution_count": 82,
>>>>>>> bru
   "id": "17f20dad-5b08-4d09-9a52-1f135c1a2a70",
   "metadata": {},
   "outputs": [],
   "source": [
    "# drop empty rows\n",
    "df_test_kpi = df_test_kpi.dropna()\n",
    "df_control_kpi = df_control_kpi.dropna()\n",
    "df_unknown_kpi = df_unknown_kpi.dropna()"
   ]
  },
  {
   "cell_type": "markdown",
   "id": "03d86abe-d5b7-4305-9326-396877ed4f06",
   "metadata": {},
   "source": [
    "## Completion Rates"
   ]
  },
  {
   "cell_type": "code",
<<<<<<< HEAD
   "execution_count": null,
   "id": "03afec82-18b3-48c7-8586-78c1abe45e28",
   "metadata": {},
   "outputs": [],
=======
   "execution_count": 83,
   "id": "03afec82-18b3-48c7-8586-78c1abe45e28",
   "metadata": {},
   "outputs": [
    {
     "name": "stdout",
     "output_type": "stream",
     "text": [
      "\n",
      "Completion rate for Control:\n",
      "Clients who finished the process: 15407 out ouf 21274.\n"
     ]
    },
    {
     "data": {
      "text/plain": [
       "(15407, 21274, 0.7242173545172511)"
      ]
     },
     "execution_count": 83,
     "metadata": {},
     "output_type": "execute_result"
    }
   ],
>>>>>>> bru
   "source": [
    "print('\\nCompletion rate for Control:')\n",
    "functions.find_completion_rate(df_control_kpi)"
   ]
  },
  {
   "cell_type": "code",
<<<<<<< HEAD
   "execution_count": null,
   "id": "795b51e3-daa5-4c30-aad4-e05ba13e6b14",
   "metadata": {},
   "outputs": [],
=======
   "execution_count": 84,
   "id": "795b51e3-daa5-4c30-aad4-e05ba13e6b14",
   "metadata": {},
   "outputs": [
    {
     "name": "stdout",
     "output_type": "stream",
     "text": [
      "\n",
      "Completion rate for Test:\n",
      "Clients who finished the process: 18620 out ouf 25563.\n"
     ]
    },
    {
     "data": {
      "text/plain": [
       "(18620, 25563, 0.7283965105817001)"
      ]
     },
     "execution_count": 84,
     "metadata": {},
     "output_type": "execute_result"
    }
   ],
>>>>>>> bru
   "source": [
    "print('\\nCompletion rate for Test:')\n",
    "functions.find_completion_rate(df_test_kpi)"
   ]
  },
  {
   "cell_type": "markdown",
   "id": "03c3535b-599b-4895-bf82-bffb56d500b3",
   "metadata": {},
   "source": [
    "## Time spent on each step"
   ]
  },
  {
   "cell_type": "code",
<<<<<<< HEAD
   "execution_count": null,
   "id": "17f4d595-3ed5-4df1-a379-5f76a6167269",
   "metadata": {},
   "outputs": [],
=======
   "execution_count": 85,
   "id": "17f4d595-3ed5-4df1-a379-5f76a6167269",
   "metadata": {},
   "outputs": [
    {
     "name": "stdout",
     "output_type": "stream",
     "text": [
      "Average time spent on each step:\n",
      " process_step\n",
      "0   3 days 05:16:07\n",
      "1   0 days 00:40:57\n",
      "2   0 days 00:01:52\n",
      "3   0 days 00:12:20\n",
      "4   1 days 03:56:57\n",
      "Name: time_diff, dtype: timedelta64[ns]\n"
     ]
    },
    {
     "data": {
      "text/plain": [
       "process_step\n",
       "0   3 days 05:16:07\n",
       "1   0 days 00:40:57\n",
       "2   0 days 00:01:52\n",
       "3   0 days 00:12:20\n",
       "4   1 days 03:56:57\n",
       "Name: time_diff, dtype: timedelta64[ns]"
      ]
     },
     "execution_count": 85,
     "metadata": {},
     "output_type": "execute_result"
    }
   ],
>>>>>>> bru
   "source": [
    "functions.calculate_time_per_step(df_test_kpi)"
   ]
  },
  {
   "cell_type": "code",
<<<<<<< HEAD
   "execution_count": null,
   "id": "0e25db30-2a57-4113-8b2d-4bd6d9bdc9df",
   "metadata": {},
   "outputs": [],
=======
   "execution_count": 86,
   "id": "0e25db30-2a57-4113-8b2d-4bd6d9bdc9df",
   "metadata": {},
   "outputs": [
    {
     "name": "stdout",
     "output_type": "stream",
     "text": [
      "Average time spent on each step:\n",
      " process_step\n",
      "0   4 days 01:23:08\n",
      "1   0 days 01:00:59\n",
      "2   0 days 00:00:40\n",
      "3   0 days 00:07:44\n",
      "4   0 days 17:50:07\n",
      "Name: time_diff, dtype: timedelta64[ns]\n"
     ]
    },
    {
     "data": {
      "text/plain": [
       "process_step\n",
       "0   4 days 01:23:08\n",
       "1   0 days 01:00:59\n",
       "2   0 days 00:00:40\n",
       "3   0 days 00:07:44\n",
       "4   0 days 17:50:07\n",
       "Name: time_diff, dtype: timedelta64[ns]"
      ]
     },
     "execution_count": 86,
     "metadata": {},
     "output_type": "execute_result"
    }
   ],
>>>>>>> bru
   "source": [
    "functions.calculate_time_per_step(df_control_kpi)"
   ]
  },
  {
   "cell_type": "markdown",
   "id": "f9c3894d-5966-4c3c-abe9-f57038d90419",
   "metadata": {},
   "source": [
    "## Error Rate"
   ]
  },
  {
   "cell_type": "code",
<<<<<<< HEAD
   "execution_count": null,
   "id": "76eb7a85-21fe-4083-b43c-54caccf44306",
   "metadata": {},
   "outputs": [],
=======
   "execution_count": 87,
   "id": "76eb7a85-21fe-4083-b43c-54caccf44306",
   "metadata": {},
   "outputs": [
    {
     "name": "stdout",
     "output_type": "stream",
     "text": [
      "Errors per client: client_id\n",
      "1346       2\n",
      "1516       4\n",
      "1643       1\n",
      "1755       1\n",
      "1836       3\n",
      "          ..\n",
      "9994764    6\n",
      "9995295    4\n",
      "9998156    1\n",
      "9999150    1\n",
      "9999729    2\n",
      "Length: 10189, dtype: int64\n",
      "Total number of errors across all clients: 19250\n"
     ]
    },
    {
     "data": {
      "text/plain": [
       "(10189,\n",
       " client_id\n",
       " 1346       2\n",
       " 1516       4\n",
       " 1643       1\n",
       " 1755       1\n",
       " 1836       3\n",
       "           ..\n",
       " 9994764    6\n",
       " 9995295    4\n",
       " 9998156    1\n",
       " 9999150    1\n",
       " 9999729    2\n",
       " Length: 10189, dtype: int64,\n",
       " 19250)"
      ]
     },
     "execution_count": 87,
     "metadata": {},
     "output_type": "execute_result"
    }
   ],
>>>>>>> bru
   "source": [
    "functions.find_error_rate(df_test_kpi)"
   ]
  },
  {
   "cell_type": "code",
<<<<<<< HEAD
   "execution_count": null,
   "id": "5d914c14-ed2a-4cc9-99bb-8debe4bdfae0",
   "metadata": {},
   "outputs": [],
=======
   "execution_count": 88,
   "id": "5d914c14-ed2a-4cc9-99bb-8debe4bdfae0",
   "metadata": {},
   "outputs": [
    {
     "name": "stdout",
     "output_type": "stream",
     "text": [
      "Errors per client: client_id\n",
      "1028       2\n",
      "1197       1\n",
      "3647       1\n",
      "5354       1\n",
      "7020       4\n",
      "          ..\n",
      "9995265    1\n",
      "9996404    1\n",
      "9997391    2\n",
      "9997470    3\n",
      "9998346    1\n",
      "Length: 8074, dtype: int64\n",
      "Total number of errors across all clients: 13522\n"
     ]
    },
    {
     "data": {
      "text/plain": [
       "(8074,\n",
       " client_id\n",
       " 1028       2\n",
       " 1197       1\n",
       " 3647       1\n",
       " 5354       1\n",
       " 7020       4\n",
       "           ..\n",
       " 9995265    1\n",
       " 9996404    1\n",
       " 9997391    2\n",
       " 9997470    3\n",
       " 9998346    1\n",
       " Length: 8074, dtype: int64,\n",
       " 13522)"
      ]
     },
     "execution_count": 88,
     "metadata": {},
     "output_type": "execute_result"
    }
   ],
>>>>>>> bru
   "source": [
    "functions.find_error_rate(df_control_kpi)"
   ]
  },
  {
   "cell_type": "code",
<<<<<<< HEAD
   "execution_count": null,
   "id": "e9ab53ec-3913-4b47-8363-4b085e3222a5",
   "metadata": {},
   "outputs": [],
=======
   "execution_count": 89,
   "id": "e9ab53ec-3913-4b47-8363-4b085e3222a5",
   "metadata": {},
   "outputs": [
    {
     "name": "stdout",
     "output_type": "stream",
     "text": [
      "Errors per client: client_id\n",
      "722        2\n",
      "1677       1\n",
      "2078       3\n",
      "4955       2\n",
      "8583       1\n",
      "          ..\n",
      "9993293    4\n",
      "9996478    2\n",
      "9996952    2\n",
      "9998430    1\n",
      "9998980    1\n",
      "Length: 7213, dtype: int64\n",
      "Total number of errors across all clients: 13049\n"
     ]
    },
    {
     "data": {
      "text/plain": [
       "(7213,\n",
       " client_id\n",
       " 722        2\n",
       " 1677       1\n",
       " 2078       3\n",
       " 4955       2\n",
       " 8583       1\n",
       "           ..\n",
       " 9993293    4\n",
       " 9996478    2\n",
       " 9996952    2\n",
       " 9998430    1\n",
       " 9998980    1\n",
       " Length: 7213, dtype: int64,\n",
       " 13049)"
      ]
     },
     "execution_count": 89,
     "metadata": {},
     "output_type": "execute_result"
    }
   ],
>>>>>>> bru
   "source": [
    "functions.find_error_rate(df_unknown_kpi)"
   ]
  },
  {
   "cell_type": "markdown",
   "id": "a41821b1-3c3c-47c2-8435-69820bb96018",
   "metadata": {},
   "source": [
    "# Storing values"
   ]
  },
  {
   "cell_type": "code",
<<<<<<< HEAD
   "execution_count": null,
   "id": "7deff483-2cc5-4650-a571-1b29ffd76f6f",
   "metadata": {},
   "outputs": [],
=======
   "execution_count": 90,
   "id": "7deff483-2cc5-4650-a571-1b29ffd76f6f",
   "metadata": {},
   "outputs": [
    {
     "name": "stdout",
     "output_type": "stream",
     "text": [
      "Clients who finished the process: 18620 out ouf 25563.\n"
     ]
    },
    {
     "name": "stdout",
     "output_type": "stream",
     "text": [
      "Average time spent on each step:\n",
      " process_step\n",
      "0   3 days 05:16:07\n",
      "1   0 days 00:40:57\n",
      "2   0 days 00:01:52\n",
      "3   0 days 00:12:20\n",
      "4   1 days 03:56:57\n",
      "Name: time_diff, dtype: timedelta64[ns]\n",
      "Errors per client: client_id\n",
      "1346       2\n",
      "1516       4\n",
      "1643       1\n",
      "1755       1\n",
      "1836       3\n",
      "          ..\n",
      "9994764    6\n",
      "9995295    4\n",
      "9998156    1\n",
      "9999150    1\n",
      "9999729    2\n",
      "Length: 10189, dtype: int64\n",
      "Total number of errors across all clients: 19250\n",
      "Clients who finished the process: 15407 out ouf 21274.\n",
      "Average time spent on each step:\n",
      " process_step\n",
      "0   4 days 01:23:08\n",
      "1   0 days 01:00:59\n",
      "2   0 days 00:00:40\n",
      "3   0 days 00:07:44\n",
      "4   0 days 17:50:07\n",
      "Name: time_diff, dtype: timedelta64[ns]\n",
      "Errors per client: client_id\n",
      "1028       2\n",
      "1197       1\n",
      "3647       1\n",
      "5354       1\n",
      "7020       4\n",
      "          ..\n",
      "9995265    1\n",
      "9996404    1\n",
      "9997391    2\n",
      "9997470    3\n",
      "9998346    1\n",
      "Length: 8074, dtype: int64\n",
      "Total number of errors across all clients: 13522\n",
      "Clients who finished the process: 13627 out ouf 18698.\n",
      "Average time spent on each step:\n",
      " process_step\n",
      "0   3 days 14:52:52\n",
      "1   0 days 01:05:02\n",
      "2   0 days 00:01:04\n",
      "3   0 days 00:10:59\n",
      "4   0 days 23:13:37\n",
      "Name: time_diff, dtype: timedelta64[ns]\n",
      "Errors per client: client_id\n",
      "722        2\n",
      "1677       1\n",
      "2078       3\n",
      "4955       2\n",
      "8583       1\n",
      "          ..\n",
      "9993293    4\n",
      "9996478    2\n",
      "9996952    2\n",
      "9998430    1\n",
      "9998980    1\n",
      "Length: 7213, dtype: int64\n",
      "Total number of errors across all clients: 13049\n"
     ]
    }
   ],
>>>>>>> bru
   "source": [
    "# store the results for test df\n",
    "test_unique_finished, test_total_clients, test_completion_rate = functions.find_completion_rate(df_test_kpi)\n",
    "test_avg_time_per_step = functions.calculate_time_per_step(df_test_kpi)\n",
    "test_clients_with_errors, test_errors_per_client, test_total_errors = functions.find_error_rate(df_test_kpi)\n",
    "\n",
    "# store the results for control df\n",
    "control_unique_finished, control_total_clients, control_completion_rate = functions.find_completion_rate(df_control_kpi)\n",
    "control_avg_time_per_step = functions.calculate_time_per_step(df_control_kpi)\n",
    "control_clients_with_errors, control_errors_per_client, control_total_errors = functions.find_error_rate(df_control_kpi)\n",
    "\n",
    "# store the results for unknown df\n",
    "unknown_finished, unknown_total_clients, unknown_completion_rate = functions.find_completion_rate(df_unknown_kpi)\n",
    "unknown_avg_time_per_step = functions.calculate_time_per_step(df_unknown_kpi)\n",
    "unknown_clients_with_errors, unknown_errors_per_client, unknown_total_errors = functions.find_error_rate(df_unknown_kpi)"
   ]
  },
  {
   "cell_type": "markdown",
   "id": "7d419982-5573-4213-8f18-bfb14e4f3986",
   "metadata": {},
   "source": [
    "## **Testing Plots**"
   ]
  },
  {
   "cell_type": "code",
<<<<<<< HEAD
   "execution_count": null,
=======
   "execution_count": 91,
>>>>>>> bru
   "id": "6ff445bf-1ed2-44a7-84aa-d39a423b0feb",
   "metadata": {},
   "outputs": [],
   "source": [
    "def plot_completion_rate(test_completion_rate, control_completion_rate):\n",
    "    completion_rate_data = {\n",
    "        'Version': ['Test', 'Control'],\n",
    "        'Completion Rate': [test_completion_rate, control_completion_rate]\n",
    "    }\n",
    "    completion_rate_df = pd.DataFrame(completion_rate_data)\n",
    "    \n",
    "    plt.figure(figsize=(8, 6))\n",
    "    ax = sns.barplot(x='Version', y='Completion Rate', data=completion_rate_df)\n",
    "    \n",
    "    ax.patches[0].set_facecolor('lightblue')\n",
    "    ax.patches[1].set_facecolor('salmon') \n",
    "    \n",
    "    plt.title('Completion Rate (Test vs Control)', fontsize=16)\n",
    "    plt.ylabel('Completion Rate (%)')\n",
    "    plt.show()"
   ]
  },
  {
   "cell_type": "code",
<<<<<<< HEAD
   "execution_count": null,
=======
   "execution_count": 92,
>>>>>>> bru
   "id": "6601e53a-b8d3-4923-a5c8-568a7212bbec",
   "metadata": {},
   "outputs": [],
   "source": [
    "def plot_avg_time_per_step(test_avg_time_per_step, control_avg_time_per_step):\n",
    "    test_avg_time_seconds = test_avg_time_per_step.dt.total_seconds().round() # convert to seconds\n",
    "    control_avg_time_seconds = control_avg_time_per_step.dt.total_seconds().round()\n",
    "\n",
    "    time_data = {\n",
    "        'Process Step': test_avg_time_per_step.index,\n",
    "        'Test': test_avg_time_seconds.values,\n",
    "        'Control': control_avg_time_seconds.values\n",
    "    }\n",
    "    time_df = pd.DataFrame(time_data)\n",
    "    \n",
    "    time_df.set_index('Process Step').plot(kind='bar', figsize=(10, 6), width=0.8, color=['lightblue', 'salmon'])\n",
    "    plt.title('Average Time per Step (Test vs Control)', fontsize=16)\n",
    "    plt.ylabel('Average Time (in seconds)')\n",
    "    plt.xlabel('Step within the process')\n",
    "    plt.xticks(rotation=45)\n",
    "    plt.tight_layout()\n",
    "    plt.show()"
   ]
  },
  {
   "cell_type": "code",
<<<<<<< HEAD
   "execution_count": null,
=======
   "execution_count": 93,
>>>>>>> bru
   "id": "a261ab27-bd61-4faf-82fd-2492312c9afa",
   "metadata": {},
   "outputs": [],
   "source": [
    "def plot_error_rate(test_clients_with_errors, control_clients_with_errors, test_total_errors, control_total_errors):\n",
    "    clients_error_data = {\n",
    "        'Version': ['Test', 'Control'],\n",
    "        'Clients': [test_clients_with_errors, control_clients_with_errors]\n",
    "    }\n",
    "    clients_error_df = pd.DataFrame(clients_error_data)\n",
    "    \n",
    "    plt.figure(figsize=(8, 6))\n",
    "    ax = sns.barplot(x='Version', y='Clients', data=clients_error_df)\n",
    "    \n",
    "    ax.patches[0].set_facecolor('cadetblue')\n",
    "    ax.patches[1].set_facecolor('lightcoral')\n",
    "    \n",
    "    plt.title('Client Error Count (Test vs Control)', fontsize=16)\n",
    "    plt.show()\n",
    "\n",
    "    total_errors_data = {\n",
    "        'Version': ['Test', 'Control'],\n",
    "        'Total Errors': [test_total_errors, control_total_errors]\n",
    "    }\n",
    "    total_errors_df = pd.DataFrame(total_errors_data)\n",
    "    \n",
    "    plt.figure(figsize=(8, 6))\n",
    "    ax = sns.barplot(x='Version', y='Total Errors', data=total_errors_df)\n",
    "    \n",
    "    ax.patches[0].set_facecolor('cadetblue')\n",
    "    ax.patches[1].set_facecolor('lightcoral')\n",
    "    \n",
    "    plt.title('Total Error Count (Test vs Control)', fontsize=16)\n",
    "    plt.show()"
   ]
  },
  {
   "cell_type": "code",
<<<<<<< HEAD
   "execution_count": null,
=======
   "execution_count": 94,
>>>>>>> bru
   "id": "88c35436-8aa6-465c-a577-ec52ec862e62",
   "metadata": {},
   "outputs": [],
   "source": [
    "plot_completion_rate(test_completion_rate, control_completion_rate)"
   ]
  },
  {
   "cell_type": "code",
<<<<<<< HEAD
   "execution_count": null,
=======
   "execution_count": 95,
>>>>>>> bru
   "id": "7423e5b0-12ee-4121-a986-734428232a8a",
   "metadata": {},
   "outputs": [],
   "source": [
    "plot_avg_time_per_step(test_avg_time_per_step, control_avg_time_per_step)"
   ]
  },
  {
   "cell_type": "code",
<<<<<<< HEAD
   "execution_count": null,
=======
   "execution_count": 96,
>>>>>>> bru
   "id": "de80856b-9e51-4cbc-bad6-60af84ee3fe4",
   "metadata": {},
   "outputs": [],
   "source": [
    "plot_error_rate(test_clients_with_errors, control_clients_with_errors, test_total_errors, control_total_errors)"
   ]
  },
  {
   "cell_type": "markdown",
   "id": "a1915ed6-5882-4675-87db-76733d1e72a1",
   "metadata": {},
   "source": [
    "## **More Plots!**"
   ]
  },
  {
   "cell_type": "code",
<<<<<<< HEAD
   "execution_count": null,
=======
   "execution_count": 97,
>>>>>>> bru
   "id": "f0e339d1-dd3c-4b60-a556-8e0a90d73d23",
   "metadata": {},
   "outputs": [],
   "source": [
    "# **Completion Rate Comparison - Pie Chart**\n",
    "\n",
    "def plot_completion_rate_pie(test_completion_rate, control_completion_rate, unknown_completion_rate):\n",
    "    completion_rate_data = {\n",
    "        'Version': ['Test', 'Control', 'Unknown'],\n",
    "        'Completion Rate': [test_completion_rate, control_completion_rate, unknown_completion_rate]\n",
    "    }\n",
    "    completion_rate_df = pd.DataFrame(completion_rate_data)\n",
    "    \n",
    "    # Pie chart\n",
    "    plt.figure(figsize=(8, 8))\n",
    "    plt.pie(completion_rate_df['Completion Rate'], labels=completion_rate_df['Version'], autopct='%1.1f%%', startangle=90, colors=['lightblue', 'salmon', 'lightgray'])\n",
    "    plt.title('Completion Rate (Test vs Control)')\n",
    "    plt.show()"
   ]
  },
  {
   "cell_type": "code",
<<<<<<< HEAD
   "execution_count": null,
=======
   "execution_count": 98,
>>>>>>> bru
   "id": "e3cb36b1-f3fe-462e-a3b8-be36aa916a5c",
   "metadata": {},
   "outputs": [],
   "source": [
    "# **Average Time per Step - Boxplot**\n",
    "\n",
    "def plot_avg_time_per_step_boxplot(test_avg_time_per_step, control_avg_time_per_step):\n",
    "    test_avg_time_seconds = test_avg_time_per_step.dt.total_seconds().round()  # Use .dt.total_seconds() for Series\n",
    "    control_avg_time_seconds = control_avg_time_per_step.dt.total_seconds().round()  # Use .dt.total_seconds() for Series\n",
    "    \n",
    "    time_df = pd.DataFrame({\n",
    "        'Process Step': ['Start', 'Step 1', 'Step 2', 'Step 3', 'Finish'],\n",
    "        'Test': test_avg_time_seconds,\n",
    "        'Control': control_avg_time_seconds\n",
    "    })\n",
    "\n",
    "    time_df = time_df.melt(id_vars='Process Step', value_vars=['Test', 'Control'], var_name='Version', value_name='Time (in seconds)')\n",
    "\n",
    "    plt.figure(figsize=(10, 6))\n",
    "    sns.boxplot(x='Process Step', y='Time (in seconds)', hue='Version', data=time_df)\n",
    "    plt.title('Average Time per Step (Test vs Control)')\n",
    "    plt.xticks(rotation=45)\n",
    "    plt.tight_layout()\n",
    "    plt.show()"
   ]
  },
  {
   "cell_type": "code",
<<<<<<< HEAD
   "execution_count": null,
=======
   "execution_count": 99,
>>>>>>> bru
   "id": "0132d7bd-3c91-4251-b9da-75459e83b690",
   "metadata": {},
   "outputs": [],
   "source": [
    "# **Error Rate - Heatmap of Errors per Client**\n",
    "\n",
    "def plot_error_heatmap(test_errors_per_client, control_errors_per_client):\n",
    "    error_data = {\n",
    "        'Test': test_errors_per_client,\n",
    "        'Control': control_errors_per_client\n",
    "    }\n",
    "    error_df = pd.DataFrame(error_data).T  # transpose to get rows as groups\n",
    "    \n",
    "    plt.figure(figsize=(8, 6))\n",
    "    # Use 'f' for floating-point numbers, or use '.2f' for two decimal places\n",
    "    sns.heatmap(error_df, annot=True, cmap='coolwarm', fmt='.2f', linewidths=0.5, cbar=True)\n",
    "    plt.title('Error Count Heatmap (Test vs Control)')\n",
    "    plt.show()"
   ]
  },
  {
   "cell_type": "code",
<<<<<<< HEAD
   "execution_count": null,
   "id": "7a11e272-a048-417e-b5d8-38fedb1b3cb8",
   "metadata": {},
   "outputs": [],
=======
   "execution_count": 100,
   "id": "7a11e272-a048-417e-b5d8-38fedb1b3cb8",
   "metadata": {},
   "outputs": [
    {
     "data": {
      "image/png": "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",
      "text/plain": [
       "<Figure size 800x800 with 1 Axes>"
      ]
     },
     "metadata": {},
     "output_type": "display_data"
    }
   ],
>>>>>>> bru
   "source": [
    "plot_completion_rate_pie(test_completion_rate, control_completion_rate, unknown_completion_rate)"
   ]
  },
  {
   "cell_type": "code",
<<<<<<< HEAD
   "execution_count": null,
=======
   "execution_count": 101,
>>>>>>> bru
   "id": "586e74ec-61a2-424d-bd65-9ce6f5adfe2e",
   "metadata": {},
   "outputs": [],
   "source": [
    "plot_avg_time_per_step_boxplot(test_avg_time_per_step, control_avg_time_per_step)"
   ]
  },
  {
   "cell_type": "code",
<<<<<<< HEAD
   "execution_count": null,
=======
   "execution_count": 102,
>>>>>>> bru
   "id": "d458269a-3993-4ab6-8d38-58904d92fc10",
   "metadata": {},
   "outputs": [],
   "source": [
    "plot_error_heatmap(test_errors_per_client, control_errors_per_client)"
   ]
  },
  {
   "cell_type": "code",
   "execution_count": null,
   "id": "eae8b82b-514d-48c0-811e-d1d36782ec8c",
   "metadata": {},
   "outputs": [],
   "source": []
  }
 ],
 "metadata": {
  "kernelspec": {
   "display_name": ".venv",
   "language": "python",
   "name": "python3"
  },
  "language_info": {
   "codemirror_mode": {
    "name": "ipython",
    "version": 3
   },
   "file_extension": ".py",
   "mimetype": "text/x-python",
   "name": "python",
   "nbconvert_exporter": "python",
   "pygments_lexer": "ipython3",
   "version": "3.12.3"
  }
 },
 "nbformat": 4,
 "nbformat_minor": 5
}
