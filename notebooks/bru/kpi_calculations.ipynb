{
 "cells": [
  {
   "cell_type": "markdown",
   "id": "0cb0735c-ea70-496e-99be-0eb48c4f74a0",
   "metadata": {},
   "source": [
    "# **Success Indicators**\n",
    "\n",
    "You have now been asked to discover what key performance indicators (KPIs) will determine the success of the new design? Use at least completion rate, time spent on each step and error rates. Add any KPIs you might find relevant.\n",
    "\n",
    "- **Completion Rate:** The proportion of users who reach the final ‘confirm’ step.\n",
    "- **Time Spent on Each Step:** The average duration users spend on each step.\n",
    "- **Error Rates: If there’s a step where users go back to a previous step, it may indicate confusion or an error. You should consider moving from a later step to an earlier one as an error.\n",
    "Redesign Outcome\n",
    "Based on the chosen KPIs, how does the new design’s performance compare to the old one?\n",
    "\n"
   ]
  },
  {
   "cell_type": "code",
   "execution_count": 1,
   "id": "5a7b946f-9808-485b-b949-f490ca2654b9",
   "metadata": {},
   "outputs": [],
   "source": [
    "import pandas as pd\n",
    "import numpy as np\n",
    "import matplotlib.pyplot as plt\n",
    "import seaborn as sns\n",
    "import re"
   ]
  },
  {
   "cell_type": "code",
   "execution_count": 2,
   "id": "dd6204a9-1829-41ec-bf5a-a719c453abcb",
   "metadata": {},
   "outputs": [],
   "source": [
    "# import reusable functions from utils directory\n",
    "import sys\n",
    "sys.path.append('../../utils')\n",
    "import functions"
   ]
  },
  {
   "cell_type": "code",
   "execution_count": 3,
   "id": "943db4eb-535b-4ae5-b948-1ee2da6e0b34",
   "metadata": {},
   "outputs": [
    {
     "data": {
      "text/html": [
       "<div>\n",
       "<style scoped>\n",
       "    .dataframe tbody tr th:only-of-type {\n",
       "        vertical-align: middle;\n",
       "    }\n",
       "\n",
       "    .dataframe tbody tr th {\n",
       "        vertical-align: top;\n",
       "    }\n",
       "\n",
       "    .dataframe thead th {\n",
       "        text-align: right;\n",
       "    }\n",
       "</style>\n",
       "<table border=\"1\" class=\"dataframe\">\n",
       "  <thead>\n",
       "    <tr style=\"text-align: right;\">\n",
       "      <th></th>\n",
       "      <th>client_id</th>\n",
       "      <th>visitor_id</th>\n",
       "      <th>visit_id</th>\n",
       "      <th>process_step</th>\n",
       "      <th>date_time</th>\n",
       "    </tr>\n",
       "  </thead>\n",
       "  <tbody>\n",
       "    <tr>\n",
       "      <th>0</th>\n",
       "      <td>9988021</td>\n",
       "      <td>580560515_7732621733</td>\n",
       "      <td>781255054_21935453173_531117</td>\n",
       "      <td>step_3</td>\n",
       "      <td>2017-04-17 15:27:07</td>\n",
       "    </tr>\n",
       "    <tr>\n",
       "      <th>1</th>\n",
       "      <td>9988021</td>\n",
       "      <td>580560515_7732621733</td>\n",
       "      <td>781255054_21935453173_531117</td>\n",
       "      <td>step_2</td>\n",
       "      <td>2017-04-17 15:26:51</td>\n",
       "    </tr>\n",
       "    <tr>\n",
       "      <th>2</th>\n",
       "      <td>9988021</td>\n",
       "      <td>580560515_7732621733</td>\n",
       "      <td>781255054_21935453173_531117</td>\n",
       "      <td>step_3</td>\n",
       "      <td>2017-04-17 15:19:22</td>\n",
       "    </tr>\n",
       "    <tr>\n",
       "      <th>3</th>\n",
       "      <td>9988021</td>\n",
       "      <td>580560515_7732621733</td>\n",
       "      <td>781255054_21935453173_531117</td>\n",
       "      <td>step_2</td>\n",
       "      <td>2017-04-17 15:19:13</td>\n",
       "    </tr>\n",
       "    <tr>\n",
       "      <th>4</th>\n",
       "      <td>9988021</td>\n",
       "      <td>580560515_7732621733</td>\n",
       "      <td>781255054_21935453173_531117</td>\n",
       "      <td>step_3</td>\n",
       "      <td>2017-04-17 15:18:04</td>\n",
       "    </tr>\n",
       "  </tbody>\n",
       "</table>\n",
       "</div>"
      ],
      "text/plain": [
       "   client_id            visitor_id                      visit_id process_step  \\\n",
       "0    9988021  580560515_7732621733  781255054_21935453173_531117       step_3   \n",
       "1    9988021  580560515_7732621733  781255054_21935453173_531117       step_2   \n",
       "2    9988021  580560515_7732621733  781255054_21935453173_531117       step_3   \n",
       "3    9988021  580560515_7732621733  781255054_21935453173_531117       step_2   \n",
       "4    9988021  580560515_7732621733  781255054_21935453173_531117       step_3   \n",
       "\n",
       "             date_time  \n",
       "0  2017-04-17 15:27:07  \n",
       "1  2017-04-17 15:26:51  \n",
       "2  2017-04-17 15:19:22  \n",
       "3  2017-04-17 15:19:13  \n",
       "4  2017-04-17 15:18:04  "
      ]
     },
     "execution_count": 3,
     "metadata": {},
     "output_type": "execute_result"
    }
   ],
   "source": [
    "combined_cleaned_df = pd.read_csv('../../data/raw/combined_cleaned_data.csv')\n",
    "combined_cleaned_df.head()"
   ]
  },
  {
   "cell_type": "code",
   "execution_count": 4,
   "id": "b8d22d3e-b94d-4972-a107-eb056ba89ffd",
   "metadata": {},
   "outputs": [
    {
     "name": "stdout",
     "output_type": "stream",
     "text": [
      "['step_3' 'step_2' 'step_1' 'start' 'confirm']\n"
     ]
    }
   ],
   "source": [
    "print(combined_cleaned_df['process_step'].unique())"
   ]
  },
  {
   "cell_type": "code",
   "execution_count": 5,
   "id": "904ffb23-e226-4a0a-8c48-492339dc7c57",
   "metadata": {},
   "outputs": [
    {
     "name": "stdout",
     "output_type": "stream",
     "text": [
      "All dates in the column have the same format.\n",
      "            date_time\n",
      "0 2017-04-17 15:27:07\n",
      "1 2017-04-17 15:26:51\n",
      "2 2017-04-17 15:19:22\n",
      "3 2017-04-17 15:19:13\n",
      "4 2017-04-17 15:18:04\n"
     ]
    }
   ],
   "source": [
    "combined_cleaned_df['date_time'] = pd.to_datetime(combined_cleaned_df['date_time'], errors='coerce')\n",
    "\n",
    "# check if any dates couldn't be converted (i.e., they are NaT)\n",
    "inconsistent_dates = combined_cleaned_df['date_time'].isna().sum()\n",
    "\n",
    "# If inconsistent_dates > 0, then there are invalid or mismatched date formats\n",
    "if inconsistent_dates > 0:\n",
    "    print(f'There are {inconsistent_dates} inconsistent or invalid date formats in the column.')\n",
    "else:\n",
    "    print('All dates in the column have the same format.')\n",
    "\n",
    "print(combined_cleaned_df[['date_time']].head())"
   ]
  },
  {
   "cell_type": "code",
   "execution_count": 6,
   "id": "c46391a3-953e-4cbe-b444-27aa5570e2e7",
   "metadata": {},
   "outputs": [
    {
     "name": "stdout",
     "output_type": "stream",
     "text": [
      "Check the shape (rows, columns):\n",
      "(744641, 5)\n",
      "\n",
      "Column names:\n",
      "Index(['client_id', 'visitor_id', 'visit_id', 'process_step', 'date_time'], dtype='object')\n",
      "\n",
      "Data types:\n",
      "client_id                int64\n",
      "visitor_id              object\n",
      "visit_id                object\n",
      "process_step            object\n",
      "date_time       datetime64[ns]\n",
      "dtype: object\n",
      "\n",
      "Missing values:\n",
      "client_id       0\n",
      "visitor_id      0\n",
      "visit_id        0\n",
      "process_step    0\n",
      "date_time       0\n",
      "dtype: int64\n"
     ]
    }
   ],
   "source": [
    "functions.inspect_dataframe(combined_cleaned_df)"
   ]
  },
  {
   "cell_type": "code",
   "execution_count": 7,
   "id": "5a50673d-d2d3-415b-95dd-a531af3b0a3b",
   "metadata": {},
   "outputs": [],
   "source": [
    "# make a copy\n",
    "kpi_df = combined_cleaned_df.copy()\n",
    "\n",
    "# drop columns\n",
    "kpi_df = kpi_df.drop(columns=['visitor_id', 'visit_id'])"
   ]
  },
  {
   "cell_type": "code",
   "execution_count": 8,
   "id": "7cac01f7-8876-4cc6-ad92-ac5a73f07600",
   "metadata": {},
   "outputs": [],
   "source": [
    "# change the naming of the steps to numeric values to ensure order\n",
    "replacement_dict_steps = {\n",
    "    'start' : 0,\n",
    "    'step_1' : 1,\n",
    "    'step_2' : 2,\n",
    "    'step_3' : 3,\n",
    "    'confirm' : 4\n",
    "}\n",
    "\n",
    "kpi_df['process_step'] = kpi_df['process_step'].map(replacement_dict_steps)"
   ]
  },
  {
   "cell_type": "markdown",
   "id": "f83d4904-8fb7-487c-88d3-03fa977d4ad1",
   "metadata": {},
   "source": [
    "## How many clients in total have completed the process?"
   ]
  },
  {
   "cell_type": "code",
   "execution_count": 9,
   "id": "a7ee3fb5-b74e-4fe9-9ec1-19aaa5f92857",
   "metadata": {},
   "outputs": [
    {
     "name": "stdout",
     "output_type": "stream",
     "text": [
      "Clients who finished the process: 81145 out ouf 120157.\n"
     ]
    }
   ],
   "source": [
    "# filter rows where process_step is 'Finish'\n",
    "clients_finished = kpi_df[kpi_df['process_step'] == 4]\n",
    "\n",
    "# print(clients_finished)\n",
    "total_unique_clients = kpi_df['client_id'].nunique()\n",
    "# find unique client ids that finished\n",
    "unique_clients_finished = clients_finished['client_id'].nunique()\n",
    "\n",
    "print(f'Clients who finished the process: {unique_clients_finished} out ouf {total_unique_clients}.')"
   ]
  },
  {
   "cell_type": "markdown",
   "id": "333c073d-27b3-4edd-8ac4-d9a37cfa0c05",
   "metadata": {},
   "source": [
    "**To do**:\n",
    "- [ ] calculate percentage\n",
    "- [ ] visual representation?"
   ]
  },
  {
   "cell_type": "markdown",
   "id": "f0445e92-3c0f-421a-be51-b469e60bf35a",
   "metadata": {},
   "source": [
    "## How much time has been spent on each step (on average)?"
   ]
  },
  {
   "cell_type": "code",
   "execution_count": null,
   "id": "6534042a-a94a-42a7-8a5c-3a36955b0fde",
   "metadata": {},
   "outputs": [],
   "source": []
  }
 ],
 "metadata": {
  "kernelspec": {
   "display_name": "venv",
   "language": "python",
   "name": "venv"
  },
  "language_info": {
   "codemirror_mode": {
    "name": "ipython",
    "version": 3
   },
   "file_extension": ".py",
   "mimetype": "text/x-python",
   "name": "python",
   "nbconvert_exporter": "python",
   "pygments_lexer": "ipython3",
   "version": "3.12.7"
  }
 },
 "nbformat": 4,
 "nbformat_minor": 5
}
