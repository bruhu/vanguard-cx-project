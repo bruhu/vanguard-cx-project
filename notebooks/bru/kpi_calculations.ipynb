{
 "cells": [
  {
   "cell_type": "markdown",
   "id": "0cb0735c-ea70-496e-99be-0eb48c4f74a0",
   "metadata": {},
   "source": [
    "### Performance Metrics\n",
    "\n",
    "## Success Indicators\n",
    "\n",
    "You have now been asked to discover what key performance indicators (KPIs) will determine the success of the new design? Use at least completion rate, time spent on each step and error rates. Add any KPIs you might find relevant.\n",
    "\n",
    "- **Completion Rate:** The proportion of users who reach the final ‘confirm’ step.\n",
    "- **Time Spent on Each Step:** The average duration users spend on each step.\n",
    "- **Error Rates:** If there’s a step where users go back to a previous step, it may indicate confusion or an error. You should consider moving from a later step to an earlier one as an error.\n",
    "\n",
    "## Redesign Outcome\n",
    "\n",
    "Based on the chosen KPIs, how does the new design’s performance compare to the old one?"
   ]
  },
  {
   "cell_type": "code",
   "execution_count": 1,
   "id": "5a7b946f-9808-485b-b949-f490ca2654b9",
   "metadata": {},
   "outputs": [],
   "source": [
    "import pandas as pd\n",
    "import numpy as np\n",
    "import matplotlib.pyplot as plt\n",
    "import seaborn as sns\n",
    "import re"
   ]
  },
  {
   "cell_type": "code",
   "execution_count": 2,
   "id": "dd6204a9-1829-41ec-bf5a-a719c453abcb",
   "metadata": {},
   "outputs": [],
   "source": [
    "# import reusable functions from utils directory\n",
    "import sys\n",
    "sys.path.append('../../utils')\n",
    "import functions"
   ]
  },
  {
   "cell_type": "code",
   "execution_count": 3,
   "id": "943db4eb-535b-4ae5-b948-1ee2da6e0b34",
   "metadata": {},
   "outputs": [
    {
     "data": {
      "text/html": [
       "<div>\n",
       "<style scoped>\n",
       "    .dataframe tbody tr th:only-of-type {\n",
       "        vertical-align: middle;\n",
       "    }\n",
       "\n",
       "    .dataframe tbody tr th {\n",
       "        vertical-align: top;\n",
       "    }\n",
       "\n",
       "    .dataframe thead th {\n",
       "        text-align: right;\n",
       "    }\n",
       "</style>\n",
       "<table border=\"1\" class=\"dataframe\">\n",
       "  <thead>\n",
       "    <tr style=\"text-align: right;\">\n",
       "      <th></th>\n",
       "      <th>client_id</th>\n",
       "      <th>visitor_id</th>\n",
       "      <th>visit_id</th>\n",
       "      <th>process_step</th>\n",
       "      <th>date_time</th>\n",
       "    </tr>\n",
       "  </thead>\n",
       "  <tbody>\n",
       "    <tr>\n",
       "      <th>0</th>\n",
       "      <td>9988021</td>\n",
       "      <td>580560515_7732621733</td>\n",
       "      <td>781255054_21935453173_531117</td>\n",
       "      <td>step_3</td>\n",
       "      <td>2017-04-17 15:27:07</td>\n",
       "    </tr>\n",
       "    <tr>\n",
       "      <th>1</th>\n",
       "      <td>9988021</td>\n",
       "      <td>580560515_7732621733</td>\n",
       "      <td>781255054_21935453173_531117</td>\n",
       "      <td>step_2</td>\n",
       "      <td>2017-04-17 15:26:51</td>\n",
       "    </tr>\n",
       "    <tr>\n",
       "      <th>2</th>\n",
       "      <td>9988021</td>\n",
       "      <td>580560515_7732621733</td>\n",
       "      <td>781255054_21935453173_531117</td>\n",
       "      <td>step_3</td>\n",
       "      <td>2017-04-17 15:19:22</td>\n",
       "    </tr>\n",
       "    <tr>\n",
       "      <th>3</th>\n",
       "      <td>9988021</td>\n",
       "      <td>580560515_7732621733</td>\n",
       "      <td>781255054_21935453173_531117</td>\n",
       "      <td>step_2</td>\n",
       "      <td>2017-04-17 15:19:13</td>\n",
       "    </tr>\n",
       "    <tr>\n",
       "      <th>4</th>\n",
       "      <td>9988021</td>\n",
       "      <td>580560515_7732621733</td>\n",
       "      <td>781255054_21935453173_531117</td>\n",
       "      <td>step_3</td>\n",
       "      <td>2017-04-17 15:18:04</td>\n",
       "    </tr>\n",
       "  </tbody>\n",
       "</table>\n",
       "</div>"
      ],
      "text/plain": [
       "   client_id            visitor_id                      visit_id process_step  \\\n",
       "0    9988021  580560515_7732621733  781255054_21935453173_531117       step_3   \n",
       "1    9988021  580560515_7732621733  781255054_21935453173_531117       step_2   \n",
       "2    9988021  580560515_7732621733  781255054_21935453173_531117       step_3   \n",
       "3    9988021  580560515_7732621733  781255054_21935453173_531117       step_2   \n",
       "4    9988021  580560515_7732621733  781255054_21935453173_531117       step_3   \n",
       "\n",
       "             date_time  \n",
       "0  2017-04-17 15:27:07  \n",
       "1  2017-04-17 15:26:51  \n",
       "2  2017-04-17 15:19:22  \n",
       "3  2017-04-17 15:19:13  \n",
       "4  2017-04-17 15:18:04  "
      ]
     },
     "execution_count": 3,
     "metadata": {},
     "output_type": "execute_result"
    }
   ],
   "source": [
    "combined_cleaned_df = pd.read_csv('../../data/raw/combined_cleaned_data.csv')\n",
    "combined_cleaned_df.head()"
   ]
  },
  {
   "cell_type": "code",
   "execution_count": 4,
   "id": "b8d22d3e-b94d-4972-a107-eb056ba89ffd",
   "metadata": {},
   "outputs": [
    {
     "name": "stdout",
     "output_type": "stream",
     "text": [
      "['step_3' 'step_2' 'step_1' 'start' 'confirm']\n"
     ]
    }
   ],
   "source": [
    "print(combined_cleaned_df['process_step'].unique())"
   ]
  },
  {
   "cell_type": "code",
   "execution_count": 5,
   "id": "904ffb23-e226-4a0a-8c48-492339dc7c57",
   "metadata": {},
   "outputs": [
    {
     "name": "stdout",
     "output_type": "stream",
     "text": [
      "All dates in the column have the same format.\n",
      "            date_time\n",
      "0 2017-04-17 15:27:07\n",
      "1 2017-04-17 15:26:51\n",
      "2 2017-04-17 15:19:22\n",
      "3 2017-04-17 15:19:13\n",
      "4 2017-04-17 15:18:04\n"
     ]
    }
   ],
   "source": [
    "combined_cleaned_df['date_time'] = pd.to_datetime(combined_cleaned_df['date_time'], errors='coerce')\n",
    "\n",
    "# check if any dates couldn't be converted (i.e., they are NaT)\n",
    "inconsistent_dates = combined_cleaned_df['date_time'].isna().sum()\n",
    "\n",
    "# if inconsistent_dates > 0, then there are invalid or mismatched date formats\n",
    "if inconsistent_dates > 0:\n",
    "    print(f'There are {inconsistent_dates} inconsistent or invalid date formats in the column.')\n",
    "else:\n",
    "    print('All dates in the column have the same format.')\n",
    "\n",
    "print(combined_cleaned_df[['date_time']].head())"
   ]
  },
  {
   "cell_type": "code",
   "execution_count": 6,
   "id": "c46391a3-953e-4cbe-b444-27aa5570e2e7",
   "metadata": {},
   "outputs": [
    {
     "name": "stdout",
     "output_type": "stream",
     "text": [
      "Check the shape (rows, columns):\n",
      "(744641, 5)\n",
      "\n",
      "Column names:\n",
      "Index(['client_id', 'visitor_id', 'visit_id', 'process_step', 'date_time'], dtype='object')\n",
      "\n",
      "Data types:\n",
      "client_id                int64\n",
      "visitor_id              object\n",
      "visit_id                object\n",
      "process_step            object\n",
      "date_time       datetime64[ns]\n",
      "dtype: object\n",
      "\n",
      "Missing values:\n",
      "client_id       0\n",
      "visitor_id      0\n",
      "visit_id        0\n",
      "process_step    0\n",
      "date_time       0\n",
      "dtype: int64\n"
     ]
    }
   ],
   "source": [
    "functions.inspect_dataframe(combined_cleaned_df)"
   ]
  },
  {
   "cell_type": "code",
   "execution_count": 7,
   "id": "5a50673d-d2d3-415b-95dd-a531af3b0a3b",
   "metadata": {},
   "outputs": [],
   "source": [
    "# make a copy\n",
    "kpi_df = combined_cleaned_df.copy()\n",
    "\n",
    "# drop columns\n",
    "kpi_df = kpi_df.drop(columns=['visitor_id', 'visit_id'])"
   ]
  },
  {
   "cell_type": "code",
   "execution_count": 8,
   "id": "7cac01f7-8876-4cc6-ad92-ac5a73f07600",
   "metadata": {},
   "outputs": [],
   "source": [
    "# change the naming of the steps to numeric values to ensure order\n",
    "replacement_dict_steps = {\n",
    "    'start' : 0,\n",
    "    'step_1' : 1,\n",
    "    'step_2' : 2,\n",
    "    'step_3' : 3,\n",
    "    'confirm' : 4\n",
    "}\n",
    "\n",
    "kpi_df['process_step'] = kpi_df['process_step'].map(replacement_dict_steps)"
   ]
  },
  {
   "cell_type": "code",
   "execution_count": null,
   "id": "8e6fb45b-7b2c-49f5-99a0-1a7ffa8bc501",
   "metadata": {},
   "outputs": [],
   "source": []
  },
  {
   "cell_type": "markdown",
   "id": "f83d4904-8fb7-487c-88d3-03fa977d4ad1",
   "metadata": {},
   "source": [
    "# **Completion Rate**"
   ]
  },
  {
   "cell_type": "code",
   "execution_count": 9,
   "id": "a7ee3fb5-b74e-4fe9-9ec1-19aaa5f92857",
   "metadata": {},
   "outputs": [
    {
     "name": "stdout",
     "output_type": "stream",
     "text": [
      "Clients who finished the process: 81145 out ouf 120157.\n"
     ]
    }
   ],
   "source": [
    "def find_completion_rate(df):    \n",
    "    clients_finished = df[df['process_step'] == 4] # filter rows where process_step is 'Finish'\n",
    "    total_unique_clients = df['client_id'].nunique()\n",
    "    unique_clients_finished = clients_finished['client_id'].nunique() # find unique client ids that finished\n",
    "    print(f'Clients who finished the process: {unique_clients_finished} out ouf {total_unique_clients}.')\n",
    "\n",
    "find_completion_rate(kpi_df)"
   ]
  },
  {
   "cell_type": "markdown",
   "id": "333c073d-27b3-4edd-8ac4-d9a37cfa0c05",
   "metadata": {},
   "source": [
    "**To-do's**:\n",
    "- [ ] calculate percentage\n",
    "- [ ] visual representation?"
   ]
  },
  {
   "cell_type": "code",
   "execution_count": null,
   "id": "fcb40b4a-8c93-414a-bf3b-bc5e0418b77e",
   "metadata": {},
   "outputs": [],
   "source": []
  },
  {
   "cell_type": "markdown",
   "id": "f0445e92-3c0f-421a-be51-b469e60bf35a",
   "metadata": {},
   "source": [
    "# **Time spent on each step**"
   ]
  },
  {
   "cell_type": "code",
   "execution_count": 10,
   "id": "6534042a-a94a-42a7-8a5c-3a36955b0fde",
   "metadata": {},
   "outputs": [
    {
     "data": {
      "text/html": [
       "<div>\n",
       "<style scoped>\n",
       "    .dataframe tbody tr th:only-of-type {\n",
       "        vertical-align: middle;\n",
       "    }\n",
       "\n",
       "    .dataframe tbody tr th {\n",
       "        vertical-align: top;\n",
       "    }\n",
       "\n",
       "    .dataframe thead th {\n",
       "        text-align: right;\n",
       "    }\n",
       "</style>\n",
       "<table border=\"1\" class=\"dataframe\">\n",
       "  <thead>\n",
       "    <tr style=\"text-align: right;\">\n",
       "      <th></th>\n",
       "      <th>client_id</th>\n",
       "      <th>process_step</th>\n",
       "      <th>date_time</th>\n",
       "      <th>time_diff</th>\n",
       "    </tr>\n",
       "  </thead>\n",
       "  <tbody>\n",
       "    <tr>\n",
       "      <th>283822</th>\n",
       "      <td>169</td>\n",
       "      <td>1</td>\n",
       "      <td>2017-04-12 20:19:45</td>\n",
       "      <td>0 days 00:00:09</td>\n",
       "    </tr>\n",
       "    <tr>\n",
       "      <th>283821</th>\n",
       "      <td>169</td>\n",
       "      <td>2</td>\n",
       "      <td>2017-04-12 20:20:31</td>\n",
       "      <td>0 days 00:00:46</td>\n",
       "    </tr>\n",
       "    <tr>\n",
       "      <th>283820</th>\n",
       "      <td>169</td>\n",
       "      <td>3</td>\n",
       "      <td>2017-04-12 20:22:05</td>\n",
       "      <td>0 days 00:01:34</td>\n",
       "    </tr>\n",
       "    <tr>\n",
       "      <th>283819</th>\n",
       "      <td>169</td>\n",
       "      <td>4</td>\n",
       "      <td>2017-04-12 20:23:09</td>\n",
       "      <td>0 days 00:01:04</td>\n",
       "    </tr>\n",
       "    <tr>\n",
       "      <th>620397</th>\n",
       "      <td>336</td>\n",
       "      <td>0</td>\n",
       "      <td>2017-06-01 07:42:43</td>\n",
       "      <td>0 days 00:15:48</td>\n",
       "    </tr>\n",
       "    <tr>\n",
       "      <th>...</th>\n",
       "      <td>...</td>\n",
       "      <td>...</td>\n",
       "      <td>...</td>\n",
       "      <td>...</td>\n",
       "    </tr>\n",
       "    <tr>\n",
       "      <th>640076</th>\n",
       "      <td>9999875</td>\n",
       "      <td>1</td>\n",
       "      <td>2017-06-01 22:40:08</td>\n",
       "      <td>0 days 00:00:07</td>\n",
       "    </tr>\n",
       "    <tr>\n",
       "      <th>640075</th>\n",
       "      <td>9999875</td>\n",
       "      <td>1</td>\n",
       "      <td>2017-06-01 22:41:28</td>\n",
       "      <td>0 days 00:01:20</td>\n",
       "    </tr>\n",
       "    <tr>\n",
       "      <th>640074</th>\n",
       "      <td>9999875</td>\n",
       "      <td>2</td>\n",
       "      <td>2017-06-01 22:41:47</td>\n",
       "      <td>0 days 00:00:19</td>\n",
       "    </tr>\n",
       "    <tr>\n",
       "      <th>640073</th>\n",
       "      <td>9999875</td>\n",
       "      <td>3</td>\n",
       "      <td>2017-06-01 22:44:58</td>\n",
       "      <td>0 days 00:03:11</td>\n",
       "    </tr>\n",
       "    <tr>\n",
       "      <th>640072</th>\n",
       "      <td>9999875</td>\n",
       "      <td>4</td>\n",
       "      <td>2017-06-01 22:48:39</td>\n",
       "      <td>0 days 00:03:41</td>\n",
       "    </tr>\n",
       "  </tbody>\n",
       "</table>\n",
       "<p>624484 rows × 4 columns</p>\n",
       "</div>"
      ],
      "text/plain": [
       "        client_id  process_step           date_time       time_diff\n",
       "283822        169             1 2017-04-12 20:19:45 0 days 00:00:09\n",
       "283821        169             2 2017-04-12 20:20:31 0 days 00:00:46\n",
       "283820        169             3 2017-04-12 20:22:05 0 days 00:01:34\n",
       "283819        169             4 2017-04-12 20:23:09 0 days 00:01:04\n",
       "620397        336             0 2017-06-01 07:42:43 0 days 00:15:48\n",
       "...           ...           ...                 ...             ...\n",
       "640076    9999875             1 2017-06-01 22:40:08 0 days 00:00:07\n",
       "640075    9999875             1 2017-06-01 22:41:28 0 days 00:01:20\n",
       "640074    9999875             2 2017-06-01 22:41:47 0 days 00:00:19\n",
       "640073    9999875             3 2017-06-01 22:44:58 0 days 00:03:11\n",
       "640072    9999875             4 2017-06-01 22:48:39 0 days 00:03:41\n",
       "\n",
       "[624484 rows x 4 columns]"
      ]
     },
     "metadata": {},
     "output_type": "display_data"
    }
   ],
   "source": [
    "# sort df by client_id and date_time\n",
    "kpi_df = kpi_df.sort_values(by=['client_id', 'date_time'])\n",
    "\n",
    "# calculate time difference between steps per client\n",
    "kpi_df['time_diff'] = kpi_df.groupby('client_id')['date_time'].diff()\n",
    "\n",
    "# drop first row per client (contains no information)\n",
    "kpi_df = kpi_df.dropna(subset=['time_diff'])\n",
    "display(kpi_df)"
   ]
  },
  {
   "cell_type": "code",
   "execution_count": 11,
   "id": "106df5f1-4f17-44ab-80fd-aec45fac0f95",
   "metadata": {},
   "outputs": [
    {
     "name": "stdout",
     "output_type": "stream",
     "text": [
      "Average time spent on each step:\n",
      "\n",
      "process_step\n",
      "0   2 days 21:02:52\n",
      "1   0 days 00:23:31\n",
      "2   0 days 00:01:05\n",
      "3   0 days 00:09:49\n",
      "4   0 days 17:49:27\n",
      "Name: time_diff, dtype: timedelta64[ns]\n"
     ]
    }
   ],
   "source": [
    "# calculate average time spent on each step\n",
    "avg_time_per_step = kpi_df.groupby('process_step')['time_diff'].mean()\n",
    "\n",
    "# convert to total seconds\n",
    "avg_time_in_seconds = avg_time_per_step.dt.total_seconds()\n",
    "\n",
    "# round up to the nearest second to remove decimals\n",
    "avg_time_in_seconds_rounded = np.ceil(avg_time_in_seconds).astype(int)\n",
    "\n",
    "# convert back to timedelta\n",
    "avg_time_per_step_rounded = pd.to_timedelta(avg_time_in_seconds_rounded, unit='s')\n",
    "\n",
    "# re-map process_step index for readability\n",
    "# avg_time_per_step_rounded.index = avg_time_per_step_rounded.index.map({0: 'Start', 1: 'Step 1', 2: 'Step 2', 3: 'Step 3', 4: 'Finish'})\n",
    "\n",
    "print('Average time spent on each step:\\n')\n",
    "print(avg_time_per_step_rounded)"
   ]
  },
  {
   "cell_type": "markdown",
   "id": "fc628fd2-ab21-475b-aba3-d1649e4fef18",
   "metadata": {},
   "source": [
    "**To-do's**:\n",
    "- [ ] calculate percentage\n",
    "- [x] visual representation?\n",
    "- [ ] Convert to seconds?"
   ]
  },
  {
   "cell_type": "code",
   "execution_count": null,
   "id": "8558ea66-e1cd-4ed7-8741-c6c33f39093c",
   "metadata": {},
   "outputs": [],
   "source": []
  },
  {
   "cell_type": "markdown",
   "id": "716f1198-4369-4f69-a799-405b1949aced",
   "metadata": {},
   "source": [
    "# **Error Rates**\n",
    "_(Constanza's code)_"
   ]
  },
  {
   "cell_type": "code",
   "execution_count": 12,
   "id": "123bea70-4319-41f7-b16b-d9d0a2f0d955",
   "metadata": {},
   "outputs": [
    {
     "data": {
      "text/html": [
       "<div>\n",
       "<style scoped>\n",
       "    .dataframe tbody tr th:only-of-type {\n",
       "        vertical-align: middle;\n",
       "    }\n",
       "\n",
       "    .dataframe tbody tr th {\n",
       "        vertical-align: top;\n",
       "    }\n",
       "\n",
       "    .dataframe thead th {\n",
       "        text-align: right;\n",
       "    }\n",
       "</style>\n",
       "<table border=\"1\" class=\"dataframe\">\n",
       "  <thead>\n",
       "    <tr style=\"text-align: right;\">\n",
       "      <th></th>\n",
       "      <th>client_id</th>\n",
       "      <th>visitor_id</th>\n",
       "      <th>visit_id</th>\n",
       "      <th>process_step</th>\n",
       "      <th>date_time</th>\n",
       "    </tr>\n",
       "  </thead>\n",
       "  <tbody>\n",
       "    <tr>\n",
       "      <th>0</th>\n",
       "      <td>9988021</td>\n",
       "      <td>580560515_7732621733</td>\n",
       "      <td>781255054_21935453173_531117</td>\n",
       "      <td>step_3</td>\n",
       "      <td>2017-04-17 15:27:07</td>\n",
       "    </tr>\n",
       "    <tr>\n",
       "      <th>1</th>\n",
       "      <td>9988021</td>\n",
       "      <td>580560515_7732621733</td>\n",
       "      <td>781255054_21935453173_531117</td>\n",
       "      <td>step_2</td>\n",
       "      <td>2017-04-17 15:26:51</td>\n",
       "    </tr>\n",
       "    <tr>\n",
       "      <th>2</th>\n",
       "      <td>9988021</td>\n",
       "      <td>580560515_7732621733</td>\n",
       "      <td>781255054_21935453173_531117</td>\n",
       "      <td>step_3</td>\n",
       "      <td>2017-04-17 15:19:22</td>\n",
       "    </tr>\n",
       "    <tr>\n",
       "      <th>3</th>\n",
       "      <td>9988021</td>\n",
       "      <td>580560515_7732621733</td>\n",
       "      <td>781255054_21935453173_531117</td>\n",
       "      <td>step_2</td>\n",
       "      <td>2017-04-17 15:19:13</td>\n",
       "    </tr>\n",
       "    <tr>\n",
       "      <th>4</th>\n",
       "      <td>9988021</td>\n",
       "      <td>580560515_7732621733</td>\n",
       "      <td>781255054_21935453173_531117</td>\n",
       "      <td>step_3</td>\n",
       "      <td>2017-04-17 15:18:04</td>\n",
       "    </tr>\n",
       "    <tr>\n",
       "      <th>...</th>\n",
       "      <td>...</td>\n",
       "      <td>...</td>\n",
       "      <td>...</td>\n",
       "      <td>...</td>\n",
       "      <td>...</td>\n",
       "    </tr>\n",
       "    <tr>\n",
       "      <th>744636</th>\n",
       "      <td>9668240</td>\n",
       "      <td>388766751_9038881013</td>\n",
       "      <td>922267647_3096648104_968866</td>\n",
       "      <td>start</td>\n",
       "      <td>2017-05-24 18:46:10</td>\n",
       "    </tr>\n",
       "    <tr>\n",
       "      <th>744637</th>\n",
       "      <td>9668240</td>\n",
       "      <td>388766751_9038881013</td>\n",
       "      <td>922267647_3096648104_968866</td>\n",
       "      <td>start</td>\n",
       "      <td>2017-05-24 18:45:29</td>\n",
       "    </tr>\n",
       "    <tr>\n",
       "      <th>744638</th>\n",
       "      <td>9668240</td>\n",
       "      <td>388766751_9038881013</td>\n",
       "      <td>922267647_3096648104_968866</td>\n",
       "      <td>step_1</td>\n",
       "      <td>2017-05-24 18:44:51</td>\n",
       "    </tr>\n",
       "    <tr>\n",
       "      <th>744639</th>\n",
       "      <td>9668240</td>\n",
       "      <td>388766751_9038881013</td>\n",
       "      <td>922267647_3096648104_968866</td>\n",
       "      <td>start</td>\n",
       "      <td>2017-05-24 18:44:34</td>\n",
       "    </tr>\n",
       "    <tr>\n",
       "      <th>744640</th>\n",
       "      <td>674799</td>\n",
       "      <td>947159805_81558194550</td>\n",
       "      <td>86152093_47511127657_716022</td>\n",
       "      <td>start</td>\n",
       "      <td>2017-06-03 12:17:09</td>\n",
       "    </tr>\n",
       "  </tbody>\n",
       "</table>\n",
       "<p>744641 rows × 5 columns</p>\n",
       "</div>"
      ],
      "text/plain": [
       "        client_id             visitor_id                      visit_id  \\\n",
       "0         9988021   580560515_7732621733  781255054_21935453173_531117   \n",
       "1         9988021   580560515_7732621733  781255054_21935453173_531117   \n",
       "2         9988021   580560515_7732621733  781255054_21935453173_531117   \n",
       "3         9988021   580560515_7732621733  781255054_21935453173_531117   \n",
       "4         9988021   580560515_7732621733  781255054_21935453173_531117   \n",
       "...           ...                    ...                           ...   \n",
       "744636    9668240   388766751_9038881013   922267647_3096648104_968866   \n",
       "744637    9668240   388766751_9038881013   922267647_3096648104_968866   \n",
       "744638    9668240   388766751_9038881013   922267647_3096648104_968866   \n",
       "744639    9668240   388766751_9038881013   922267647_3096648104_968866   \n",
       "744640     674799  947159805_81558194550   86152093_47511127657_716022   \n",
       "\n",
       "       process_step            date_time  \n",
       "0            step_3  2017-04-17 15:27:07  \n",
       "1            step_2  2017-04-17 15:26:51  \n",
       "2            step_3  2017-04-17 15:19:22  \n",
       "3            step_2  2017-04-17 15:19:13  \n",
       "4            step_3  2017-04-17 15:18:04  \n",
       "...             ...                  ...  \n",
       "744636        start  2017-05-24 18:46:10  \n",
       "744637        start  2017-05-24 18:45:29  \n",
       "744638       step_1  2017-05-24 18:44:51  \n",
       "744639        start  2017-05-24 18:44:34  \n",
       "744640        start  2017-06-03 12:17:09  \n",
       "\n",
       "[744641 rows x 5 columns]"
      ]
     },
     "execution_count": 12,
     "metadata": {},
     "output_type": "execute_result"
    }
   ],
   "source": [
    "df = pd.read_csv('../../data/raw/combined_cleaned_data.csv')\n",
    "df"
   ]
  },
  {
   "cell_type": "code",
   "execution_count": 13,
   "id": "395748b1-0c24-4ae4-8254-a6bbdd57e747",
   "metadata": {},
   "outputs": [],
   "source": [
    "# drop columns\n",
    "df = df.drop(columns=['visitor_id', 'visit_id'])\n",
    "\n",
    "# change steps to numeric values to ensure order\n",
    "replacement_dict_steps = {\n",
    "    'start' : 0,\n",
    "    'step_1' : 1,\n",
    "    'step_2' : 2,\n",
    "    'step_3' : 3,\n",
    "    'confirm' : 4\n",
    "}\n",
    "\n",
    "df['process_step'] = df['process_step'].map(replacement_dict_steps)"
   ]
  },
  {
   "cell_type": "code",
   "execution_count": 14,
   "id": "cdde0287-7550-44f1-986b-9b54607c0d6c",
   "metadata": {},
   "outputs": [],
   "source": [
    "# sort df by client_id and date_time\n",
    "df = df.sort_values(by=['client_id', 'date_time'])"
   ]
  },
  {
   "cell_type": "code",
   "execution_count": 15,
   "id": "2826957d-453c-4a36-82b5-026770f230e3",
   "metadata": {},
   "outputs": [
    {
     "name": "stdout",
     "output_type": "stream",
     "text": [
      "Number of clients with at least one error: 42424\n",
      "Errors per client:\n",
      "client_id\n",
      "722        2\n",
      "805        2\n",
      "832        1\n",
      "1028       2\n",
      "1197       1\n",
      "          ..\n",
      "9998460    1\n",
      "9998980    1\n",
      "9999150    1\n",
      "9999729    2\n",
      "9999768    3\n",
      "Length: 42424, dtype: int64\n",
      "Total number of errors across all clients: 74980\n"
     ]
    }
   ],
   "source": [
    "# Detect backward steps (errors) for all clients\n",
    "df['backward_step'] = df.groupby('client_id')['process_step'].diff() < 0\n",
    "\n",
    "# Count the number of unique clients who experienced at least one error\n",
    "clients_with_errors = df[df['backward_step']]['client_id'].nunique()\n",
    "\n",
    "# Count the total number of errors for each client\n",
    "errors_per_client = df[df['backward_step']].groupby('client_id').size()\n",
    "\n",
    "# Total number of errors across all clients\n",
    "total_errors = df['backward_step'].sum()\n",
    "\n",
    "# Output results\n",
    "print(f'Number of clients with at least one error: {clients_with_errors}')\n",
    "print('Errors per client:')\n",
    "print(errors_per_client)\n",
    "print(f'Total number of errors across all clients: {total_errors}')"
   ]
  },
  {
   "cell_type": "code",
   "execution_count": 16,
   "id": "b3089ecb-298a-40b7-b7c4-989169c7bdbf",
   "metadata": {},
   "outputs": [],
   "source": [
    "# add column 'error_count'\n",
    "df['error_count'] = df['client_id'].map(errors_per_client).fillna(0).astype(int)"
   ]
  },
  {
   "cell_type": "code",
   "execution_count": 17,
   "id": "f0fe2f2d-4f4f-4792-9adb-857c7314c1c5",
   "metadata": {},
   "outputs": [],
   "source": [
    "# # Crear un DataFrame con los resultados\n",
    "# results_df = errors_per_client.reset_index()\n",
    "# results_df.columns = ['client_id', 'number_of_errors']\n",
    "\n",
    "# # Guardar el DataFrame en un archivo CSV\n",
    "# results_df.to_csv('errors_per_client.csv', index=False)\n",
    "\n",
    "# # Mensaje de confirmación\n",
    "# print('El archivo 'errors_per_client.csv' se ha guardado correctamente.')"
   ]
  },
  {
   "cell_type": "markdown",
   "id": "370564ca-ade9-405c-87f2-a7340575fc4e",
   "metadata": {},
   "source": [
    "# **Redesign Outcome**\n",
    "Based on the chosen KPIs, how does the new design’s performance compare to the old one?"
   ]
  },
  {
   "cell_type": "markdown",
   "id": "63240691-8863-4d87-a26a-399aaf59f14a",
   "metadata": {},
   "source": [
    "For the project requirements and instructions for today’s tasks in full, please refer to the project brief. However, in order to keep on track you may refer to the daily goals outlined below:\n",
    "\n",
    "By the end of day, we recommend you have:\n",
    "\n",
    "Reviewed KPI and Metrics material.\n",
    "Discovered what key performance indicators (KPIs) will determine the success of the new design\n",
    "Use at least completion rate, time spent on each step and error rates. Add any KPIs you might find relevant.\n",
    "Evaluated how the new design’s performance compare to the old one, given the chosen KPIs (completion rate, time spent on each step and error rates)."
   ]
  },
  {
   "cell_type": "markdown",
   "id": "637b6dc3-04dd-4cce-bd2f-4cf401c9125e",
   "metadata": {},
   "source": [
    "Steps:\n",
    "- [x] import `merged_final_demo_final_experiment_clients_df`\n",
    "- [x] merge with `kpi_df`\n",
    "- [x] add column of errors per client\n",
    "- [x] clean data if needed"
   ]
  },
  {
   "cell_type": "code",
   "execution_count": 18,
   "id": "76cbf522-9670-48de-a413-572640616ebd",
   "metadata": {},
   "outputs": [],
   "source": [
    "merged_final_demo_final_experiment_clients_df = pd.read_csv('../../data/clean/merged_final_demo_final_experiment_clients_df.csv')"
   ]
  },
  {
   "cell_type": "code",
   "execution_count": 19,
   "id": "2571cf25-5d1a-4ddd-b76f-b02a96b9d317",
   "metadata": {},
   "outputs": [],
   "source": [
    "merged_df = pd.merge(kpi_df, merged_final_demo_final_experiment_clients_df, on='client_id', how='outer')"
   ]
  },
  {
   "cell_type": "code",
   "execution_count": 20,
   "id": "9ec3312c-fa20-4b7a-a7fe-e23088f29fdc",
   "metadata": {},
   "outputs": [],
   "source": [
    "# functions.inspect_dataframe(df)"
   ]
  },
  {
   "cell_type": "code",
   "execution_count": 21,
   "id": "8ee05fd6-98b2-41b0-a1c9-384ef827feef",
   "metadata": {},
   "outputs": [],
   "source": [
    "# match datatypes in dfs before merging on `date_time` column to prevent errors\n",
    "merged_df['date_time'] = pd.to_datetime(merged_df['date_time'], errors='coerce')\n",
    "df['date_time'] = pd.to_datetime(df['date_time'], errors='coerce')"
   ]
  },
  {
   "cell_type": "code",
   "execution_count": 22,
   "id": "296acb21-eeb1-4033-bf40-0fd4ea9cee85",
   "metadata": {},
   "outputs": [],
   "source": [
    "# select columns to merge\n",
    "df_selected = df[['client_id', 'date_time', 'backward_step', 'error_count']]\n",
    "merged_kpi_df = pd.merge(merged_df, df_selected, on=['client_id', 'date_time'], how='left')"
   ]
  },
  {
   "cell_type": "code",
   "execution_count": 23,
   "id": "798fb414-98f2-4b8f-8d19-e0ded4d37224",
   "metadata": {},
   "outputs": [],
   "source": [
    "# merged_kpi_df: 5682251 rows, 15 columns - before matching date_time\n",
    "# merged_kpi_df: 631469 rows × 15 columns - after matching date and time"
   ]
  },
  {
   "cell_type": "code",
   "execution_count": 24,
   "id": "704f500d-4039-407d-9c4e-214db7f769f6",
   "metadata": {},
   "outputs": [],
   "source": [
    "merged_kpi_df.rename(columns={'backward_step': 'stepped_back'}, inplace=True)"
   ]
  },
  {
   "cell_type": "code",
   "execution_count": 25,
   "id": "ce8815c5-3ceb-45e6-a897-c9264787cf57",
   "metadata": {},
   "outputs": [],
   "source": [
    "merged_kpi_df.drop(columns=['client_tenure_months', 'num_accounts', 'calls_last_6_months', 'logons_last_6_months', 'balance'], inplace=True)"
   ]
  },
  {
   "cell_type": "code",
   "execution_count": 26,
   "id": "32452d76-39e7-45e5-a789-c56c2dfc262a",
   "metadata": {},
   "outputs": [
    {
     "data": {
      "text/html": [
       "<div>\n",
       "<style scoped>\n",
       "    .dataframe tbody tr th:only-of-type {\n",
       "        vertical-align: middle;\n",
       "    }\n",
       "\n",
       "    .dataframe tbody tr th {\n",
       "        vertical-align: top;\n",
       "    }\n",
       "\n",
       "    .dataframe thead th {\n",
       "        text-align: right;\n",
       "    }\n",
       "</style>\n",
       "<table border=\"1\" class=\"dataframe\">\n",
       "  <thead>\n",
       "    <tr style=\"text-align: right;\">\n",
       "      <th></th>\n",
       "      <th>client_id</th>\n",
       "      <th>process_step</th>\n",
       "      <th>date_time</th>\n",
       "      <th>time_diff</th>\n",
       "      <th>client_tenure_years</th>\n",
       "      <th>client_age</th>\n",
       "      <th>gender</th>\n",
       "      <th>variation</th>\n",
       "      <th>stepped_back</th>\n",
       "      <th>error_count</th>\n",
       "    </tr>\n",
       "  </thead>\n",
       "  <tbody>\n",
       "    <tr>\n",
       "      <th>0</th>\n",
       "      <td>169</td>\n",
       "      <td>1</td>\n",
       "      <td>2017-04-12 20:19:45</td>\n",
       "      <td>0 days 00:00:09</td>\n",
       "      <td>21</td>\n",
       "      <td>47</td>\n",
       "      <td>Male</td>\n",
       "      <td>Unknown</td>\n",
       "      <td>False</td>\n",
       "      <td>0</td>\n",
       "    </tr>\n",
       "    <tr>\n",
       "      <th>1</th>\n",
       "      <td>169</td>\n",
       "      <td>2</td>\n",
       "      <td>2017-04-12 20:20:31</td>\n",
       "      <td>0 days 00:00:46</td>\n",
       "      <td>21</td>\n",
       "      <td>47</td>\n",
       "      <td>Male</td>\n",
       "      <td>Unknown</td>\n",
       "      <td>False</td>\n",
       "      <td>0</td>\n",
       "    </tr>\n",
       "    <tr>\n",
       "      <th>2</th>\n",
       "      <td>169</td>\n",
       "      <td>3</td>\n",
       "      <td>2017-04-12 20:22:05</td>\n",
       "      <td>0 days 00:01:34</td>\n",
       "      <td>21</td>\n",
       "      <td>47</td>\n",
       "      <td>Male</td>\n",
       "      <td>Unknown</td>\n",
       "      <td>False</td>\n",
       "      <td>0</td>\n",
       "    </tr>\n",
       "    <tr>\n",
       "      <th>3</th>\n",
       "      <td>169</td>\n",
       "      <td>4</td>\n",
       "      <td>2017-04-12 20:23:09</td>\n",
       "      <td>0 days 00:01:04</td>\n",
       "      <td>21</td>\n",
       "      <td>47</td>\n",
       "      <td>Male</td>\n",
       "      <td>Unknown</td>\n",
       "      <td>False</td>\n",
       "      <td>0</td>\n",
       "    </tr>\n",
       "    <tr>\n",
       "      <th>4</th>\n",
       "      <td>336</td>\n",
       "      <td>0</td>\n",
       "      <td>2017-06-01 07:42:43</td>\n",
       "      <td>0 days 00:15:48</td>\n",
       "      <td>&lt;NA&gt;</td>\n",
       "      <td>&lt;NA&gt;</td>\n",
       "      <td>NaN</td>\n",
       "      <td>NaN</td>\n",
       "      <td>False</td>\n",
       "      <td>0</td>\n",
       "    </tr>\n",
       "    <tr>\n",
       "      <th>...</th>\n",
       "      <td>...</td>\n",
       "      <td>...</td>\n",
       "      <td>...</td>\n",
       "      <td>...</td>\n",
       "      <td>...</td>\n",
       "      <td>...</td>\n",
       "      <td>...</td>\n",
       "      <td>...</td>\n",
       "      <td>...</td>\n",
       "      <td>...</td>\n",
       "    </tr>\n",
       "    <tr>\n",
       "      <th>631464</th>\n",
       "      <td>9999875</td>\n",
       "      <td>1</td>\n",
       "      <td>2017-06-01 22:40:08</td>\n",
       "      <td>0 days 00:00:07</td>\n",
       "      <td>&lt;NA&gt;</td>\n",
       "      <td>&lt;NA&gt;</td>\n",
       "      <td>NaN</td>\n",
       "      <td>NaN</td>\n",
       "      <td>False</td>\n",
       "      <td>0</td>\n",
       "    </tr>\n",
       "    <tr>\n",
       "      <th>631465</th>\n",
       "      <td>9999875</td>\n",
       "      <td>1</td>\n",
       "      <td>2017-06-01 22:41:28</td>\n",
       "      <td>0 days 00:01:20</td>\n",
       "      <td>&lt;NA&gt;</td>\n",
       "      <td>&lt;NA&gt;</td>\n",
       "      <td>NaN</td>\n",
       "      <td>NaN</td>\n",
       "      <td>False</td>\n",
       "      <td>0</td>\n",
       "    </tr>\n",
       "    <tr>\n",
       "      <th>631466</th>\n",
       "      <td>9999875</td>\n",
       "      <td>2</td>\n",
       "      <td>2017-06-01 22:41:47</td>\n",
       "      <td>0 days 00:00:19</td>\n",
       "      <td>&lt;NA&gt;</td>\n",
       "      <td>&lt;NA&gt;</td>\n",
       "      <td>NaN</td>\n",
       "      <td>NaN</td>\n",
       "      <td>False</td>\n",
       "      <td>0</td>\n",
       "    </tr>\n",
       "    <tr>\n",
       "      <th>631467</th>\n",
       "      <td>9999875</td>\n",
       "      <td>3</td>\n",
       "      <td>2017-06-01 22:44:58</td>\n",
       "      <td>0 days 00:03:11</td>\n",
       "      <td>&lt;NA&gt;</td>\n",
       "      <td>&lt;NA&gt;</td>\n",
       "      <td>NaN</td>\n",
       "      <td>NaN</td>\n",
       "      <td>False</td>\n",
       "      <td>0</td>\n",
       "    </tr>\n",
       "    <tr>\n",
       "      <th>631468</th>\n",
       "      <td>9999875</td>\n",
       "      <td>4</td>\n",
       "      <td>2017-06-01 22:48:39</td>\n",
       "      <td>0 days 00:03:41</td>\n",
       "      <td>&lt;NA&gt;</td>\n",
       "      <td>&lt;NA&gt;</td>\n",
       "      <td>NaN</td>\n",
       "      <td>NaN</td>\n",
       "      <td>False</td>\n",
       "      <td>0</td>\n",
       "    </tr>\n",
       "  </tbody>\n",
       "</table>\n",
       "<p>631469 rows × 10 columns</p>\n",
       "</div>"
      ],
      "text/plain": [
       "        client_id  process_step           date_time       time_diff  \\\n",
       "0             169             1 2017-04-12 20:19:45 0 days 00:00:09   \n",
       "1             169             2 2017-04-12 20:20:31 0 days 00:00:46   \n",
       "2             169             3 2017-04-12 20:22:05 0 days 00:01:34   \n",
       "3             169             4 2017-04-12 20:23:09 0 days 00:01:04   \n",
       "4             336             0 2017-06-01 07:42:43 0 days 00:15:48   \n",
       "...           ...           ...                 ...             ...   \n",
       "631464    9999875             1 2017-06-01 22:40:08 0 days 00:00:07   \n",
       "631465    9999875             1 2017-06-01 22:41:28 0 days 00:01:20   \n",
       "631466    9999875             2 2017-06-01 22:41:47 0 days 00:00:19   \n",
       "631467    9999875             3 2017-06-01 22:44:58 0 days 00:03:11   \n",
       "631468    9999875             4 2017-06-01 22:48:39 0 days 00:03:41   \n",
       "\n",
       "        client_tenure_years  client_age gender variation stepped_back  \\\n",
       "0                        21          47   Male   Unknown        False   \n",
       "1                        21          47   Male   Unknown        False   \n",
       "2                        21          47   Male   Unknown        False   \n",
       "3                        21          47   Male   Unknown        False   \n",
       "4                      <NA>        <NA>    NaN       NaN        False   \n",
       "...                     ...         ...    ...       ...          ...   \n",
       "631464                 <NA>        <NA>    NaN       NaN        False   \n",
       "631465                 <NA>        <NA>    NaN       NaN        False   \n",
       "631466                 <NA>        <NA>    NaN       NaN        False   \n",
       "631467                 <NA>        <NA>    NaN       NaN        False   \n",
       "631468                 <NA>        <NA>    NaN       NaN        False   \n",
       "\n",
       "        error_count  \n",
       "0                 0  \n",
       "1                 0  \n",
       "2                 0  \n",
       "3                 0  \n",
       "4                 0  \n",
       "...             ...  \n",
       "631464            0  \n",
       "631465            0  \n",
       "631466            0  \n",
       "631467            0  \n",
       "631468            0  \n",
       "\n",
       "[631469 rows x 10 columns]"
      ]
     },
     "execution_count": 26,
     "metadata": {},
     "output_type": "execute_result"
    }
   ],
   "source": [
    "functions.floats_to_ints(merged_kpi_df, 'process_step')\n",
    "functions.floats_to_ints(merged_kpi_df, 'client_tenure_years')\n",
    "functions.floats_to_ints(merged_kpi_df, 'client_age')\n",
    "functions.floats_to_ints(merged_kpi_df, 'error_count')"
   ]
  },
  {
   "cell_type": "code",
   "execution_count": 27,
   "id": "bbc7f1f0-344b-43b9-b68f-d237c97e19b7",
   "metadata": {},
   "outputs": [],
   "source": [
    "# convert NaN values in 'variation' to 'Unknown'\n",
    "merged_kpi_df['variation'] = merged_kpi_df['variation'].fillna('Unknown')"
   ]
  },
  {
   "cell_type": "code",
   "execution_count": 28,
   "id": "8d8daa4d-5a1e-48d8-ad29-3253e228af78",
   "metadata": {},
   "outputs": [
    {
     "name": "stdout",
     "output_type": "stream",
     "text": [
      "['Male' nan 'Unspecified' 'Female']\n"
     ]
    },
    {
     "data": {
      "text/html": [
       "<div>\n",
       "<style scoped>\n",
       "    .dataframe tbody tr th:only-of-type {\n",
       "        vertical-align: middle;\n",
       "    }\n",
       "\n",
       "    .dataframe tbody tr th {\n",
       "        vertical-align: top;\n",
       "    }\n",
       "\n",
       "    .dataframe thead th {\n",
       "        text-align: right;\n",
       "    }\n",
       "</style>\n",
       "<table border=\"1\" class=\"dataframe\">\n",
       "  <thead>\n",
       "    <tr style=\"text-align: right;\">\n",
       "      <th></th>\n",
       "      <th>client_id</th>\n",
       "      <th>process_step</th>\n",
       "      <th>date_time</th>\n",
       "      <th>time_diff</th>\n",
       "      <th>client_tenure_years</th>\n",
       "      <th>client_age</th>\n",
       "      <th>gender</th>\n",
       "      <th>variation</th>\n",
       "      <th>stepped_back</th>\n",
       "      <th>error_count</th>\n",
       "    </tr>\n",
       "  </thead>\n",
       "  <tbody>\n",
       "    <tr>\n",
       "      <th>0</th>\n",
       "      <td>169</td>\n",
       "      <td>1</td>\n",
       "      <td>2017-04-12 20:19:45</td>\n",
       "      <td>0 days 00:00:09</td>\n",
       "      <td>21</td>\n",
       "      <td>47</td>\n",
       "      <td>Male</td>\n",
       "      <td>Unknown</td>\n",
       "      <td>False</td>\n",
       "      <td>0</td>\n",
       "    </tr>\n",
       "    <tr>\n",
       "      <th>1</th>\n",
       "      <td>169</td>\n",
       "      <td>2</td>\n",
       "      <td>2017-04-12 20:20:31</td>\n",
       "      <td>0 days 00:00:46</td>\n",
       "      <td>21</td>\n",
       "      <td>47</td>\n",
       "      <td>Male</td>\n",
       "      <td>Unknown</td>\n",
       "      <td>False</td>\n",
       "      <td>0</td>\n",
       "    </tr>\n",
       "    <tr>\n",
       "      <th>2</th>\n",
       "      <td>169</td>\n",
       "      <td>3</td>\n",
       "      <td>2017-04-12 20:22:05</td>\n",
       "      <td>0 days 00:01:34</td>\n",
       "      <td>21</td>\n",
       "      <td>47</td>\n",
       "      <td>Male</td>\n",
       "      <td>Unknown</td>\n",
       "      <td>False</td>\n",
       "      <td>0</td>\n",
       "    </tr>\n",
       "    <tr>\n",
       "      <th>3</th>\n",
       "      <td>169</td>\n",
       "      <td>4</td>\n",
       "      <td>2017-04-12 20:23:09</td>\n",
       "      <td>0 days 00:01:04</td>\n",
       "      <td>21</td>\n",
       "      <td>47</td>\n",
       "      <td>Male</td>\n",
       "      <td>Unknown</td>\n",
       "      <td>False</td>\n",
       "      <td>0</td>\n",
       "    </tr>\n",
       "    <tr>\n",
       "      <th>4</th>\n",
       "      <td>336</td>\n",
       "      <td>0</td>\n",
       "      <td>2017-06-01 07:42:43</td>\n",
       "      <td>0 days 00:15:48</td>\n",
       "      <td>&lt;NA&gt;</td>\n",
       "      <td>&lt;NA&gt;</td>\n",
       "      <td>Unspecified</td>\n",
       "      <td>Unknown</td>\n",
       "      <td>False</td>\n",
       "      <td>0</td>\n",
       "    </tr>\n",
       "    <tr>\n",
       "      <th>...</th>\n",
       "      <td>...</td>\n",
       "      <td>...</td>\n",
       "      <td>...</td>\n",
       "      <td>...</td>\n",
       "      <td>...</td>\n",
       "      <td>...</td>\n",
       "      <td>...</td>\n",
       "      <td>...</td>\n",
       "      <td>...</td>\n",
       "      <td>...</td>\n",
       "    </tr>\n",
       "    <tr>\n",
       "      <th>631464</th>\n",
       "      <td>9999875</td>\n",
       "      <td>1</td>\n",
       "      <td>2017-06-01 22:40:08</td>\n",
       "      <td>0 days 00:00:07</td>\n",
       "      <td>&lt;NA&gt;</td>\n",
       "      <td>&lt;NA&gt;</td>\n",
       "      <td>Unspecified</td>\n",
       "      <td>Unknown</td>\n",
       "      <td>False</td>\n",
       "      <td>0</td>\n",
       "    </tr>\n",
       "    <tr>\n",
       "      <th>631465</th>\n",
       "      <td>9999875</td>\n",
       "      <td>1</td>\n",
       "      <td>2017-06-01 22:41:28</td>\n",
       "      <td>0 days 00:01:20</td>\n",
       "      <td>&lt;NA&gt;</td>\n",
       "      <td>&lt;NA&gt;</td>\n",
       "      <td>Unspecified</td>\n",
       "      <td>Unknown</td>\n",
       "      <td>False</td>\n",
       "      <td>0</td>\n",
       "    </tr>\n",
       "    <tr>\n",
       "      <th>631466</th>\n",
       "      <td>9999875</td>\n",
       "      <td>2</td>\n",
       "      <td>2017-06-01 22:41:47</td>\n",
       "      <td>0 days 00:00:19</td>\n",
       "      <td>&lt;NA&gt;</td>\n",
       "      <td>&lt;NA&gt;</td>\n",
       "      <td>Unspecified</td>\n",
       "      <td>Unknown</td>\n",
       "      <td>False</td>\n",
       "      <td>0</td>\n",
       "    </tr>\n",
       "    <tr>\n",
       "      <th>631467</th>\n",
       "      <td>9999875</td>\n",
       "      <td>3</td>\n",
       "      <td>2017-06-01 22:44:58</td>\n",
       "      <td>0 days 00:03:11</td>\n",
       "      <td>&lt;NA&gt;</td>\n",
       "      <td>&lt;NA&gt;</td>\n",
       "      <td>Unspecified</td>\n",
       "      <td>Unknown</td>\n",
       "      <td>False</td>\n",
       "      <td>0</td>\n",
       "    </tr>\n",
       "    <tr>\n",
       "      <th>631468</th>\n",
       "      <td>9999875</td>\n",
       "      <td>4</td>\n",
       "      <td>2017-06-01 22:48:39</td>\n",
       "      <td>0 days 00:03:41</td>\n",
       "      <td>&lt;NA&gt;</td>\n",
       "      <td>&lt;NA&gt;</td>\n",
       "      <td>Unspecified</td>\n",
       "      <td>Unknown</td>\n",
       "      <td>False</td>\n",
       "      <td>0</td>\n",
       "    </tr>\n",
       "  </tbody>\n",
       "</table>\n",
       "<p>631469 rows × 10 columns</p>\n",
       "</div>"
      ],
      "text/plain": [
       "        client_id  process_step           date_time       time_diff  \\\n",
       "0             169             1 2017-04-12 20:19:45 0 days 00:00:09   \n",
       "1             169             2 2017-04-12 20:20:31 0 days 00:00:46   \n",
       "2             169             3 2017-04-12 20:22:05 0 days 00:01:34   \n",
       "3             169             4 2017-04-12 20:23:09 0 days 00:01:04   \n",
       "4             336             0 2017-06-01 07:42:43 0 days 00:15:48   \n",
       "...           ...           ...                 ...             ...   \n",
       "631464    9999875             1 2017-06-01 22:40:08 0 days 00:00:07   \n",
       "631465    9999875             1 2017-06-01 22:41:28 0 days 00:01:20   \n",
       "631466    9999875             2 2017-06-01 22:41:47 0 days 00:00:19   \n",
       "631467    9999875             3 2017-06-01 22:44:58 0 days 00:03:11   \n",
       "631468    9999875             4 2017-06-01 22:48:39 0 days 00:03:41   \n",
       "\n",
       "        client_tenure_years  client_age       gender variation stepped_back  \\\n",
       "0                        21          47         Male   Unknown        False   \n",
       "1                        21          47         Male   Unknown        False   \n",
       "2                        21          47         Male   Unknown        False   \n",
       "3                        21          47         Male   Unknown        False   \n",
       "4                      <NA>        <NA>  Unspecified   Unknown        False   \n",
       "...                     ...         ...          ...       ...          ...   \n",
       "631464                 <NA>        <NA>  Unspecified   Unknown        False   \n",
       "631465                 <NA>        <NA>  Unspecified   Unknown        False   \n",
       "631466                 <NA>        <NA>  Unspecified   Unknown        False   \n",
       "631467                 <NA>        <NA>  Unspecified   Unknown        False   \n",
       "631468                 <NA>        <NA>  Unspecified   Unknown        False   \n",
       "\n",
       "        error_count  \n",
       "0                 0  \n",
       "1                 0  \n",
       "2                 0  \n",
       "3                 0  \n",
       "4                 0  \n",
       "...             ...  \n",
       "631464            0  \n",
       "631465            0  \n",
       "631466            0  \n",
       "631467            0  \n",
       "631468            0  \n",
       "\n",
       "[631469 rows x 10 columns]"
      ]
     },
     "execution_count": 28,
     "metadata": {},
     "output_type": "execute_result"
    }
   ],
   "source": [
    "functions.handle_unique_gender_values(merged_kpi_df)"
   ]
  },
  {
   "cell_type": "code",
   "execution_count": 29,
   "id": "77fb46d7-87f0-40d6-9714-9830e2713353",
   "metadata": {},
   "outputs": [
    {
     "name": "stdout",
     "output_type": "stream",
     "text": [
      "Check the shape (rows, columns):\n",
      "(631469, 10)\n",
      "\n",
      "Column names:\n",
      "Index(['client_id', 'process_step', 'date_time', 'time_diff',\n",
      "       'client_tenure_years', 'client_age', 'gender', 'variation',\n",
      "       'stepped_back', 'error_count'],\n",
      "      dtype='object')\n",
      "\n",
      "Data types:\n",
      "client_id                        int64\n",
      "process_step                     Int64\n",
      "date_time               datetime64[ns]\n",
      "time_diff              timedelta64[ns]\n",
      "client_tenure_years              Int64\n",
      "client_age                       Int64\n",
      "gender                          object\n",
      "variation                       object\n",
      "stepped_back                    object\n",
      "error_count                      Int64\n",
      "dtype: object\n",
      "\n",
      "Missing values:\n",
      "client_id                   0\n",
      "process_step             5059\n",
      "date_time                5059\n",
      "time_diff                5059\n",
      "client_tenure_years    251772\n",
      "client_age             251772\n",
      "gender                      0\n",
      "variation                   0\n",
      "stepped_back             5059\n",
      "error_count              5059\n",
      "dtype: int64\n"
     ]
    }
   ],
   "source": [
    "functions.inspect_dataframe(merged_kpi_df)"
   ]
  },
  {
   "cell_type": "code",
   "execution_count": 30,
   "id": "9c25cd07-0a78-433e-845a-f207e8ba584f",
   "metadata": {},
   "outputs": [
    {
     "name": "stdout",
     "output_type": "stream",
     "text": [
      "Summary of Unique and Empty Values:\n",
      "\n",
      "                     Unique value count  Empty value count\n",
      "Column                                                    \n",
      "client_id                        116435                  0\n",
      "process_step                          5               5059\n",
      "date_time                        539786               5059\n",
      "time_diff                         35861               5059\n",
      "client_tenure_years                  54             251772\n",
      "client_age                           84             251772\n",
      "gender                                3                  0\n",
      "variation                             3                  0\n",
      "stepped_back                          2               5059\n",
      "error_count                          24               5059\n",
      "\n",
      "--------------------------------------------------\n",
      "\n"
     ]
    },
    {
     "data": {
      "text/html": [
       "<div>\n",
       "<style scoped>\n",
       "    .dataframe tbody tr th:only-of-type {\n",
       "        vertical-align: middle;\n",
       "    }\n",
       "\n",
       "    .dataframe tbody tr th {\n",
       "        vertical-align: top;\n",
       "    }\n",
       "\n",
       "    .dataframe thead th {\n",
       "        text-align: right;\n",
       "    }\n",
       "</style>\n",
       "<table border=\"1\" class=\"dataframe\">\n",
       "  <thead>\n",
       "    <tr style=\"text-align: right;\">\n",
       "      <th></th>\n",
       "      <th>client_id</th>\n",
       "      <th>process_step</th>\n",
       "      <th>date_time</th>\n",
       "      <th>time_diff</th>\n",
       "      <th>client_tenure_years</th>\n",
       "      <th>client_age</th>\n",
       "      <th>gender</th>\n",
       "      <th>variation</th>\n",
       "      <th>stepped_back</th>\n",
       "      <th>error_count</th>\n",
       "    </tr>\n",
       "  </thead>\n",
       "  <tbody>\n",
       "    <tr>\n",
       "      <th>0</th>\n",
       "      <td>169</td>\n",
       "      <td>1</td>\n",
       "      <td>2017-04-12 20:19:45</td>\n",
       "      <td>0 days 00:00:09</td>\n",
       "      <td>21</td>\n",
       "      <td>47</td>\n",
       "      <td>Male</td>\n",
       "      <td>Unknown</td>\n",
       "      <td>False</td>\n",
       "      <td>0</td>\n",
       "    </tr>\n",
       "    <tr>\n",
       "      <th>1</th>\n",
       "      <td>169</td>\n",
       "      <td>2</td>\n",
       "      <td>2017-04-12 20:20:31</td>\n",
       "      <td>0 days 00:00:46</td>\n",
       "      <td>21</td>\n",
       "      <td>47</td>\n",
       "      <td>Male</td>\n",
       "      <td>Unknown</td>\n",
       "      <td>False</td>\n",
       "      <td>0</td>\n",
       "    </tr>\n",
       "    <tr>\n",
       "      <th>2</th>\n",
       "      <td>169</td>\n",
       "      <td>3</td>\n",
       "      <td>2017-04-12 20:22:05</td>\n",
       "      <td>0 days 00:01:34</td>\n",
       "      <td>21</td>\n",
       "      <td>47</td>\n",
       "      <td>Male</td>\n",
       "      <td>Unknown</td>\n",
       "      <td>False</td>\n",
       "      <td>0</td>\n",
       "    </tr>\n",
       "    <tr>\n",
       "      <th>3</th>\n",
       "      <td>169</td>\n",
       "      <td>4</td>\n",
       "      <td>2017-04-12 20:23:09</td>\n",
       "      <td>0 days 00:01:04</td>\n",
       "      <td>21</td>\n",
       "      <td>47</td>\n",
       "      <td>Male</td>\n",
       "      <td>Unknown</td>\n",
       "      <td>False</td>\n",
       "      <td>0</td>\n",
       "    </tr>\n",
       "    <tr>\n",
       "      <th>4</th>\n",
       "      <td>336</td>\n",
       "      <td>0</td>\n",
       "      <td>2017-06-01 07:42:43</td>\n",
       "      <td>0 days 00:15:48</td>\n",
       "      <td>&lt;NA&gt;</td>\n",
       "      <td>&lt;NA&gt;</td>\n",
       "      <td>Unspecified</td>\n",
       "      <td>Unknown</td>\n",
       "      <td>False</td>\n",
       "      <td>0</td>\n",
       "    </tr>\n",
       "    <tr>\n",
       "      <th>...</th>\n",
       "      <td>...</td>\n",
       "      <td>...</td>\n",
       "      <td>...</td>\n",
       "      <td>...</td>\n",
       "      <td>...</td>\n",
       "      <td>...</td>\n",
       "      <td>...</td>\n",
       "      <td>...</td>\n",
       "      <td>...</td>\n",
       "      <td>...</td>\n",
       "    </tr>\n",
       "    <tr>\n",
       "      <th>631464</th>\n",
       "      <td>9999875</td>\n",
       "      <td>1</td>\n",
       "      <td>2017-06-01 22:40:08</td>\n",
       "      <td>0 days 00:00:07</td>\n",
       "      <td>&lt;NA&gt;</td>\n",
       "      <td>&lt;NA&gt;</td>\n",
       "      <td>Unspecified</td>\n",
       "      <td>Unknown</td>\n",
       "      <td>False</td>\n",
       "      <td>0</td>\n",
       "    </tr>\n",
       "    <tr>\n",
       "      <th>631465</th>\n",
       "      <td>9999875</td>\n",
       "      <td>1</td>\n",
       "      <td>2017-06-01 22:41:28</td>\n",
       "      <td>0 days 00:01:20</td>\n",
       "      <td>&lt;NA&gt;</td>\n",
       "      <td>&lt;NA&gt;</td>\n",
       "      <td>Unspecified</td>\n",
       "      <td>Unknown</td>\n",
       "      <td>False</td>\n",
       "      <td>0</td>\n",
       "    </tr>\n",
       "    <tr>\n",
       "      <th>631466</th>\n",
       "      <td>9999875</td>\n",
       "      <td>2</td>\n",
       "      <td>2017-06-01 22:41:47</td>\n",
       "      <td>0 days 00:00:19</td>\n",
       "      <td>&lt;NA&gt;</td>\n",
       "      <td>&lt;NA&gt;</td>\n",
       "      <td>Unspecified</td>\n",
       "      <td>Unknown</td>\n",
       "      <td>False</td>\n",
       "      <td>0</td>\n",
       "    </tr>\n",
       "    <tr>\n",
       "      <th>631467</th>\n",
       "      <td>9999875</td>\n",
       "      <td>3</td>\n",
       "      <td>2017-06-01 22:44:58</td>\n",
       "      <td>0 days 00:03:11</td>\n",
       "      <td>&lt;NA&gt;</td>\n",
       "      <td>&lt;NA&gt;</td>\n",
       "      <td>Unspecified</td>\n",
       "      <td>Unknown</td>\n",
       "      <td>False</td>\n",
       "      <td>0</td>\n",
       "    </tr>\n",
       "    <tr>\n",
       "      <th>631468</th>\n",
       "      <td>9999875</td>\n",
       "      <td>4</td>\n",
       "      <td>2017-06-01 22:48:39</td>\n",
       "      <td>0 days 00:03:41</td>\n",
       "      <td>&lt;NA&gt;</td>\n",
       "      <td>&lt;NA&gt;</td>\n",
       "      <td>Unspecified</td>\n",
       "      <td>Unknown</td>\n",
       "      <td>False</td>\n",
       "      <td>0</td>\n",
       "    </tr>\n",
       "  </tbody>\n",
       "</table>\n",
       "<p>631469 rows × 10 columns</p>\n",
       "</div>"
      ],
      "text/plain": [
       "        client_id  process_step           date_time       time_diff  \\\n",
       "0             169             1 2017-04-12 20:19:45 0 days 00:00:09   \n",
       "1             169             2 2017-04-12 20:20:31 0 days 00:00:46   \n",
       "2             169             3 2017-04-12 20:22:05 0 days 00:01:34   \n",
       "3             169             4 2017-04-12 20:23:09 0 days 00:01:04   \n",
       "4             336             0 2017-06-01 07:42:43 0 days 00:15:48   \n",
       "...           ...           ...                 ...             ...   \n",
       "631464    9999875             1 2017-06-01 22:40:08 0 days 00:00:07   \n",
       "631465    9999875             1 2017-06-01 22:41:28 0 days 00:01:20   \n",
       "631466    9999875             2 2017-06-01 22:41:47 0 days 00:00:19   \n",
       "631467    9999875             3 2017-06-01 22:44:58 0 days 00:03:11   \n",
       "631468    9999875             4 2017-06-01 22:48:39 0 days 00:03:41   \n",
       "\n",
       "        client_tenure_years  client_age       gender variation stepped_back  \\\n",
       "0                        21          47         Male   Unknown        False   \n",
       "1                        21          47         Male   Unknown        False   \n",
       "2                        21          47         Male   Unknown        False   \n",
       "3                        21          47         Male   Unknown        False   \n",
       "4                      <NA>        <NA>  Unspecified   Unknown        False   \n",
       "...                     ...         ...          ...       ...          ...   \n",
       "631464                 <NA>        <NA>  Unspecified   Unknown        False   \n",
       "631465                 <NA>        <NA>  Unspecified   Unknown        False   \n",
       "631466                 <NA>        <NA>  Unspecified   Unknown        False   \n",
       "631467                 <NA>        <NA>  Unspecified   Unknown        False   \n",
       "631468                 <NA>        <NA>  Unspecified   Unknown        False   \n",
       "\n",
       "        error_count  \n",
       "0                 0  \n",
       "1                 0  \n",
       "2                 0  \n",
       "3                 0  \n",
       "4                 0  \n",
       "...             ...  \n",
       "631464            0  \n",
       "631465            0  \n",
       "631466            0  \n",
       "631467            0  \n",
       "631468            0  \n",
       "\n",
       "[631469 rows x 10 columns]"
      ]
     },
     "execution_count": 30,
     "metadata": {},
     "output_type": "execute_result"
    }
   ],
   "source": [
    "functions.check_unique_and_empty(merged_kpi_df)\n",
    "merged_kpi_df"
   ]
  },
  {
   "cell_type": "code",
   "execution_count": 31,
   "id": "30f52c8e-f510-43be-881f-eaed35545032",
   "metadata": {},
   "outputs": [
    {
     "name": "stdout",
     "output_type": "stream",
     "text": [
      "['Unknown' 'Test' 'Control']\n"
     ]
    }
   ],
   "source": [
    "print(merged_kpi_df['variation'].unique())"
   ]
  },
  {
   "cell_type": "markdown",
   "id": "d472b47d-6841-4130-9781-5bec0a60b4c8",
   "metadata": {},
   "source": [
    "### Evaluate how the new design’s performance compare to the old one, given the chosen KPIs (completion rate, time spent on each step and error rates).\n",
    "\n"
   ]
  },
  {
   "cell_type": "code",
   "execution_count": 32,
   "id": "8915b4a0-a698-4014-992a-7e2d754176fe",
   "metadata": {},
   "outputs": [],
   "source": [
    "# split in dfs, for Variation Control and Variation Test\n",
    "df_test_kpi = merged_kpi_df[merged_kpi_df['variation'] == 'Test']\n",
    "df_control_kpi = merged_kpi_df[merged_kpi_df['variation'] == 'Control']"
   ]
  },
  {
   "cell_type": "code",
   "execution_count": 33,
   "id": "17f20dad-5b08-4d09-9a52-1f135c1a2a70",
   "metadata": {},
   "outputs": [],
   "source": [
    "# drop empty rows\n",
    "df_test_kpi = df_test_kpi.dropna()\n",
    "df_control_kpi = df_control_kpi.dropna()"
   ]
  },
  {
   "cell_type": "markdown",
   "id": "03d86abe-d5b7-4305-9326-396877ed4f06",
   "metadata": {},
   "source": [
    "## Completion Rates"
   ]
  },
  {
   "cell_type": "code",
   "execution_count": 34,
   "id": "03afec82-18b3-48c7-8586-78c1abe45e28",
   "metadata": {},
   "outputs": [
    {
     "name": "stdout",
     "output_type": "stream",
     "text": [
      "\n",
      "Completion rate for Control:\n",
      "Clients who finished the process: 15407 out ouf 21274.\n"
     ]
    },
    {
     "data": {
      "text/plain": [
       "(15407, 21274, 0.7242173545172511)"
      ]
     },
     "execution_count": 34,
     "metadata": {},
     "output_type": "execute_result"
    }
   ],
   "source": [
    "print('\\nCompletion rate for Control:')\n",
    "functions.find_completion_rate(df_control_kpi)"
   ]
  },
  {
   "cell_type": "code",
   "execution_count": 35,
   "id": "795b51e3-daa5-4c30-aad4-e05ba13e6b14",
   "metadata": {},
   "outputs": [
    {
     "name": "stdout",
     "output_type": "stream",
     "text": [
      "\n",
      "Completion rate for Test:\n",
      "Clients who finished the process: 18620 out ouf 25563.\n"
     ]
    },
    {
     "data": {
      "text/plain": [
       "(18620, 25563, 0.7283965105817001)"
      ]
     },
     "execution_count": 35,
     "metadata": {},
     "output_type": "execute_result"
    }
   ],
   "source": [
    "print('\\nCompletion rate for Test:')\n",
    "functions.find_completion_rate(df_test_kpi)"
   ]
  },
  {
   "cell_type": "markdown",
   "id": "03c3535b-599b-4895-bf82-bffb56d500b3",
   "metadata": {},
   "source": [
    "## Time spent on each step"
   ]
  },
  {
   "cell_type": "code",
   "execution_count": 36,
   "id": "17f4d595-3ed5-4df1-a379-5f76a6167269",
   "metadata": {},
   "outputs": [
    {
     "name": "stdout",
     "output_type": "stream",
     "text": [
      "Average time spent on each step:\n",
      " process_step\n",
      "0   3 days 05:16:07\n",
      "1   0 days 00:40:57\n",
      "2   0 days 00:01:52\n",
      "3   0 days 00:12:20\n",
      "4   1 days 03:56:57\n",
      "Name: time_diff, dtype: timedelta64[ns]\n"
     ]
    },
    {
     "data": {
      "text/plain": [
       "process_step\n",
       "0   3 days 05:16:07\n",
       "1   0 days 00:40:57\n",
       "2   0 days 00:01:52\n",
       "3   0 days 00:12:20\n",
       "4   1 days 03:56:57\n",
       "Name: time_diff, dtype: timedelta64[ns]"
      ]
     },
     "execution_count": 36,
     "metadata": {},
     "output_type": "execute_result"
    }
   ],
   "source": [
    "functions.calculate_time_per_step(df_test_kpi)"
   ]
  },
  {
   "cell_type": "code",
   "execution_count": 37,
   "id": "0e25db30-2a57-4113-8b2d-4bd6d9bdc9df",
   "metadata": {},
   "outputs": [
    {
     "name": "stdout",
     "output_type": "stream",
     "text": [
      "Average time spent on each step:\n",
      " process_step\n",
      "0   4 days 01:23:08\n",
      "1   0 days 01:00:59\n",
      "2   0 days 00:00:40\n",
      "3   0 days 00:07:44\n",
      "4   0 days 17:50:07\n",
      "Name: time_diff, dtype: timedelta64[ns]\n"
     ]
    },
    {
     "data": {
      "text/plain": [
       "process_step\n",
       "0   4 days 01:23:08\n",
       "1   0 days 01:00:59\n",
       "2   0 days 00:00:40\n",
       "3   0 days 00:07:44\n",
       "4   0 days 17:50:07\n",
       "Name: time_diff, dtype: timedelta64[ns]"
      ]
     },
     "execution_count": 37,
     "metadata": {},
     "output_type": "execute_result"
    }
   ],
   "source": [
    "functions.calculate_time_per_step(df_control_kpi)"
   ]
  },
  {
   "cell_type": "markdown",
   "id": "f9c3894d-5966-4c3c-abe9-f57038d90419",
   "metadata": {},
   "source": [
    "## Error Rate"
   ]
  },
  {
   "cell_type": "code",
   "execution_count": 38,
   "id": "76eb7a85-21fe-4083-b43c-54caccf44306",
   "metadata": {},
   "outputs": [
    {
     "name": "stdout",
     "output_type": "stream",
     "text": [
      "Errors per client: client_id\n",
      "1346       2\n",
      "1516       4\n",
      "1643       1\n",
      "1755       1\n",
      "1836       3\n",
      "          ..\n",
      "9994764    6\n",
      "9995295    4\n",
      "9998156    1\n",
      "9999150    1\n",
      "9999729    2\n",
      "Length: 10189, dtype: int64\n",
      "Total number of errors across all clients: 19250\n"
     ]
    },
    {
     "data": {
      "text/plain": [
       "(10189,\n",
       " client_id\n",
       " 1346       2\n",
       " 1516       4\n",
       " 1643       1\n",
       " 1755       1\n",
       " 1836       3\n",
       "           ..\n",
       " 9994764    6\n",
       " 9995295    4\n",
       " 9998156    1\n",
       " 9999150    1\n",
       " 9999729    2\n",
       " Length: 10189, dtype: int64,\n",
       " 19250)"
      ]
     },
     "execution_count": 38,
     "metadata": {},
     "output_type": "execute_result"
    }
   ],
   "source": [
    "functions.find_error_rate(df_test_kpi)"
   ]
  },
  {
   "cell_type": "code",
   "execution_count": 39,
   "id": "5d914c14-ed2a-4cc9-99bb-8debe4bdfae0",
   "metadata": {},
   "outputs": [
    {
     "name": "stdout",
     "output_type": "stream",
     "text": [
      "Errors per client: client_id\n",
      "1028       2\n",
      "1197       1\n",
      "3647       1\n",
      "5354       1\n",
      "7020       4\n",
      "          ..\n",
      "9995265    1\n",
      "9996404    1\n",
      "9997391    2\n",
      "9997470    3\n",
      "9998346    1\n",
      "Length: 8074, dtype: int64\n",
      "Total number of errors across all clients: 13522\n"
     ]
    },
    {
     "data": {
      "text/plain": [
       "(8074,\n",
       " client_id\n",
       " 1028       2\n",
       " 1197       1\n",
       " 3647       1\n",
       " 5354       1\n",
       " 7020       4\n",
       "           ..\n",
       " 9995265    1\n",
       " 9996404    1\n",
       " 9997391    2\n",
       " 9997470    3\n",
       " 9998346    1\n",
       " Length: 8074, dtype: int64,\n",
       " 13522)"
      ]
     },
     "execution_count": 39,
     "metadata": {},
     "output_type": "execute_result"
    }
   ],
   "source": [
    "functions.find_error_rate(df_control_kpi)"
   ]
  },
  {
   "cell_type": "markdown",
   "id": "a41821b1-3c3c-47c2-8435-69820bb96018",
   "metadata": {},
   "source": [
    "# Storing values"
   ]
  },
  {
   "cell_type": "code",
   "execution_count": 40,
   "id": "7deff483-2cc5-4650-a571-1b29ffd76f6f",
   "metadata": {},
   "outputs": [
    {
     "name": "stdout",
     "output_type": "stream",
     "text": [
      "Clients who finished the process: 18620 out ouf 25563.\n",
      "Average time spent on each step:\n",
      " process_step\n",
      "0   3 days 05:16:07\n",
      "1   0 days 00:40:57\n",
      "2   0 days 00:01:52\n",
      "3   0 days 00:12:20\n",
      "4   1 days 03:56:57\n",
      "Name: time_diff, dtype: timedelta64[ns]\n",
      "Errors per client: client_id\n",
      "1346       2\n",
      "1516       4\n",
      "1643       1\n",
      "1755       1\n",
      "1836       3\n",
      "          ..\n",
      "9994764    6\n",
      "9995295    4\n",
      "9998156    1\n",
      "9999150    1\n",
      "9999729    2\n",
      "Length: 10189, dtype: int64\n",
      "Total number of errors across all clients: 19250\n",
      "Clients who finished the process: 15407 out ouf 21274.\n",
      "Average time spent on each step:\n",
      " process_step\n",
      "0   4 days 01:23:08\n",
      "1   0 days 01:00:59\n",
      "2   0 days 00:00:40\n",
      "3   0 days 00:07:44\n",
      "4   0 days 17:50:07\n",
      "Name: time_diff, dtype: timedelta64[ns]\n",
      "Errors per client: client_id\n",
      "1028       2\n",
      "1197       1\n",
      "3647       1\n",
      "5354       1\n",
      "7020       4\n",
      "          ..\n",
      "9995265    1\n",
      "9996404    1\n",
      "9997391    2\n",
      "9997470    3\n",
      "9998346    1\n",
      "Length: 8074, dtype: int64\n",
      "Total number of errors across all clients: 13522\n"
     ]
    }
   ],
   "source": [
    "# store the results for test df\n",
    "test_unique_finished, test_total_clients, test_completion_rate = functions.find_completion_rate(df_test_kpi)\n",
    "test_avg_time_per_step = functions.calculate_time_per_step(df_test_kpi)\n",
    "test_clients_with_errors, test_errors_per_client, test_total_errors = functions.find_error_rate(df_test_kpi)\n",
    "\n",
    "# store the results for control df\n",
    "control_unique_finished, control_total_clients, control_completion_rate = functions.find_completion_rate(df_control_kpi)\n",
    "control_avg_time_per_step = functions.calculate_time_per_step(df_control_kpi)\n",
    "control_clients_with_errors, control_errors_per_client, control_total_errors = functions.find_error_rate(df_control_kpi)"
   ]
  },
  {
   "cell_type": "markdown",
   "id": "7d419982-5573-4213-8f18-bfb14e4f3986",
   "metadata": {},
   "source": [
    "## **Testing Plots**"
   ]
  },
  {
   "cell_type": "code",
   "execution_count": 41,
   "id": "6ff445bf-1ed2-44a7-84aa-d39a423b0feb",
   "metadata": {},
   "outputs": [],
   "source": [
    "def plot_completion_rate(test_completion_rate, control_completion_rate):\n",
    "    completion_rate_data = {\n",
    "        'Version': ['Test', 'Control'],\n",
    "        'Completion Rate': [test_completion_rate, control_completion_rate]\n",
    "    }\n",
    "    completion_rate_df = pd.DataFrame(completion_rate_data)\n",
    "    \n",
    "    plt.figure(figsize=(8, 6))\n",
    "    ax = sns.barplot(x='Version', y='Completion Rate', data=completion_rate_df)\n",
    "    \n",
    "    # Manually set colors for each bar\n",
    "    ax.patches[0].set_facecolor('lightblue')\n",
    "    ax.patches[1].set_facecolor('salmon')\n",
    "    \n",
    "    plt.title('Completion Rate (Test vs Control)', fontsize=16)\n",
    "    plt.ylabel('Completion Rate (%)')\n",
    "    plt.show()"
   ]
  },
  {
   "cell_type": "code",
   "execution_count": 42,
   "id": "6601e53a-b8d3-4923-a5c8-568a7212bbec",
   "metadata": {},
   "outputs": [],
   "source": [
    "def plot_avg_time_per_step(test_avg_time_per_step, control_avg_time_per_step):\n",
    "    test_avg_time_seconds = test_avg_time_per_step.dt.total_seconds().round() # convert to seconds\n",
    "    control_avg_time_seconds = control_avg_time_per_step.dt.total_seconds().round()\n",
    "\n",
    "    time_data = {\n",
    "        'Process Step': test_avg_time_per_step.index,\n",
    "        'Test': test_avg_time_seconds.values,\n",
    "        'Control': control_avg_time_seconds.values\n",
    "    }\n",
    "    time_df = pd.DataFrame(time_data)\n",
    "    \n",
    "    time_df.set_index('Process Step').plot(kind='bar', figsize=(10, 6), width=0.8, color=['lightblue', 'salmon'])\n",
    "    plt.title('Average Time per Step (Test vs Control)', fontsize=16)\n",
    "    plt.ylabel('Average Time (in seconds)')\n",
    "    plt.xlabel('Step within the process')\n",
    "    plt.xticks(rotation=45)\n",
    "    plt.tight_layout()\n",
    "    plt.show()"
   ]
  },
  {
   "cell_type": "code",
   "execution_count": 43,
   "id": "a261ab27-bd61-4faf-82fd-2492312c9afa",
   "metadata": {},
   "outputs": [],
   "source": [
    "def plot_error_rate(test_clients_with_errors, control_clients_with_errors, test_total_errors, control_total_errors):\n",
    "    # number of clients with errors\n",
    "    clients_error_data = {\n",
    "        'Version': ['Test', 'Control'],\n",
    "        'Clients': [test_clients_with_errors, control_clients_with_errors]\n",
    "    }\n",
    "    clients_error_df = pd.DataFrame(clients_error_data)\n",
    "    \n",
    "    plt.figure(figsize=(8, 6))\n",
    "    ax = sns.barplot(x='Version', y='Clients', data=clients_error_df)\n",
    "    \n",
    "    ax.patches[0].set_facecolor('cadetblue')\n",
    "    ax.patches[1].set_facecolor('lightcoral')\n",
    "    \n",
    "    plt.title('Client Error Count (Test vs Control)', fontsize=16)\n",
    "    plt.show()\n",
    "\n",
    "    # total errors comparison\n",
    "    total_errors_data = {\n",
    "        'Version': ['Test', 'Control'],\n",
    "        'Total Errors': [test_total_errors, control_total_errors]\n",
    "    }\n",
    "    total_errors_df = pd.DataFrame(total_errors_data)\n",
    "    \n",
    "    plt.figure(figsize=(8, 6))\n",
    "    ax = sns.barplot(x='Version', y='Total Errors', data=total_errors_df)\n",
    "    \n",
    "    ax.patches[0].set_facecolor('cadetblue')\n",
    "    ax.patches[1].set_facecolor('lightcoral')\n",
    "    \n",
    "    plt.title('Total Error Count (Test vs Control)', fontsize=16)\n",
    "    plt.show()"
   ]
  },
  {
   "cell_type": "code",
   "execution_count": 44,
   "id": "88c35436-8aa6-465c-a577-ec52ec862e62",
   "metadata": {},
   "outputs": [
    {
     "data": {
      "image/png": "[encoded data removed]",
      "text/plain": [
       "<Figure size 800x600 with 1 Axes>"
      ]
     },
     "metadata": {},
     "output_type": "display_data"
    }
   ],
   "source": [
    "plot_completion_rate(test_completion_rate, control_completion_rate)"
   ]
  },
  {
   "cell_type": "code",
   "execution_count": 45,
   "id": "7423e5b0-12ee-4121-a986-734428232a8a",
   "metadata": {},
   "outputs": [
    {
     "data": {
      "image/png": "[encoded data removed]",
      "text/plain": [
       "<Figure size 1000x600 with 1 Axes>"
      ]
     },
     "metadata": {},
     "output_type": "display_data"
    }
   ],
   "source": [
    "plot_avg_time_per_step(test_avg_time_per_step, control_avg_time_per_step)"
   ]
  },
  {
   "cell_type": "code",
   "execution_count": 46,
   "id": "de80856b-9e51-4cbc-bad6-60af84ee3fe4",
   "metadata": {},
   "outputs": [
    {
     "data": {
      "image/png": "[encoded data removed]",
      "text/plain": [
       "<Figure size 800x600 with 1 Axes>"
      ]
     },
     "metadata": {},
     "output_type": "display_data"
    },
    {
     "data": {
      "image/png": "[encoded data removed]",
      "text/plain": [
       "<Figure size 800x600 with 1 Axes>"
      ]
     },
     "metadata": {},
     "output_type": "display_data"
    }
   ],
   "source": [
    "plot_error_rate(test_clients_with_errors, control_clients_with_errors, test_total_errors, control_total_errors)"
   ]
  },
  {
   "cell_type": "markdown",
   "id": "a1915ed6-5882-4675-87db-76733d1e72a1",
   "metadata": {},
   "source": [
    "## **More Plots!**"
   ]
  },
  {
   "cell_type": "code",
   "execution_count": 47,
   "id": "f0e339d1-dd3c-4b60-a556-8e0a90d73d23",
   "metadata": {},
   "outputs": [],
   "source": [
    "# **Completion Rate Comparison - Pie Chart**\n",
    "def plot_completion_rate_pie(test_completion_rate, control_completion_rate):\n",
    "    completion_rate_data = {\n",
    "        'Version': ['Test', 'Control'],\n",
    "        'Completion Rate': [test_completion_rate, control_completion_rate]\n",
    "    }\n",
    "    completion_rate_df = pd.DataFrame(completion_rate_data)\n",
    "    \n",
    "    # Pie chart\n",
    "    plt.figure(figsize=(8, 8))\n",
    "    plt.pie(completion_rate_df['Completion Rate'], labels=completion_rate_df['Version'], autopct='%1.1f%%', startangle=90, colors=['lightblue', 'salmon'])\n",
    "    plt.title('Completion Rate (Test vs Control)')\n",
    "    plt.show()"
   ]
  },
  {
   "cell_type": "code",
   "execution_count": 48,
   "id": "e3cb36b1-f3fe-462e-a3b8-be36aa916a5c",
   "metadata": {},
   "outputs": [],
   "source": [
    "# **Average Time per Step - Boxplot**\n",
    "def plot_avg_time_per_step_boxplot(test_avg_time_per_step, control_avg_time_per_step):\n",
    "    # Convert to seconds for easy comparison\n",
    "    test_avg_time_seconds = test_avg_time_per_step.dt.total_seconds().round()  # Use .dt.total_seconds() for Series\n",
    "    control_avg_time_seconds = control_avg_time_per_step.dt.total_seconds().round()  # Use .dt.total_seconds() for Series\n",
    "    \n",
    "    # Create DataFrame for boxplot\n",
    "    time_df = pd.DataFrame({\n",
    "        'Process Step': ['Step 1', 'Step 2', 'Step 3', 'Step 4', 'Step 5'],\n",
    "        'Test': test_avg_time_seconds,\n",
    "        'Control': control_avg_time_seconds\n",
    "    })\n",
    "\n",
    "    # Reshape the data for the boxplot\n",
    "    time_df = time_df.melt(id_vars='Process Step', value_vars=['Test', 'Control'], var_name='Version', value_name='Time (in seconds)')\n",
    "\n",
    "    plt.figure(figsize=(10, 6))\n",
    "    sns.boxplot(x='Process Step', y='Time (in seconds)', hue='Version', data=time_df)\n",
    "    plt.title('Average Time per Step (Test vs Control) (Boxplot)')\n",
    "    plt.xticks(rotation=45)\n",
    "    plt.tight_layout()\n",
    "    plt.show()"
   ]
  },
  {
   "cell_type": "code",
   "execution_count": 49,
   "id": "0132d7bd-3c91-4251-b9da-75459e83b690",
   "metadata": {},
   "outputs": [],
   "source": [
    "# **Error Rate - Heatmap of Errors per Client**\n",
    "\n",
    "def plot_error_heatmap(test_errors_per_client, control_errors_per_client):\n",
    "    error_data = {\n",
    "        'Test': test_errors_per_client,\n",
    "        'Control': control_errors_per_client\n",
    "    }\n",
    "    error_df = pd.DataFrame(error_data).T  # transpose to get rows as groups\n",
    "    \n",
    "    plt.figure(figsize=(8, 6))\n",
    "    # Use 'f' for floating-point numbers, or use '.2f' for two decimal places\n",
    "    sns.heatmap(error_df, annot=True, cmap='coolwarm', fmt='.2f', linewidths=0.5, cbar=True)\n",
    "    plt.title('Error Count Heatmap (Test vs Control)')\n",
    "    plt.show()\n"
   ]
  },
  {
   "cell_type": "code",
   "execution_count": 50,
   "id": "7a11e272-a048-417e-b5d8-38fedb1b3cb8",
   "metadata": {},
   "outputs": [
    {
     "data": {
      "image/png": "[encoded data removed]",
      "text/plain": [
       "<Figure size 800x800 with 1 Axes>"
      ]
     },
     "metadata": {},
     "output_type": "display_data"
    }
   ],
   "source": [
    "# plot the results\n",
    "plot_completion_rate_pie(test_completion_rate, control_completion_rate)"
   ]
  },
  {
   "cell_type": "code",
   "execution_count": 51,
   "id": "586e74ec-61a2-424d-bd65-9ce6f5adfe2e",
   "metadata": {},
   "outputs": [
    {
     "data": {
      "image/png": "[encoded data removed]",
      "text/plain": [
       "<Figure size 1000x600 with 1 Axes>"
      ]
     },
     "metadata": {},
     "output_type": "display_data"
    }
   ],
   "source": [
    "plot_avg_time_per_step_boxplot(test_avg_time_per_step, control_avg_time_per_step)"
   ]
  },
  {
   "cell_type": "code",
   "execution_count": 53,
   "id": "d458269a-3993-4ab6-8d38-58904d92fc10",
   "metadata": {},
   "outputs": [
    {
     "data": {
      "image/png": "[encoded data removed]",
      "text/plain": [
       "<Figure size 800x600 with 2 Axes>"
      ]
     },
     "metadata": {},
     "output_type": "display_data"
    }
   ],
   "source": [
    "plot_error_heatmap(test_errors_per_client, control_errors_per_client)"
   ]
  },
  {
   "cell_type": "code",
   "execution_count": null,
   "id": "0f63e188-74e9-4d50-a6c1-606e813eb2bf",
   "metadata": {},
   "outputs": [],
   "source": []
  }
 ],
 "metadata": {
  "kernelspec": {
   "display_name": "venv",
   "language": "python",
   "name": "venv"
  },
  "language_info": {
   "codemirror_mode": {
    "name": "ipython",
    "version": 3
   },
   "file_extension": ".py",
   "mimetype": "text/x-python",
   "name": "python",
   "nbconvert_exporter": "python",
   "pygments_lexer": "ipython3",
   "version": "3.12.7"
  }
 },
 "nbformat": 4,
 "nbformat_minor": 5
}
