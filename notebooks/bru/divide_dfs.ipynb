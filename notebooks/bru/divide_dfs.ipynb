{
 "cells": [
  {
   "cell_type": "markdown",
   "metadata": {},
   "source": [
    "# Merge & Divide\n",
    "\n",
    "- Combine all client information for every DataFrame.\n",
    "- Parse `'gender'` column with four values (_Male_, _Female_, _Other_ and _Unknown_)\n",
    "- Step column converted to numerical values to avoid errors.\n",
    "- Add `'error_count'`, `'stepped_back'` and `'variation'` columns"
   ]
  },
  {
   "cell_type": "code",
   "execution_count": null,
   "metadata": {},
   "outputs": [],
   "source": [
    "import pandas as pd"
   ]
  },
  {
   "cell_type": "code",
   "execution_count": null,
   "metadata": {},
   "outputs": [],
   "source": [
    "# import reusable functions from utils directory\n",
    "import sys\n",
    "sys.path.append('../../utils')\n",
    "import functions"
   ]
  },
  {
   "cell_type": "code",
   "execution_count": null,
   "metadata": {},
   "outputs": [],
   "source": [
    "combined_cleaned_df = pd.read_csv('../../data/clean/combined_cleaned_data.csv')\n",
    "combined_cleaned_df.head()"
   ]
  },
  {
   "cell_type": "code",
   "execution_count": null,
   "metadata": {},
   "outputs": [],
   "source": [
    "merged_demo_experiment_df = pd.read_csv('../../data/clean/final_demo_df_clean.csv')\n",
    "merged_demo_experiment_df"
   ]
  },
  {
   "cell_type": "code",
   "execution_count": null,
   "metadata": {},
   "outputs": [],
   "source": [
    "merged_client_df = pd.merge(combined_cleaned_df, merged_demo_experiment_df, on='client_id', how='left')"
   ]
  },
  {
   "cell_type": "code",
   "execution_count": null,
   "metadata": {},
   "outputs": [],
   "source": [
    "\n",
    "merged_client_df.rename(columns={'process_step' : 'step', 'client_tenure_years': 'tenure_years', 'client_tenure_months': 'tenure_months', 'client_age' : 'age', 'num_accounts' : 'accounts'}, inplace=True)\n",
    "functions.floats_to_ints(merged_client_df, 'tenure_years')\n",
    "functions.floats_to_ints(merged_client_df, 'tenure_months')\n",
    "functions.floats_to_ints(merged_client_df, 'age')\n",
    "functions.floats_to_ints(merged_client_df, 'accounts')\n",
    "functions.floats_to_ints(merged_client_df, 'calls_last_6_months')\n",
    "functions.floats_to_ints(merged_client_df, 'logons_last_6_months')\n",
    "\n",
    "merged_client_df"
   ]
  },
  {
   "cell_type": "code",
   "execution_count": null,
   "metadata": {},
   "outputs": [],
   "source": [
    "functions.steps_to_numerical(merged_client_df, 'step')"
   ]
  },
  {
   "cell_type": "markdown",
   "metadata": {},
   "source": [
    "# Add Error Rate Column"
   ]
  },
  {
   "cell_type": "code",
   "execution_count": null,
   "metadata": {},
   "outputs": [],
   "source": [
    "# Detect backward steps (errors) for all clients\n",
    "merged_client_df['stepped_back'] = merged_client_df.groupby('client_id')['step'].diff() < 0\n",
    "\n",
    "# Count the number of unique clients who experienced at least one error\n",
    "clients_with_errors = merged_client_df[merged_client_df['stepped_back']]['client_id'].nunique()\n",
    "\n",
    "# Count the total number of errors for each client\n",
    "errors_per_client = merged_client_df[merged_client_df['stepped_back']].groupby('client_id').size()\n",
    "\n",
    "# Total number of errors across all clients\n",
    "total_errors = merged_client_df['stepped_back'].sum()\n",
    "\n",
    "print(f'Number of clients with at least one error: {clients_with_errors}')\n",
    "print('Errors per client:')\n",
    "print(errors_per_client)\n",
    "print(f'Total number of errors across all clients: {total_errors}')"
   ]
  },
  {
   "cell_type": "code",
   "execution_count": null,
   "metadata": {},
   "outputs": [],
   "source": [
    "# add column 'error_count'\n",
    "merged_client_df['error_count'] = merged_client_df['client_id'].map(errors_per_client).fillna(0).astype(int)"
   ]
  },
  {
   "cell_type": "code",
   "execution_count": null,
   "metadata": {},
   "outputs": [],
   "source": [
    "merged_client_df"
   ]
  },
  {
   "cell_type": "code",
   "execution_count": null,
   "metadata": {},
   "outputs": [],
   "source": [
    "functions.check_unique_and_empty(merged_client_df)"
   ]
  },
  {
   "cell_type": "code",
   "execution_count": null,
   "metadata": {},
   "outputs": [],
   "source": [
    "merged_final_demo_final_experiment_clients_df = pd.read_csv('../../data/clean/merged_final_demo_final_experiment_clients_df.csv')\n",
    "merged_final_demo_final_experiment_clients_df"
   ]
  },
  {
   "cell_type": "code",
   "execution_count": null,
   "metadata": {},
   "outputs": [],
   "source": [
    "# Merge the DataFrames using 'outer' join to keep all records\n",
    "merged_client_df = pd.merge(\n",
    "    merged_client_df, \n",
    "    merged_final_demo_final_experiment_clients_df, \n",
    "    on='client_id', \n",
    "    how='outer', \n",
    "    suffixes=('', '_merged')  # Use suffixes to handle columns with the same name\n",
    ")\n",
    "\n",
    "# Drop columns that are duplicates\n",
    "merged_client_df = merged_client_df.loc[:, ~merged_client_df.columns.duplicated()]\n"
   ]
  },
  {
   "cell_type": "code",
   "execution_count": null,
   "metadata": {},
   "outputs": [],
   "source": [
    "print(merged_client_df['variation'].unique())"
   ]
  },
  {
   "cell_type": "code",
   "execution_count": null,
   "metadata": {},
   "outputs": [],
   "source": [
    "merged_client_df.dropna(axis=0, how='any', inplace=True)\n",
    "\n",
    "merged_client_df.drop(columns=['gender_merged', 'balance_merged' , 'calls_last_6_months_merged', 'logons_last_6_months_merged'], inplace=True)\n",
    "\n",
    "functions.check_unique_and_empty(merged_client_df)"
   ]
  },
  {
   "cell_type": "code",
   "execution_count": null,
   "metadata": {},
   "outputs": [],
   "source": [
    "# merged_client_df.to_csv('final_clean_client_df.csv', index=False)"
   ]
  },
  {
   "cell_type": "code",
   "execution_count": null,
   "metadata": {},
   "outputs": [],
   "source": [
    "control_variation_df = merged_client_df[merged_client_df['variation'] == 'Control']\n",
    "test_variation_df = merged_client_df[merged_client_df['variation'] == 'Test']\n",
    "unknown_variation_df = merged_client_df[merged_client_df['variation'] == 'Unknown']\n",
    "\n",
    "# Print the resulting DataFrames\n",
    "print('Control DataFrame:')\n",
    "print(control_variation_df)\n",
    "\n",
    "print('\\nTest DataFrame:')\n",
    "print(test_variation_df)\n",
    "\n",
    "print('\\nUnknown DataFrame:')\n",
    "print(unknown_variation_df)"
   ]
  },
  {
   "cell_type": "code",
   "execution_count": null,
   "metadata": {},
   "outputs": [],
   "source": [
    "# control_variation_df.to_csv('control_variation_df.csv', index=False)\n",
    "# test_variation_df.to_csv('test_variation_df.csv', index=False)\n",
    "# unknown_variation_df.to_csv('unknown_variation_df.csv', index=False)"
   ]
  }
 ],
 "metadata": {
  "kernelspec": {
   "display_name": ".venv",
   "language": "python",
   "name": "python3"
  },
  "language_info": {
   "codemirror_mode": {
    "name": "ipython",
    "version": 3
   },
   "file_extension": ".py",
   "mimetype": "text/x-python",
   "name": "python",
   "nbconvert_exporter": "python",
   "pygments_lexer": "ipython3",
   "version": "3.12.3"
  }
 },
 "nbformat": 4,
 "nbformat_minor": 2
}
