{
 "cells": [
  {
   "cell_type": "markdown",
   "id": "0419367f-da7b-4189-aa32-c7dd1467a060",
   "metadata": {},
   "source": [
    "Design Effectiveness\n",
    "- Was the experiment well-structured?\n",
    "- Were clients randomly and equally divided between the old and new designs?\n",
    "- Were there any biases?"
   ]
  },
  {
   "cell_type": "code",
   "execution_count": null,
   "id": "a04b3664-d6ce-4175-b685-164eca8b4cd2",
   "metadata": {},
   "outputs": [],
   "source": [
    "import pandas as pd\n",
    "import matplotlib.pyplot as plt\n",
    "import seaborn as sns\n",
    "from scipy.stats import f_oneway\n",
    "from statsmodels.stats.multicomp import pairwise_tukeyhsd"
   ]
  },
  {
   "cell_type": "code",
   "execution_count": null,
   "id": "add77dda-e094-4833-babb-f2b6285bc273",
   "metadata": {},
   "outputs": [],
   "source": [
    "df_merge = pd.read_csv('../../data/clean/final_clean_client_df.csv')\n",
    "# df_merge"
   ]
  },
  {
   "cell_type": "code",
   "execution_count": null,
   "id": "0bcdd332-8258-43cd-a415-7d9b10599add",
   "metadata": {},
   "outputs": [],
   "source": [
    "# Estadísticas descriptivas por grupo\n",
    "df_merge.groupby('variation').agg({\n",
    "    'balance': ['mean', 'std'],\n",
    "    'tenure_years': ['mean', 'std'],\n",
    "    'age': ['mean', 'std'],\n",
    "    'accounts': ['mean', 'std'],\n",
    "    'calls_last_6_months': ['mean', 'std'],\n",
    "    'logons_last_6_months': ['mean', 'std']\n",
    "})"
   ]
  },
  {
   "cell_type": "code",
   "execution_count": null,
   "id": "dafe0ce5-ea90-4033-a6d2-31f2d1debf71",
   "metadata": {},
   "outputs": [],
   "source": [
    "# display_names = {\n",
    "#     'balance': 'Account Balance',\n",
    "#     'tenure_years': 'Years of Tenure',\n",
    "#     'age': 'Customer Age',\n",
    "#     'accounts': 'Number of Accounts'\n",
    "# }\n",
    "\n",
    "# variables = ['balance', 'tenure_years', 'age', 'accounts']\n",
    "# for var in variables:\n",
    "#     sns.histplot(data=df_merge, x=var, hue='variation', kde=True)\n",
    "#     plt.title(f'Distribution of {display_names[var]} by Variation')\n",
    "#     plt.xlabel(display_names[var])\n",
    "#     plt.show()"
   ]
  },
  {
   "cell_type": "code",
   "execution_count": null,
   "id": "578329f4-7ad8-4c57-ba6f-01851b8a78dc",
   "metadata": {},
   "outputs": [],
   "source": [
    "# Comparar balance entre los grupos\n",
    "anova_balance = f_oneway(\n",
    "    df_merge[df_merge['variation'] == 'Control']['balance'],\n",
    "    df_merge[df_merge['variation'] == 'Test']['balance'],\n",
    "    df_merge[df_merge['variation'] == 'Unknown']['balance']\n",
    ")\n",
    "print('ANOVA for balance:', anova_balance)"
   ]
  },
  {
   "cell_type": "markdown",
   "id": "0b94c993-57ee-494a-b95b-b286189f7357",
   "metadata": {},
   "source": [
    "Pregunta: Como podria saber cuales fueron estas pequeñas diferencias que sugiere ANOVA?\n",
    "\n",
    "Para identificar las pequeñas diferencias específicas que sugiere el ANOVA, puedes realizar una prueba post hoc. Una de las más utilizadas es la prueba de Tukey HSD (Honestly Significant Difference), que identifica cuáles pares de grupos tienen diferencias estadísticamente significativas."
   ]
  },
  {
   "cell_type": "code",
   "execution_count": null,
   "id": "74e4cb42-0887-4731-a221-abb618db6982",
   "metadata": {},
   "outputs": [],
   "source": [
    "# Preparar los datos\n",
    "balance_values = df_merge['balance']  # Valores del balance\n",
    "variation_groups = df_merge['variation']  # Grupos de variación\n",
    "\n",
    "# Realizar la prueba de Tukey\n",
    "tukey_result = pairwise_tukeyhsd(endog=balance_values, groups=variation_groups, alpha=0.05)\n",
    "\n",
    "# Mostrar los resultados\n",
    "print(tukey_result)"
   ]
  },
  {
   "cell_type": "code",
   "execution_count": null,
   "id": "d764338a-cd46-4a3c-86b5-8f0e0dac2ac8",
   "metadata": {},
   "outputs": [],
   "source": [
    "# tukey_result.plot_simultaneous(comparison_name='Control', figsize=(8, 6))\n",
    "# plt.title('Tukey HSD for Balance by Variation')\n",
    "# plt.show()"
   ]
  },
  {
   "cell_type": "markdown",
   "id": "f7a30c2b-4a2d-440a-afff-738f4427a760",
   "metadata": {},
   "source": [
    "Interpretación gráficos\n",
    "\n",
    "Distribución del balance:\n",
    "- Todas las variaciones muestran distribuciones altamente sesgadas hacia balances bajos. Esto implica que la mayoría de los clientes tienen balances más bajos, independientemente del grupo.\n",
    "- Visualmente, no hay diferencias evidentes entre los grupos, lo que sugiere que el ANOVA detectó una diferencia significativa en los promedios que no es fácil de observar directamente.\n",
    "\n",
    "Distribución de Tenure Years:\n",
    "- La distribución es similar para todos los grupos, con un pico en los clientes con menos de 10 años de antigüedad y una disminución gradual a medida que aumenta el número de años.\n",
    "\n",
    "Distribución de la edad:\n",
    "- Aunque los grupos tienen distribuciones similares, el grupo Unknown parece tener una mayor proporción de clientes jóvenes (20-30 años).\n",
    "\n",
    "Distribución del número de cuentas:\n",
    "- La mayoría de los clientes tienen 2 cuentas. Las distribuciones son muy similares entre los grupos.\n",
    "\n",
    "Conclusión\n",
    "\n",
    "El experimento parece estar bien equilibrado en términos de métricas clave como antigüedad, edad y número de cuentas.\n",
    "Aunque el ANOVA muestra diferencias significativas en el balance promedio, la magnitud de la diferencia parece ser pequeña y no necesariamente significativa en términos prácticos. Esto sugiere que el diseño del experimento es razonablemente equitativo, aunque podría haber pequeñas diferencias que deberían ser consideradas en los análisis."
   ]
  },
  {
   "cell_type": "markdown",
   "id": "9f977a92-3649-41e1-8a78-21c9d8a65c0f",
   "metadata": {},
   "source": [
    "Conclusión 2\n",
    "\n",
    "Con base en los resultados obtenidos, tanto del ANOVA como del test de comparación de Tukey:\n",
    "\n",
    "Diferencias significativas entre grupos:\n",
    "\n",
    "El ANOVA indicó que existen diferencias estadísticamente significativas en los balances promedio entre los grupos (p-value ≈ 2.67e-11).\n",
    "El test de Tukey confirma cuáles son las comparaciones entre grupos que presentan diferencias significativas:\n",
    "\n",
    "- Control vs Test: Existe una diferencia positiva significativa en el balance promedio (meandiff ≈ 3432.54), lo que indica que el grupo de prueba (Test) tiene balances promedio mayores que el grupo control.\n",
    "- Control vs Unknown: Existe una diferencia negativa significativa (meandiff ≈ -5195.64), lo que indica que el grupo Unknown tiene balances promedio menores que el grupo control.\n",
    "- Test vs Unknown: También se observa una diferencia negativa significativa (meandiff ≈ -8628.18), lo que significa que el grupo Unknown tiene balances promedio menores que el grupo de prueba.\n",
    "\n",
    "Visualización del gráfico de Tukey:\n",
    "\n",
    "El gráfico refleja que el balance promedio del grupo Test es mayor que el de Control, mientras que el grupo Unknown tiene el promedio más bajo de los tres.\n",
    "Las barras de error no se solapan significativamente, lo que respalda las diferencias detectadas por los tests estadísticos.\n",
    "\n",
    "Interpretación:\n",
    "\n",
    "El análisis sugiere que las diferencias en el balance promedio entre los grupos son significativas, lo cual podría impactar la equidad del experimento. Es decir, los grupos no parecen estar completamente equilibrados respecto a esta variable, especialmente considerando el menor balance promedio del grupo Unknown.\n",
    "\n",
    "Implicaciones:\n",
    "\n",
    "Diseño del experimento:\n",
    "- Las diferencias en los balances iniciales podrían influir en los resultados del experimento, ya que los usuarios con diferentes niveles de balance podrían comportarse de manera distinta.\n",
    "- Sería recomendable ajustar los análisis posteriores considerando esta disparidad o controlar estas variables para interpretar correctamente el impacto del nuevo diseño.\n",
    "\n",
    "Acciones futuras:\n",
    "- Analizar si otras variables como la antigüedad del cliente (tenure_years) o el número de cuentas (num_accounts) muestran un patrón similar de desequilibrio entre los grupos.\n",
    "- Considerar un rediseño del experimento para asegurar que los grupos sean más homogéneos o utilizar técnicas estadísticas como el análisis de covarianza (ANCOVA) para ajustar por las diferencias iniciales.\n",
    "\n",
    "En resumen, aunque el experimento muestra diferencias significativas entre los grupos, estas diferencias iniciales podrían sesgar los resultados y deben tomarse en cuenta en cualquier interpretación o recomendación basada en el experimento."
   ]
  }
 ],
 "metadata": {
  "kernelspec": {
   "display_name": ".venv",
   "language": "python",
   "name": "python3"
  },
  "language_info": {
   "codemirror_mode": {
    "name": "ipython",
    "version": 3
   },
   "file_extension": ".py",
   "mimetype": "text/x-python",
   "name": "python",
   "nbconvert_exporter": "python",
   "pygments_lexer": "ipython3",
   "version": "3.12.3"
  }
 },
 "nbformat": 4,
 "nbformat_minor": 5
}
