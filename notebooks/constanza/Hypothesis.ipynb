{
 "cells": [
  {
   "cell_type": "code",
   "execution_count": null,
   "id": "ab8df7b3-b847-414f-84bd-20d568e51cb8",
   "metadata": {},
   "outputs": [],
   "source": [
    "import pandas as pd\n",
    "import numpy as np\n",
    "import scipy.stats as st"
   ]
  },
  {
   "cell_type": "code",
   "execution_count": null,
   "id": "9328dd77-bc4a-45aa-a7c5-c9f570c235e9",
   "metadata": {},
   "outputs": [],
   "source": [
    "df_merged = pd.read_csv('../../data/clean/merged_final_demo_final_experiment_clients_df.csv')\n",
    "df_merged"
   ]
  },
  {
   "cell_type": "code",
   "execution_count": null,
   "id": "d530725e-1bda-4bb7-8586-dfa9a2255c4d",
   "metadata": {},
   "outputs": [],
   "source": [
    "df_combined = pd.read_csv('../../data/clean/combined_cleaned_data.csv')\n",
    "df_combined"
   ]
  },
  {
   "cell_type": "markdown",
   "id": "b68cae95-917d-4285-8630-323b6de0a95f",
   "metadata": {},
   "source": [
    "Hypothesis\n",
    "\n",
    "Null Hypothesis (H0​): The average client tenure of those engaging with the new process is equal to the average client tenure of those engaging with the old process\n",
    "\n",
    "(μnew_process = μold_process)\n",
    "\n",
    "Alternative Hypothesis (H1​): The average client tenure of those engaging with the new process is not equal to the average client tenure of those engaging with the old process.\n",
    "\n",
    "(μnew_proces s≠ μold_process)"
   ]
  },
  {
   "cell_type": "code",
   "execution_count": null,
   "id": "31b4d2b1-ad67-4e40-97cc-c716d7a9124a",
   "metadata": {},
   "outputs": [],
   "source": [
    "df_merged.groupby('variation')['tenure_years'].mean()"
   ]
  },
  {
   "cell_type": "code",
   "execution_count": null,
   "id": "9e76f3d7-f5ce-46c4-bf8d-083014197b59",
   "metadata": {},
   "outputs": [],
   "source": [
    "df_merged.groupby('variation')['tenure_years'].std(ddof=1)"
   ]
  },
  {
   "cell_type": "markdown",
   "id": "a80bba78-0453-48de-a52e-82a7cbf802c4",
   "metadata": {},
   "source": [
    "$$H0: mean_test = mean_control$$\n",
    "$$H1: mean_test != mean_control$$"
   ]
  },
  {
   "cell_type": "markdown",
   "id": "f38ab550-18cf-4094-a0a9-fe872d0df508",
   "metadata": {},
   "source": [
    "$$H0: mean_test - mean_control = 0$$\n",
    "$$H1: mean_test - mean_control \\ne 0$$"
   ]
  },
  {
   "cell_type": "code",
   "execution_count": null,
   "id": "088ff0de-42d6-4796-bc46-0271656161c6",
   "metadata": {},
   "outputs": [],
   "source": [
    "# Definir promedios\n",
    "mean_control = df_merged.groupby('variation')['tenure_years'].mean()['Control']\n",
    "mean_test = df_merged.groupby('variation')['tenure_years'].mean()['Test']\n",
    "\n",
    "# Definir desviaciones estándar\n",
    "std_control = df_merged.groupby('variation')['tenure_years'].std(ddof=1)['Control']\n",
    "std_test = df_merged.groupby('variation')['tenure_years'].std(ddof=1)['Test']\n",
    "\n",
    "# Definir tamaños de muestra\n",
    "n_control = df_merged[df_merged['variation'] == 'Control'].shape[0]\n",
    "n_test = df_merged[df_merged['variation'] == 'Test'].shape[0]\n",
    "\n",
    "# Imprimir resultados para verificar\n",
    "print('Mean (Control):', mean_control)\n",
    "print('Mean (Test):', mean_test)\n",
    "print('Std (Control):', std_control)\n",
    "print('Std (Test):', std_test)\n",
    "print('N (Control):', n_control)\n",
    "print('N (Test):', n_test)"
   ]
  },
  {
   "cell_type": "code",
   "execution_count": null,
   "id": "dde0b43a-a190-4a57-aaef-60ac5c83aa1b",
   "metadata": {},
   "outputs": [],
   "source": [
    "diff = (mean_test - mean_control) \n",
    "\n",
    "sp2 = (n_test - 1) * (std_test** 2) + (n_control - 1) * (std_control** 2) / (n_test + n_control - 2 ) \n",
    "\n",
    "d = np.sqrt( (sp2 / n_test) + (sp2 / n_control) )\n",
    "\n",
    "stat = diff / d\n",
    "\n",
    "alpha = 0.05\n",
    "\n",
    "# Con estaditico\n",
    "lower_critical = st.t.ppf(0.05/2, n_test + n_control - 2)\n",
    "upper_critical = st.t.ppf(1-(0.05/2), n_test + n_control - 2)\n",
    "\n",
    "if ( stat > lower_critical and stat < upper_critical):\n",
    "    print('We accept H0')\n",
    "else:\n",
    "    print('We reject H0')\n",
    "\n",
    "# Con p_value#\n",
    "#left_statistic_area = st.t.cdf(stat, n_test + n_control - 2)\n",
    "#right_statistic_area = 1 - st.t.cdf(stat, n_test + n_control - 2)"
   ]
  },
  {
   "cell_type": "markdown",
   "id": "a3ce7972-15b7-48e0-8b40-a21313312ff2",
   "metadata": {},
   "source": [
    "Hipothesis conclusion:\n",
    "- Hypotesis (H0)  sustained\n",
    "- Hypothesis (H1) not sustained"
   ]
  }
 ],
 "metadata": {
  "kernelspec": {
   "display_name": ".venv",
   "language": "python",
   "name": "python3"
  },
  "language_info": {
   "codemirror_mode": {
    "name": "ipython",
    "version": 3
   },
   "file_extension": ".py",
   "mimetype": "text/x-python",
   "name": "python",
   "nbconvert_exporter": "python",
   "pygments_lexer": "ipython3",
   "version": "3.12.3"
  }
 },
 "nbformat": 4,
 "nbformat_minor": 5
}
