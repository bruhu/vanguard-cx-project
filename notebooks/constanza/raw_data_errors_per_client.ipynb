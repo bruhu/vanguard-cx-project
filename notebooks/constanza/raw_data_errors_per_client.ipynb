{
 "cells": [
  {
   "cell_type": "code",
   "execution_count": null,
   "id": "59704933-06aa-4d0a-9a33-d880255400a8",
   "metadata": {},
   "outputs": [],
   "source": [
    "import pandas as pd\n",
    "df = pd.read_csv('../../data/raw/combined_cleaned_data.csv')\n",
    "df"
   ]
  },
  {
   "cell_type": "code",
   "execution_count": null,
   "id": "fa3169a9-b6e9-4c40-a233-1ad048d7f877",
   "metadata": {},
   "outputs": [],
   "source": [
    "# drop columns\n",
    "df = df.drop(columns=['visitor_id', 'visit_id'])\n",
    "# change the naming of the steps to numeric values to ensure order\n",
    "replacement_dict_steps = {\n",
    "    'start' : 0,\n",
    "    'step_1' : 1,\n",
    "    'step_2' : 2,\n",
    "    'step_3' : 3,\n",
    "    'confirm' : 4\n",
    "}\n",
    "\n",
    "df['process_step'] = df['process_step'].map(replacement_dict_steps)"
   ]
  },
  {
   "cell_type": "code",
   "execution_count": null,
   "id": "275332bc-5f16-4c9a-a2f5-883d5ae2505e",
   "metadata": {},
   "outputs": [],
   "source": [
    "# sort df by client_id and date_time\n",
    "df = df.sort_values(by=['client_id', 'date_time'])\n",
    "# print(kpi_df)\n",
    "\n",
    "df.head(50)"
   ]
  },
  {
   "cell_type": "code",
   "execution_count": null,
   "id": "42d8fc66-08b7-4df9-a291-2de987268572",
   "metadata": {},
   "outputs": [],
   "source": [
    "# Detect backward steps (errors) for all clients\n",
    "df['backward_step'] = df.groupby('client_id')['process_step'].diff() < 0\n",
    "\n",
    "# Count the number of unique clients who experienced at least one error\n",
    "clients_with_errors = df[df['backward_step']]['client_id'].nunique()\n",
    "\n",
    "# Count the total number of errors for each client\n",
    "errors_per_client = df[df['backward_step']].groupby('client_id').size()\n",
    "\n",
    "# Total number of errors across all clients\n",
    "total_errors = df['backward_step'].sum()\n",
    "\n",
    "# Output results\n",
    "print(f'Number of clients with at least one error: {clients_with_errors}')\n",
    "print('Errors per client:')\n",
    "print(errors_per_client)\n",
    "print(f'Total number of errors across all clients: {total_errors}')"
   ]
  },
  {
   "cell_type": "code",
   "execution_count": null,
   "id": "5be5a243-bdb8-4785-9b35-76fd330c5509",
   "metadata": {},
   "outputs": [],
   "source": [
    "# Crear un DataFrame con los resultados\n",
    "results_df = errors_per_client.reset_index()\n",
    "results_df.columns = ['client_id', 'number_of_errors']\n",
    "\n",
    "# Guardar el DataFrame en un archivo CSV\n",
    "results_df.to_csv('errors_per_client.csv', index=False)\n",
    "\n",
    "# Mensaje de confirmación\n",
    "print('El archivo \"errors_per_client.csv\" se ha guardado correctamente.')"
   ]
  }
 ],
 "metadata": {
  "kernelspec": {
   "display_name": ".venv",
   "language": "python",
   "name": "python3"
  },
  "language_info": {
   "codemirror_mode": {
    "name": "ipython",
    "version": 3
   },
   "file_extension": ".py",
   "mimetype": "text/x-python",
   "name": "python",
   "nbconvert_exporter": "python",
   "pygments_lexer": "ipython3",
   "version": "3.12.3"
  }
 },
 "nbformat": 4,
 "nbformat_minor": 5
}
